{
 "cells": [
  {
   "cell_type": "code",
   "id": "ebfc404f-f2d4-4dfe-8fe0-005cbf4c296c",
   "metadata": {
    "scrolled": true,
    "ExecuteTime": {
     "end_time": "2025-05-11T15:45:51.726430Z",
     "start_time": "2025-05-11T15:45:51.722616Z"
    }
   },
   "source": [
    "import warnings\n",
    "warnings.filterwarnings('ignore')\n",
    "import pyterrier as pt\n",
    "if not pt.java.started():\n",
    "    pt.java.init()\n",
    "\n",
    "import os, sys\n",
    "# sys.path.append('/nfs/primary/exposure-fairness')\n",
    "os.chdir('/nfs/primary/exposure-fairness')\n",
    "import pandas as pd\n",
    "import numpy as np\n",
    "pd.set_option('display.max_columns', None)\n",
    "pd.set_option('display.max_rows', None)\n",
    "pd.set_option('display.max_colwidth', 100)\n",
    "import glob\n",
    "import fair_utils\n",
    "import ir_measures\n",
    "from ir_measures import * # imports all supported measures, e.g., AP, nDCG, RR, P"
   ],
   "outputs": [],
   "execution_count": 27
  },
  {
   "cell_type": "code",
   "id": "ad0ece66-f982-4675-a9ba-e32723bbcd56",
   "metadata": {
    "ExecuteTime": {
     "end_time": "2025-05-10T13:34:39.879059Z",
     "start_time": "2025-05-10T13:34:38.788353Z"
    }
   },
   "source": [
    "dataset_name = 'msmarco-passage'\n",
    "dataset = pt.get_dataset(f'irds:{dataset_name}')\n",
    "\n",
    "dataset = pt.get_dataset(f'irds:msmarco-passage')\n",
    "eval_dataset = pt.get_dataset(f'irds:msmarco-passage/dev')\n",
    "topics = eval_dataset.get_topics()\n",
    "qrels = eval_dataset.get_qrels()\n",
    "\n",
    "# import ir_datasets\n",
    "# eval = ir_datasets.load(\"msmarco-passage/dev\")\n",
    "# topics = pd.DataFrame(eval.queries_iter())\n",
    "# qrels = pd.DataFrame(eval.qrels_iter())\n"
   ],
   "outputs": [],
   "execution_count": 3
  },
  {
   "cell_type": "code",
   "id": "12bf8a34-0cfc-484c-8474-d7a95bc562ce",
   "metadata": {
    "ExecuteTime": {
     "end_time": "2025-05-11T15:46:11.362285Z",
     "start_time": "2025-05-11T15:46:11.358489Z"
    }
   },
   "source": "os.getcwd()",
   "outputs": [
    {
     "data": {
      "text/plain": [
       "'/nfs/primary/exposure-fairness'"
      ]
     },
     "execution_count": 28,
     "metadata": {},
     "output_type": "execute_result"
    }
   ],
   "execution_count": 28
  },
  {
   "metadata": {},
   "cell_type": "code",
   "outputs": [],
   "execution_count": null,
   "source": [
    "trec_qrels = pd.DataFrame()\n",
    "trec_qrels['query_id'] = qrels['qid']\n",
    "trec_qrels['Q0'] = 0\n",
    "trec_qrels['doc_id'] = qrels['docno']\n",
    "trec_qrels['relevance'] = qrels['label']\n",
    "trec_qrels.to_csv('/mnt/datasets/cxj/exposure-fairness/qrels_dev.res', sep=' ', index=False, header=False)\n"
   ],
   "id": "423056373d5b3d2"
  },
  {
   "cell_type": "code",
   "execution_count": 52,
   "id": "19ffd0dd-cd92-4339-a580-7ce4a8424e0e",
   "metadata": {},
   "outputs": [],
   "source": "# qrels.insert(loc=qrels.columns.get_loc('doc_id'), column='Q0', value = 0)"
  },
  {
   "cell_type": "code",
   "execution_count": 53,
   "id": "a7ad9e74-ccfe-4891-8d4e-95540bf362bd",
   "metadata": {
    "ExecuteTime": {
     "end_time": "2025-04-15T09:57:48.037746Z",
     "start_time": "2025-04-15T09:57:48.034821Z"
    }
   },
   "outputs": [],
   "source": [
    "# topics.sort_values(by='qid').tail()\n",
    "# qrels = qrels.drop(columns = ['iteration'])"
   ]
  },
  {
   "cell_type": "code",
   "execution_count": 54,
   "id": "ffe6f5b0-170a-4959-915c-b4b59b25de04",
   "metadata": {},
   "outputs": [],
   "source": [
    "qrels.to_csv('/mnt/datasets/cxj/exposure-fairness/qrels_dev.res', sep=' ', index=False, header=False)"
   ]
  },
  {
   "cell_type": "code",
   "execution_count": 69,
   "id": "fd85692f-9aa0-4551-bcb1-5c97213304de",
   "metadata": {},
   "outputs": [],
   "source": [
    "# data_dir = '/nfs/datasets/cxj/retrievability-bias/data/bm25'\n",
    "# df = pd.read_csv(f'{data_dir}/df_bm25_dev_0.csv', index_col=0).reset_index()\n",
    "\n",
    "# data_dir = '/nfs/datasets/cxj/retrievability-bias/data/bm25_monot5'\n",
    "# df = pd.read_csv(f'{data_dir}/df_bm25_monot5_dev_0.csv', index_col=0).reset_index()\n",
    "\n",
    "# data_dir = '/nfs/datasets/cxj/retrievability-bias/data/rtr_splade'\n",
    "# df = pd.read_csv(f'{data_dir}/df_rtr_splade_dev_topics_0.csv', index_col=0).reset_index()\n",
    "\n",
    "# data_dir = '/nfs/datasets/cxj/retrievability-bias/data/tctcolbert'\n",
    "# df = pd.read_csv(f'{data_dir}/df_tctcolbert_dev_0.csv', index_col=0).reset_index()\n",
    "\n",
    "# data_dir = '/nfs/datasets/cxj/retrievability-bias/data/bm25_tctcolbert'\n",
    "# df = pd.read_csv(f'{data_dir}/df_bm25_tctcolbert_dev_0.csv', index_col=0).reset_index()\n",
    "\n",
    "# csv = '/mnt/datasets/cxj/exposure-fairness/bm25/results.pkl'\n",
    "# df = pd.read_pickle(csv).reset_index()\n",
    "\n",
    "\n",
    "\n",
    "# csv = '/mnt/datasets/cxj/exposure-fairness/bm25/df_bm25_dev_0.csv'\n",
    "# df = pd.read_csv(csv, index_col=0).reset_index()\n",
    "\n",
    "# csv = '/mnt/datasets/cxj/exposure-fairness/bm25_monot5/df_bm25_monot5_dev_0.csv'\n",
    "# df = pd.read_csv(csv, index_col=0).reset_index()\n",
    "\n",
    "# csv = '/mnt/datasets/cxj/exposure-fairness/splade/df_splade_dev_0.csv'\n",
    "# df = pd.read_csv(csv, index_col=0).reset_index()\n",
    "\n",
    "# csv = '/mnt/datasets/cxj/exposure-fairness/tctcolbert/df_tctcolbert_dev_0.csv'\n",
    "# df = pd.read_csv(csv, index_col=0).reset_index()\n",
    "\n",
    "# csv = '/mnt/datasets/cxj/exposure-fairness/bm25_tctcolbert/df_bm25_tctcolbert_dev_0.csv'\n",
    "# df = pd.read_csv(csv, index_col=0).reset_index()\n",
    "\n",
    "pkl = '/mnt/datasets/cxj/exposure-fairness/v1/results.pkl'\n",
    "df = pd.read_pickle(pkl).reset_index()"
   ]
  },
  {
   "cell_type": "code",
   "execution_count": 73,
   "id": "02d04d38-a0f7-424f-a510-817a247e6a4f",
   "metadata": {},
   "outputs": [
    {
     "data": {
      "text/html": [
       "<div>\n",
       "<style scoped>\n",
       "    .dataframe tbody tr th:only-of-type {\n",
       "        vertical-align: middle;\n",
       "    }\n",
       "\n",
       "    .dataframe tbody tr th {\n",
       "        vertical-align: top;\n",
       "    }\n",
       "\n",
       "    .dataframe thead th {\n",
       "        text-align: right;\n",
       "    }\n",
       "</style>\n",
       "<table border=\"1\" class=\"dataframe\">\n",
       "  <thead>\n",
       "    <tr style=\"text-align: right;\">\n",
       "      <th></th>\n",
       "      <th>index</th>\n",
       "      <th>modelname</th>\n",
       "      <th>num_groups</th>\n",
       "      <th>group_id</th>\n",
       "      <th>mean</th>\n",
       "      <th>std</th>\n",
       "      <th>fast_gini</th>\n",
       "      <th>avg_rscore</th>\n",
       "      <th>min_rscore</th>\n",
       "      <th>max_rscore</th>\n",
       "      <th>fast_gini_min</th>\n",
       "      <th>fast_gini_mean</th>\n",
       "      <th>fast_gini_max</th>\n",
       "    </tr>\n",
       "  </thead>\n",
       "  <tbody>\n",
       "    <tr>\n",
       "      <th>0</th>\n",
       "      <td>0</td>\n",
       "      <td>bm25</td>\n",
       "      <td>500</td>\n",
       "      <td>0</td>\n",
       "      <td>0.342402</td>\n",
       "      <td>0.259357</td>\n",
       "      <td>0.256741</td>\n",
       "      <td>0.342402</td>\n",
       "      <td>0.216679</td>\n",
       "      <td>5.024293</td>\n",
       "      <td>0.204863</td>\n",
       "      <td>0.309739</td>\n",
       "      <td>0.586019</td>\n",
       "    </tr>\n",
       "    <tr>\n",
       "      <th>1</th>\n",
       "      <td>1</td>\n",
       "      <td>bm25</td>\n",
       "      <td>500</td>\n",
       "      <td>1</td>\n",
       "      <td>0.431880</td>\n",
       "      <td>0.424004</td>\n",
       "      <td>0.358790</td>\n",
       "      <td>0.431880</td>\n",
       "      <td>0.216679</td>\n",
       "      <td>6.101536</td>\n",
       "      <td>0.204863</td>\n",
       "      <td>0.309739</td>\n",
       "      <td>0.586019</td>\n",
       "    </tr>\n",
       "    <tr>\n",
       "      <th>2</th>\n",
       "      <td>2</td>\n",
       "      <td>bm25</td>\n",
       "      <td>500</td>\n",
       "      <td>2</td>\n",
       "      <td>0.355430</td>\n",
       "      <td>0.483629</td>\n",
       "      <td>0.283250</td>\n",
       "      <td>0.355430</td>\n",
       "      <td>0.216679</td>\n",
       "      <td>20.624301</td>\n",
       "      <td>0.204863</td>\n",
       "      <td>0.309739</td>\n",
       "      <td>0.586019</td>\n",
       "    </tr>\n",
       "    <tr>\n",
       "      <th>3</th>\n",
       "      <td>3</td>\n",
       "      <td>bm25</td>\n",
       "      <td>500</td>\n",
       "      <td>3</td>\n",
       "      <td>0.355134</td>\n",
       "      <td>0.299612</td>\n",
       "      <td>0.276126</td>\n",
       "      <td>0.355134</td>\n",
       "      <td>0.216679</td>\n",
       "      <td>9.483335</td>\n",
       "      <td>0.204863</td>\n",
       "      <td>0.309739</td>\n",
       "      <td>0.586019</td>\n",
       "    </tr>\n",
       "    <tr>\n",
       "      <th>4</th>\n",
       "      <td>4</td>\n",
       "      <td>bm25</td>\n",
       "      <td>500</td>\n",
       "      <td>4</td>\n",
       "      <td>0.333587</td>\n",
       "      <td>0.253145</td>\n",
       "      <td>0.243140</td>\n",
       "      <td>0.333587</td>\n",
       "      <td>0.216679</td>\n",
       "      <td>6.858567</td>\n",
       "      <td>0.204863</td>\n",
       "      <td>0.309739</td>\n",
       "      <td>0.586019</td>\n",
       "    </tr>\n",
       "  </tbody>\n",
       "</table>\n",
       "</div>"
      ],
      "text/plain": [
       "   index modelname  num_groups  group_id      mean       std  fast_gini  \\\n",
       "0      0      bm25         500         0  0.342402  0.259357   0.256741   \n",
       "1      1      bm25         500         1  0.431880  0.424004   0.358790   \n",
       "2      2      bm25         500         2  0.355430  0.483629   0.283250   \n",
       "3      3      bm25         500         3  0.355134  0.299612   0.276126   \n",
       "4      4      bm25         500         4  0.333587  0.253145   0.243140   \n",
       "\n",
       "   avg_rscore  min_rscore  max_rscore  fast_gini_min  fast_gini_mean  \\\n",
       "0    0.342402    0.216679    5.024293       0.204863        0.309739   \n",
       "1    0.431880    0.216679    6.101536       0.204863        0.309739   \n",
       "2    0.355430    0.216679   20.624301       0.204863        0.309739   \n",
       "3    0.355134    0.216679    9.483335       0.204863        0.309739   \n",
       "4    0.333587    0.216679    6.858567       0.204863        0.309739   \n",
       "\n",
       "   fast_gini_max  \n",
       "0       0.586019  \n",
       "1       0.586019  \n",
       "2       0.586019  \n",
       "3       0.586019  \n",
       "4       0.586019  "
      ]
     },
     "execution_count": 73,
     "metadata": {},
     "output_type": "execute_result"
    }
   ],
   "source": [
    "df.head()"
   ]
  },
  {
   "cell_type": "code",
   "execution_count": 57,
   "id": "057fd981-3dbe-425c-86c8-98c730528d5c",
   "metadata": {},
   "outputs": [],
   "source": [
    "# df_num_groups = pd.DataFrame(res, columns=['modelname', 'num_groups', 'group_id', 'mean', 'std', 'fast_gini', 'avg_rscore', 'min_rscore', 'max_rscore'])\n",
    "trec_df = pd.DataFrame()\n",
    "trec_df['query_id'] = df['qid']\n",
    "trec_df['Q0'] = 'Q0'\n",
    "trec_df['doc_id'] = df['docid']\n",
    "trec_df['rank'] = df['rank']\n",
    "trec_df['score'] = df['score']\n",
    "trec_df['run_name'] = 'bm25_100'\n",
    "\n"
   ]
  },
  {
   "cell_type": "code",
   "execution_count": 58,
   "id": "2a94bad3-9f71-4cef-ab4c-e3c9e62fdf2c",
   "metadata": {},
   "outputs": [
    {
     "data": {
      "text/html": [
       "<div>\n",
       "<style scoped>\n",
       "    .dataframe tbody tr th:only-of-type {\n",
       "        vertical-align: middle;\n",
       "    }\n",
       "\n",
       "    .dataframe tbody tr th {\n",
       "        vertical-align: top;\n",
       "    }\n",
       "\n",
       "    .dataframe thead th {\n",
       "        text-align: right;\n",
       "    }\n",
       "</style>\n",
       "<table border=\"1\" class=\"dataframe\">\n",
       "  <thead>\n",
       "    <tr style=\"text-align: right;\">\n",
       "      <th></th>\n",
       "      <th>query_id</th>\n",
       "      <th>Q0</th>\n",
       "      <th>doc_id</th>\n",
       "      <th>rank</th>\n",
       "      <th>score</th>\n",
       "      <th>run_name</th>\n",
       "    </tr>\n",
       "  </thead>\n",
       "  <tbody>\n",
       "    <tr>\n",
       "      <th>0</th>\n",
       "      <td>1048578</td>\n",
       "      <td>Q0</td>\n",
       "      <td>7187236</td>\n",
       "      <td>0</td>\n",
       "      <td>67.528593</td>\n",
       "      <td>bm25_100</td>\n",
       "    </tr>\n",
       "    <tr>\n",
       "      <th>1</th>\n",
       "      <td>1048578</td>\n",
       "      <td>Q0</td>\n",
       "      <td>7471198</td>\n",
       "      <td>1</td>\n",
       "      <td>62.121928</td>\n",
       "      <td>bm25_100</td>\n",
       "    </tr>\n",
       "    <tr>\n",
       "      <th>2</th>\n",
       "      <td>1048578</td>\n",
       "      <td>Q0</td>\n",
       "      <td>5365326</td>\n",
       "      <td>2</td>\n",
       "      <td>51.958492</td>\n",
       "      <td>bm25_100</td>\n",
       "    </tr>\n",
       "    <tr>\n",
       "      <th>3</th>\n",
       "      <td>1048578</td>\n",
       "      <td>Q0</td>\n",
       "      <td>7187241</td>\n",
       "      <td>3</td>\n",
       "      <td>51.947947</td>\n",
       "      <td>bm25_100</td>\n",
       "    </tr>\n",
       "    <tr>\n",
       "      <th>4</th>\n",
       "      <td>1048578</td>\n",
       "      <td>Q0</td>\n",
       "      <td>6802210</td>\n",
       "      <td>4</td>\n",
       "      <td>47.925985</td>\n",
       "      <td>bm25_100</td>\n",
       "    </tr>\n",
       "  </tbody>\n",
       "</table>\n",
       "</div>"
      ],
      "text/plain": [
       "   query_id  Q0   doc_id  rank      score  run_name\n",
       "0   1048578  Q0  7187236     0  67.528593  bm25_100\n",
       "1   1048578  Q0  7471198     1  62.121928  bm25_100\n",
       "2   1048578  Q0  5365326     2  51.958492  bm25_100\n",
       "3   1048578  Q0  7187241     3  51.947947  bm25_100\n",
       "4   1048578  Q0  6802210     4  47.925985  bm25_100"
      ]
     },
     "execution_count": 58,
     "metadata": {},
     "output_type": "execute_result"
    }
   ],
   "source": [
    "trec_df.head()"
   ]
  },
  {
   "cell_type": "code",
   "execution_count": 59,
   "id": "451681ad-5aa1-4d51-b8c2-89a8c0f5efd3",
   "metadata": {},
   "outputs": [],
   "source": [
    "trec_df.to_csv('/mnt/datasets/cxj/exposure-fairness/bm25_tctcolbert/bm25_tctcolbert_100.res', sep=' ', index=False, header=False)"
   ]
  },
  {
   "cell_type": "code",
   "execution_count": 61,
   "id": "aefaeec8-0b4b-482a-bcc4-c90f89154da9",
   "metadata": {},
   "outputs": [],
   "source": [
    "import config"
   ]
  },
  {
   "metadata": {},
   "cell_type": "code",
   "outputs": [],
   "execution_count": null,
   "source": "",
   "id": "9679e7a7216e180c"
  },
  {
   "cell_type": "code",
   "execution_count": 62,
   "id": "0a96f659-9070-47d5-b834-448d581235b3",
   "metadata": {},
   "outputs": [
    {
     "data": {
      "text/plain": [
       "'/mnt/primary/exposure-fairness'"
      ]
     },
     "execution_count": 62,
     "metadata": {},
     "output_type": "execute_result"
    }
   ],
   "source": "config.prog_dir"
  },
  {
   "cell_type": "code",
   "execution_count": null,
   "id": "278c3b17-c2ce-476a-9e47-76623d5aa04c",
   "metadata": {},
   "outputs": [],
   "source": [
    "# df[(df.modelname=='bm25') & (df.num_groups==10000)]\n",
    "df.to_csv(f'./results/bm25_gini.csv', index=False)"
   ]
  },
  {
   "cell_type": "code",
   "id": "669047f4-31e6-4ef8-a534-a4b458a2f06d",
   "metadata": {
    "ExecuteTime": {
     "end_time": "2025-05-11T13:10:42.801289Z",
     "start_time": "2025-05-11T13:10:42.788805Z"
    }
   },
   "source": [
    "df.shape"
   ],
   "outputs": [
    {
     "ename": "NameError",
     "evalue": "name 'df' is not defined",
     "output_type": "error",
     "traceback": [
      "\u001B[0;31m---------------------------------------------------------------------------\u001B[0m",
      "\u001B[0;31mNameError\u001B[0m                                 Traceback (most recent call last)",
      "Cell \u001B[0;32mIn[6], line 1\u001B[0m\n\u001B[0;32m----> 1\u001B[0m \u001B[43mdf\u001B[49m\u001B[38;5;241m.\u001B[39mshape\n",
      "\u001B[0;31mNameError\u001B[0m: name 'df' is not defined"
     ]
    }
   ],
   "execution_count": 6
  },
  {
   "metadata": {
    "ExecuteTime": {
     "end_time": "2025-05-11T13:12:56.786898Z",
     "start_time": "2025-05-11T13:12:56.771950Z"
    }
   },
   "cell_type": "code",
   "source": "df = pd.read_pickle('/nfs/datasets/cxj/exposure-fairness/v1/results.pkl').reset_index(drop=True)",
   "id": "3518c8e85f1bba6e",
   "outputs": [],
   "execution_count": 9
  },
  {
   "metadata": {
    "ExecuteTime": {
     "end_time": "2025-05-11T13:12:59.943534Z",
     "start_time": "2025-05-11T13:12:59.933713Z"
    }
   },
   "cell_type": "code",
   "source": "df.head()",
   "id": "dc2b0057867b0689",
   "outputs": [
    {
     "data": {
      "text/plain": [
       "  modelname  num_groups  group_id      mean       std  fast_gini  avg_rscore  \\\n",
       "0      bm25         500         0  0.342402  0.259357   0.256741    0.342402   \n",
       "1      bm25         500         1  0.431880  0.424004   0.358790    0.431880   \n",
       "2      bm25         500         2  0.355430  0.483629   0.283250    0.355430   \n",
       "3      bm25         500         3  0.355134  0.299612   0.276126    0.355134   \n",
       "4      bm25         500         4  0.333587  0.253145   0.243140    0.333587   \n",
       "\n",
       "   min_rscore  max_rscore  fast_gini_min  fast_gini_mean  fast_gini_max  \n",
       "0    0.216679    5.024293       0.204863        0.309739       0.586019  \n",
       "1    0.216679    6.101536       0.204863        0.309739       0.586019  \n",
       "2    0.216679   20.624301       0.204863        0.309739       0.586019  \n",
       "3    0.216679    9.483335       0.204863        0.309739       0.586019  \n",
       "4    0.216679    6.858567       0.204863        0.309739       0.586019  "
      ],
      "text/html": [
       "<div>\n",
       "<style scoped>\n",
       "    .dataframe tbody tr th:only-of-type {\n",
       "        vertical-align: middle;\n",
       "    }\n",
       "\n",
       "    .dataframe tbody tr th {\n",
       "        vertical-align: top;\n",
       "    }\n",
       "\n",
       "    .dataframe thead th {\n",
       "        text-align: right;\n",
       "    }\n",
       "</style>\n",
       "<table border=\"1\" class=\"dataframe\">\n",
       "  <thead>\n",
       "    <tr style=\"text-align: right;\">\n",
       "      <th></th>\n",
       "      <th>modelname</th>\n",
       "      <th>num_groups</th>\n",
       "      <th>group_id</th>\n",
       "      <th>mean</th>\n",
       "      <th>std</th>\n",
       "      <th>fast_gini</th>\n",
       "      <th>avg_rscore</th>\n",
       "      <th>min_rscore</th>\n",
       "      <th>max_rscore</th>\n",
       "      <th>fast_gini_min</th>\n",
       "      <th>fast_gini_mean</th>\n",
       "      <th>fast_gini_max</th>\n",
       "    </tr>\n",
       "  </thead>\n",
       "  <tbody>\n",
       "    <tr>\n",
       "      <th>0</th>\n",
       "      <td>bm25</td>\n",
       "      <td>500</td>\n",
       "      <td>0</td>\n",
       "      <td>0.342402</td>\n",
       "      <td>0.259357</td>\n",
       "      <td>0.256741</td>\n",
       "      <td>0.342402</td>\n",
       "      <td>0.216679</td>\n",
       "      <td>5.024293</td>\n",
       "      <td>0.204863</td>\n",
       "      <td>0.309739</td>\n",
       "      <td>0.586019</td>\n",
       "    </tr>\n",
       "    <tr>\n",
       "      <th>1</th>\n",
       "      <td>bm25</td>\n",
       "      <td>500</td>\n",
       "      <td>1</td>\n",
       "      <td>0.431880</td>\n",
       "      <td>0.424004</td>\n",
       "      <td>0.358790</td>\n",
       "      <td>0.431880</td>\n",
       "      <td>0.216679</td>\n",
       "      <td>6.101536</td>\n",
       "      <td>0.204863</td>\n",
       "      <td>0.309739</td>\n",
       "      <td>0.586019</td>\n",
       "    </tr>\n",
       "    <tr>\n",
       "      <th>2</th>\n",
       "      <td>bm25</td>\n",
       "      <td>500</td>\n",
       "      <td>2</td>\n",
       "      <td>0.355430</td>\n",
       "      <td>0.483629</td>\n",
       "      <td>0.283250</td>\n",
       "      <td>0.355430</td>\n",
       "      <td>0.216679</td>\n",
       "      <td>20.624301</td>\n",
       "      <td>0.204863</td>\n",
       "      <td>0.309739</td>\n",
       "      <td>0.586019</td>\n",
       "    </tr>\n",
       "    <tr>\n",
       "      <th>3</th>\n",
       "      <td>bm25</td>\n",
       "      <td>500</td>\n",
       "      <td>3</td>\n",
       "      <td>0.355134</td>\n",
       "      <td>0.299612</td>\n",
       "      <td>0.276126</td>\n",
       "      <td>0.355134</td>\n",
       "      <td>0.216679</td>\n",
       "      <td>9.483335</td>\n",
       "      <td>0.204863</td>\n",
       "      <td>0.309739</td>\n",
       "      <td>0.586019</td>\n",
       "    </tr>\n",
       "    <tr>\n",
       "      <th>4</th>\n",
       "      <td>bm25</td>\n",
       "      <td>500</td>\n",
       "      <td>4</td>\n",
       "      <td>0.333587</td>\n",
       "      <td>0.253145</td>\n",
       "      <td>0.243140</td>\n",
       "      <td>0.333587</td>\n",
       "      <td>0.216679</td>\n",
       "      <td>6.858567</td>\n",
       "      <td>0.204863</td>\n",
       "      <td>0.309739</td>\n",
       "      <td>0.586019</td>\n",
       "    </tr>\n",
       "  </tbody>\n",
       "</table>\n",
       "</div>"
      ]
     },
     "execution_count": 10,
     "metadata": {},
     "output_type": "execute_result"
    }
   ],
   "execution_count": 10
  },
  {
   "cell_type": "code",
   "id": "e8a0f57e-9bb4-4888-aea9-246de0c486c9",
   "metadata": {
    "ExecuteTime": {
     "end_time": "2025-05-11T15:25:03.043792Z",
     "start_time": "2025-05-11T15:25:03.026046Z"
    }
   },
   "source": [
    "# df2 = pd.DataFrame()\n",
    "# df2['query_id'] = df['qid'].astype(str)\n",
    "# df2['doc_id'] = df['docno'].astype(str)\n",
    "# df2['score'] = df['score']"
   ],
   "outputs": [
    {
     "ename": "ModuleNotFoundError",
     "evalue": "No module named 'utils'",
     "output_type": "error",
     "traceback": [
      "\u001B[0;31m---------------------------------------------------------------------------\u001B[0m",
      "\u001B[0;31mModuleNotFoundError\u001B[0m                       Traceback (most recent call last)",
      "Cell \u001B[0;32mIn[15], line 5\u001B[0m\n\u001B[1;32m      1\u001B[0m \u001B[38;5;66;03m# df2 = pd.DataFrame()\u001B[39;00m\n\u001B[1;32m      2\u001B[0m \u001B[38;5;66;03m# df2['query_id'] = df['qid'].astype(str)\u001B[39;00m\n\u001B[1;32m      3\u001B[0m \u001B[38;5;66;03m# df2['doc_id'] = df['docno'].astype(str)\u001B[39;00m\n\u001B[1;32m      4\u001B[0m \u001B[38;5;66;03m# df2['score'] = df['score']\u001B[39;00m\n\u001B[0;32m----> 5\u001B[0m \u001B[38;5;28;01mimport\u001B[39;00m \u001B[38;5;21;01mutils\u001B[39;00m\n",
      "\u001B[0;31mModuleNotFoundError\u001B[0m: No module named 'utils'"
     ]
    }
   ],
   "execution_count": 15
  },
  {
   "metadata": {
    "ExecuteTime": {
     "end_time": "2025-05-11T15:34:46.940802Z",
     "start_time": "2025-05-11T15:34:10.708704Z"
    }
   },
   "cell_type": "code",
   "source": [
    "result = '/nfs/datasets/cxj/exposure-fairness/v1/df_bm25_dev_0.csv'\n",
    "df = pd.read_csv(result,index_col=0).reset_index(drop=True)\n",
    "df.head()"
   ],
   "id": "fad92192c8866081",
   "outputs": [
    {
     "data": {
      "text/plain": [
       "     docid    docno  rank      score                           query  \\\n",
       "0  7187236  7187236     0  67.528593  cost of endless pools swim spa   \n",
       "1  7471198  7471198     1  62.121928  cost of endless pools swim spa   \n",
       "2  5365326  5365326     2  51.958492  cost of endless pools swim spa   \n",
       "3  7187241  7187241     3  51.947947  cost of endless pools swim spa   \n",
       "4  6802210  6802210     4  47.925985  cost of endless pools swim spa   \n",
       "\n",
       "                                                                                                  text  \n",
       "0  The Endless Pool 15' endless pools swim spa Endless Pool Nightmare Buy A Big Spa Instead Great t...  \n",
       "1  Cal Spas is the leading maker of home resort products. Cal Spas makes a great jetted swim spa wi...  \n",
       "2  How much does a swim spa cost. 1  A top of the line, branded swim spa 9 feet by 16 feet with the...  \n",
       "3  Disclaimer: Endless Pools (and all other swim spa manufacturers) are intentionally secretive abo...  \n",
       "4  Endless Pools is one of the first companies to develop this Swim Spa, or “endless” swimming pool...  "
      ],
      "text/html": [
       "<div>\n",
       "<style scoped>\n",
       "    .dataframe tbody tr th:only-of-type {\n",
       "        vertical-align: middle;\n",
       "    }\n",
       "\n",
       "    .dataframe tbody tr th {\n",
       "        vertical-align: top;\n",
       "    }\n",
       "\n",
       "    .dataframe thead th {\n",
       "        text-align: right;\n",
       "    }\n",
       "</style>\n",
       "<table border=\"1\" class=\"dataframe\">\n",
       "  <thead>\n",
       "    <tr style=\"text-align: right;\">\n",
       "      <th></th>\n",
       "      <th>docid</th>\n",
       "      <th>docno</th>\n",
       "      <th>rank</th>\n",
       "      <th>score</th>\n",
       "      <th>query</th>\n",
       "      <th>text</th>\n",
       "    </tr>\n",
       "  </thead>\n",
       "  <tbody>\n",
       "    <tr>\n",
       "      <th>0</th>\n",
       "      <td>7187236</td>\n",
       "      <td>7187236</td>\n",
       "      <td>0</td>\n",
       "      <td>67.528593</td>\n",
       "      <td>cost of endless pools swim spa</td>\n",
       "      <td>The Endless Pool 15' endless pools swim spa Endless Pool Nightmare Buy A Big Spa Instead Great t...</td>\n",
       "    </tr>\n",
       "    <tr>\n",
       "      <th>1</th>\n",
       "      <td>7471198</td>\n",
       "      <td>7471198</td>\n",
       "      <td>1</td>\n",
       "      <td>62.121928</td>\n",
       "      <td>cost of endless pools swim spa</td>\n",
       "      <td>Cal Spas is the leading maker of home resort products. Cal Spas makes a great jetted swim spa wi...</td>\n",
       "    </tr>\n",
       "    <tr>\n",
       "      <th>2</th>\n",
       "      <td>5365326</td>\n",
       "      <td>5365326</td>\n",
       "      <td>2</td>\n",
       "      <td>51.958492</td>\n",
       "      <td>cost of endless pools swim spa</td>\n",
       "      <td>How much does a swim spa cost. 1  A top of the line, branded swim spa 9 feet by 16 feet with the...</td>\n",
       "    </tr>\n",
       "    <tr>\n",
       "      <th>3</th>\n",
       "      <td>7187241</td>\n",
       "      <td>7187241</td>\n",
       "      <td>3</td>\n",
       "      <td>51.947947</td>\n",
       "      <td>cost of endless pools swim spa</td>\n",
       "      <td>Disclaimer: Endless Pools (and all other swim spa manufacturers) are intentionally secretive abo...</td>\n",
       "    </tr>\n",
       "    <tr>\n",
       "      <th>4</th>\n",
       "      <td>6802210</td>\n",
       "      <td>6802210</td>\n",
       "      <td>4</td>\n",
       "      <td>47.925985</td>\n",
       "      <td>cost of endless pools swim spa</td>\n",
       "      <td>Endless Pools is one of the first companies to develop this Swim Spa, or “endless” swimming pool...</td>\n",
       "    </tr>\n",
       "  </tbody>\n",
       "</table>\n",
       "</div>"
      ]
     },
     "execution_count": 6,
     "metadata": {},
     "output_type": "execute_result"
    }
   ],
   "execution_count": 6
  },
  {
   "metadata": {
    "ExecuteTime": {
     "end_time": "2025-05-11T15:35:28.563444Z",
     "start_time": "2025-05-11T15:35:28.535074Z"
    }
   },
   "cell_type": "code",
   "source": "df['qid'] = 100",
   "id": "7573562870352840",
   "outputs": [],
   "execution_count": 7
  },
  {
   "metadata": {
    "ExecuteTime": {
     "end_time": "2025-05-11T15:35:48.502945Z",
     "start_time": "2025-05-11T15:35:30.794002Z"
    }
   },
   "cell_type": "code",
   "source": [
    "trec_res_file = './test.res'\n",
    "print(f'saved into {trec_res_file}')\n",
    "if not os.path.exists(trec_res_file):\n",
    "    fair_utils.convert_df2Trec(df, trec_res_file, 'res',\n",
    "                          run_name=f'test')"
   ],
   "id": "d243e867217ee462",
   "outputs": [
    {
     "name": "stdout",
     "output_type": "stream",
     "text": [
      "saved into ./test.res\n"
     ]
    }
   ],
   "execution_count": 8
  },
  {
   "metadata": {
    "ExecuteTime": {
     "end_time": "2025-05-11T15:43:38.769687Z",
     "start_time": "2025-05-11T15:43:06.306201Z"
    }
   },
   "cell_type": "code",
   "source": [
    "print(f'calculating metrics')\n",
    "result_file_measures = 'test_measures.pkl'\n",
    "trec_res_file = '/nfs/datasets/cxj/exposure-fairness/v1/bm25_tctcolbert_100.res'\n",
    "trec_qrels_file = '/nfs/datasets/cxj/exposure-fairness/v1/qrels_dev.res'\n",
    "metrics_dict = fair_utils.cal_metrics(trec_qrels_file, trec_res_file)\n",
    "for items in metrics_dict.items():\n",
    "    df[items[0]] = items[1]"
   ],
   "id": "5a8185ebd2ded454",
   "outputs": [
    {
     "name": "stdout",
     "output_type": "stream",
     "text": [
      "calculating metrics\n",
      "['trec_eval', '-m', 'ndcg_cut.10', '-m', 'map', '-m', 'recip_rank', '-m', 'P.10', '/nfs/datasets/cxj/exposure-fairness/v1/qrels_dev.res', '/nfs/datasets/cxj/exposure-fairness/v1/bm25_tctcolbert_100.res']\n",
      "{'map': 0.3226, 'recip_rank': 0.3281, 'P_10': 0.0557, 'ndcg_cut_10': 0.3713}\n"
     ]
    }
   ],
   "execution_count": 15
  },
  {
   "metadata": {
    "ExecuteTime": {
     "end_time": "2025-05-11T15:43:51.223030Z",
     "start_time": "2025-05-11T15:43:51.215878Z"
    }
   },
   "cell_type": "code",
   "source": "df.head()",
   "id": "a5caf2bbb64d7b43",
   "outputs": [
    {
     "data": {
      "text/plain": [
       "     docid    docno  rank      score                           query  \\\n",
       "0  7187236  7187236     0  67.528593  cost of endless pools swim spa   \n",
       "1  7471198  7471198     1  62.121928  cost of endless pools swim spa   \n",
       "2  5365326  5365326     2  51.958492  cost of endless pools swim spa   \n",
       "3  7187241  7187241     3  51.947947  cost of endless pools swim spa   \n",
       "4  6802210  6802210     4  47.925985  cost of endless pools swim spa   \n",
       "\n",
       "                                                                                                  text  \\\n",
       "0  The Endless Pool 15' endless pools swim spa Endless Pool Nightmare Buy A Big Spa Instead Great t...   \n",
       "1  Cal Spas is the leading maker of home resort products. Cal Spas makes a great jetted swim spa wi...   \n",
       "2  How much does a swim spa cost. 1  A top of the line, branded swim spa 9 feet by 16 feet with the...   \n",
       "3  Disclaimer: Endless Pools (and all other swim spa manufacturers) are intentionally secretive abo...   \n",
       "4  Endless Pools is one of the first companies to develop this Swim Spa, or “endless” swimming pool...   \n",
       "\n",
       "   qid     map  recip_rank    P_10  ndcg_cut_10  \n",
       "0  100  0.3226      0.3281  0.0557       0.3713  \n",
       "1  100  0.3226      0.3281  0.0557       0.3713  \n",
       "2  100  0.3226      0.3281  0.0557       0.3713  \n",
       "3  100  0.3226      0.3281  0.0557       0.3713  \n",
       "4  100  0.3226      0.3281  0.0557       0.3713  "
      ],
      "text/html": [
       "<div>\n",
       "<style scoped>\n",
       "    .dataframe tbody tr th:only-of-type {\n",
       "        vertical-align: middle;\n",
       "    }\n",
       "\n",
       "    .dataframe tbody tr th {\n",
       "        vertical-align: top;\n",
       "    }\n",
       "\n",
       "    .dataframe thead th {\n",
       "        text-align: right;\n",
       "    }\n",
       "</style>\n",
       "<table border=\"1\" class=\"dataframe\">\n",
       "  <thead>\n",
       "    <tr style=\"text-align: right;\">\n",
       "      <th></th>\n",
       "      <th>docid</th>\n",
       "      <th>docno</th>\n",
       "      <th>rank</th>\n",
       "      <th>score</th>\n",
       "      <th>query</th>\n",
       "      <th>text</th>\n",
       "      <th>qid</th>\n",
       "      <th>map</th>\n",
       "      <th>recip_rank</th>\n",
       "      <th>P_10</th>\n",
       "      <th>ndcg_cut_10</th>\n",
       "    </tr>\n",
       "  </thead>\n",
       "  <tbody>\n",
       "    <tr>\n",
       "      <th>0</th>\n",
       "      <td>7187236</td>\n",
       "      <td>7187236</td>\n",
       "      <td>0</td>\n",
       "      <td>67.528593</td>\n",
       "      <td>cost of endless pools swim spa</td>\n",
       "      <td>The Endless Pool 15' endless pools swim spa Endless Pool Nightmare Buy A Big Spa Instead Great t...</td>\n",
       "      <td>100</td>\n",
       "      <td>0.3226</td>\n",
       "      <td>0.3281</td>\n",
       "      <td>0.0557</td>\n",
       "      <td>0.3713</td>\n",
       "    </tr>\n",
       "    <tr>\n",
       "      <th>1</th>\n",
       "      <td>7471198</td>\n",
       "      <td>7471198</td>\n",
       "      <td>1</td>\n",
       "      <td>62.121928</td>\n",
       "      <td>cost of endless pools swim spa</td>\n",
       "      <td>Cal Spas is the leading maker of home resort products. Cal Spas makes a great jetted swim spa wi...</td>\n",
       "      <td>100</td>\n",
       "      <td>0.3226</td>\n",
       "      <td>0.3281</td>\n",
       "      <td>0.0557</td>\n",
       "      <td>0.3713</td>\n",
       "    </tr>\n",
       "    <tr>\n",
       "      <th>2</th>\n",
       "      <td>5365326</td>\n",
       "      <td>5365326</td>\n",
       "      <td>2</td>\n",
       "      <td>51.958492</td>\n",
       "      <td>cost of endless pools swim spa</td>\n",
       "      <td>How much does a swim spa cost. 1  A top of the line, branded swim spa 9 feet by 16 feet with the...</td>\n",
       "      <td>100</td>\n",
       "      <td>0.3226</td>\n",
       "      <td>0.3281</td>\n",
       "      <td>0.0557</td>\n",
       "      <td>0.3713</td>\n",
       "    </tr>\n",
       "    <tr>\n",
       "      <th>3</th>\n",
       "      <td>7187241</td>\n",
       "      <td>7187241</td>\n",
       "      <td>3</td>\n",
       "      <td>51.947947</td>\n",
       "      <td>cost of endless pools swim spa</td>\n",
       "      <td>Disclaimer: Endless Pools (and all other swim spa manufacturers) are intentionally secretive abo...</td>\n",
       "      <td>100</td>\n",
       "      <td>0.3226</td>\n",
       "      <td>0.3281</td>\n",
       "      <td>0.0557</td>\n",
       "      <td>0.3713</td>\n",
       "    </tr>\n",
       "    <tr>\n",
       "      <th>4</th>\n",
       "      <td>6802210</td>\n",
       "      <td>6802210</td>\n",
       "      <td>4</td>\n",
       "      <td>47.925985</td>\n",
       "      <td>cost of endless pools swim spa</td>\n",
       "      <td>Endless Pools is one of the first companies to develop this Swim Spa, or “endless” swimming pool...</td>\n",
       "      <td>100</td>\n",
       "      <td>0.3226</td>\n",
       "      <td>0.3281</td>\n",
       "      <td>0.0557</td>\n",
       "      <td>0.3713</td>\n",
       "    </tr>\n",
       "  </tbody>\n",
       "</table>\n",
       "</div>"
      ]
     },
     "execution_count": 16,
     "metadata": {},
     "output_type": "execute_result"
    }
   ],
   "execution_count": 16
  },
  {
   "cell_type": "code",
   "execution_count": null,
   "id": "5ee6ec1b-c227-4de7-8bd1-5c9713552692",
   "metadata": {},
   "outputs": [],
   "source": [
    "# ir_measures.calc_aggregate([MAP, RR, nDCG@10], qrels, df2)\n",
    "df = fair_utils.calc_metrics(df,qrels)"
   ]
  },
  {
   "cell_type": "code",
   "execution_count": null,
   "id": "9f9850c9-003d-4c76-a58d-29e1d34001ec",
   "metadata": {},
   "outputs": [],
   "source": [
    "df['AP(rel=2)'].mean()"
   ]
  },
  {
   "cell_type": "code",
   "execution_count": null,
   "id": "529340d2-ec5d-4a46-b30b-4967721f5ce4",
   "metadata": {},
   "outputs": [],
   "source": [
    "df['AP(rel=2)'].max()"
   ]
  },
  {
   "cell_type": "code",
   "execution_count": null,
   "id": "489fb924-d634-4847-bb2d-9b54c8483dd5",
   "metadata": {},
   "outputs": [],
   "source": [
    "df['AP(rel=2)'].min()"
   ]
  },
  {
   "cell_type": "code",
   "execution_count": null,
   "id": "9d572ec2-3475-4860-b358-db9eb53fcd80",
   "metadata": {},
   "outputs": [],
   "source": [
    "csv = '/nfs/datasets/cxj/exposure-fairness/bm25/bm25_dev_grps_500_31.pkl'\n",
    "df = pd.read_pickle(csv).reset_index()"
   ]
  },
  {
   "cell_type": "code",
   "execution_count": null,
   "id": "1fad35a0-98b4-4fe7-9a9a-9aeaed7d39e9",
   "metadata": {},
   "outputs": [],
   "source": [
    "df"
   ]
  },
  {
   "cell_type": "code",
   "execution_count": null,
   "id": "c52b0920-ad48-41c8-8ead-d683a3db05e1",
   "metadata": {
    "ExecuteTime": {
     "end_time": "2025-03-10T23:32:29.518787Z",
     "start_time": "2025-03-10T23:32:29.506575Z"
    }
   },
   "outputs": [],
   "source": [
    "import json\n",
    "\n",
    "def save(dict, file):\n",
    "    with open(file,'w') as f:\n",
    "        json.dump(dict, f)\n",
    "\n",
    "def load(file):\n",
    "    with open(file,'r') as f:\n",
    "        ms_docids = json.load(f)\n",
    "    return ms_docids\n",
    "\n",
    "def Gini(v):\n",
    "    v = np.array(v)\n",
    "    bins = np.linspace(0., 100., 11)\n",
    "    total = float(np.sum(v))\n",
    "    yvals = [0]\n",
    "    for b in bins[1:]:\n",
    "        bin_vals = v[v <= np.percentile(v, b)]\n",
    "        bin_fraction = (np.sum(bin_vals) / total) * 100.0\n",
    "        yvals.append(bin_fraction)\n",
    "    # perfect equality area\n",
    "    pe_area = np.trapz(bins, x=bins)\n",
    "    # lorenz area\n",
    "    lorenz_area = np.trapz(yvals, x=bins)\n",
    "    gini_val = (pe_area - lorenz_area) / float(pe_area)\n",
    "    return gini_val\n",
    "\n",
    "import statistics\n",
    "def calc_stats(modelname,df,scoredF, topics):\n",
    "    if not os.path.exists(scoredF):\n",
    "        init_msmarco_dict = './results/ms_docids.json'\n",
    "        docids_score = load(init_msmarco_dict)\n",
    "        for qid in pt.tqdm(topics['qid']):\n",
    "            D = df[df['qid'] == np.int64(qid)]\n",
    "            for dno in D['docno']:\n",
    "                rank = D[D['docno'] == dno]['rank'].values[0]\n",
    "                score = 100 / np.log(rank + 2)  # plus 2 because the ranks start from zero\n",
    "                docids_score[str(dno)] += score\n",
    "        save(docids_score, scoredF)\n",
    "\n",
    "    docids_score = load(scoredF)\n",
    "    scores_df = pd.DataFrame.from_dict(docids_score, orient=\"index\", columns=[\"score\"])\n",
    "    scores_df = scores_df[scores_df[\"score\"] > 0]\n",
    "    scores = scores_df['score'].to_list()\n",
    "\n",
    "    mean = statistics.mean(scores)\n",
    "    std_dev = statistics.stdev(scores)\n",
    "    gini_value = Gini(scores)\n",
    "    return mean, std_dev, gini_value"
   ]
  },
  {
   "cell_type": "code",
   "execution_count": null,
   "id": "b633b9d70a237ca8",
   "metadata": {
    "ExecuteTime": {
     "end_time": "2025-03-10T23:46:38.634687Z",
     "start_time": "2025-03-10T23:32:39.635202Z"
    }
   },
   "outputs": [],
   "source": [
    "Gini([1,2,3])"
   ]
  },
  {
   "cell_type": "code",
   "execution_count": null,
   "id": "e0a8b1d8-3baf-479f-afee-3441a2759378",
   "metadata": {},
   "outputs": [],
   "source": []
  },
  {
   "cell_type": "code",
   "execution_count": null,
   "id": "aa8b82e2-80fc-4f21-bdd6-269262738b2c",
   "metadata": {
    "ExecuteTime": {
     "end_time": "2025-03-10T23:31:31.619392Z",
     "start_time": "2025-03-10T23:31:31.496607Z"
    }
   },
   "outputs": [],
   "source": [
    "modelname=\"bm25\"\n",
    "nfs_dir = '/nfs/resources/cxj/retrievability-bias'\n",
    "threshold = 0\n",
    "\n",
    "csv = f'./df_bm25_0.csv'\n",
    "df = pd.read_csv(csv, index_col=0).reset_index()\n",
    "\n",
    "res = []\n",
    "for group_key in range(0, 700):\n",
    "    scoredF = f'{nfs_dir}/{modelname}/groups/{modelname}_T{threshold}_G{group_key}.json'\n",
    "    mean, std, gini = calc_stats(modelname, df, scoredF, None)\n",
    "    group_res = [modelname, threshold, group_key, mean, std, gini]\n",
    "    print(group_res)\n",
    "    res.append(group_res)\n",
    "\n",
    "print(f'start creating df per threshold')\n",
    "df_threshold = pd.DataFrame(res, columns=['modelname', 'threshold', 'group_key', 'mean', 'std', 'gini'])\n",
    "print('saving df per threshold')\n",
    "df_threshold.to_csv(f'./result_T{threshold}_group700.csv', ignore_index=True)"
   ]
  },
  {
   "cell_type": "code",
   "execution_count": null,
   "id": "09e4ec63-5dd6-4252-91b3-21ce50680c5e",
   "metadata": {},
   "outputs": [],
   "source": [
    "# def transform_df(df):\n",
    "#     df_run = df.rename(columns={'qid':'query_id','docid':'doc_id'})\n",
    "#     df_run[['query_id','doc_id']] = df_run[['query_id','doc_id']].astype(str)\n",
    "\n",
    "#     return df_run\n"
   ]
  },
  {
   "cell_type": "code",
   "execution_count": null,
   "id": "3405c4ee-7bf8-4293-b28c-4dfa12cb83d5",
   "metadata": {},
   "outputs": [],
   "source": [
    "docids_score = load('./bm25_docids_100_threshold_60.json')"
   ]
  },
  {
   "cell_type": "code",
   "execution_count": null,
   "id": "f6aa8272-9b03-4ce0-a20d-3d305c0b4585",
   "metadata": {},
   "outputs": [],
   "source": [
    "scores_df = pd.DataFrame.from_dict(docids_score, orient=\"index\", columns=[\"score\"])\n",
    "# scores_df.tail()"
   ]
  },
  {
   "cell_type": "code",
   "execution_count": null,
   "id": "24fdaf16-dc9b-47e9-a854-a0279908678a",
   "metadata": {},
   "outputs": [],
   "source": [
    "scores_df = scores_df[scores_df[\"score\"] > 0]\n",
    "scores = scores_df['score'].to_list()\n",
    "len(scores)"
   ]
  },
  {
   "cell_type": "code",
   "execution_count": null,
   "id": "79e01216-6e5a-48de-b60f-0e62fd7002af",
   "metadata": {},
   "outputs": [],
   "source": []
  },
  {
   "cell_type": "code",
   "execution_count": null,
   "id": "a4b6ba1f-bae4-4710-91ca-704bddcebc2b",
   "metadata": {},
   "outputs": [],
   "source": []
  },
  {
   "cell_type": "code",
   "execution_count": null,
   "id": "e7b37b35-c48d-445d-a850-cc6bd4ff87dc",
   "metadata": {},
   "outputs": [],
   "source": []
  },
  {
   "cell_type": "code",
   "execution_count": null,
   "id": "ef0627b2-59ea-49be-8ad8-84162b110bc4",
   "metadata": {},
   "outputs": [],
   "source": []
  },
  {
   "cell_type": "code",
   "execution_count": null,
   "id": "ad044041-2f11-4d96-b595-a6436b5b2aea",
   "metadata": {},
   "outputs": [],
   "source": []
  },
  {
   "cell_type": "code",
   "execution_count": null,
   "id": "1ec37072-cd91-44d3-8c47-3204bde5c530",
   "metadata": {},
   "outputs": [],
   "source": [
    "import glob\n",
    "res = pd.DataFrame()\n",
    "for file in glob.glob('/nfs/resources/cxj/retrievability-bias/colbert/df_colbert_90*.csv'):\n",
    "    print(file)\n",
    "    df = pd.concat([res,pd.read_csv(file,index_col=0).reset_index()],ignore_index=True)\n",
    "\n",
    "df.to_csv('/nfs/resources/cxj/retrievability-bias/colbert/df_colbert_90.csv',index=False)"
   ]
  },
  {
   "cell_type": "code",
   "execution_count": null,
   "id": "7a876ee8-e834-46c5-9b81-db77de38b5e7",
   "metadata": {},
   "outputs": [],
   "source": [
    "df.shape"
   ]
  },
  {
   "cell_type": "code",
   "execution_count": null,
   "id": "5fc24dfd-0e5e-42b7-b90e-83d9d8e1e2ae",
   "metadata": {},
   "outputs": [],
   "source": [
    "grouped = df.groupby('qid')\n",
    "len(grouped.groups.keys())"
   ]
  },
  {
   "cell_type": "code",
   "execution_count": null,
   "id": "e2190460-2ecd-4108-baf8-b57ca2f7ad26",
   "metadata": {},
   "outputs": [],
   "source": [
    "calc_stats('colbert',df,30,topics)"
   ]
  },
  {
   "cell_type": "code",
   "execution_count": null,
   "id": "43b88911-690a-474d-bdc5-1ee0e2956fa8",
   "metadata": {},
   "outputs": [],
   "source": [
    "topics.shape"
   ]
  },
  {
   "cell_type": "code",
   "execution_count": null,
   "id": "fbbec448-c6ac-4700-a805-66017a645ba5",
   "metadata": {},
   "outputs": [],
   "source": [
    "df2 = pd.DataFrame()\n",
    "df2['query_id'] = df['qid'].astype(str)\n",
    "df2['doc_id'] = df['docno'].astype(str)\n",
    "df2['score'] = df['score']"
   ]
  },
  {
   "cell_type": "code",
   "execution_count": null,
   "id": "bc275a32-c0cf-4c6b-a73f-ecfc5c43a205",
   "metadata": {},
   "outputs": [],
   "source": [
    "ir_measures.calc_aggregate([RR, nDCG@10], qrels, df2)"
   ]
  },
  {
   "cell_type": "code",
   "execution_count": null,
   "id": "f3a21816-66f2-44b7-8b14-0bb4ea1b79d7",
   "metadata": {},
   "outputs": [],
   "source": []
  },
  {
   "cell_type": "code",
   "execution_count": null,
   "id": "e1b4bdac-9627-44ab-a0d1-2a08a16427dd",
   "metadata": {},
   "outputs": [],
   "source": []
  },
  {
   "cell_type": "code",
   "execution_count": null,
   "id": "76b98df2-2ee3-484c-832b-1a0ced24974e",
   "metadata": {},
   "outputs": [],
   "source": [
    "import glob\n",
    "res = pd.DataFrame()\n",
    "for file in glob.glob('/nfs/resources/cxj/retrievability-bias/colbert/df_colbert_90*.csv'):\n",
    "    print(file)\n",
    "    df = pd.concat([res,pd.read_csv(file,index_col=0).reset_index()],ignore_index=True)"
   ]
  },
  {
   "cell_type": "code",
   "execution_count": null,
   "id": "d3dcc7a6-1908-48e1-b80c-e324ca7eeb00",
   "metadata": {},
   "outputs": [],
   "source": [
    "df.shape"
   ]
  },
  {
   "cell_type": "code",
   "execution_count": null,
   "id": "1b587c33-a503-4c64-a9a6-5923700de7a4",
   "metadata": {},
   "outputs": [],
   "source": [
    "grouped = df.groupby('qid')\n",
    "len(grouped.groups.keys())"
   ]
  },
  {
   "cell_type": "code",
   "execution_count": null,
   "id": "c9c31fe9-c2cd-425d-822f-81c0d3719510",
   "metadata": {},
   "outputs": [],
   "source": [
    "calc_stats('colbert',df,90,topics)"
   ]
  },
  {
   "cell_type": "code",
   "execution_count": null,
   "id": "64634186-daac-4dfa-bac7-baa266b39891",
   "metadata": {},
   "outputs": [],
   "source": [
    "df2 = pd.DataFrame()\n",
    "df2['query_id'] = df['qid'].astype(str)\n",
    "df2['doc_id'] = df['docno'].astype(str)\n",
    "df2['score'] = df['score']"
   ]
  },
  {
   "cell_type": "code",
   "execution_count": null,
   "id": "fab2a846-40f2-445c-a1f0-2ecd65fc12bd",
   "metadata": {},
   "outputs": [],
   "source": [
    "ir_measures.calc_aggregate([RR, nDCG@10], qrels, df2)"
   ]
  },
  {
   "cell_type": "code",
   "execution_count": null,
   "id": "5f87b14f-4a77-4d18-82c1-241a7c8e2fb2",
   "metadata": {},
   "outputs": [],
   "source": []
  },
  {
   "cell_type": "code",
   "execution_count": null,
   "id": "b91cd06b-7887-4302-b218-e5877a754d66",
   "metadata": {},
   "outputs": [],
   "source": []
  },
  {
   "cell_type": "code",
   "execution_count": null,
   "id": "91fed7b9-e29a-4631-943b-7c218b964b32",
   "metadata": {},
   "outputs": [],
   "source": [
    "res = pd.DataFrame()\n",
    "for file in glob.glob('/nfs/resources/cxj/retrievability-bias/colbert/df_bm25_colbert_30_*.csv'):\n",
    "    print(file)\n",
    "    df = pd.concat([res,pd.read_csv(file,index_col=0).reset_index()],ignore_index=True)"
   ]
  },
  {
   "cell_type": "code",
   "execution_count": null,
   "id": "3d21e26f-4eef-4486-be74-a22c44814530",
   "metadata": {},
   "outputs": [],
   "source": [
    "df.shape"
   ]
  },
  {
   "cell_type": "code",
   "execution_count": null,
   "id": "07a3b25b-f13c-4f3f-9f93-b89d18ef735f",
   "metadata": {},
   "outputs": [],
   "source": [
    "grouped = df.groupby('qid')\n",
    "len(grouped.groups.keys())"
   ]
  },
  {
   "cell_type": "code",
   "execution_count": null,
   "id": "a1be63cb-c20a-4c30-a605-884e85a0ca26",
   "metadata": {},
   "outputs": [],
   "source": [
    "calc_stats('bm25_colbert',df,30,topics)"
   ]
  },
  {
   "cell_type": "code",
   "execution_count": null,
   "id": "ee144286-311e-4039-b95a-ed2d2671251f",
   "metadata": {},
   "outputs": [],
   "source": [
    "df2 = pd.DataFrame()\n",
    "df2['query_id'] = df['qid'].astype(str)\n",
    "df2['doc_id'] = df['docno'].astype(str)\n",
    "df2['score'] = df['score']"
   ]
  },
  {
   "cell_type": "code",
   "execution_count": null,
   "id": "8d5ac2cb-20a2-48e5-9d37-659e8726d21b",
   "metadata": {},
   "outputs": [],
   "source": [
    "ir_measures.calc_aggregate([RR, nDCG@10], qrels, df2)"
   ]
  },
  {
   "cell_type": "code",
   "execution_count": null,
   "id": "813fca66-da79-48ba-9ecc-7459b56cbd59",
   "metadata": {},
   "outputs": [],
   "source": []
  },
  {
   "cell_type": "code",
   "execution_count": null,
   "id": "c4a71b1f-fd61-4a71-b6ef-5895932895a8",
   "metadata": {},
   "outputs": [],
   "source": []
  },
  {
   "cell_type": "code",
   "execution_count": null,
   "id": "0199d0a2-fb23-47a9-b4e9-2843c4f79f04",
   "metadata": {},
   "outputs": [],
   "source": [
    "# df = pd.read_csv('/nfs/resources/cxj/retrievability-bias/bm25/df_bm25_monot5_30_.csv', index_col=0).reset_index()\n",
    "df = pd.read_csv('/nfs/resources/cxj/retrievability-bias/bm25/df_bm25_monot5_60_.csv', index_col=0).reset_index()"
   ]
  },
  {
   "cell_type": "code",
   "execution_count": null,
   "id": "39122b05-251c-44e5-8557-d3f13ea82861",
   "metadata": {},
   "outputs": [],
   "source": [
    "df.shape"
   ]
  },
  {
   "cell_type": "code",
   "execution_count": null,
   "id": "b382f6ac-92b6-4e08-80d5-3e9e9383a8b9",
   "metadata": {},
   "outputs": [],
   "source": [
    "calc_stats('bm25_monot5',df,60,topics)"
   ]
  },
  {
   "cell_type": "code",
   "execution_count": null,
   "id": "b2aae9ba-ebf8-4b37-a656-8ebfcb371ae4",
   "metadata": {},
   "outputs": [],
   "source": [
    "df2 = pd.DataFrame()\n",
    "df2['query_id'] = df['qid'].astype(str)\n",
    "df2['doc_id'] = df['docno'].astype(str)\n",
    "df2['score'] = df['score']"
   ]
  },
  {
   "cell_type": "code",
   "execution_count": null,
   "id": "c2f62d05-f5a6-47ea-9a72-bfcdf90f7d13",
   "metadata": {},
   "outputs": [],
   "source": [
    "ir_measures.calc_aggregate([RR, nDCG@10], qrels, df2)"
   ]
  },
  {
   "cell_type": "code",
   "execution_count": null,
   "id": "ce78bdcc-b831-497d-b8eb-11e04f79fd64",
   "metadata": {},
   "outputs": [],
   "source": [
    "# df = pd.read_csv('/nfs/resources/cxj/retrievability-bias/bm25/df_bm25_monot5_30_.csv', index_col=0).reset_index()\n",
    "# df = pd.read_csv('/nfs/resources/cxj/retrievability-bias/bm25/df_bm25_monot5_60_.csv', index_col=0).reset_index()\n",
    "df = pd.read_csv('/nfs/resources/cxj/retrievability-bias/bm25/df_bm25_monot5_90_.csv', index_col=0).reset_index()"
   ]
  },
  {
   "cell_type": "code",
   "execution_count": null,
   "id": "56e26ea8-3cdf-4d66-ad9a-1c01ed643fa0",
   "metadata": {},
   "outputs": [],
   "source": [
    "df.shape"
   ]
  },
  {
   "cell_type": "code",
   "execution_count": null,
   "id": "649d5ee6-a1c4-497d-85a4-8b9f79a4bfca",
   "metadata": {},
   "outputs": [],
   "source": [
    "calc_stats('bm25_monot5',df,90,topics)"
   ]
  },
  {
   "cell_type": "code",
   "execution_count": null,
   "id": "04238aad-8f02-4158-8a19-52ef969490c4",
   "metadata": {},
   "outputs": [],
   "source": [
    "df2 = pd.DataFrame()\n",
    "df2['query_id'] = df['qid'].astype(str)\n",
    "df2['doc_id'] = df['docno'].astype(str)\n",
    "df2['score'] = df['score']"
   ]
  },
  {
   "cell_type": "code",
   "execution_count": null,
   "id": "c890a83e-efd6-4435-8444-90eb927cab4e",
   "metadata": {},
   "outputs": [],
   "source": [
    "ir_measures.calc_aggregate([RR, nDCG@10], qrels, df2)"
   ]
  },
  {
   "cell_type": "code",
   "execution_count": null,
   "id": "75e6976b-f09b-4331-ad1e-2bb756111de3",
   "metadata": {},
   "outputs": [],
   "source": []
  },
  {
   "cell_type": "code",
   "execution_count": null,
   "id": "0b11329a-52aa-443e-8ef5-4763e9cbe9b8",
   "metadata": {},
   "outputs": [],
   "source": [
    "\n",
    "results_monot5_100.csv\n",
    "results_splade_100.csv\n",
    "results_colbert_100.csv\n",
    "results_bm25_colbert_100.csv\n",
    "\n"
   ]
  },
  {
   "cell_type": "code",
   "execution_count": null,
   "id": "1a1a0810-054c-4ced-b23c-c875aad4d840",
   "metadata": {},
   "outputs": [],
   "source": []
  },
  {
   "cell_type": "code",
   "execution_count": null,
   "id": "31fee931-1496-4bab-99fa-9641e11abbf6",
   "metadata": {},
   "outputs": [],
   "source": []
  },
  {
   "cell_type": "code",
   "execution_count": null,
   "id": "b9a1eb16-ec44-46a8-ac61-7f9a002aa684",
   "metadata": {},
   "outputs": [],
   "source": [
    "import tqdm"
   ]
  },
  {
   "cell_type": "code",
   "execution_count": null,
   "id": "52192200-b5b6-4bc1-ad04-88c98ffee207",
   "metadata": {},
   "outputs": [],
   "source": [
    "df = pd.read_csv('/nfs/resources/cxj/retrievability-bias/splade/df_splade_30.csv', index_col=0).reset_index()"
   ]
  },
  {
   "cell_type": "code",
   "execution_count": null,
   "id": "1725d8fc-20dc-40b3-9ca7-5ecb6feb70d4",
   "metadata": {},
   "outputs": [],
   "source": [
    "df.shape"
   ]
  },
  {
   "cell_type": "code",
   "execution_count": null,
   "id": "38d36903-53fd-4138-9990-3d826d1cf6b2",
   "metadata": {},
   "outputs": [],
   "source": [
    "calc_stats('splade',df,30,topics)"
   ]
  },
  {
   "cell_type": "code",
   "execution_count": null,
   "id": "8332be00-e66e-4c6a-bc86-5ccfec0754ed",
   "metadata": {},
   "outputs": [],
   "source": []
  },
  {
   "cell_type": "code",
   "execution_count": null,
   "id": "9e61c061-9d8f-477f-ab1c-ccfb99429339",
   "metadata": {},
   "outputs": [],
   "source": [
    "df = pd.read_csv('/nfs/datasets/cxj/retrievability-bias/results_bm25_100.csv', index_col=0).reset_index()\n",
    "calc_stats('bm25',df,0,topics)"
   ]
  },
  {
   "cell_type": "code",
   "execution_count": null,
   "id": "3fa78ac5-4c0d-483e-bf16-8ef5da68f455",
   "metadata": {},
   "outputs": [],
   "source": [
    "# df = pd.read_csv('/nfs/datasets/cxj/retrievability-bias/results_monot5_100.csv', index_col=0).reset_index()\n",
    "# calc_stats('bm25_monot5',df,0,topics)"
   ]
  },
  {
   "cell_type": "code",
   "execution_count": null,
   "id": "6536da6b-4ad9-4a68-910d-aa289734150e",
   "metadata": {},
   "outputs": [],
   "source": [
    "# df = pd.read_csv('/nfs/datasets/cxj/retrievability-bias/results_splade_100.csv', index_col=0).reset_index()\n",
    "# calc_stats('splade',df,0,topics)"
   ]
  },
  {
   "cell_type": "code",
   "execution_count": null,
   "id": "4b50dcef-c7ea-4d49-874e-86165f7a1128",
   "metadata": {},
   "outputs": [],
   "source": [
    "# df = pd.read_csv('/nfs/datasets/cxj/retrievability-bias/results_colbert_100.csv', index_col=0).reset_index()\n",
    "# calc_stats('colbert',df,0,topics)"
   ]
  },
  {
   "cell_type": "code",
   "execution_count": null,
   "id": "bacfab05-4f11-4f01-a4f3-97f74ed0ab52",
   "metadata": {},
   "outputs": [],
   "source": [
    "# df = pd.read_csv('/nfs/datasets/cxj/retrievability-bias/results_bm25_colbert_100.csv', index_col=0).reset_index()\n",
    "# calc_stats('bm25_colbert',df,0,topics)"
   ]
  },
  {
   "cell_type": "code",
   "execution_count": null,
   "id": "2d4ba81b-bde4-47c8-9372-472127983743",
   "metadata": {},
   "outputs": [],
   "source": []
  },
  {
   "cell_type": "code",
   "execution_count": null,
   "id": "50a3887c-9003-4d87-a6ad-0a20f621cfd3",
   "metadata": {},
   "outputs": [],
   "source": [
    "df2 = pd.DataFrame()\n",
    "df2['query_id'] = df['qid'].astype(str)\n",
    "df2['doc_id'] = df['docno'].astype(str)\n",
    "df2['score'] = df['score']"
   ]
  },
  {
   "cell_type": "code",
   "execution_count": null,
   "id": "100c8a04-380c-4827-a4fd-8e0dad7238e6",
   "metadata": {},
   "outputs": [],
   "source": [
    "ir_measures.calc_aggregate([RR, nDCG@10], qrels, df2)"
   ]
  },
  {
   "cell_type": "code",
   "execution_count": null,
   "id": "79028822-29a8-489b-997e-20e429287023",
   "metadata": {},
   "outputs": [],
   "source": []
  },
  {
   "cell_type": "code",
   "execution_count": null,
   "id": "c7bef42f-5f5f-4a74-a7ee-14ecc28fae19",
   "metadata": {},
   "outputs": [],
   "source": []
  },
  {
   "cell_type": "code",
   "execution_count": null,
   "id": "f773ed6b-f661-4966-8882-dd02c55c5b69",
   "metadata": {},
   "outputs": [],
   "source": [
    "df = pd.read_csv('/nfs/resources/cxj/retrievability-bias/bm25/df_bm25_30.csv', index_col=0).reset_index()\n",
    "# df = pd.read_csv('/nfs/resources/cxj/retrievability-bias/bm25/df_bm25_60.csv', index_col=0).reset_index()\n"
   ]
  },
  {
   "cell_type": "code",
   "execution_count": null,
   "id": "d2ce42b3-ed25-491c-bd88-00350d7b4149",
   "metadata": {},
   "outputs": [],
   "source": [
    "df.shape"
   ]
  },
  {
   "cell_type": "code",
   "execution_count": null,
   "id": "ac12cf91-fa69-4c73-a9e4-f5f64f220400",
   "metadata": {},
   "outputs": [],
   "source": [
    "df2 = pd.DataFrame()\n",
    "df2['query_id'] = df['qid'].astype(str)\n",
    "df2['doc_id'] = df['docno'].astype(str)\n",
    "df2['score'] = df['score']"
   ]
  },
  {
   "cell_type": "code",
   "execution_count": null,
   "id": "219a87b0-b882-4662-af07-2ca3891c7cb5",
   "metadata": {},
   "outputs": [],
   "source": [
    "calc_stats('bm25',df,60,topics)"
   ]
  },
  {
   "cell_type": "code",
   "execution_count": null,
   "id": "92c431f8-6305-4ab4-85a2-7ddc49901e7b",
   "metadata": {},
   "outputs": [],
   "source": [
    "ir_measures.calc_aggregate([RR, nDCG@10], qrels, df2)"
   ]
  },
  {
   "cell_type": "code",
   "execution_count": null,
   "id": "4f635c60-0dc1-4585-9cb0-b8adba22d91b",
   "metadata": {},
   "outputs": [],
   "source": []
  },
  {
   "cell_type": "code",
   "execution_count": null,
   "id": "f725e953-07f3-44b9-aa3f-caff64c128a2",
   "metadata": {},
   "outputs": [],
   "source": [
    "df = pd.read_csv('/nfs/resources/cxj/retrievability-bias/bm25/df_bm25_90.csv', index_col=0).reset_index()"
   ]
  },
  {
   "cell_type": "code",
   "execution_count": null,
   "id": "16d7f47c-3280-4c7a-8e18-ddc027d0ebd9",
   "metadata": {},
   "outputs": [],
   "source": [
    "df.shape"
   ]
  },
  {
   "cell_type": "code",
   "execution_count": null,
   "id": "c1de4682-8d7b-4ee3-a913-e34b440055d7",
   "metadata": {},
   "outputs": [],
   "source": [
    "df2 = pd.DataFrame()\n",
    "df2['query_id'] = df['qid'].astype(str)\n",
    "df2['doc_id'] = df['docno'].astype(str)\n",
    "df2['score'] = df['score']"
   ]
  },
  {
   "cell_type": "code",
   "execution_count": null,
   "id": "62158993-8a75-480f-847c-aab4ffc933a3",
   "metadata": {},
   "outputs": [],
   "source": [
    "calc_stats('bm25',df,90,topics)"
   ]
  },
  {
   "cell_type": "code",
   "execution_count": null,
   "id": "e79f2288-540b-4f23-8027-945366a4127a",
   "metadata": {},
   "outputs": [],
   "source": [
    "ir_measures.calc_aggregate([RR, nDCG@10], qrels, df2)"
   ]
  },
  {
   "cell_type": "code",
   "execution_count": null,
   "id": "42ba97af-1c1a-4da6-bd02-303ea3307de8",
   "metadata": {},
   "outputs": [],
   "source": []
  },
  {
   "cell_type": "code",
   "execution_count": null,
   "id": "2c17eadb-c4b0-4d02-a4b5-5d55e2708478",
   "metadata": {},
   "outputs": [],
   "source": []
  },
  {
   "cell_type": "code",
   "execution_count": null,
   "id": "b7fbe0f9-0df1-47c1-80b3-01dec624281a",
   "metadata": {},
   "outputs": [],
   "source": [
    "df = pd.read_csv('/nfs/resources/cxj/retrievability-bias/colbert/df_bm25_colbert_60_0.csv', index_col=0).reset_index()"
   ]
  },
  {
   "cell_type": "code",
   "execution_count": null,
   "id": "fe835371-e51a-4bb1-831b-d146f7e24507",
   "metadata": {},
   "outputs": [],
   "source": [
    "df.shape"
   ]
  },
  {
   "cell_type": "code",
   "execution_count": null,
   "id": "131e40b6-8d5c-4f7a-a30d-229f810aded3",
   "metadata": {},
   "outputs": [],
   "source": [
    "df2 = pd.DataFrame()\n",
    "df2['query_id'] = df['qid'].astype(str)\n",
    "df2['doc_id'] = df['docno'].astype(str)\n",
    "df2['score'] = df['score']"
   ]
  },
  {
   "cell_type": "code",
   "execution_count": null,
   "id": "5e053491-0209-45a6-a6d3-f615e9669c61",
   "metadata": {},
   "outputs": [],
   "source": [
    "calc_stats('bm25_colbert',df,60,topics)"
   ]
  },
  {
   "cell_type": "code",
   "execution_count": null,
   "id": "263aff25-598c-4da7-a98f-cbbdf42022a1",
   "metadata": {},
   "outputs": [],
   "source": [
    "ir_measures.calc_aggregate([nDCG@10, RR], qrels, df2)"
   ]
  },
  {
   "cell_type": "code",
   "execution_count": null,
   "id": "4d46607a-6546-47ee-9c63-7f40394adc05",
   "metadata": {},
   "outputs": [],
   "source": []
  },
  {
   "cell_type": "code",
   "execution_count": null,
   "id": "61de753b-0d56-4e24-ae49-f9e6a02875e5",
   "metadata": {},
   "outputs": [],
   "source": []
  },
  {
   "cell_type": "code",
   "execution_count": null,
   "id": "ad6b6d70-bbb3-468c-9986-53c8c8a1a910",
   "metadata": {},
   "outputs": [],
   "source": []
  },
  {
   "cell_type": "code",
   "execution_count": null,
   "id": "9bb9fea4-2525-473e-984c-d19fa8a92737",
   "metadata": {},
   "outputs": [],
   "source": [
    "df = pd.read_csv('/nfs/resources/cxj/retrievability-bias/colbert/df_bm25_colbert_90_0.csv', index_col=0).reset_index()"
   ]
  },
  {
   "cell_type": "code",
   "execution_count": null,
   "id": "454a0939-2c24-40d2-9f37-982ab855cf4a",
   "metadata": {},
   "outputs": [],
   "source": [
    "df.shape"
   ]
  },
  {
   "cell_type": "code",
   "execution_count": null,
   "id": "9ca375d8-b3cc-4f1f-a29c-d7bf099bfdde",
   "metadata": {},
   "outputs": [],
   "source": [
    "df2 = pd.DataFrame()\n",
    "df2['query_id'] = df['qid'].astype(str)\n",
    "df2['doc_id'] = df['docno'].astype(str)\n",
    "df2['score'] = df['score']"
   ]
  },
  {
   "cell_type": "code",
   "execution_count": null,
   "id": "a898a0e6-3611-4372-9b3b-912a1a094333",
   "metadata": {},
   "outputs": [],
   "source": [
    "calc_stats('bm25_colbert',df,90,topics)"
   ]
  },
  {
   "cell_type": "code",
   "execution_count": null,
   "id": "417da1ca-4655-4648-8fe6-308e852f300e",
   "metadata": {},
   "outputs": [],
   "source": [
    "ir_measures.calc_aggregate([nDCG@10, RR], qrels, df2)"
   ]
  },
  {
   "cell_type": "code",
   "execution_count": null,
   "id": "c6865727-3f52-4c28-b42a-491f85c41296",
   "metadata": {},
   "outputs": [],
   "source": []
  },
  {
   "cell_type": "code",
   "execution_count": null,
   "id": "8015d5c2-8348-41dc-a634-1f1d4612c06d",
   "metadata": {},
   "outputs": [],
   "source": [
    "df = pd.read_csv('/nfs/resources/cxj/retrievability-bias/splade/df_splade_30.csv', index_col=0).reset_index()"
   ]
  },
  {
   "cell_type": "code",
   "execution_count": null,
   "id": "5531f16c-b876-444f-b5e0-91069a877327",
   "metadata": {},
   "outputs": [],
   "source": [
    "df.shape"
   ]
  },
  {
   "cell_type": "code",
   "execution_count": null,
   "id": "0cde65bd-ec14-4ea5-8887-77b85a7e0a63",
   "metadata": {},
   "outputs": [],
   "source": [
    "\n",
    "df2 = pd.DataFrame()\n",
    "df2['query_id'] = df['qid'].astype(str)\n",
    "df2['doc_id'] = df['docno'].astype(str)\n",
    "df2['score'] = df['score']"
   ]
  },
  {
   "cell_type": "code",
   "execution_count": null,
   "id": "3f984645-96f4-46e0-a350-7cbf9d0f1888",
   "metadata": {},
   "outputs": [],
   "source": [
    "df.head()"
   ]
  },
  {
   "cell_type": "code",
   "execution_count": null,
   "id": "a98f5e68-ac74-4189-82cb-194197cfbeb9",
   "metadata": {},
   "outputs": [],
   "source": [
    "calc_stats('splade',df,30,topics)"
   ]
  },
  {
   "cell_type": "code",
   "execution_count": null,
   "id": "7dfe908d-f37a-461c-a5d7-ed3b567438d2",
   "metadata": {},
   "outputs": [],
   "source": [
    "ir_measures.calc_aggregate([RR, nDCG@10], qrels, df2)"
   ]
  },
  {
   "cell_type": "code",
   "execution_count": null,
   "id": "91ebd093-0cc2-4b6c-91b2-163ac1df59e8",
   "metadata": {},
   "outputs": [],
   "source": []
  },
  {
   "cell_type": "code",
   "execution_count": null,
   "id": "8445fc3f-3a70-4c6e-b17a-e16292e87afa",
   "metadata": {},
   "outputs": [],
   "source": [
    "df = pd.read_csv('/nfs/resources/cxj/retrievability-bias/splade/df_splade_60.csv', index_col=0).reset_index()\n"
   ]
  },
  {
   "cell_type": "code",
   "execution_count": null,
   "id": "99973989-e778-4edc-83ce-b909b52d47b3",
   "metadata": {},
   "outputs": [],
   "source": [
    "df.shape"
   ]
  },
  {
   "cell_type": "code",
   "execution_count": null,
   "id": "e539f94f-79fd-4ef6-ad98-1ed07ae3f41a",
   "metadata": {},
   "outputs": [],
   "source": [
    "df.head()"
   ]
  },
  {
   "cell_type": "code",
   "execution_count": null,
   "id": "8301ec04-d6e8-435a-b63c-6c43b6933b7f",
   "metadata": {},
   "outputs": [],
   "source": [
    "calc_stats('splade',df,60,topics)"
   ]
  },
  {
   "cell_type": "code",
   "execution_count": null,
   "id": "403adbb8-b77b-4cb5-b644-c49ee5bc2b1d",
   "metadata": {},
   "outputs": [],
   "source": [
    "df2 = pd.DataFrame()\n",
    "df2['query_id'] = df['qid'].astype(str)\n",
    "df2['doc_id'] = df['docno'].astype(str)\n",
    "df2['score'] = df['score']\n",
    "ir_measures.calc_aggregate([RR, nDCG@10], qrels, df2)"
   ]
  },
  {
   "cell_type": "code",
   "execution_count": null,
   "id": "4bac1eb9-565c-43d7-a675-6c4d10f73171",
   "metadata": {},
   "outputs": [],
   "source": []
  },
  {
   "cell_type": "code",
   "execution_count": null,
   "id": "abd32cca-6fe7-4fe7-bfbd-b0fd8360fa58",
   "metadata": {},
   "outputs": [],
   "source": [
    "df = pd.read_csv('./results/expt_results.csv')\n",
    "df = df.round(2)\n",
    "print(df)"
   ]
  },
  {
   "cell_type": "code",
   "execution_count": null,
   "id": "c2a9dff1-87d8-4c76-9ed7-2dd4e5346442",
   "metadata": {},
   "outputs": [],
   "source": [
    "x = [0, 30, 60, 90]"
   ]
  },
  {
   "cell_type": "code",
   "execution_count": null,
   "id": "6970b047-f17e-46b0-a354-40b966141ec3",
   "metadata": {},
   "outputs": [],
   "source": [
    "import matplotlib.pyplot as plt"
   ]
  },
  {
   "cell_type": "code",
   "execution_count": null,
   "id": "cc0e37c8-5137-4819-92b1-51db2b8a3b8c",
   "metadata": {},
   "outputs": [],
   "source": [
    "gini_bm25 = df.loc[df['Model'] == 'BM25',['Gini','Gini.1','Gini.2','Gini.3']]\n",
    "gini_monot5 = df.loc[df['Model'] == 'BM25>>Mono-T5',['Gini','Gini.1','Gini.2','Gini.3']]\n",
    "gini_Splade = df.loc[df['Model'] == 'Splade',['Gini','Gini.1','Gini.2','Gini.3']]\n",
    "gini_ColBERT = df.loc[df['Model'] == 'ColBERT',['Gini','Gini.1','Gini.2','Gini.3']]\n",
    "gini_bm25_ColBERT = df.loc[df['Model'] == 'BM25>>ColBERT',['Gini','Gini.1','Gini.2','Gini.3']]"
   ]
  },
  {
   "cell_type": "code",
   "execution_count": null,
   "id": "85cfd4f4-db1a-4e6d-bcc9-9774ed586505",
   "metadata": {},
   "outputs": [],
   "source": [
    "dfg_bm25 = df.loc[df['Model'] == 'BM25',['nDCG@10','nDCG@10.1','nDCG@10.2','nDCG@10.3']]\n",
    "dfg_monot5 = df.loc[df['Model'] == 'BM25>>Mono-T5',['nDCG@10','nDCG@10.1','nDCG@10.2','nDCG@10.3']]\n",
    "dfg_Splade = df.loc[df['Model'] == 'Splade',['nDCG@10','nDCG@10.1','nDCG@10.2','nDCG@10.3']]\n",
    "dfg_ColBERT = df.loc[df['Model'] == 'ColBERT',['nDCG@10','nDCG@10.1','nDCG@10.2','nDCG@10.3']]\n",
    "dfg_bm25_ColBERT = df.loc[df['Model'] == 'BM25>>ColBERT',['nDCG@10','nDCG@10.1','nDCG@10.2','nDCG@10.3']]"
   ]
  },
  {
   "cell_type": "code",
   "execution_count": null,
   "id": "0dd9d970-e980-4075-84cb-f49cda15b808",
   "metadata": {},
   "outputs": [],
   "source": [
    "fig, (ax1,ax2) = plt.subplots(nrows=1, ncols=2, figsize=(12, 4))\n",
    "plt.subplots_adjust(hspace=1, wspace=0.5, left=0.1)\n",
    "\n",
    "y = gini_bm25.values[0]\n",
    "ax1.plot(x,y,label='BM25', marker='o')\n",
    "y = gini_monot5.values[0]\n",
    "ax1.plot(x,y,label='BM25>>Mono-T5', marker='o')\n",
    "y = gini_Splade.values[0]\n",
    "ax1.plot(x,y,label='Splade', marker='o')\n",
    "# y = gini_ColBERT.values[0]\n",
    "# ax1.plot(x,y,label='ColBERT', marker='o')\n",
    "y = gini_bm25_ColBERT.values[0]\n",
    "ax1.plot(x,y,label='BM25>>ColBERT', marker='o')\n",
    "\n",
    "ax1.set_title('Fairness')\n",
    "ax1.set_xlabel('% pruned')\n",
    "ax1.set_ylabel('Gini Coefficient')\n",
    "ax1.set_xticks(ticks = [i for i in range(0,100,10)])\n",
    "ax1.legend(fontsize=8)\n",
    "\n",
    "y = dfg_bm25.values[0]\n",
    "ax2.plot(x,y,label='BM25', marker='o')\n",
    "y = dfg_monot5.values[0]\n",
    "ax2.plot(x,y,label='BM25>>Mono-T5', marker='o')\n",
    "y = dfg_Splade.values[0]\n",
    "ax2.plot(x,y,label='Splade', marker='o')\n",
    "# y = dfg_ColBERT.values[0]\n",
    "# ax2.plot(x,y,label='ColBERT', marker='o')\n",
    "y = dfg_bm25_ColBERT.values[0]\n",
    "ax2.plot(x,y,label='BM25>>ColBERT', marker='o')\n",
    "\n",
    "ax2.set_title('Effectiveness')\n",
    "ax2.set_xlabel('% pruned')\n",
    "ax2.set_ylabel('nDCG@10')\n",
    "ax2.set_xticks(ticks = [i for i in range(0,100,10)])\n",
    "ax2.legend(fontsize=8)\n",
    "\n",
    "plt.savefig('./results/all_results.pdf', format=\"pdf\", bbox_inches=\"tight\", pad_inches=0.3)\n",
    "plt.show()"
   ]
  },
  {
   "cell_type": "code",
   "execution_count": null,
   "id": "5d15b4b5-385f-48e0-ad90-c9b170dd46f4",
   "metadata": {},
   "outputs": [],
   "source": [
    "plt.figure(figsize=(7,5))\n",
    "y = dfg_bm25.values[0]\n",
    "plt.plot(x,y,label='BM25')\n",
    "y = dfg_monot5.values[0]\n",
    "plt.plot(x,y,label='BM25>>Mono-T5')\n",
    "y = dfg_Splade.values[0]\n",
    "plt.plot(x,y,label='Splade')\n",
    "# y = dfg_ColBERT.values[0]\n",
    "# plt.plot(x,y,label='ColBERT')\n",
    "y = dfg_bm25_ColBERT.values[0]\n",
    "plt.plot(x,y,label='BM25>>ColBERT')\n",
    "\n",
    "plt.title('Effectiveness When the Corpus Pruned')\n",
    "plt.xlabel('% pruned')\n",
    "plt.ylabel('nDCG@10')\n",
    "plt.xticks(ticks = [i for i in range(0,100,10)])\n",
    "plt.legend(fontsize=7)\n",
    "plt.show"
   ]
  },
  {
   "cell_type": "code",
   "execution_count": null,
   "id": "abb30c2e-21ee-4f75-bee5-444b8ffdf94a",
   "metadata": {},
   "outputs": [],
   "source": []
  },
  {
   "cell_type": "code",
   "execution_count": null,
   "id": "cfd28d7a-b363-432d-b62c-da729ebecd65",
   "metadata": {},
   "outputs": [],
   "source": [
    "# df.plot(x='Gini', y='nDCG@10', kind='line', title='Sales Over Years',xlabel)\n",
    "\n",
    "# import seaborn as sns\n",
    "# import matplotlib.pyplot as plt\n",
    "\n",
    "# sns.lineplot(data=df, x='Gini', y='nDCG@10')\n",
    "# plt.title('Sales Over Years')\n",
    "# plt.ylabel('Sales (in Units)')\n",
    "# plt.show()"
   ]
  },
  {
   "cell_type": "code",
   "execution_count": null,
   "id": "882e48c9-8112-458b-86a2-fb9b10f67609",
   "metadata": {},
   "outputs": [],
   "source": []
  },
  {
   "cell_type": "code",
   "execution_count": null,
   "id": "7b8ace81-a5e0-4dc5-967c-8503a6f2be0b",
   "metadata": {},
   "outputs": [],
   "source": [
    "sampled_queries = pd.read_csv('./results/smapled_dev_queries_50.csv', index_col=0).reset_index()"
   ]
  },
  {
   "cell_type": "code",
   "execution_count": null,
   "id": "0fe2fd7b-440e-49c0-a662-bd32b4157184",
   "metadata": {},
   "outputs": [],
   "source": [
    "sampled_queries.head(100)"
   ]
  },
  {
   "cell_type": "code",
   "execution_count": null,
   "id": "efb813a9-5914-4548-bda7-4dd12108c96a",
   "metadata": {},
   "outputs": [],
   "source": [
    "grouped = sampled_queries.groupby('cluster')\n",
    "print(len(grouped.groups.keys()))"
   ]
  },
  {
   "cell_type": "code",
   "execution_count": null,
   "id": "ba45b615-79cd-4859-9239-96731e3bdebc",
   "metadata": {},
   "outputs": [],
   "source": []
  },
  {
   "cell_type": "code",
   "execution_count": null,
   "id": "9b33ca18-cc12-4725-8100-b3b8ffe036ee",
   "metadata": {},
   "outputs": [],
   "source": []
  },
  {
   "cell_type": "code",
   "execution_count": null,
   "id": "e75b9b38-fb7b-4288-a02a-8e629e540cac",
   "metadata": {},
   "outputs": [],
   "source": [
    "import statistics\n",
    "def calc_stats_v2(modelname,df,scoredF, queries_df, cluster_id):\n",
    "    # if not os.path.exists(scoredF):\n",
    "    qids_to_keep = queries_df['qid'].to_list()\n",
    "    mask = np.logical_or.reduce([df[\"qid\"] == val for val in qids_to_keep])\n",
    "    df_filtered = df[mask]\n",
    "    grouped = df_filtered.groupby(\"docno\")[['r_score']].sum().reset_index()\n",
    "    # grouped.to_csv(scoredF,index=False)\n",
    "\n",
    "    scores = grouped['r_score'].to_list()\n",
    "\n",
    "    if len(scores) == 0:\n",
    "        print(queries_df)\n",
    "        # return 0.0, 0.0, 0.0\n",
    "        return 0\n",
    "    else:\n",
    "        return 1\n",
    "    # mean = statistics.mean(scores)\n",
    "    # std_dev = statistics.stdev(scores)\n",
    "    # gini_value = Gini(scores)\n",
    "    # return mean, std_dev, gini_value\n",
    "\n"
   ]
  },
  {
   "cell_type": "code",
   "execution_count": null,
   "id": "56c02956-a622-4a50-a965-f2662a2e9847",
   "metadata": {},
   "outputs": [],
   "source": []
  },
  {
   "cell_type": "code",
   "execution_count": null,
   "id": "984824a9-ad5c-4e33-a73f-d39fe779d9d6",
   "metadata": {},
   "outputs": [],
   "source": [
    "threshold = 30\n",
    "\n",
    "import sys\n",
    "modelname = 'bm25'\n",
    "\n",
    "csv2 = f'/nfs/resources/cxj/retrievability-bias/{modelname}/df_{modelname}_rscore_{threshold}.csv'\n",
    "df_bm25 = pd.read_csv(csv2, index_col=0).reset_index()\n",
    "\n"
   ]
  },
  {
   "cell_type": "code",
   "execution_count": null,
   "id": "278dff8d-e250-4cb1-b14a-9d666ce1cea8",
   "metadata": {},
   "outputs": [],
   "source": [
    "modelname = 'colbert'\n",
    "csv2 = f'/nfs/resources/cxj/retrievability-bias/{modelname}/df_{modelname}_rscore_{threshold}.csv'\n",
    "df_colbert = pd.read_csv(csv2, index_col=0).reset_index()\n",
    "\n",
    "sampled_queries = pd.read_csv(f'{nfs_dir}/sampled_dev_queries_50.csv', index_col=0).reset_index()\n",
    "grouped = sampled_queries.groupby('cluster')\n",
    "\n",
    "for cluster_id, queries_df in grouped:\n",
    "    res_q = calc_stats_v2(modelname, df_colbert, scoredF, queries_df, cluster_id)\n",
    "    if res_q == 0:\n",
    "        break\n",
    "\n",
    "\n"
   ]
  },
  {
   "cell_type": "code",
   "execution_count": null,
   "id": "f345d764-7bcd-4550-a9d8-a0d7cfefd9e4",
   "metadata": {},
   "outputs": [],
   "source": []
  },
  {
   "cell_type": "code",
   "execution_count": null,
   "id": "1456fa59-46a0-48c0-ad20-df593c66bc18",
   "metadata": {},
   "outputs": [],
   "source": [
    "modelname = 'bm25_colbert'\n",
    "csv2 = f'/nfs/resources/cxj/retrievability-bias/{modelname}/df_{modelname}_rscore_{threshold}.csv'\n",
    "df_bm25_colbert = pd.read_csv(csv2, index_col=0).reset_index()\n",
    "\n",
    "sampled_queries = pd.read_csv(f'{nfs_dir}/sampled_dev_queries_50.csv', index_col=0).reset_index()\n",
    "grouped = sampled_queries.groupby('cluster')\n",
    "\n",
    "for cluster_id, queries_df in grouped:\n",
    "    res_q = calc_stats_v2(modelname, df_bm25_colbert, scoredF, queries_df, cluster_id)\n",
    "    if res_q == 0:\n",
    "        break\n"
   ]
  },
  {
   "cell_type": "code",
   "execution_count": null,
   "id": "d5b81ed0-36dc-4e49-b359-6a25557079fb",
   "metadata": {},
   "outputs": [],
   "source": [
    "df_bm25.dtypes"
   ]
  },
  {
   "cell_type": "code",
   "execution_count": null,
   "id": "f60af784-0bfa-420c-b398-3629b45d18b8",
   "metadata": {},
   "outputs": [],
   "source": [
    "df_bm25[df_bm25['qid'].isin([831537,704496])]"
   ]
  },
  {
   "cell_type": "code",
   "execution_count": null,
   "id": "51410c5a-b0e8-44b9-89f3-5df04b03c7e2",
   "metadata": {},
   "outputs": [],
   "source": [
    "df_bm25_colbert[df_bm25_colbert['qid'].isin([831537,704496])]"
   ]
  },
  {
   "cell_type": "code",
   "execution_count": null,
   "id": "c2c85a34-3406-4ad0-9761-a0f46aea1489",
   "metadata": {},
   "outputs": [],
   "source": [
    "df_bm25_colbert['qid'].max()"
   ]
  },
  {
   "cell_type": "code",
   "execution_count": null,
   "id": "dfe4e5c2-4b54-481b-98c1-4545f0ca5278",
   "metadata": {
    "jupyter": {
     "is_executing": true
    }
   },
   "outputs": [],
   "source": [
    "bm25>>colbert\n",
    "\n",
    "qid                        query  cluster\n",
    "8114  831537  what is the meaning of tank      208\n",
    "8115  704496             what is a turret      208"
   ]
  },
  {
   "cell_type": "code",
   "execution_count": null,
   "id": "ec95228f-73aa-4e1d-a0df-54bda6995b4e",
   "metadata": {},
   "outputs": [],
   "source": [
    "df[df['qid'].isin([831537,704496])]"
   ]
  },
  {
   "cell_type": "code",
   "execution_count": null,
   "id": "4ee039c0-dad6-4d63-a9f9-8c56177c3815",
   "metadata": {},
   "outputs": [],
   "source": []
  },
  {
   "cell_type": "code",
   "execution_count": null,
   "id": "158bec0c-6bf8-4e23-af01-3767d7e8c30a",
   "metadata": {},
   "outputs": [],
   "source": []
  },
  {
   "cell_type": "code",
   "execution_count": null,
   "id": "cf633e4e-e18a-4e87-8249-980cf4afb315",
   "metadata": {},
   "outputs": [],
   "source": []
  },
  {
   "cell_type": "code",
   "execution_count": null,
   "id": "0335ce35-e45d-4527-96ee-aa1c3b58d73d",
   "metadata": {},
   "outputs": [],
   "source": [
    "         qid                             query  cluster\n",
    "177   434309               ki kocho definition        5\n",
    "178   990128                       who is kipo        5\n",
    "179  1052311                      what is kilo        5\n",
    "180   990146                   who is kiki dee        5\n",
    "181  1082530  what does the word kilogram mean        5\n",
    "182   688210        what is a kio genetic diet        5\n",
    "183  1071614                   what is a kilim        5\n",
    "184  1054192             what is having a kiki        5\n",
    "185   997449                where is the kihei        5\n",
    "186  1079014                     chiki meaning        5\n",
    "187   763329                      what is kief        5\n",
    "188   174612                      doki meaning        5\n",
    "189  1077008                     chito meaning        5\n",
    "190   133194              definition of chipko        5"
   ]
  },
  {
   "cell_type": "code",
   "execution_count": null,
   "id": "1832672f-8352-41bf-ad3e-de4dd01c69a2",
   "metadata": {},
   "outputs": [],
   "source": [
    "df_colbert[df_colbert['qid'].isin([434309,990128])]"
   ]
  },
  {
   "cell_type": "code",
   "execution_count": null,
   "id": "a0548df1-c47f-4e06-a11a-ad5428dffca9",
   "metadata": {},
   "outputs": [],
   "source": [
    "df_colbert.head()"
   ]
  },
  {
   "cell_type": "code",
   "execution_count": null,
   "id": "6ab95871-2c9c-4c22-bccb-461b9e5bbda1",
   "metadata": {},
   "outputs": [],
   "source": [
    "df[df['qid'].isin([434309,990128])]"
   ]
  },
  {
   "cell_type": "code",
   "execution_count": null,
   "id": "499c3543acb923e6",
   "metadata": {},
   "outputs": [],
   "source": []
  },
  {
   "cell_type": "code",
   "execution_count": null,
   "id": "ca688465510ccccc",
   "metadata": {
    "ExecuteTime": {
     "end_time": "2025-04-19T23:31:49.186267Z",
     "start_time": "2025-04-19T23:31:37.351621Z"
    }
   },
   "outputs": [],
   "source": [
    "import pyterrier as pt\n",
    "if not pt.java.started():\n",
    "    pt.java.init()"
   ]
  },
  {
   "cell_type": "code",
   "execution_count": null,
   "id": "ec6c94e5-58d9-4534-b52d-2547941cf51f",
   "metadata": {
    "ExecuteTime": {
     "end_time": "2025-04-19T23:31:51.893177Z",
     "start_time": "2025-04-19T23:31:49.191367Z"
    }
   },
   "outputs": [],
   "source": [
    "\n",
    "\n",
    "queries = queries.rename(columns={'query_id':'qid','text': 'query'})\n",
    "\n",
    "# queries_dev = [{\"_id\": q.query_id, \"text\": q.text} for q in queries[:50]]\n",
    "\n",
    "index = pt.IndexFactory.of(\"/nfs/datasets/cxj/retrievability-bias/data/bm25/t5-base-msmarco-epoch-5-nostemmer-nostopwords-index--4.570959091186523\")\n",
    "bm25 = pt.terrier.Retriever(index, wmodel=\"BM25\") % 100\n",
    "df = bm25.transform(queries[:50])"
   ]
  },
  {
   "cell_type": "code",
   "execution_count": null,
   "id": "244c6c126eb370e",
   "metadata": {},
   "outputs": [],
   "source": [
    "df.head()"
   ]
  },
  {
   "cell_type": "code",
   "execution_count": null,
   "id": "642cda0004377429",
   "metadata": {},
   "outputs": [],
   "source": []
  }
 ],
 "metadata": {
  "kernelspec": {
   "display_name": "Python [conda env:exposure-fairness3.10.15]",
   "language": "python",
   "name": "conda-env-exposure-fairness3.10.15-py"
  },
  "language_info": {
   "codemirror_mode": {
    "name": "ipython",
    "version": 3
   },
   "file_extension": ".py",
   "mimetype": "text/x-python",
   "name": "python",
   "nbconvert_exporter": "python",
   "pygments_lexer": "ipython3",
   "version": "3.10.15"
  }
 },
 "nbformat": 4,
 "nbformat_minor": 5
}
