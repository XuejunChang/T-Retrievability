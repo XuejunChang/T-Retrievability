{
 "cells": [
  {
   "cell_type": "code",
   "id": "ebfc404f-f2d4-4dfe-8fe0-005cbf4c296c",
   "metadata": {
    "ExecuteTime": {
     "end_time": "2025-08-18T11:10:07.955522Z",
     "start_time": "2025-08-18T11:10:07.197747Z"
    }
   },
   "source": [
    "import warnings\n",
    "import os\n",
    "# os.chdir(f'/mnt/primary/exposure-fairness/')\n",
    "import config\n",
    "warnings.filterwarnings('ignore')\n",
    "import pyterrier as pt\n",
    "if not pt.started():\n",
    "    pt.init()\n",
    "\n",
    "import pandas as pd\n",
    "pd.set_option('display.max_columns', None)\n",
    "pd.set_option('display.max_rows', None)\n",
    "pd.set_option('display.max_colwidth', 100)\n",
    "import matplotlib.pyplot as plt\n",
    "from matplotlib.pyplot import MultipleLocator"
   ],
   "outputs": [],
   "execution_count": 3
  },
  {
   "cell_type": "code",
   "id": "6d48484f-a38e-4448-b68c-bd2729dc1806",
   "metadata": {},
   "source": [
    "# bm25 = df[(df['modelname'] == 'bm25') & (df['threshold'] == 0)]\n",
    "# gini_bm25 = df.loc[df['Model'] == 'BM25',['Gini','Gini.1','Gini.2','Gini.3']]"
   ],
   "outputs": [],
   "execution_count": null
  },
  {
   "cell_type": "code",
   "id": "2da33dfc-cebd-47d3-bf3c-85f7d03b6c59",
   "metadata": {},
   "source": [
    "# grouped_df = df2.groupby('modelname')\n",
    "# grouped_df.get_group(('bm25',500))"
   ],
   "outputs": [],
   "execution_count": null
  },
  {
   "cell_type": "code",
   "id": "1daeddac-01c0-46ed-a7ec-4871ee607248",
   "metadata": {
    "ExecuteTime": {
     "end_time": "2025-08-18T11:10:15.897778Z",
     "start_time": "2025-08-18T11:10:15.893695Z"
    }
   },
   "source": [
    "def sub_plot(plt,title,col, ylabel, km=None):\n",
    "    # bm25 = df[(df['modelname'] == 'bm25') & (df['threshold'] == threshold)]\n",
    "    # bm25_monot5 = df[(df['modelname'] == 'bm25_monot5') & (df['threshold'] == threshold)]\n",
    "    # splade = df[(df['modelname'] == 'splade') & (df['threshold'] == threshold)]\n",
    "    # tctcolbert = df[(df['modelname'] == 'tctcolbert') & (df['threshold'] == threshold)]\n",
    "    # bm25_tctcolbert = df[(df['modelname'] == 'bm25_tctcolbert') & (df['threshold'] == threshold)]\n",
    "\n",
    "    modelname = \"bm25\"\n",
    "    result_csv_path = f'{config.data_dir}/v3/{modelname}_{config.dataset_name}_{config.topics_name}_{config.retrieve_num}_models_granularities_{km}.csv'\n",
    "    bm25 = pd.read_csv(result_csv_path, index_col=0).reset_index()\n",
    "\n",
    "    modelname = \"splade\"\n",
    "    result_csv_path = f'{config.data_dir}/v3/{modelname}_{config.dataset_name}_{config.topics_name}_{config.retrieve_num}_models_granularities_{km}.csv'\n",
    "    splade = pd.read_csv(result_csv_path, index_col=0).reset_index()\n",
    "\n",
    "    modelname = \"tctcolbert\"\n",
    "    result_csv_path = f'{config.data_dir}/v3/{modelname}_{config.dataset_name}_{config.topics_name}_{config.retrieve_num}_models_granularities_{km}.csv'\n",
    "    tctcolbert = pd.read_csv(result_csv_path, index_col=0).reset_index()\n",
    "\n",
    "    modelname = \"bm25_tctcolbert\"\n",
    "    result_csv_path = f'{config.data_dir}/v3/{modelname}_{config.dataset_name}_{config.topics_name}_{config.retrieve_num}_models_granularities_{km}.csv'\n",
    "    bm25_tctcolbert = pd.read_csv(result_csv_path, index_col=0).reset_index()\n",
    "\n",
    "    modelname = \"bm25_monot5\"\n",
    "    result_csv_path = f'{config.data_dir}/v3/{modelname}_{config.dataset_name}_{config.topics_name}_{config.retrieve_num}_models_granularities_{km}.csv'\n",
    "    bm25_monot5 = pd.read_csv(result_csv_path, index_col=0).reset_index()\n",
    "\n",
    "    x = [1,2,3,4,5]\n",
    "    # col = 'min_gini'\n",
    "    y = bm25[col]\n",
    "    line1, = plt.plot(x,y,label='BM25', marker='.', markersize=12)\n",
    "    y = splade[col]\n",
    "    line2, = plt.plot(x,y,label='SPLADE', marker='.', markersize=12)\n",
    "    y = tctcolbert[col]\n",
    "    line3, = plt.plot(x,y,label='TCT-ColBERT', marker='.', markersize=12)\n",
    "    y = bm25_tctcolbert[col]\n",
    "    line4, = plt.plot(x,y,label='BM25>>TCT-ColBERT', marker='.', markersize=12)\n",
    "    y = bm25_monot5[col]\n",
    "    line5, = plt.plot(x,y,label='BM25>>Mono-T5', marker='.', markersize=12)\n",
    "\n",
    "    # plt.set_title('Exposure Fairness')\n",
    "    plt.set_title(title, fontsize=16)\n",
    "    plt.set_xlabel(r'#Groups ($K$)', fontsize=16)\n",
    "    \n",
    "    plt.set_ylabel(ylabel, fontsize=16)\n",
    "    plt.set_xticks(ticks = x, labels = ['500', '1000', '2000', '5000', '10000'], fontsize=16)\n",
    "    # plt.set_yticks(ticks = y, labels = [f'{i:.2f}' for i in y])\n",
    "    return line1, line2,line3,line4,line5"
   ],
   "outputs": [],
   "execution_count": 4
  },
  {
   "cell_type": "code",
   "id": "0dd9d970-e980-4075-84cb-f49cda15b808",
   "metadata": {},
   "source": [
    "# fig, (ax0,ax1,ax2) = plt.subplots(nrows=1, ncols=3, figsize=(15, 4))\n",
    "# # plt.subplots_adjust(hspace=1, wspace=0.2, left=0.1)\n",
    "# plt.subplots_adjust(hspace=1, wspace=0.2, left=0, right=1, bottom=0)\n",
    "\n",
    "# ylabel = 'Minimal (Gini), Average (Gini), Maximum (Gini)'\n",
    "# km = 'faiss'\n",
    "# col = 'min_gini'\n",
    "# ax0.xaxis.set_major_locator(MultipleLocator(1))\n",
    "# ax0.yaxis.set_major_locator(MultipleLocator(0.03))\n",
    "# # ax0.set_xlim(1,5)\n",
    "# ax0.set_ylim(0.135,0.21)\n",
    "# g0 = sub_plot(ax0,None,col, ylabel,km=km)\n",
    "\n",
    "# col = 'mean_gini'\n",
    "# ax1.xaxis.set_major_locator(MultipleLocator(1))\n",
    "# ax1.yaxis.set_major_locator(MultipleLocator(0.03))\n",
    "# # ax1.set_xlim(1,5)\n",
    "# ax1.set_ylim(0.23,0.315)\n",
    "# g1 = sub_plot(ax1,None,col, ylabel,km=km)\n",
    "\n",
    "# col = 'max_gini'\n",
    "# ax2.xaxis.set_major_locator(MultipleLocator(1))\n",
    "# ax2.yaxis.set_major_locator(MultipleLocator(0.05))\n",
    "# # ax2.set_xlim(1,5)\n",
    "# ax2.set_ylim(0.48,0.77)\n",
    "# g2 = sub_plot(ax2,None,col, ylabel,km=km)\n",
    "\n",
    "# g = list(g0 + g1 + g2)\n",
    "\n",
    "# fig.legend(handles=g0, loc='upper center', bbox_to_anchor=(0.5, 1.12), ncol=10, fontsize=16)\n",
    "# plt.savefig(f'{config.prog_dir}/aggr_gini_{km}.pdf', format=\"pdf\", bbox_inches=\"tight\", pad_inches=0)\n",
    "# plt.show()"
   ],
   "outputs": [],
   "execution_count": null
  },
  {
   "cell_type": "code",
   "id": "3e5aa0f1-2a39-4616-aadd-c093db7c45d8",
   "metadata": {
    "ExecuteTime": {
     "end_time": "2025-08-18T11:10:25.728574Z",
     "start_time": "2025-08-18T11:10:25.476798Z"
    }
   },
   "source": [
    "km = 'scikit_dense'\n",
    "\n",
    "fig, (ax0,ax1,ax2) = plt.subplots(nrows=1, ncols=3, figsize=(15, 4))\n",
    "# plt.subplots_adjust(hspace=1, wspace=0.2, left=0.1)\n",
    "plt.subplots_adjust(hspace=1, wspace=0.2, left=0, right=1, bottom=0)\n",
    "\n",
    "col = 'min_gini'\n",
    "ylabel = 'Minimum Gini'\n",
    "ax0.xaxis.set_major_locator(MultipleLocator(1))\n",
    "ax0.yaxis.set_major_locator(MultipleLocator(0.01))\n",
    "# ax0.set_xlim(1,5)\n",
    "ax0.set_ylim(0.155,0.23)\n",
    "g0 = sub_plot(ax0,None,col, ylabel,km=km)\n",
    "\n",
    "col = 'mean_gini'\n",
    "ylabel = 'Average Gini'\n",
    "ax1.xaxis.set_major_locator(MultipleLocator(1))\n",
    "ax1.yaxis.set_major_locator(MultipleLocator(0.01))\n",
    "# ax1.set_xlim(1,5)\n",
    "ax1.set_ylim(0.26,0.33)\n",
    "g1 = sub_plot(ax1,None,col, ylabel,km=km)\n",
    "\n",
    "col = 'max_gini'\n",
    "ylabel = 'Maximum Gini'\n",
    "ax2.xaxis.set_major_locator(MultipleLocator(1))\n",
    "ax2.yaxis.set_major_locator(MultipleLocator(0.05))\n",
    "# ax2.set_xlim(1,5)\n",
    "ax2.set_ylim(0.48,0.77)\n",
    "g2 = sub_plot(ax2,None,col, ylabel,km=km)\n",
    "\n",
    "g = list(g0 + g1 + g2)\n",
    "\n",
    "fig.legend(handles=g0, loc='upper center', bbox_to_anchor=(0.5, 1.12), ncol=10, fontsize=16)\n",
    "plt.savefig(f'{config.prog_dir}/aggr_gini_{km}.pdf', format=\"pdf\", bbox_inches=\"tight\", pad_inches=0)\n",
    "plt.show()"
   ],
   "outputs": [
    {
     "ename": "FileNotFoundError",
     "evalue": "[Errno 2] No such file or directory: '/home/xuejunchang/OneDrive/PhD/projects/mnt/primary/exposure-fairness-extend/data//v3/bm25_msmarco-passage_dev_100_models_granularities_scikit_dense.csv'",
     "output_type": "error",
     "traceback": [
      "\u001B[0;31m---------------------------------------------------------------------------\u001B[0m",
      "\u001B[0;31mFileNotFoundError\u001B[0m                         Traceback (most recent call last)",
      "Cell \u001B[0;32mIn[5], line 13\u001B[0m\n\u001B[1;32m     11\u001B[0m \u001B[38;5;66;03m# ax0.set_xlim(1,5)\u001B[39;00m\n\u001B[1;32m     12\u001B[0m ax0\u001B[38;5;241m.\u001B[39mset_ylim(\u001B[38;5;241m0.155\u001B[39m,\u001B[38;5;241m0.23\u001B[39m)\n\u001B[0;32m---> 13\u001B[0m g0 \u001B[38;5;241m=\u001B[39m \u001B[43msub_plot\u001B[49m\u001B[43m(\u001B[49m\u001B[43max0\u001B[49m\u001B[43m,\u001B[49m\u001B[38;5;28;43;01mNone\u001B[39;49;00m\u001B[43m,\u001B[49m\u001B[43mcol\u001B[49m\u001B[43m,\u001B[49m\u001B[43m \u001B[49m\u001B[43mylabel\u001B[49m\u001B[43m,\u001B[49m\u001B[43mkm\u001B[49m\u001B[38;5;241;43m=\u001B[39;49m\u001B[43mkm\u001B[49m\u001B[43m)\u001B[49m\n\u001B[1;32m     15\u001B[0m col \u001B[38;5;241m=\u001B[39m \u001B[38;5;124m'\u001B[39m\u001B[38;5;124mmean_gini\u001B[39m\u001B[38;5;124m'\u001B[39m\n\u001B[1;32m     16\u001B[0m ylabel \u001B[38;5;241m=\u001B[39m \u001B[38;5;124m'\u001B[39m\u001B[38;5;124mAverage Gini\u001B[39m\u001B[38;5;124m'\u001B[39m\n",
      "Cell \u001B[0;32mIn[4], line 10\u001B[0m, in \u001B[0;36msub_plot\u001B[0;34m(plt, title, col, ylabel, km)\u001B[0m\n\u001B[1;32m      8\u001B[0m modelname \u001B[38;5;241m=\u001B[39m \u001B[38;5;124m\"\u001B[39m\u001B[38;5;124mbm25\u001B[39m\u001B[38;5;124m\"\u001B[39m\n\u001B[1;32m      9\u001B[0m result_csv_path \u001B[38;5;241m=\u001B[39m \u001B[38;5;124mf\u001B[39m\u001B[38;5;124m'\u001B[39m\u001B[38;5;132;01m{\u001B[39;00mconfig\u001B[38;5;241m.\u001B[39mdata_dir\u001B[38;5;132;01m}\u001B[39;00m\u001B[38;5;124m/v3/\u001B[39m\u001B[38;5;132;01m{\u001B[39;00mmodelname\u001B[38;5;132;01m}\u001B[39;00m\u001B[38;5;124m_\u001B[39m\u001B[38;5;132;01m{\u001B[39;00mconfig\u001B[38;5;241m.\u001B[39mdataset_name\u001B[38;5;132;01m}\u001B[39;00m\u001B[38;5;124m_\u001B[39m\u001B[38;5;132;01m{\u001B[39;00mconfig\u001B[38;5;241m.\u001B[39mtopics_name\u001B[38;5;132;01m}\u001B[39;00m\u001B[38;5;124m_\u001B[39m\u001B[38;5;132;01m{\u001B[39;00mconfig\u001B[38;5;241m.\u001B[39mretrieve_num\u001B[38;5;132;01m}\u001B[39;00m\u001B[38;5;124m_models_granularities_\u001B[39m\u001B[38;5;132;01m{\u001B[39;00mkm\u001B[38;5;132;01m}\u001B[39;00m\u001B[38;5;124m.csv\u001B[39m\u001B[38;5;124m'\u001B[39m\n\u001B[0;32m---> 10\u001B[0m bm25 \u001B[38;5;241m=\u001B[39m \u001B[43mpd\u001B[49m\u001B[38;5;241;43m.\u001B[39;49m\u001B[43mread_csv\u001B[49m\u001B[43m(\u001B[49m\u001B[43mresult_csv_path\u001B[49m\u001B[43m,\u001B[49m\u001B[43m \u001B[49m\u001B[43mindex_col\u001B[49m\u001B[38;5;241;43m=\u001B[39;49m\u001B[38;5;241;43m0\u001B[39;49m\u001B[43m)\u001B[49m\u001B[38;5;241m.\u001B[39mreset_index()\n\u001B[1;32m     12\u001B[0m modelname \u001B[38;5;241m=\u001B[39m \u001B[38;5;124m\"\u001B[39m\u001B[38;5;124msplade\u001B[39m\u001B[38;5;124m\"\u001B[39m\n\u001B[1;32m     13\u001B[0m result_csv_path \u001B[38;5;241m=\u001B[39m \u001B[38;5;124mf\u001B[39m\u001B[38;5;124m'\u001B[39m\u001B[38;5;132;01m{\u001B[39;00mconfig\u001B[38;5;241m.\u001B[39mdata_dir\u001B[38;5;132;01m}\u001B[39;00m\u001B[38;5;124m/v3/\u001B[39m\u001B[38;5;132;01m{\u001B[39;00mmodelname\u001B[38;5;132;01m}\u001B[39;00m\u001B[38;5;124m_\u001B[39m\u001B[38;5;132;01m{\u001B[39;00mconfig\u001B[38;5;241m.\u001B[39mdataset_name\u001B[38;5;132;01m}\u001B[39;00m\u001B[38;5;124m_\u001B[39m\u001B[38;5;132;01m{\u001B[39;00mconfig\u001B[38;5;241m.\u001B[39mtopics_name\u001B[38;5;132;01m}\u001B[39;00m\u001B[38;5;124m_\u001B[39m\u001B[38;5;132;01m{\u001B[39;00mconfig\u001B[38;5;241m.\u001B[39mretrieve_num\u001B[38;5;132;01m}\u001B[39;00m\u001B[38;5;124m_models_granularities_\u001B[39m\u001B[38;5;132;01m{\u001B[39;00mkm\u001B[38;5;132;01m}\u001B[39;00m\u001B[38;5;124m.csv\u001B[39m\u001B[38;5;124m'\u001B[39m\n",
      "File \u001B[0;32m~/miniconda3/lib/python3.10/site-packages/pandas/io/parsers/readers.py:1026\u001B[0m, in \u001B[0;36mread_csv\u001B[0;34m(filepath_or_buffer, sep, delimiter, header, names, index_col, usecols, dtype, engine, converters, true_values, false_values, skipinitialspace, skiprows, skipfooter, nrows, na_values, keep_default_na, na_filter, verbose, skip_blank_lines, parse_dates, infer_datetime_format, keep_date_col, date_parser, date_format, dayfirst, cache_dates, iterator, chunksize, compression, thousands, decimal, lineterminator, quotechar, quoting, doublequote, escapechar, comment, encoding, encoding_errors, dialect, on_bad_lines, delim_whitespace, low_memory, memory_map, float_precision, storage_options, dtype_backend)\u001B[0m\n\u001B[1;32m   1013\u001B[0m kwds_defaults \u001B[38;5;241m=\u001B[39m _refine_defaults_read(\n\u001B[1;32m   1014\u001B[0m     dialect,\n\u001B[1;32m   1015\u001B[0m     delimiter,\n\u001B[0;32m   (...)\u001B[0m\n\u001B[1;32m   1022\u001B[0m     dtype_backend\u001B[38;5;241m=\u001B[39mdtype_backend,\n\u001B[1;32m   1023\u001B[0m )\n\u001B[1;32m   1024\u001B[0m kwds\u001B[38;5;241m.\u001B[39mupdate(kwds_defaults)\n\u001B[0;32m-> 1026\u001B[0m \u001B[38;5;28;01mreturn\u001B[39;00m \u001B[43m_read\u001B[49m\u001B[43m(\u001B[49m\u001B[43mfilepath_or_buffer\u001B[49m\u001B[43m,\u001B[49m\u001B[43m \u001B[49m\u001B[43mkwds\u001B[49m\u001B[43m)\u001B[49m\n",
      "File \u001B[0;32m~/miniconda3/lib/python3.10/site-packages/pandas/io/parsers/readers.py:620\u001B[0m, in \u001B[0;36m_read\u001B[0;34m(filepath_or_buffer, kwds)\u001B[0m\n\u001B[1;32m    617\u001B[0m _validate_names(kwds\u001B[38;5;241m.\u001B[39mget(\u001B[38;5;124m\"\u001B[39m\u001B[38;5;124mnames\u001B[39m\u001B[38;5;124m\"\u001B[39m, \u001B[38;5;28;01mNone\u001B[39;00m))\n\u001B[1;32m    619\u001B[0m \u001B[38;5;66;03m# Create the parser.\u001B[39;00m\n\u001B[0;32m--> 620\u001B[0m parser \u001B[38;5;241m=\u001B[39m \u001B[43mTextFileReader\u001B[49m\u001B[43m(\u001B[49m\u001B[43mfilepath_or_buffer\u001B[49m\u001B[43m,\u001B[49m\u001B[43m \u001B[49m\u001B[38;5;241;43m*\u001B[39;49m\u001B[38;5;241;43m*\u001B[39;49m\u001B[43mkwds\u001B[49m\u001B[43m)\u001B[49m\n\u001B[1;32m    622\u001B[0m \u001B[38;5;28;01mif\u001B[39;00m chunksize \u001B[38;5;129;01mor\u001B[39;00m iterator:\n\u001B[1;32m    623\u001B[0m     \u001B[38;5;28;01mreturn\u001B[39;00m parser\n",
      "File \u001B[0;32m~/miniconda3/lib/python3.10/site-packages/pandas/io/parsers/readers.py:1620\u001B[0m, in \u001B[0;36mTextFileReader.__init__\u001B[0;34m(self, f, engine, **kwds)\u001B[0m\n\u001B[1;32m   1617\u001B[0m     \u001B[38;5;28mself\u001B[39m\u001B[38;5;241m.\u001B[39moptions[\u001B[38;5;124m\"\u001B[39m\u001B[38;5;124mhas_index_names\u001B[39m\u001B[38;5;124m\"\u001B[39m] \u001B[38;5;241m=\u001B[39m kwds[\u001B[38;5;124m\"\u001B[39m\u001B[38;5;124mhas_index_names\u001B[39m\u001B[38;5;124m\"\u001B[39m]\n\u001B[1;32m   1619\u001B[0m \u001B[38;5;28mself\u001B[39m\u001B[38;5;241m.\u001B[39mhandles: IOHandles \u001B[38;5;241m|\u001B[39m \u001B[38;5;28;01mNone\u001B[39;00m \u001B[38;5;241m=\u001B[39m \u001B[38;5;28;01mNone\u001B[39;00m\n\u001B[0;32m-> 1620\u001B[0m \u001B[38;5;28mself\u001B[39m\u001B[38;5;241m.\u001B[39m_engine \u001B[38;5;241m=\u001B[39m \u001B[38;5;28;43mself\u001B[39;49m\u001B[38;5;241;43m.\u001B[39;49m\u001B[43m_make_engine\u001B[49m\u001B[43m(\u001B[49m\u001B[43mf\u001B[49m\u001B[43m,\u001B[49m\u001B[43m \u001B[49m\u001B[38;5;28;43mself\u001B[39;49m\u001B[38;5;241;43m.\u001B[39;49m\u001B[43mengine\u001B[49m\u001B[43m)\u001B[49m\n",
      "File \u001B[0;32m~/miniconda3/lib/python3.10/site-packages/pandas/io/parsers/readers.py:1880\u001B[0m, in \u001B[0;36mTextFileReader._make_engine\u001B[0;34m(self, f, engine)\u001B[0m\n\u001B[1;32m   1878\u001B[0m     \u001B[38;5;28;01mif\u001B[39;00m \u001B[38;5;124m\"\u001B[39m\u001B[38;5;124mb\u001B[39m\u001B[38;5;124m\"\u001B[39m \u001B[38;5;129;01mnot\u001B[39;00m \u001B[38;5;129;01min\u001B[39;00m mode:\n\u001B[1;32m   1879\u001B[0m         mode \u001B[38;5;241m+\u001B[39m\u001B[38;5;241m=\u001B[39m \u001B[38;5;124m\"\u001B[39m\u001B[38;5;124mb\u001B[39m\u001B[38;5;124m\"\u001B[39m\n\u001B[0;32m-> 1880\u001B[0m \u001B[38;5;28mself\u001B[39m\u001B[38;5;241m.\u001B[39mhandles \u001B[38;5;241m=\u001B[39m \u001B[43mget_handle\u001B[49m\u001B[43m(\u001B[49m\n\u001B[1;32m   1881\u001B[0m \u001B[43m    \u001B[49m\u001B[43mf\u001B[49m\u001B[43m,\u001B[49m\n\u001B[1;32m   1882\u001B[0m \u001B[43m    \u001B[49m\u001B[43mmode\u001B[49m\u001B[43m,\u001B[49m\n\u001B[1;32m   1883\u001B[0m \u001B[43m    \u001B[49m\u001B[43mencoding\u001B[49m\u001B[38;5;241;43m=\u001B[39;49m\u001B[38;5;28;43mself\u001B[39;49m\u001B[38;5;241;43m.\u001B[39;49m\u001B[43moptions\u001B[49m\u001B[38;5;241;43m.\u001B[39;49m\u001B[43mget\u001B[49m\u001B[43m(\u001B[49m\u001B[38;5;124;43m\"\u001B[39;49m\u001B[38;5;124;43mencoding\u001B[39;49m\u001B[38;5;124;43m\"\u001B[39;49m\u001B[43m,\u001B[49m\u001B[43m \u001B[49m\u001B[38;5;28;43;01mNone\u001B[39;49;00m\u001B[43m)\u001B[49m\u001B[43m,\u001B[49m\n\u001B[1;32m   1884\u001B[0m \u001B[43m    \u001B[49m\u001B[43mcompression\u001B[49m\u001B[38;5;241;43m=\u001B[39;49m\u001B[38;5;28;43mself\u001B[39;49m\u001B[38;5;241;43m.\u001B[39;49m\u001B[43moptions\u001B[49m\u001B[38;5;241;43m.\u001B[39;49m\u001B[43mget\u001B[49m\u001B[43m(\u001B[49m\u001B[38;5;124;43m\"\u001B[39;49m\u001B[38;5;124;43mcompression\u001B[39;49m\u001B[38;5;124;43m\"\u001B[39;49m\u001B[43m,\u001B[49m\u001B[43m \u001B[49m\u001B[38;5;28;43;01mNone\u001B[39;49;00m\u001B[43m)\u001B[49m\u001B[43m,\u001B[49m\n\u001B[1;32m   1885\u001B[0m \u001B[43m    \u001B[49m\u001B[43mmemory_map\u001B[49m\u001B[38;5;241;43m=\u001B[39;49m\u001B[38;5;28;43mself\u001B[39;49m\u001B[38;5;241;43m.\u001B[39;49m\u001B[43moptions\u001B[49m\u001B[38;5;241;43m.\u001B[39;49m\u001B[43mget\u001B[49m\u001B[43m(\u001B[49m\u001B[38;5;124;43m\"\u001B[39;49m\u001B[38;5;124;43mmemory_map\u001B[39;49m\u001B[38;5;124;43m\"\u001B[39;49m\u001B[43m,\u001B[49m\u001B[43m \u001B[49m\u001B[38;5;28;43;01mFalse\u001B[39;49;00m\u001B[43m)\u001B[49m\u001B[43m,\u001B[49m\n\u001B[1;32m   1886\u001B[0m \u001B[43m    \u001B[49m\u001B[43mis_text\u001B[49m\u001B[38;5;241;43m=\u001B[39;49m\u001B[43mis_text\u001B[49m\u001B[43m,\u001B[49m\n\u001B[1;32m   1887\u001B[0m \u001B[43m    \u001B[49m\u001B[43merrors\u001B[49m\u001B[38;5;241;43m=\u001B[39;49m\u001B[38;5;28;43mself\u001B[39;49m\u001B[38;5;241;43m.\u001B[39;49m\u001B[43moptions\u001B[49m\u001B[38;5;241;43m.\u001B[39;49m\u001B[43mget\u001B[49m\u001B[43m(\u001B[49m\u001B[38;5;124;43m\"\u001B[39;49m\u001B[38;5;124;43mencoding_errors\u001B[39;49m\u001B[38;5;124;43m\"\u001B[39;49m\u001B[43m,\u001B[49m\u001B[43m \u001B[49m\u001B[38;5;124;43m\"\u001B[39;49m\u001B[38;5;124;43mstrict\u001B[39;49m\u001B[38;5;124;43m\"\u001B[39;49m\u001B[43m)\u001B[49m\u001B[43m,\u001B[49m\n\u001B[1;32m   1888\u001B[0m \u001B[43m    \u001B[49m\u001B[43mstorage_options\u001B[49m\u001B[38;5;241;43m=\u001B[39;49m\u001B[38;5;28;43mself\u001B[39;49m\u001B[38;5;241;43m.\u001B[39;49m\u001B[43moptions\u001B[49m\u001B[38;5;241;43m.\u001B[39;49m\u001B[43mget\u001B[49m\u001B[43m(\u001B[49m\u001B[38;5;124;43m\"\u001B[39;49m\u001B[38;5;124;43mstorage_options\u001B[39;49m\u001B[38;5;124;43m\"\u001B[39;49m\u001B[43m,\u001B[49m\u001B[43m \u001B[49m\u001B[38;5;28;43;01mNone\u001B[39;49;00m\u001B[43m)\u001B[49m\u001B[43m,\u001B[49m\n\u001B[1;32m   1889\u001B[0m \u001B[43m\u001B[49m\u001B[43m)\u001B[49m\n\u001B[1;32m   1890\u001B[0m \u001B[38;5;28;01massert\u001B[39;00m \u001B[38;5;28mself\u001B[39m\u001B[38;5;241m.\u001B[39mhandles \u001B[38;5;129;01mis\u001B[39;00m \u001B[38;5;129;01mnot\u001B[39;00m \u001B[38;5;28;01mNone\u001B[39;00m\n\u001B[1;32m   1891\u001B[0m f \u001B[38;5;241m=\u001B[39m \u001B[38;5;28mself\u001B[39m\u001B[38;5;241m.\u001B[39mhandles\u001B[38;5;241m.\u001B[39mhandle\n",
      "File \u001B[0;32m~/miniconda3/lib/python3.10/site-packages/pandas/io/common.py:873\u001B[0m, in \u001B[0;36mget_handle\u001B[0;34m(path_or_buf, mode, encoding, compression, memory_map, is_text, errors, storage_options)\u001B[0m\n\u001B[1;32m    868\u001B[0m \u001B[38;5;28;01melif\u001B[39;00m \u001B[38;5;28misinstance\u001B[39m(handle, \u001B[38;5;28mstr\u001B[39m):\n\u001B[1;32m    869\u001B[0m     \u001B[38;5;66;03m# Check whether the filename is to be opened in binary mode.\u001B[39;00m\n\u001B[1;32m    870\u001B[0m     \u001B[38;5;66;03m# Binary mode does not support 'encoding' and 'newline'.\u001B[39;00m\n\u001B[1;32m    871\u001B[0m     \u001B[38;5;28;01mif\u001B[39;00m ioargs\u001B[38;5;241m.\u001B[39mencoding \u001B[38;5;129;01mand\u001B[39;00m \u001B[38;5;124m\"\u001B[39m\u001B[38;5;124mb\u001B[39m\u001B[38;5;124m\"\u001B[39m \u001B[38;5;129;01mnot\u001B[39;00m \u001B[38;5;129;01min\u001B[39;00m ioargs\u001B[38;5;241m.\u001B[39mmode:\n\u001B[1;32m    872\u001B[0m         \u001B[38;5;66;03m# Encoding\u001B[39;00m\n\u001B[0;32m--> 873\u001B[0m         handle \u001B[38;5;241m=\u001B[39m \u001B[38;5;28;43mopen\u001B[39;49m\u001B[43m(\u001B[49m\n\u001B[1;32m    874\u001B[0m \u001B[43m            \u001B[49m\u001B[43mhandle\u001B[49m\u001B[43m,\u001B[49m\n\u001B[1;32m    875\u001B[0m \u001B[43m            \u001B[49m\u001B[43mioargs\u001B[49m\u001B[38;5;241;43m.\u001B[39;49m\u001B[43mmode\u001B[49m\u001B[43m,\u001B[49m\n\u001B[1;32m    876\u001B[0m \u001B[43m            \u001B[49m\u001B[43mencoding\u001B[49m\u001B[38;5;241;43m=\u001B[39;49m\u001B[43mioargs\u001B[49m\u001B[38;5;241;43m.\u001B[39;49m\u001B[43mencoding\u001B[49m\u001B[43m,\u001B[49m\n\u001B[1;32m    877\u001B[0m \u001B[43m            \u001B[49m\u001B[43merrors\u001B[49m\u001B[38;5;241;43m=\u001B[39;49m\u001B[43merrors\u001B[49m\u001B[43m,\u001B[49m\n\u001B[1;32m    878\u001B[0m \u001B[43m            \u001B[49m\u001B[43mnewline\u001B[49m\u001B[38;5;241;43m=\u001B[39;49m\u001B[38;5;124;43m\"\u001B[39;49m\u001B[38;5;124;43m\"\u001B[39;49m\u001B[43m,\u001B[49m\n\u001B[1;32m    879\u001B[0m \u001B[43m        \u001B[49m\u001B[43m)\u001B[49m\n\u001B[1;32m    880\u001B[0m     \u001B[38;5;28;01melse\u001B[39;00m:\n\u001B[1;32m    881\u001B[0m         \u001B[38;5;66;03m# Binary mode\u001B[39;00m\n\u001B[1;32m    882\u001B[0m         handle \u001B[38;5;241m=\u001B[39m \u001B[38;5;28mopen\u001B[39m(handle, ioargs\u001B[38;5;241m.\u001B[39mmode)\n",
      "\u001B[0;31mFileNotFoundError\u001B[0m: [Errno 2] No such file or directory: '/home/xuejunchang/OneDrive/PhD/projects/mnt/primary/exposure-fairness-extend/data//v3/bm25_msmarco-passage_dev_100_models_granularities_scikit_dense.csv'"
     ]
    },
    {
     "data": {
      "text/plain": [
       "<Figure size 1500x400 with 3 Axes>"
      ],
      "image/png": "[encoded data removed]"
     },
     "metadata": {},
     "output_type": "display_data"
    }
   ],
   "execution_count": 5
  },
  {
   "cell_type": "code",
   "id": "48b7bd98-0c4b-4f0a-b857-3733e811eb39",
   "metadata": {
    "scrolled": true
   },
   "source": [
    "km = 'scikit_tfidf'\n",
    "\n",
    "fig, (ax0,ax1,ax2) = plt.subplots(nrows=1, ncols=3, figsize=(15, 4))\n",
    "# plt.subplots_adjust(hspace=1, wspace=0.2, left=0.1)\n",
    "plt.subplots_adjust(hspace=1, wspace=0.2, left=0, right=1, bottom=0)\n",
    "\n",
    "col = 'min_gini'\n",
    "ylabel = 'Minimum Gini'\n",
    "ax0.xaxis.set_major_locator(MultipleLocator(1))\n",
    "ax0.yaxis.set_major_locator(MultipleLocator(0.01))\n",
    "# ax0.set_xlim(1,5)\n",
    "ax0.set_ylim(0.16,0.19)\n",
    "g0 = sub_plot(ax0,None,col, ylabel,km=km)\n",
    "\n",
    "col = 'mean_gini'\n",
    "ylabel = 'Average Gini'\n",
    "ax1.xaxis.set_major_locator(MultipleLocator(1))\n",
    "ax1.yaxis.set_major_locator(MultipleLocator(0.03))\n",
    "# ax1.set_xlim(1,5)\n",
    "ax1.set_ylim(0.265,0.33)\n",
    "g1 = sub_plot(ax1,None,col, ylabel,km=km)\n",
    "\n",
    "col = 'max_gini'\n",
    "ylabel = 'Maximum Gini'\n",
    "ax2.xaxis.set_major_locator(MultipleLocator(1))\n",
    "ax2.yaxis.set_major_locator(MultipleLocator(0.05))\n",
    "# ax2.set_xlim(1,5)\n",
    "ax2.set_ylim(0.48,0.80)\n",
    "g2 = sub_plot(ax2,None,col, ylabel,km=km)\n",
    "\n",
    "g = list(g0 + g1 + g2)\n",
    "\n",
    "fig.legend(handles=g0, loc='upper center', bbox_to_anchor=(0.5, 1.12), ncol=10, fontsize=16)\n",
    "plt.savefig(f'{config.prog_dir}/aggr_gini_{km}.pdf', format=\"pdf\", bbox_inches=\"tight\", pad_inches=0)\n",
    "plt.show()"
   ],
   "outputs": [],
   "execution_count": null
  },
  {
   "cell_type": "code",
   "id": "2819f2b3-a09f-48a9-95d5-509e89b91376",
   "metadata": {},
   "source": [],
   "outputs": [],
   "execution_count": null
  },
  {
   "cell_type": "code",
   "id": "c95f103a-67cf-4064-b95b-19229e431562",
   "metadata": {},
   "source": [],
   "outputs": [],
   "execution_count": null
  }
 ],
 "metadata": {
  "kernelspec": {
   "display_name": "Python 3 (ipykernel)",
   "language": "python",
   "name": "python3"
  },
  "language_info": {
   "codemirror_mode": {
    "name": "ipython",
    "version": 3
   },
   "file_extension": ".py",
   "mimetype": "text/x-python",
   "name": "python",
   "nbconvert_exporter": "python",
   "pygments_lexer": "ipython3",
   "version": "3.10.16"
  }
 },
 "nbformat": 4,
 "nbformat_minor": 5
}
