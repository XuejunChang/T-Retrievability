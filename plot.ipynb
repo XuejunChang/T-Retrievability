{
 "cells": [
  {
   "cell_type": "code",
   "execution_count": null,
   "id": "ebfc404f-f2d4-4dfe-8fe0-005cbf4c296c",
   "metadata": {
    "ExecuteTime": {
     "end_time": "2025-05-12T22:08:09.725017Z",
     "start_time": "2025-05-12T22:08:07.940635Z"
    }
   },
   "outputs": [],
   "source": [
    "import warnings\n",
    "import os\n",
    "os.chdir(f'/mnt/primary/exposure-fairness/')\n",
    "import config\n",
    "warnings.filterwarnings('ignore')\n",
    "import pyterrier as pt\n",
    "if not pt.started():\n",
    "    pt.init()\n",
    "\n",
    "import pandas as pd\n",
    "pd.set_option('display.max_columns', None)\n",
    "pd.set_option('display.max_rows', None)\n",
    "pd.set_option('display.max_colwidth', 100)\n",
    "import matplotlib.pyplot as plt\n",
    "from matplotlib.pyplot import MultipleLocator"
   ]
  },
  {
   "cell_type": "code",
   "execution_count": null,
   "id": "6d48484f-a38e-4448-b68c-bd2729dc1806",
   "metadata": {},
   "outputs": [],
   "source": [
    "# bm25 = df[(df['modelname'] == 'bm25') & (df['threshold'] == 0)]\n",
    "# gini_bm25 = df.loc[df['Model'] == 'BM25',['Gini','Gini.1','Gini.2','Gini.3']]"
   ]
  },
  {
   "cell_type": "code",
   "execution_count": null,
   "id": "e79927ee-c157-48b2-bba6-1418f870b1eb",
   "metadata": {
    "ExecuteTime": {
     "end_time": "2025-05-13T11:48:05.565605Z",
     "start_time": "2025-05-13T11:48:05.561953Z"
    }
   },
   "outputs": [],
   "source": [
    "csv = f'/mnt/primary/exposure-fairness/results/result_all_models_all_groups.csv'\n",
    "df = pd.read_csv(csv, index_col=0).reset_index()"
   ]
  },
  {
   "cell_type": "code",
   "execution_count": null,
   "id": "92d2c04c-9298-4e89-955d-bbf0728728da",
   "metadata": {},
   "outputs": [],
   "source": [
    "\n",
    "csv = f'{config.data_dir}/v1//mnt/datasets/cxj/exposure-fairness/v2'\n",
    "df2 = pd.read_pickle(csv).reset_index(drop=True)"
   ]
  },
  {
   "cell_type": "code",
   "execution_count": null,
   "id": "3ee500d0a3d784ae",
   "metadata": {
    "ExecuteTime": {
     "end_time": "2025-05-13T11:47:41.391061Z",
     "start_time": "2025-05-13T11:47:41.384067Z"
    }
   },
   "outputs": [],
   "source": [
    "df.head()"
   ]
  },
  {
   "cell_type": "code",
   "execution_count": null,
   "id": "2271b502-8159-4fc0-bbbd-42f3628a90e7",
   "metadata": {},
   "outputs": [],
   "source": [
    "df[(df['modelname'] == 'bm25') & (df['threshold'] == 0)]"
   ]
  },
  {
   "cell_type": "code",
   "execution_count": 14,
   "id": "c507e8c6-efd5-43bc-951f-c2628914658b",
   "metadata": {},
   "outputs": [],
   "source": [
    "csv = f'{config.data_dir}/v2/bm25_msmarco-passage_dev_100.csv'\n",
    "df3 = pd.read_pickle(csv).reset_index(drop=True)"
   ]
  },
  {
   "cell_type": "code",
   "execution_count": 15,
   "id": "bc8ce8be-b4d3-4581-965a-7f28add887d1",
   "metadata": {},
   "outputs": [
    {
     "data": {
      "text/html": [
       "<div>\n",
       "<style scoped>\n",
       "    .dataframe tbody tr th:only-of-type {\n",
       "        vertical-align: middle;\n",
       "    }\n",
       "\n",
       "    .dataframe tbody tr th {\n",
       "        vertical-align: top;\n",
       "    }\n",
       "\n",
       "    .dataframe thead th {\n",
       "        text-align: right;\n",
       "    }\n",
       "</style>\n",
       "<table border=\"1\" class=\"dataframe\">\n",
       "  <thead>\n",
       "    <tr style=\"text-align: right;\">\n",
       "      <th></th>\n",
       "      <th>qid</th>\n",
       "      <th>docid</th>\n",
       "      <th>docno</th>\n",
       "      <th>score</th>\n",
       "      <th>rank</th>\n",
       "      <th>query</th>\n",
       "    </tr>\n",
       "  </thead>\n",
       "  <tbody>\n",
       "    <tr>\n",
       "      <th>0</th>\n",
       "      <td>1048578</td>\n",
       "      <td>7187236</td>\n",
       "      <td>7187236</td>\n",
       "      <td>67.528593</td>\n",
       "      <td>0</td>\n",
       "      <td>cost of endless pools swim spa</td>\n",
       "    </tr>\n",
       "    <tr>\n",
       "      <th>1</th>\n",
       "      <td>1048578</td>\n",
       "      <td>7471198</td>\n",
       "      <td>7471198</td>\n",
       "      <td>62.121928</td>\n",
       "      <td>1</td>\n",
       "      <td>cost of endless pools swim spa</td>\n",
       "    </tr>\n",
       "    <tr>\n",
       "      <th>2</th>\n",
       "      <td>1048578</td>\n",
       "      <td>5365326</td>\n",
       "      <td>5365326</td>\n",
       "      <td>51.958492</td>\n",
       "      <td>2</td>\n",
       "      <td>cost of endless pools swim spa</td>\n",
       "    </tr>\n",
       "    <tr>\n",
       "      <th>3</th>\n",
       "      <td>1048578</td>\n",
       "      <td>7187241</td>\n",
       "      <td>7187241</td>\n",
       "      <td>51.947947</td>\n",
       "      <td>3</td>\n",
       "      <td>cost of endless pools swim spa</td>\n",
       "    </tr>\n",
       "    <tr>\n",
       "      <th>4</th>\n",
       "      <td>1048578</td>\n",
       "      <td>6802210</td>\n",
       "      <td>6802210</td>\n",
       "      <td>47.925985</td>\n",
       "      <td>4</td>\n",
       "      <td>cost of endless pools swim spa</td>\n",
       "    </tr>\n",
       "  </tbody>\n",
       "</table>\n",
       "</div>"
      ],
      "text/plain": [
       "       qid    docid    docno      score  rank                           query\n",
       "0  1048578  7187236  7187236  67.528593     0  cost of endless pools swim spa\n",
       "1  1048578  7471198  7471198  62.121928     1  cost of endless pools swim spa\n",
       "2  1048578  5365326  5365326  51.958492     2  cost of endless pools swim spa\n",
       "3  1048578  7187241  7187241  51.947947     3  cost of endless pools swim spa\n",
       "4  1048578  6802210  6802210  47.925985     4  cost of endless pools swim spa"
      ]
     },
     "execution_count": 15,
     "metadata": {},
     "output_type": "execute_result"
    }
   ],
   "source": [
    "df3.head()"
   ]
  },
  {
   "cell_type": "code",
   "execution_count": 17,
   "id": "a4196330-0b03-411f-9799-a2e879d52098",
   "metadata": {},
   "outputs": [
    {
     "name": "stdout",
     "output_type": "stream",
     "text": [
      "\u001b[33mWARNING: The directory '/mnt/primary/launcher-cache/pip' or its parent directory is not owned or is not writable by the current user. The cache has been disabled. Check the permissions and owner of that directory. If executing pip with sudo, you should use sudo's -H flag.\u001b[0m\u001b[33m\n",
      "\u001b[0mnumpy                     1.26.4\n"
     ]
    }
   ],
   "source": [
    "! pip list | grep numpy"
   ]
  },
  {
   "cell_type": "code",
   "execution_count": null,
   "id": "2da33dfc-cebd-47d3-bf3c-85f7d03b6c59",
   "metadata": {},
   "outputs": [],
   "source": [
    "grouped_df = df2.groupby('modelname')"
   ]
  },
  {
   "cell_type": "code",
   "execution_count": null,
   "id": "a847fe1f-fe2b-447e-bf7e-06ef5521eb08",
   "metadata": {},
   "outputs": [],
   "source": [
    "grouped_df.get_group(('bm25',500))"
   ]
  },
  {
   "cell_type": "code",
   "execution_count": null,
   "id": "620ef034-ab84-45a5-a1a9-22ee316501c2",
   "metadata": {},
   "outputs": [],
   "source": []
  },
  {
   "cell_type": "code",
   "execution_count": null,
   "id": "1daeddac-01c0-46ed-a7ec-4871ee607248",
   "metadata": {
    "ExecuteTime": {
     "end_time": "2025-05-12T22:08:24.326655Z",
     "start_time": "2025-05-12T22:08:24.321142Z"
    }
   },
   "outputs": [],
   "source": [
    "def sub_plot(plt,threshold,title,col, ylabel):\n",
    "    # bm25 = df[(df['modelname'] == 'bm25') & (df['threshold'] == threshold)]\n",
    "    # bm25_monot5 = df[(df['modelname'] == 'bm25_monot5') & (df['threshold'] == threshold)]\n",
    "    # splade = df[(df['modelname'] == 'splade') & (df['threshold'] == threshold)]\n",
    "    # tctcolbert = df[(df['modelname'] == 'tctcolbert') & (df['threshold'] == threshold)]\n",
    "    # bm25_tctcolbert = df[(df['modelname'] == 'bm25_tctcolbert') & (df['threshold'] == threshold)]\n",
    "\n",
    "    bm25 = df[(df['modelname'] == 'bm25') & (df['threshold'] == threshold)]\n",
    "    bm25_monot5 = df[(df['modelname'] == 'bm25_monot5') & (df['threshold'] == threshold)]\n",
    "    splade = df[(df['modelname'] == 'splade') & (df['threshold'] == threshold)]\n",
    "    tctcolbert = df[(df['modelname'] == 'tctcolbert') & (df['threshold'] == threshold)]\n",
    "    bm25_tctcolbert = df[(df['modelname'] == 'bm25_tctcolbert') & (df['threshold'] == threshold)]\n",
    "\n",
    "    x = [1,2,3,4,5]\n",
    "    # col = 'min_gini'\n",
    "    y = bm25[col]\n",
    "    line1, = plt.plot(x,y,label='BM25', marker='.')\n",
    "    y = bm25_monot5[col]\n",
    "    line2, = plt.plot(x,y,label='BM25>>Mono-T5', marker='.')\n",
    "    y = splade[col]\n",
    "    line3, = plt.plot(x,y,label='SPLADE', marker='.')\n",
    "    y = tctcolbert[col]\n",
    "    line4, = plt.plot(x,y,label='TCT-ColBERT', marker='.')\n",
    "    y = bm25_tctcolbert[col]\n",
    "    line5, = plt.plot(x,y,label='BM25>>TCT-ColBERT', marker='.')\n",
    "\n",
    "    # plt.set_title('Exposure Fairness')\n",
    "    plt.set_title(title, fontsize=16)\n",
    "    plt.set_xlabel(r'#Groups ($K$)', fontsize=16)\n",
    "    \n",
    "    if col == 'min_gini':\n",
    "        # ylabel = 'Min Gini Coefficient'\n",
    "        plt.set_ylabel(ylabel, fontsize=16)\n",
    "    plt.set_xticks(ticks = x, labels = ['500', '1000', '2000', '5000', '10000'], fontsize=16)\n",
    "    # plt.set_yticks(ticks = y, labels = [f'{i:.2f}' for i in y])\n",
    "    return line1, line2,line3,line4,line5"
   ]
  },
  {
   "cell_type": "code",
   "execution_count": null,
   "id": "0dd9d970-e980-4075-84cb-f49cda15b808",
   "metadata": {
    "ExecuteTime": {
     "end_time": "2025-05-12T22:08:30.020834Z",
     "start_time": "2025-05-12T22:08:29.644685Z"
    }
   },
   "outputs": [],
   "source": [
    "fig, (ax0,ax1,ax2) = plt.subplots(nrows=1, ncols=3, figsize=(15, 4))\n",
    "# plt.subplots_adjust(hspace=1, wspace=0.2, left=0.1)\n",
    "plt.subplots_adjust(hspace=1, wspace=0.2, left=0, right=1, bottom=0)\n",
    "\n",
    "ylabel = 'Min (Gini), Avg (Gini), Max (Gini)'\n",
    "\n",
    "col = 'min_gini'\n",
    "ax0.xaxis.set_major_locator(MultipleLocator(1))\n",
    "ax0.yaxis.set_major_locator(MultipleLocator(0.03))\n",
    "# ax0.set_xlim(1,5)\n",
    "ax0.set_ylim(0.12,0.20)\n",
    "g0 = sub_plot(ax0,0,None,col, ylabel)\n",
    "\n",
    "col = 'mean_gini'\n",
    "ax1.xaxis.set_major_locator(MultipleLocator(1))\n",
    "ax1.yaxis.set_major_locator(MultipleLocator(0.03))\n",
    "# ax1.set_xlim(1,5)\n",
    "ax1.set_ylim(0.22,0.30)\n",
    "g1 = sub_plot(ax1,0,None,col, ylabel)\n",
    "\n",
    "col = 'max_gini'\n",
    "ax2.xaxis.set_major_locator(MultipleLocator(1))\n",
    "ax2.yaxis.set_major_locator(MultipleLocator(0.05))\n",
    "# ax2.set_xlim(1,5)\n",
    "ax2.set_ylim(0.47,0.75)\n",
    "g2 = sub_plot(ax2,0,None,col, ylabel)\n",
    "\n",
    "g = list(g0 + g1 + g2)\n",
    "\n",
    "fig.legend(handles=g0, loc='upper center', bbox_to_anchor=(0.5, 1.12), ncol=10, fontsize=16)\n",
    "plt.savefig(f'{config.prog_dir}/aggr_gini.pdf', format=\"pdf\", bbox_inches=\"tight\", pad_inches=0)\n",
    "plt.show()"
   ]
  },
  {
   "cell_type": "code",
   "execution_count": null,
   "id": "2819f2b3-a09f-48a9-95d5-509e89b91376",
   "metadata": {},
   "outputs": [],
   "source": []
  },
  {
   "cell_type": "code",
   "execution_count": null,
   "id": "c95f103a-67cf-4064-b95b-19229e431562",
   "metadata": {},
   "outputs": [],
   "source": []
  }
 ],
 "metadata": {
  "kernelspec": {
   "display_name": "Python [conda env:exposure-fairness3.10.15]",
   "language": "python",
   "name": "conda-env-exposure-fairness3.10.15-py"
  },
  "language_info": {
   "codemirror_mode": {
    "name": "ipython",
    "version": 3
   },
   "file_extension": ".py",
   "mimetype": "text/x-python",
   "name": "python",
   "nbconvert_exporter": "python",
   "pygments_lexer": "ipython3",
   "version": "3.10.15"
  }
 },
 "nbformat": 4,
 "nbformat_minor": 5
}
