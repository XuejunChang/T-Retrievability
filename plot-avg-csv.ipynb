{
 "cells": [
  {
   "cell_type": "code",
   "id": "ebfc404f-f2d4-4dfe-8fe0-005cbf4c296c",
   "metadata": {
    "jupyter": {
     "is_executing": true
    }
   },
   "source": [
    "import warnings\n",
    "warnings.filterwarnings('ignore')\n",
    "import pyterrier as pt\n",
    "if not pt.started():\n",
    "    pt.init()\n",
    "\n",
    "import os\n",
    "import pandas as pd\n",
    "pd.set_option('display.max_columns', None)\n",
    "pd.set_option('display.max_rows', None)\n",
    "pd.set_option('display.max_colwidth', False)\n",
    "\n",
    "# import pyt_splade\n",
    "# splade = pyt_splade.Splade()\n",
    "\n",
    "dataset_name = 'msmarco-passage'\n",
    "eval_ds_name = 'dev'\n",
    "dataset = pt.get_dataset(f'irds:{dataset_name}')\n",
    "eval_dataset = pt.get_dataset(f'irds:{dataset_name}/{eval_ds_name}')\n",
    "topics = eval_dataset.get_topics()\n",
    "qrels = eval_dataset.get_qrels()"
   ],
   "outputs": [],
   "execution_count": null
  },
  {
   "cell_type": "code",
   "id": "618fd19a-1058-412a-b4a5-1b79ab87cf9b",
   "metadata": {
    "jupyter": {
     "is_executing": true
    }
   },
   "source": [
    "topics.shape"
   ],
   "outputs": [],
   "execution_count": null
  },
  {
   "cell_type": "code",
   "id": "5cf8be5c-a924-4574-a20d-d19f194b04a5",
   "metadata": {
    "jupyter": {
     "is_executing": true
    }
   },
   "source": [
    "dataset_df = pd.DataFrame(dataset.get_corpus_iter(verbose=True))"
   ],
   "outputs": [],
   "execution_count": null
  },
  {
   "cell_type": "code",
   "id": "e1f6135d-559c-4d24-85ec-374da67fefa1",
   "metadata": {
    "jupyter": {
     "is_executing": true
    }
   },
   "source": [
    "#################### bm25 ###########################"
   ],
   "outputs": [],
   "execution_count": null
  },
  {
   "cell_type": "code",
   "id": "8d2d5918-38e9-4953-b255-e88b11a28edd",
   "metadata": {
    "jupyter": {
     "is_executing": true
    }
   },
   "source": [
    "bm25 = pd.read_csv('/nfs/primary/retrievability-bias/results_bm25.csv')"
   ],
   "outputs": [],
   "execution_count": null
  },
  {
   "cell_type": "code",
   "id": "534287bf-e7f8-468c-bc80-128fa1c85df6",
   "metadata": {
    "jupyter": {
     "is_executing": true
    }
   },
   "source": [
    "bm25 = bm25.groupby(['docid'])['docid'].count()\n",
    "bm25 = bm25.to_frame('rtr_cnt').reset_index()\n",
    "total = bm25['rtr_cnt'].sum() # total number of retrieved docs for 101093 queries in msmarco-passage/dev\n",
    "bm25['rtr_score'] = bm25['rtr_cnt']/total # normalisation\n",
    "bm25 = bm25.sort_values(by='rtr_score',ascending=False) # sort by retrievablity scores"
   ],
   "outputs": [],
   "execution_count": null
  },
  {
   "cell_type": "code",
   "id": "81c3fe5f-3e19-490c-955f-c0dbe394cbd3",
   "metadata": {
    "jupyter": {
     "is_executing": true
    }
   },
   "source": [
    "bm25.std()"
   ],
   "outputs": [],
   "execution_count": null
  },
  {
   "cell_type": "code",
   "execution_count": 6,
   "id": "5e8be491-4ad9-48f2-acb9-1f099fea3c76",
   "metadata": {},
   "outputs": [],
   "source": [
    "bm25.to_csv('./raw_results/bm25_rd_')"
   ]
  },
  {
   "cell_type": "code",
   "execution_count": 8,
   "id": "a1c1a900-b66c-44bc-8225-4f7bfef379d6",
   "metadata": {},
   "outputs": [
    {
     "data": {
      "text/plain": [
       "(803333, 3)"
      ]
     },
     "execution_count": 8,
     "metadata": {},
     "output_type": "execute_result"
    }
   ],
   "source": [
    "bm25.groupby()"
   ]
  },
  {
   "cell_type": "code",
   "execution_count": 9,
   "id": "2db77820-863b-47a7-ba0b-f2ac36d2dc47",
   "metadata": {},
   "outputs": [],
   "source": [
    "####################### bm25 >> monot5 ###############################"
   ]
  },
  {
   "cell_type": "code",
   "execution_count": 10,
   "id": "5c82d9fc-6413-409b-85cb-04de9f2bab14",
   "metadata": {},
   "outputs": [],
   "source": [
    "# 100 docs retrieved for each query\n",
    "monot5 = pd.read_csv('/nfs/primary/retrievability-bias/results_bm25_monot5_r100.csv',index_col=1)"
   ]
  },
  {
   "cell_type": "code",
   "execution_count": 11,
   "id": "581b6c94-b1b4-451a-b771-e175f86a8492",
   "metadata": {},
   "outputs": [
    {
     "data": {
      "text/html": [
       "<div>\n",
       "<style scoped>\n",
       "    .dataframe tbody tr th:only-of-type {\n",
       "        vertical-align: middle;\n",
       "    }\n",
       "\n",
       "    .dataframe tbody tr th {\n",
       "        vertical-align: top;\n",
       "    }\n",
       "\n",
       "    .dataframe thead th {\n",
       "        text-align: right;\n",
       "    }\n",
       "</style>\n",
       "<table border=\"1\" class=\"dataframe\">\n",
       "  <thead>\n",
       "    <tr style=\"text-align: right;\">\n",
       "      <th></th>\n",
       "      <th>Unnamed: 0</th>\n",
       "      <th>docid</th>\n",
       "      <th>docno</th>\n",
       "      <th>query</th>\n",
       "      <th>text</th>\n",
       "      <th>score</th>\n",
       "      <th>rank</th>\n",
       "    </tr>\n",
       "    <tr>\n",
       "      <th>qid</th>\n",
       "      <th></th>\n",
       "      <th></th>\n",
       "      <th></th>\n",
       "      <th></th>\n",
       "      <th></th>\n",
       "      <th></th>\n",
       "      <th></th>\n",
       "    </tr>\n",
       "  </thead>\n",
       "  <tbody>\n",
       "    <tr>\n",
       "      <th>1048578</th>\n",
       "      <td>0</td>\n",
       "      <td>7187236</td>\n",
       "      <td>7187236</td>\n",
       "      <td>cost of endless pools swim spa</td>\n",
       "      <td>The Endless Pool 15' endless pools swim spa Endless Pool Nightmare Buy A Big Spa Instead Great training pool</td>\n",
       "      <td>-1.152498</td>\n",
       "      <td>17</td>\n",
       "    </tr>\n",
       "    <tr>\n",
       "      <th>1048578</th>\n",
       "      <td>1</td>\n",
       "      <td>7471198</td>\n",
       "      <td>7471198</td>\n",
       "      <td>cost of endless pools swim spa</td>\n",
       "      <td>Cal Spas is the leading maker of home resort products. Cal Spas makes a great jetted swim spa with thoughtful attention paid to all design features. Read our Cal Spas Swim Spa Review. Dimesion One offers swim spas through their Aquatic Fitness Systems brand. Read our Dimension One Swim Spa Review. Endless Pools is one of the industry leaders in swim spas and counter-current pools. Known for their superior swim current, Endless Pools sell a range of swim spas and modular pools.</td>\n",
       "      <td>-3.906874</td>\n",
       "      <td>22</td>\n",
       "    </tr>\n",
       "    <tr>\n",
       "      <th>1048578</th>\n",
       "      <td>2</td>\n",
       "      <td>5365326</td>\n",
       "      <td>5365326</td>\n",
       "      <td>cost of endless pools swim spa</td>\n",
       "      <td>How much does a swim spa cost. 1  A top of the line, branded swim spa 9 feet by 16 feet with the bells and whistles could be $30,000 to $40,000. A number of value brands will sell swim spas in the $15,000 to $18,000 range. 2  CalSpas sells swim spas from $14,999 to $18,999 depending upon the product and configuration (May 2011). 3  Endless Pools sells swim spas from $7,500 to $28,900.</td>\n",
       "      <td>-0.003631</td>\n",
       "      <td>3</td>\n",
       "    </tr>\n",
       "    <tr>\n",
       "      <th>1048578</th>\n",
       "      <td>3</td>\n",
       "      <td>7187241</td>\n",
       "      <td>7187241</td>\n",
       "      <td>cost of endless pools swim spa</td>\n",
       "      <td>Disclaimer: Endless Pools (and all other swim spa manufacturers) are intentionally secretive about their pricing. All information in this article should be seen as a guide only, we make no claims to the accuracy of any endless pool prices on this page. All opinions are our own. We are not associated with any particular brand of swim spa in any way.</td>\n",
       "      <td>-3.587024</td>\n",
       "      <td>20</td>\n",
       "    </tr>\n",
       "    <tr>\n",
       "      <th>1048578</th>\n",
       "      <td>4</td>\n",
       "      <td>6802210</td>\n",
       "      <td>6802210</td>\n",
       "      <td>cost of endless pools swim spa</td>\n",
       "      <td>Endless Pools is one of the first companies to develop this Swim Spa, or “endless” swimming pool concept quite a number of years ago. Because of its modular design, it can be installed indoors in existing spaces. All of the components of an Original Endless Pool fit easily through doorways and down stairs.</td>\n",
       "      <td>-3.880305</td>\n",
       "      <td>21</td>\n",
       "    </tr>\n",
       "  </tbody>\n",
       "</table>\n",
       "</div>"
      ],
      "text/plain": [
       "         Unnamed: 0    docid    docno                           query  \\\n",
       "qid                                                                     \n",
       "1048578  0           7187236  7187236  cost of endless pools swim spa   \n",
       "1048578  1           7471198  7471198  cost of endless pools swim spa   \n",
       "1048578  2           5365326  5365326  cost of endless pools swim spa   \n",
       "1048578  3           7187241  7187241  cost of endless pools swim spa   \n",
       "1048578  4           6802210  6802210  cost of endless pools swim spa   \n",
       "\n",
       "                                                                                                                                                                                                                                                                                                                                                                                                                                                                                                      text  \\\n",
       "qid                                                                                                                                                                                                                                                                                                                                                                                                                                                                                                          \n",
       "1048578  The Endless Pool 15' endless pools swim spa Endless Pool Nightmare Buy A Big Spa Instead Great training pool                                                                                                                                                                                                                                                                                                                                                                                        \n",
       "1048578  Cal Spas is the leading maker of home resort products. Cal Spas makes a great jetted swim spa with thoughtful attention paid to all design features. Read our Cal Spas Swim Spa Review. Dimesion One offers swim spas through their Aquatic Fitness Systems brand. Read our Dimension One Swim Spa Review. Endless Pools is one of the industry leaders in swim spas and counter-current pools. Known for their superior swim current, Endless Pools sell a range of swim spas and modular pools.   \n",
       "1048578  How much does a swim spa cost. 1  A top of the line, branded swim spa 9 feet by 16 feet with the bells and whistles could be $30,000 to $40,000. A number of value brands will sell swim spas in the $15,000 to $18,000 range. 2  CalSpas sells swim spas from $14,999 to $18,999 depending upon the product and configuration (May 2011). 3  Endless Pools sells swim spas from $7,500 to $28,900.                                                                                                 \n",
       "1048578  Disclaimer: Endless Pools (and all other swim spa manufacturers) are intentionally secretive about their pricing. All information in this article should be seen as a guide only, we make no claims to the accuracy of any endless pool prices on this page. All opinions are our own. We are not associated with any particular brand of swim spa in any way.                                                                                                                                      \n",
       "1048578  Endless Pools is one of the first companies to develop this Swim Spa, or “endless” swimming pool concept quite a number of years ago. Because of its modular design, it can be installed indoors in existing spaces. All of the components of an Original Endless Pool fit easily through doorways and down stairs.                                                                                                                                                                                 \n",
       "\n",
       "            score  rank  \n",
       "qid                      \n",
       "1048578 -1.152498  17    \n",
       "1048578 -3.906874  22    \n",
       "1048578 -0.003631  3     \n",
       "1048578 -3.587024  20    \n",
       "1048578 -3.880305  21    "
      ]
     },
     "execution_count": 11,
     "metadata": {},
     "output_type": "execute_result"
    }
   ],
   "source": [
    "monot5.head(5)"
   ]
  },
  {
   "cell_type": "code",
   "execution_count": 12,
   "id": "968e3753-8437-499a-9c5d-5fb003d4a92d",
   "metadata": {},
   "outputs": [],
   "source": [
    "from tqdm import tqdm\n",
    "tqdm.pandas()"
   ]
  },
  {
   "cell_type": "code",
   "execution_count": 13,
   "id": "078bbb7f-150e-47e2-9cdf-c54b01e7f46d",
   "metadata": {},
   "outputs": [],
   "source": [
    "# obtain top 10 docs for each query\n",
    "monot5 = monot5.groupby('qid')"
   ]
  },
  {
   "cell_type": "code",
   "execution_count": 14,
   "id": "eac08fe8-2535-43ea-b5fd-ade6b238260b",
   "metadata": {},
   "outputs": [
    {
     "name": "stderr",
     "output_type": "stream",
     "text": [
      "100%|██████████| 101092/101092 [00:53<00:00, 1894.65it/s]\n"
     ]
    }
   ],
   "source": [
    "monot5 = monot5.progress_apply(lambda x: x.sort_values('rank', ascending=True))"
   ]
  },
  {
   "cell_type": "code",
   "execution_count": 15,
   "id": "42682093-b0d1-430d-8771-f0fd2bdbfb76",
   "metadata": {},
   "outputs": [],
   "source": [
    "monot5 = monot5.groupby('qid').head(10)"
   ]
  },
  {
   "cell_type": "code",
   "execution_count": 16,
   "id": "df4cd70c-e101-4165-9c49-61d0edd1fd7d",
   "metadata": {},
   "outputs": [],
   "source": [
    "# monot5.to_csv('/nfs/primary/retrievability-bias/results_bm25_monot5_10.csv')"
   ]
  },
  {
   "cell_type": "code",
   "execution_count": 7,
   "id": "966d22be-314d-4d29-a71a-70f2766caf39",
   "metadata": {},
   "outputs": [],
   "source": [
    "monot5 = pd.read_csv('/nfs/primary/retrievability-bias/results_bm25_monot5_10.csv') # 100 docs retrieved for each query."
   ]
  },
  {
   "cell_type": "code",
   "execution_count": 23,
   "id": "96d695e8-a36d-4b41-ad05-69ef99405d34",
   "metadata": {},
   "outputs": [
    {
     "data": {
      "text/plain": [
       "docid        2.612501e+06\n",
       "rtr_cnt      9.072060e-01\n",
       "rtr_score    8.974090e-07\n",
       "dtype: float64"
      ]
     },
     "execution_count": 23,
     "metadata": {},
     "output_type": "execute_result"
    }
   ],
   "source": [
    "monot5.std()"
   ]
  },
  {
   "cell_type": "code",
   "execution_count": 9,
   "id": "f36fd193-5d30-41e2-8821-68e70e1d27cb",
   "metadata": {},
   "outputs": [],
   "source": [
    "monot5 = monot5.groupby(['docid'])['docid'].count()\n",
    "monot5 = monot5.to_frame('rtr_cnt').reset_index()\n",
    "total = monot5['rtr_cnt'].sum() # total number of retrieved docs for 101093 queries in msmarco-passage/dev\n",
    "monot5['rtr_score'] = monot5['rtr_cnt']/total # normalisation\n",
    "monot5 = monot5.sort_values(by='rtr_score',ascending=False) # sort by retrievablity scores\n"
   ]
  },
  {
   "cell_type": "code",
   "execution_count": 10,
   "id": "a2739bb0-403b-4f6e-b188-f24183b3dc63",
   "metadata": {},
   "outputs": [
    {
     "data": {
      "text/html": [
       "<div>\n",
       "<style scoped>\n",
       "    .dataframe tbody tr th:only-of-type {\n",
       "        vertical-align: middle;\n",
       "    }\n",
       "\n",
       "    .dataframe tbody tr th {\n",
       "        vertical-align: top;\n",
       "    }\n",
       "\n",
       "    .dataframe thead th {\n",
       "        text-align: right;\n",
       "    }\n",
       "</style>\n",
       "<table border=\"1\" class=\"dataframe\">\n",
       "  <thead>\n",
       "    <tr style=\"text-align: right;\">\n",
       "      <th></th>\n",
       "      <th>docid</th>\n",
       "      <th>rtr_cnt</th>\n",
       "      <th>rtr_score</th>\n",
       "    </tr>\n",
       "  </thead>\n",
       "  <tbody>\n",
       "    <tr>\n",
       "      <th>561792</th>\n",
       "      <td>6958226</td>\n",
       "      <td>327</td>\n",
       "      <td>0.000323</td>\n",
       "    </tr>\n",
       "    <tr>\n",
       "      <th>326582</th>\n",
       "      <td>4019213</td>\n",
       "      <td>325</td>\n",
       "      <td>0.000321</td>\n",
       "    </tr>\n",
       "    <tr>\n",
       "      <th>714802</th>\n",
       "      <td>7594233</td>\n",
       "      <td>163</td>\n",
       "      <td>0.000161</td>\n",
       "    </tr>\n",
       "    <tr>\n",
       "      <th>95793</th>\n",
       "      <td>1147809</td>\n",
       "      <td>159</td>\n",
       "      <td>0.000157</td>\n",
       "    </tr>\n",
       "    <tr>\n",
       "      <th>349615</th>\n",
       "      <td>4312541</td>\n",
       "      <td>143</td>\n",
       "      <td>0.000141</td>\n",
       "    </tr>\n",
       "  </tbody>\n",
       "</table>\n",
       "</div>"
      ],
      "text/plain": [
       "          docid  rtr_cnt  rtr_score\n",
       "561792  6958226  327      0.000323 \n",
       "326582  4019213  325      0.000321 \n",
       "714802  7594233  163      0.000161 \n",
       "95793   1147809  159      0.000157 \n",
       "349615  4312541  143      0.000141 "
      ]
     },
     "execution_count": 10,
     "metadata": {},
     "output_type": "execute_result"
    }
   ],
   "source": [
    "monot5.head(5)"
   ]
  },
  {
   "cell_type": "code",
   "execution_count": 11,
   "id": "40ea7bb1-714b-46c8-90cb-79fd8293d945",
   "metadata": {},
   "outputs": [],
   "source": [
    "monot5.to_csv('./raw_results/monot5_rd_10.csv')"
   ]
  },
  {
   "cell_type": "code",
   "execution_count": 21,
   "id": "920f3376-4759-4962-ac08-689ac629ebd2",
   "metadata": {},
   "outputs": [],
   "source": [
    "################ splade  ##################################"
   ]
  },
  {
   "cell_type": "code",
   "execution_count": 12,
   "id": "2c060776-2461-407f-a40d-9536b35c16db",
   "metadata": {},
   "outputs": [],
   "source": [
    "splade = pd.read_csv('/nfs/primary/retrievability-bias/results_splade.csv') # 100 docs retrieved for each query."
   ]
  },
  {
   "cell_type": "code",
   "execution_count": 13,
   "id": "90aa3f2c-6039-486a-8bf1-43bb0e9666fe",
   "metadata": {},
   "outputs": [
    {
     "data": {
      "text/plain": [
       "['Unnamed: 0',\n",
       " 'qid',\n",
       " 'docid',\n",
       " 'docno',\n",
       " 'rank',\n",
       " 'score',\n",
       " 'query',\n",
       " 'query_toks',\n",
       " 'text']"
      ]
     },
     "execution_count": 13,
     "metadata": {},
     "output_type": "execute_result"
    }
   ],
   "source": [
    "splade.columns.to_list()"
   ]
  },
  {
   "cell_type": "code",
   "execution_count": 14,
   "id": "b79b8885-9d3a-4684-9512-1556232d9ccf",
   "metadata": {},
   "outputs": [],
   "source": [
    "splade = splade.groupby(['docid'])['docid'].count()\n",
    "splade = splade.to_frame('rtr_cnt').reset_index()\n",
    "total = splade['rtr_cnt'].sum()\n",
    "splade['rtr_score'] = splade['rtr_cnt']/total # normalisation\n",
    "splade = splade.sort_values(by='rtr_score',ascending=False) # sort by retrievablity scores"
   ]
  },
  {
   "cell_type": "code",
   "execution_count": 25,
   "id": "680cc954-2886-4d53-b192-1f6847be55ad",
   "metadata": {},
   "outputs": [
    {
     "data": {
      "text/plain": [
       "docid        2.599038e+06\n",
       "rtr_cnt      2.086224e+00\n",
       "rtr_score    2.063668e-06\n",
       "dtype: float64"
      ]
     },
     "execution_count": 25,
     "metadata": {},
     "output_type": "execute_result"
    }
   ],
   "source": [
    "splade.std()"
   ]
  },
  {
   "cell_type": "code",
   "execution_count": 16,
   "id": "8f349ffc-50f3-4474-8fab-214218b7fe24",
   "metadata": {},
   "outputs": [],
   "source": [
    "splade.to_csv('./raw_results/splade_rd_10.csv')"
   ]
  },
  {
   "cell_type": "code",
   "execution_count": 25,
   "id": "45fa2fd2-bb7b-4fc7-820a-8fdef7c43a98",
   "metadata": {},
   "outputs": [
    {
     "name": "stdout",
     "output_type": "stream",
     "text": [
      "803333 888917 617193\n"
     ]
    }
   ],
   "source": [
    "print(bm25.shape[0],monot5.shape[0],splade.shape[0])"
   ]
  },
  {
   "cell_type": "code",
   "execution_count": 26,
   "id": "c63dd354-3a72-401c-9f56-8321587c17a9",
   "metadata": {},
   "outputs": [
    {
     "data": {
      "text/plain": [
       "59261"
      ]
     },
     "execution_count": 26,
     "metadata": {},
     "output_type": "execute_result"
    }
   ],
   "source": [
    "num_docs = max(bm25.shape[0],monot5.shape[0],splade.shape[0])\n",
    "partitions = 15 # split the retrieved docs into 15 partitions, and sum the retrivability scores for each partition.\n",
    "intv = int(num_docs/partitions) # the number of docs within a partition\n",
    "intv"
   ]
  },
  {
   "cell_type": "code",
   "execution_count": 27,
   "id": "38214c76-7ef1-49ac-a80c-9e98feca5a2d",
   "metadata": {},
   "outputs": [],
   "source": [
    "bm25_scores = []\n",
    "for i in range(0,num_docs,intv):\n",
    "    bm25_scores.append(bm25[i:i+intv]['rtr_score'].sum())\n",
    "\n",
    "bm25_scores.append(0.0) # the retrievability scores of the reset of corpus docs are 0"
   ]
  },
  {
   "cell_type": "code",
   "execution_count": 28,
   "id": "47c58d32-912d-496b-a315-b578ecfa6019",
   "metadata": {},
   "outputs": [
    {
     "data": {
      "text/plain": [
       "17"
      ]
     },
     "execution_count": 28,
     "metadata": {},
     "output_type": "execute_result"
    }
   ],
   "source": [
    "len(bm25_scores)"
   ]
  },
  {
   "cell_type": "code",
   "execution_count": 29,
   "id": "a28a42ab-5938-4ac0-9c40-5c8a7780af96",
   "metadata": {},
   "outputs": [],
   "source": [
    "monot5_scores = []\n",
    "for i in range(0,num_docs,intv):\n",
    "    monot5_scores.append(monot5[i:i+intv]['rtr_score'].sum())\n",
    "\n",
    "monot5_scores.append(0.0) # the retrievability scores of the reset of corpus docs are 0"
   ]
  },
  {
   "cell_type": "code",
   "execution_count": 30,
   "id": "a3da7f8a-f649-4873-ab74-da7d11d71aa1",
   "metadata": {},
   "outputs": [
    {
     "data": {
      "text/plain": [
       "[0.14532152491252995,\n",
       " 0.09260305247611825,\n",
       " 0.058621034169966495,\n",
       " 0.058621034169966495,\n",
       " 0.058621034169966495,\n",
       " 0.058621034169966495,\n",
       " 0.058621034169966495,\n",
       " 0.058621034169966495,\n",
       " 0.058621034169966495,\n",
       " 0.058621034169966495,\n",
       " 0.058621034169966495,\n",
       " 0.058621034169966495,\n",
       " 0.058621034169966495,\n",
       " 0.058621034169966495,\n",
       " 0.058621034169966495,\n",
       " 1.9784017876838552e-06,\n",
       " 0.0]"
      ]
     },
     "execution_count": 30,
     "metadata": {},
     "output_type": "execute_result"
    }
   ],
   "source": [
    "monot5_scores"
   ]
  },
  {
   "cell_type": "code",
   "execution_count": 31,
   "id": "45261c2d-80bd-451d-889a-0bac41dc4249",
   "metadata": {},
   "outputs": [],
   "source": [
    "splade_scores = []\n",
    "for i in range(0,num_docs,intv):\n",
    "    splade_scores.append(splade[i:i+intv]['rtr_score'].sum())\n",
    "\n",
    "# The retrievability scores of the rest of corpus docs are 0 (not retrieved), \n",
    "# (i.e., the retrievability scores are zero within the last partition.)\n",
    "splade_scores.append(0.0) "
   ]
  },
  {
   "cell_type": "code",
   "execution_count": 32,
   "id": "0e04ec37-ade9-43b0-ad8f-fa3fb5c7fcb4",
   "metadata": {},
   "outputs": [
    {
     "data": {
      "text/plain": [
       "[0.3270948532539345,\n",
       " 0.13177173493713715,\n",
       " 0.10647423659402734,\n",
       " 0.05862028033592834,\n",
       " 0.05862028033592834,\n",
       " 0.05862028033592834,\n",
       " 0.05862028033592834,\n",
       " 0.05862028033592834,\n",
       " 0.05862028033592834,\n",
       " 0.05862028033592834,\n",
       " 0.024317212863403014,\n",
       " 0.0,\n",
       " 0.0,\n",
       " 0.0,\n",
       " 0.0,\n",
       " 0.0,\n",
       " 0.0]"
      ]
     },
     "execution_count": 32,
     "metadata": {},
     "output_type": "execute_result"
    }
   ],
   "source": [
    "splade_scores"
   ]
  },
  {
   "cell_type": "code",
   "execution_count": 33,
   "id": "11b354c3-31de-4f70-83c6-9bfc24478318",
   "metadata": {},
   "outputs": [
    {
     "data": {
      "text/plain": [
       "17"
      ]
     },
     "execution_count": 33,
     "metadata": {},
     "output_type": "execute_result"
    }
   ],
   "source": [
    "scale_num = max(len(bm25_scores),len(monot5_scores),len(splade_scores))\n",
    "scale_num"
   ]
  },
  {
   "cell_type": "code",
   "execution_count": 34,
   "id": "dae2a745-ea51-44c2-a1c9-3eec97827a98",
   "metadata": {},
   "outputs": [
    {
     "data": {
      "text/plain": [
       "array([ 1,  2,  3,  4,  5,  6,  7,  8,  9, 10, 11, 12, 13, 14, 15, 16, 17])"
      ]
     },
     "execution_count": 34,
     "metadata": {},
     "output_type": "execute_result"
    }
   ],
   "source": [
    "import numpy as np\n",
    "import matplotlib.pyplot as plt\n",
    "\n",
    "x_ticks = np.arange(1,scale_num +1)\n",
    "x_ticks"
   ]
  },
  {
   "cell_type": "code",
   "execution_count": 35,
   "id": "ac9fb064-4659-4067-8583-875b14eba3d1",
   "metadata": {},
   "outputs": [
    {
     "data": {
      "image/png": "[encoded data removed]",
      "text/plain": [
       "<Figure size 640x480 with 1 Axes>"
      ]
     },
     "metadata": {},
     "output_type": "display_data"
    }
   ],
   "source": [
    "total_width, n = 0.7, 3\n",
    "width = total_width / n\n",
    "x = x_ticks\n",
    "x = x - (total_width - width) / 2\n",
    "\n",
    "plt.bar(x, bm25_scores,  width=width, label='BM25')\n",
    "plt.bar(x + width, monot5_scores, width=width, label='Monot5')\n",
    "plt.bar(x + 2 * width, splade_scores, width=width, label='Splade')\n",
    "\n",
    "plt.tick_params(axis='x',length=0)\n",
    "plt.xticks(ticks=x_ticks, labels=None)\n",
    "\n",
    "plt.xlabel(f'Partition Number (with each partition containing {intv} docs)',fontsize=11)\n",
    "plt.ylabel('Accumulated Retrievability Score',fontsize=11)\n",
    "plt.legend()\n",
    "plt.show()"
   ]
  },
  {
   "cell_type": "code",
   "execution_count": 36,
   "id": "a3296fc1-e427-4baf-a42f-cf8523f4dafc",
   "metadata": {},
   "outputs": [],
   "source": [
    "# verify partition 4 about why the accumulated scores are the same\n",
    "partition = 4\n",
    "start = partition*intv"
   ]
  },
  {
   "cell_type": "code",
   "execution_count": 37,
   "id": "a317dcf2-1bcf-4505-b0d5-4f4ba4b65820",
   "metadata": {},
   "outputs": [
    {
     "data": {
      "text/plain": [
       "(450294, 3)"
      ]
     },
     "execution_count": 37,
     "metadata": {},
     "output_type": "execute_result"
    }
   ],
   "source": [
    "splade[splade['rtr_cnt'] == 1].shape"
   ]
  },
  {
   "cell_type": "code",
   "execution_count": 38,
   "id": "b98e5a34-ed26-4de1-8c54-bc3f4d201cf8",
   "metadata": {},
   "outputs": [
    {
     "data": {
      "text/plain": [
       "0.05862028033592834"
      ]
     },
     "execution_count": 38,
     "metadata": {},
     "output_type": "execute_result"
    }
   ],
   "source": [
    "splade[start:start+intv]['rtr_score'].sum()"
   ]
  },
  {
   "cell_type": "code",
   "execution_count": 39,
   "id": "037cdb25-a8b5-405e-9085-85ce2cb0b105",
   "metadata": {},
   "outputs": [
    {
     "data": {
      "text/plain": [
       "0.058621034169966495"
      ]
     },
     "execution_count": 39,
     "metadata": {},
     "output_type": "execute_result"
    }
   ],
   "source": [
    "bm25[start:start+intv]['rtr_score'].sum()"
   ]
  },
  {
   "cell_type": "code",
   "execution_count": 40,
   "id": "b8640179-32e9-4504-8d82-d2aeae0a99a8",
   "metadata": {},
   "outputs": [
    {
     "data": {
      "text/plain": [
       "0.058621034169966495"
      ]
     },
     "execution_count": 40,
     "metadata": {},
     "output_type": "execute_result"
    }
   ],
   "source": [
    "monot5[start:start+intv]['rtr_score'].sum()"
   ]
  },
  {
   "cell_type": "code",
   "execution_count": null,
   "id": "8e811cc6-5b4b-46e1-a975-25245b55aea4",
   "metadata": {},
   "outputs": [],
   "source": []
  }
 ],
 "metadata": {
  "kernelspec": {
   "display_name": "Python 3 (ipykernel)",
   "language": "python",
   "name": "python3"
  },
  "language_info": {
   "codemirror_mode": {
    "name": "ipython",
    "version": 3
   },
   "file_extension": ".py",
   "mimetype": "text/x-python",
   "name": "python",
   "nbconvert_exporter": "python",
   "pygments_lexer": "ipython3",
   "version": "3.10.13"
  }
 },
 "nbformat": 4,
 "nbformat_minor": 5
}
