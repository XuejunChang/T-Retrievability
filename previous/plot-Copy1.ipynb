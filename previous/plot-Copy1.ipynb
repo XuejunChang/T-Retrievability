{
 "cells": [
  {
   "cell_type": "code",
   "execution_count": null,
   "id": "ebfc404f-f2d4-4dfe-8fe0-005cbf4c296c",
   "metadata": {},
   "outputs": [],
   "source": [
    "import warnings\n",
    "warnings.filterwarnings('ignore')\n",
    "import pyterrier as pt\n",
    "if not pt.started():\n",
    "    pt.init()\n",
    "\n",
    "import os\n",
    "import pandas as pd\n",
    "import numpy as np\n",
    "pd.set_option('display.max_columns', None)\n",
    "pd.set_option('display.max_rows', None)\n",
    "pd.set_option('display.max_colwidth', False)\n",
    "\n",
    "from tqdm import tqdm\n",
    "tqdm.pandas()\n",
    "\n",
    "# import pyt_splade\n",
    "# splade = pyt_splade.Splade()\n",
    "\n"
   ]
  },
  {
   "cell_type": "code",
   "execution_count": null,
   "id": "ad0ece66-f982-4675-a9ba-e32723bbcd56",
   "metadata": {},
   "outputs": [],
   "source": [
    "dataset_name = 'msmarco-passage'\n",
    "dataset = pt.get_dataset(f'irds:{dataset_name}')\n",
    "\n",
    "# dataset2 = ir_datasets.load(\"msmarco-passage/dev\")\n",
    "# df2 = pd.DataFrame(pt.tqdm(dataset2.docs_iter()))\n",
    "\n",
    "df = pd.DataFrame(dataset.get_corpus_iter(verbose=True))"
   ]
  },
  {
   "cell_type": "code",
   "execution_count": null,
   "id": "fa0669cb-7ed0-4dd2-add2-f56f582b3dc4",
   "metadata": {},
   "outputs": [],
   "source": [
    "df.shape"
   ]
  },
  {
   "cell_type": "code",
   "execution_count": null,
   "id": "24d349fc-b3f1-442f-8e55-f9f4b1c5e819",
   "metadata": {},
   "outputs": [],
   "source": []
  },
  {
   "cell_type": "code",
   "execution_count": null,
   "id": "d29007ee-290b-46aa-90e5-ce2d4954c42c",
   "metadata": {},
   "outputs": [],
   "source": []
  },
  {
   "cell_type": "code",
   "execution_count": null,
   "id": "e402fd65-3044-44f4-b709-66f3cbdcc9c1",
   "metadata": {},
   "outputs": [],
   "source": [
    "df2.shape"
   ]
  },
  {
   "cell_type": "code",
   "execution_count": null,
   "id": "592e888a-693b-4e2c-a19f-3fc24ac419f6",
   "metadata": {},
   "outputs": [],
   "source": [
    "import ir_datasets\n",
    "dataset = ir_datasets.load(\"msmarco-passage/dev\")\n",
    "count = 0\n",
    "for doc in dataset.docs_iter():\n",
    "    print(doc)\n",
    "    count +=1\n",
    "    if count >5:\n",
    "        break"
   ]
  },
  {
   "cell_type": "code",
   "execution_count": null,
   "id": "1f30d418-42cd-4589-9e14-93f4dd76428b",
   "metadata": {},
   "outputs": [],
   "source": [
    "# ms_docids = {key['docno']:0 for key in dataset.get_corpus_iter(verbose=True)}"
   ]
  },
  {
   "cell_type": "code",
   "execution_count": null,
   "id": "c52b0920-ad48-41c8-8ead-d683a3db05e1",
   "metadata": {},
   "outputs": [],
   "source": [
    "import json\n",
    "\n",
    "def save(dict, file):\n",
    "    with open(file,'w') as f:\n",
    "        json.dump(dict, f)\n"
   ]
  },
  {
   "cell_type": "code",
   "execution_count": null,
   "id": "1ac11ee5-a382-4eae-a8cb-cc8b09ed6289",
   "metadata": {},
   "outputs": [],
   "source": [
    "def load(file):\n",
    "    with open(file,'r') as f:\n",
    "        ms_docids = json.load(f)\n",
    "    return ms_docids"
   ]
  },
  {
   "cell_type": "code",
   "execution_count": null,
   "id": "045c0619-2382-4a9f-89bc-715c18366a89",
   "metadata": {},
   "outputs": [],
   "source": [
    "# savedisk(ms_docids, './ms_docids.json')"
   ]
  },
  {
   "cell_type": "code",
   "execution_count": null,
   "id": "b08acd4e-771b-4afe-89e7-07f14843fb9d",
   "metadata": {},
   "outputs": [],
   "source": [
    "# for k,v in ms_docids.items():\n",
    "#     print(type(k),type(v))"
   ]
  },
  {
   "cell_type": "code",
   "execution_count": null,
   "id": "e1f6135d-559c-4d24-85ec-374da67fefa1",
   "metadata": {},
   "outputs": [],
   "source": [
    "#################### bm25 ###########################"
   ]
  },
  {
   "cell_type": "code",
   "execution_count": null,
   "id": "96f79ef6-cf95-44c2-b403-e9900f87e584",
   "metadata": {},
   "outputs": [],
   "source": [
    "\n",
    "def calc_rtr_score(df, docid_dict, savename):\n",
    "    for qid in topics['qid']:\n",
    "        D = df[df['qid'] == np.int64(qid)]\n",
    "        for dno in D['docno']:\n",
    "            rank =  D[D['docno'] == dno]['rank'].values[0]\n",
    "            score = 100/np.log(rank + 2) # plus 2 because the ranks start from zero\n",
    "            docid_dict[str(dno)] += score\n",
    "    \n",
    "    save(docid_dict,savename)   \n"
   ]
  },
  {
   "cell_type": "code",
   "execution_count": null,
   "id": "8d2d5918-38e9-4953-b255-e88b11a28edd",
   "metadata": {},
   "outputs": [],
   "source": [
    "bm25 = pd.read_csv('/nfs/datasets/cxj/retrievability-bias/results_bm25_10.csv')"
   ]
  },
  {
   "cell_type": "code",
   "execution_count": null,
   "id": "a5c733c8-5f95-4c24-b0cf-95242468dc73",
   "metadata": {},
   "outputs": [],
   "source": [
    "bm25_docids = load('./results/ms_docids.json')"
   ]
  },
  {
   "cell_type": "code",
   "execution_count": null,
   "id": "4977ccae-f0fb-458f-a2af-b0a188e6a24f",
   "metadata": {},
   "outputs": [],
   "source": [
    "calc_rtr_score(bm25, bm25_docids, './results/bm25_docids.json')"
   ]
  },
  {
   "cell_type": "code",
   "execution_count": null,
   "id": "c5277e9a-207f-47d6-b685-e01e6fc50f6e",
   "metadata": {},
   "outputs": [],
   "source": []
  },
  {
   "cell_type": "code",
   "execution_count": null,
   "id": "966d22be-314d-4d29-a71a-70f2766caf39",
   "metadata": {},
   "outputs": [],
   "source": [
    "monot5 = pd.read_csv('/nfs/datasets/cxj/retrievability-bias/results_bm25_monot5_r10.csv') # 100 docs retrieved for each query."
   ]
  },
  {
   "cell_type": "code",
   "execution_count": null,
   "id": "bacb1bde-77b6-4234-bf8c-b4ffe596e6b4",
   "metadata": {},
   "outputs": [],
   "source": [
    "monot5_docids = load('./results/ms_docids.json')"
   ]
  },
  {
   "cell_type": "code",
   "execution_count": null,
   "id": "aeca063f-d5aa-4503-9c8c-41dd0013b234",
   "metadata": {},
   "outputs": [],
   "source": [
    "calc_rtr_score(monot5, monot5_docids, './results/monot5_docids.json')"
   ]
  },
  {
   "cell_type": "code",
   "execution_count": null,
   "id": "920f3376-4759-4962-ac08-689ac629ebd2",
   "metadata": {},
   "outputs": [],
   "source": [
    "################ splade  ##################################"
   ]
  },
  {
   "cell_type": "code",
   "execution_count": null,
   "id": "2c060776-2461-407f-a40d-9536b35c16db",
   "metadata": {},
   "outputs": [],
   "source": [
    "splade = pd.read_csv('/nfs/datasets/cxj/retrievability-bias/results_splade_10.csv') # 100 docs retrieved for each query."
   ]
  },
  {
   "cell_type": "code",
   "execution_count": null,
   "id": "8f64ac4b-45fb-4c83-a295-27600fc951d7",
   "metadata": {},
   "outputs": [],
   "source": [
    "splade.head(2)"
   ]
  },
  {
   "cell_type": "code",
   "execution_count": null,
   "id": "00a09409-dd8d-4233-9147-f94ad0159c21",
   "metadata": {},
   "outputs": [],
   "source": [
    "splade_docids = load('./results/ms_docids.json')"
   ]
  },
  {
   "cell_type": "code",
   "execution_count": null,
   "id": "a4aee4e1-444e-4d10-9299-4a0c5c7dc029",
   "metadata": {},
   "outputs": [],
   "source": [
    "calc_rtr_score(splade, splade_docids, './results/splade_docids.json')"
   ]
  },
  {
   "cell_type": "code",
   "execution_count": null,
   "id": "f4d96463-8b78-49e0-9dcb-77fdc4763a6a",
   "metadata": {},
   "outputs": [],
   "source": []
  },
  {
   "cell_type": "code",
   "execution_count": null,
   "id": "b72186ae-d428-4e16-9320-07db11ca629c",
   "metadata": {},
   "outputs": [],
   "source": [
    "colbert = pd.read_csv('/nfs/datasets/cxj/retrievability-bias/result_colbert_10.csv').reset_index()"
   ]
  },
  {
   "cell_type": "code",
   "execution_count": null,
   "id": "cc11b0d1-3480-4aa2-a7ff-d155b0734f8c",
   "metadata": {},
   "outputs": [],
   "source": [
    "colbert = colbert.rename(columns={'docid':'docno'})"
   ]
  },
  {
   "cell_type": "code",
   "execution_count": null,
   "id": "6187763a-cbe2-4764-8640-bc104cdf8478",
   "metadata": {},
   "outputs": [],
   "source": [
    "colbert.head(2)"
   ]
  },
  {
   "cell_type": "code",
   "execution_count": null,
   "id": "7470ff90-53ae-49dd-b038-f75743a92a4f",
   "metadata": {},
   "outputs": [],
   "source": [
    "colbert_docids = load('./results/ms_docids.json')"
   ]
  },
  {
   "cell_type": "code",
   "execution_count": null,
   "id": "460a4bfd-79e2-4cc4-9d6c-ab21bccfe4e4",
   "metadata": {},
   "outputs": [],
   "source": [
    "calc_rtr_score(colbert, colbert_docids, './results/colbert_docids.json')"
   ]
  },
  {
   "cell_type": "code",
   "execution_count": null,
   "id": "a360b7e3-ac80-435b-ba53-354ddd21427b",
   "metadata": {},
   "outputs": [],
   "source": [
    "# import statistics\n",
    "\n",
    "# def calc_stats(data):\n",
    "#     values = list(data.values())\n",
    "\n",
    "#     mean = statistics.mean(values)\n",
    "#     std_dev = statistics.stdev(values) \n",
    "    \n",
    "#     print(f\"Mean: {mean}\")\n",
    "#     print(f\"Standard Deviation: {std_dev}\")"
   ]
  },
  {
   "cell_type": "code",
   "execution_count": null,
   "id": "024134c7-c6f3-4dd5-8494-2b3ffd98eb4f",
   "metadata": {},
   "outputs": [],
   "source": [
    "# for v in bm25_docids.vavlues():\n",
    "#     print(v)"
   ]
  },
  {
   "cell_type": "code",
   "execution_count": null,
   "id": "866acb55-186f-4719-a434-a8bb115d7781",
   "metadata": {},
   "outputs": [],
   "source": [
    "bm25_docids = load('./results/bm25_docids.json')"
   ]
  },
  {
   "cell_type": "code",
   "execution_count": null,
   "id": "1da2f7a6-8911-4fa7-927f-37545cbd863b",
   "metadata": {},
   "outputs": [],
   "source": [
    "monot5_docids = load('./results/monot5_docids.json')"
   ]
  },
  {
   "cell_type": "code",
   "execution_count": null,
   "id": "67ab490b-4ed5-4bd9-abb9-8ab58b10f277",
   "metadata": {},
   "outputs": [],
   "source": [
    "splade_docids = load('./results/splade_docids.json')"
   ]
  },
  {
   "cell_type": "code",
   "execution_count": null,
   "id": "5cb6947d-19bf-422e-9dde-9ba50006c6f5",
   "metadata": {},
   "outputs": [],
   "source": [
    "colbert_docids = load('./results/colbert_docids.json')"
   ]
  },
  {
   "cell_type": "code",
   "execution_count": null,
   "id": "2c3ac39d-a3d8-461f-bab7-09fec73d98f5",
   "metadata": {},
   "outputs": [],
   "source": [
    "calc_stats(bm25_docids)"
   ]
  },
  {
   "cell_type": "code",
   "execution_count": null,
   "id": "e688500a-6d9b-438e-ac3d-b1537de685e2",
   "metadata": {},
   "outputs": [],
   "source": [
    "calc_stats(monot5_docids)"
   ]
  },
  {
   "cell_type": "code",
   "execution_count": null,
   "id": "53dee620-90cf-4d4a-9cbc-acb509df1396",
   "metadata": {},
   "outputs": [],
   "source": [
    "calc_stats(splade_docids)"
   ]
  },
  {
   "cell_type": "code",
   "execution_count": null,
   "id": "7cd3f89d-861e-48d6-9149-15cd8eabf962",
   "metadata": {},
   "outputs": [],
   "source": [
    "calc_stats(colbert_docids)"
   ]
  },
  {
   "cell_type": "code",
   "execution_count": null,
   "id": "3ba9e3a3-d915-44c6-ba27-bd6a74cc8724",
   "metadata": {},
   "outputs": [],
   "source": [
    "def gini_coefficient(data_dict):\n",
    "    # Extract values from the dictionary\n",
    "    # values = list(data_dict.values())\n",
    "    values = [int(i) for i in data_dict.values()]\n",
    "\n",
    "    print(min(values))\n",
    "    print(max(values))\n",
    "    # Sort values in ascending order\n",
    "    sorted_values = sorted(values)\n",
    "\n",
    "    \n",
    "    \n",
    "    # Number of values\n",
    "    n = len(sorted_values)\n",
    "    \n",
    "    # Check for zero total (to avoid division errors)\n",
    "    if n == 0:\n",
    "        return 0\n",
    "    \n",
    "    # Calculate the cumulative sums of the sorted values\n",
    "    cumulative_sum = sum((i + 1) * val for i, val in enumerate(sorted_values))\n",
    "    total = sum(sorted_values)\n",
    "    \n",
    "    # Calculate the Gini coefficient\n",
    "    gini = 1 - (2 * cumulative_sum) / (n * total) + (1 / n)\n",
    "    return gini\n"
   ]
  },
  {
   "cell_type": "code",
   "execution_count": null,
   "id": "c604f2d9-10ff-41e9-a4cf-1f3d565b275f",
   "metadata": {},
   "outputs": [],
   "source": [
    "\n",
    "def gini_coefficient2(data_dict):\n",
    "    # values = list(data_dict.values())\n",
    "    values = data_dict\n",
    "    sort_list=sorted(values)\n",
    "    sum_number=sum(sort_list)\n",
    "    accm_list=sort_list.copy()\n",
    "    for i in range(len(accm_list)-1):\n",
    "        accm_list[i+1]=accm_list[i]+accm_list[i+1]\n",
    "    return 1-(sum_number*0.5+sum(accm_list[:-1]))/(sum_number*len(sort_list)*0.5)\n",
    "\n"
   ]
  },
  {
   "cell_type": "code",
   "execution_count": null,
   "id": "f8535228-99dd-462c-ac99-25fe29c3c721",
   "metadata": {},
   "outputs": [],
   "source": [
    "# Calculate Gini coefficient\n",
    "\n",
    "gini_value = gini_coefficient3(bm25_docids)\n",
    "print(f\"Gini Coefficient: {gini_value:.4f}\")"
   ]
  },
  {
   "cell_type": "code",
   "execution_count": null,
   "id": "6cab4314-50dc-46e8-97de-e1e070fa660e",
   "metadata": {},
   "outputs": [],
   "source": [
    "# Calculate Gini coefficient\n",
    "gini_value = gini(monot5_docids)\n",
    "print(f\"Gini Coefficient: {gini_value:.4f}\")\n",
    "# Gini Coefficient: 0.9268"
   ]
  },
  {
   "cell_type": "code",
   "execution_count": null,
   "id": "ecd9554c-5068-4242-a982-e8ec9daef187",
   "metadata": {},
   "outputs": [],
   "source": [
    "# Calculate Gini coefficient\n",
    "gini_value = gini(splade_docids)\n",
    "print(f\"Gini Coefficient: {gini_value:.4f}\")\n",
    "# Gini Coefficient: 0.9601"
   ]
  },
  {
   "cell_type": "code",
   "execution_count": null,
   "id": "c8a97601-ce95-4f59-9d2d-96cfc0f96c27",
   "metadata": {},
   "outputs": [],
   "source": [
    "# Calculate Gini coefficient\n",
    "gini_value = gini(colbert_docids)\n",
    "print(f\"Gini Coefficient: {gini_value:.4f}\")\n",
    "# Gini Coefficient: 0.9260"
   ]
  },
  {
   "cell_type": "code",
   "execution_count": null,
   "id": "ef4dd7b1-fae7-49b5-8201-e17b84dc7f57",
   "metadata": {},
   "outputs": [],
   "source": []
  },
  {
   "cell_type": "code",
   "execution_count": null,
   "id": "68f576b2-9614-4564-9eb1-e1a5e7b50ecc",
   "metadata": {},
   "outputs": [],
   "source": [
    "bm25_csv = pd.DataFrame.from_dict(bm25_docids, orient=\"index\",columns=[\"score\"])"
   ]
  },
  {
   "cell_type": "code",
   "execution_count": null,
   "id": "62b15b47-577c-4746-8f9a-7e8a345242ce",
   "metadata": {},
   "outputs": [],
   "source": [
    "bm25_csv.to_csv('./results/bm25.csv')"
   ]
  },
  {
   "cell_type": "code",
   "execution_count": null,
   "id": "6ed2a20e-797d-459e-a118-793c61be0754",
   "metadata": {},
   "outputs": [],
   "source": [
    "monot5_csv = pd.DataFrame.from_dict(monot5_docids, orient=\"index\",columns=[\"score\"])"
   ]
  },
  {
   "cell_type": "code",
   "execution_count": null,
   "id": "6dec5747-dd3d-47af-9fe7-761204d2ad5a",
   "metadata": {},
   "outputs": [],
   "source": [
    "monot5_csv.to_csv('./results/monot5.csv')"
   ]
  },
  {
   "cell_type": "code",
   "execution_count": null,
   "id": "fc93dd4c-1494-452a-bfc2-3dd32c65a026",
   "metadata": {},
   "outputs": [],
   "source": [
    "splade_csv = pd.DataFrame.from_dict(splade_docids, orient=\"index\",columns=[\"score\"])\n",
    "splade_csv.to_csv('./results/splade.csv')\n"
   ]
  },
  {
   "cell_type": "code",
   "execution_count": null,
   "id": "3d7194e0-ba63-4837-98dc-561725281ecc",
   "metadata": {},
   "outputs": [],
   "source": [
    "colbert_csv = pd.DataFrame.from_dict(colbert_docids, orient=\"index\",columns=[\"score\"])\n",
    "colbert_csv.to_csv('./results/colbert.csv')"
   ]
  },
  {
   "cell_type": "code",
   "execution_count": null,
   "id": "1860bf51-8349-4ee8-a972-00d83826c011",
   "metadata": {},
   "outputs": [],
   "source": [
    "bm25_csv = pd.read_csv('./results/bm25.csv')\n",
    "\n",
    "\n"
   ]
  },
  {
   "cell_type": "code",
   "execution_count": null,
   "id": "8fa458db-0913-4a84-a50a-4ea78dd7f327",
   "metadata": {},
   "outputs": [],
   "source": [
    "bm25csv = pd.read_csv('./results/bm25.csv',columns=[''])"
   ]
  },
  {
   "cell_type": "code",
   "execution_count": null,
   "id": "19341481-4426-4961-bf19-5510b766ffac",
   "metadata": {},
   "outputs": [],
   "source": [
    "bm25csv.head()"
   ]
  },
  {
   "cell_type": "code",
   "execution_count": null,
   "id": "25e9ba65-28f6-499f-8c94-a8c71675d109",
   "metadata": {},
   "outputs": [],
   "source": []
  },
  {
   "cell_type": "code",
   "execution_count": null,
   "id": "bcfb905f-348e-4c2e-ab8f-af24078df097",
   "metadata": {},
   "outputs": [],
   "source": [
    "bm25_csv = pd.read_csv('./results/bm25.csv')\n",
    "column = bm25_csv.columns[1]\n",
    "bm25_csv = bm25_csv[bm25_csv[column]>0]\n",
    "bm25_csv.to_csv('./results/bm25_csv_pruned.csv', index=False)\n",
    "\n",
    "monot5_csv = pd.read_csv('./results/monot5.csv')\n",
    "column = monot5_csv.columns[1]\n",
    "monot5_csv = monot5_csv[monot5_csv[column]>0]\n",
    "monot5_csv.to_csv('./results/monot5_csv_pruned.csv', index=False)\n",
    "\n",
    "splade_csv = pd.read_csv('./results/splade.csv')\n",
    "column = splade_csv.columns[1]\n",
    "splade_csv = splade_csv[splade_csv[column]>0]\n",
    "splade_csv.to_csv('./results/splade_csv_pruned.csv', index=False)\n",
    "\n",
    "colbert_csv = pd.read_csv('./results/colbert.csv')\n",
    "column = colbert_csv.columns[1]\n",
    "colbert_csv = colbert_csv[colbert_csv[column]>0]\n",
    "colbert_csv.to_csv('./results/colbert_csv_pruned.csv', index=False)"
   ]
  },
  {
   "cell_type": "code",
   "execution_count": null,
   "id": "9f132734-b65f-4237-aa1d-80d29b0ea02b",
   "metadata": {},
   "outputs": [],
   "source": [
    "bm25_csv = pd.read_csv('./results/bm25.csv')\n",
    "column = bm25_csv.columns[1]\n",
    "bm25_csv = bm25_csv[bm25_csv[column] == 0]\n",
    "bm25_csv.to_csv('./results/bm25_csv_with_0.csv', index=False)\n",
    "\n",
    "monot5_csv = pd.read_csv('./results/monot5.csv')\n",
    "column = monot5_csv.columns[1]\n",
    "monot5_csv = monot5_csv[monot5_csv[column] == 0]\n",
    "monot5_csv.to_csv('./results/monot5_csv_with_0.csv', index=False)\n",
    "\n",
    "splade_csv = pd.read_csv('./results/splade.csv')\n",
    "column = splade_csv.columns[1]\n",
    "splade_csv = splade_csv[splade_csv[column] == 0]\n",
    "splade_csv.to_csv('./results/splade_csv_with_0.csv', index=False)\n",
    "\n",
    "colbert_csv = pd.read_csv('./results/colbert.csv')\n",
    "column = colbert_csv.columns[1]\n",
    "colbert_csv = colbert_csv[colbert_csv[column] == 0]\n",
    "colbert_csv.to_csv('./results/colbert_csv_with_0.csv', index=False)"
   ]
  },
  {
   "cell_type": "code",
   "execution_count": null,
   "id": "7e3d645f-da4c-4caf-869e-6bd8e1dba0d7",
   "metadata": {},
   "outputs": [],
   "source": [
    "bm25_csv.shape"
   ]
  },
  {
   "cell_type": "code",
   "execution_count": null,
   "id": "e3b7458b-75d0-46fe-a810-f925b3f9df2d",
   "metadata": {},
   "outputs": [],
   "source": [
    "monot5_csv.shape"
   ]
  },
  {
   "cell_type": "code",
   "execution_count": null,
   "id": "8e806b35-d6f2-4483-a5dc-0fcbd81da036",
   "metadata": {},
   "outputs": [],
   "source": [
    "splade_csv.shape"
   ]
  },
  {
   "cell_type": "code",
   "execution_count": null,
   "id": "51cfea5b-01e4-49c1-9c1c-e0b015cd13f0",
   "metadata": {},
   "outputs": [],
   "source": [
    "colbert_csv.shape"
   ]
  },
  {
   "cell_type": "code",
   "execution_count": null,
   "id": "b700e47f-852d-47a7-be01-f04cb851f946",
   "metadata": {},
   "outputs": [],
   "source": [
    "colbert_csv = pd.read_csv('./results/colbert_csv_pruned.csv')"
   ]
  },
  {
   "cell_type": "code",
   "execution_count": null,
   "id": "4ef6fef1-da99-4554-91df-8a03c2acb595",
   "metadata": {},
   "outputs": [],
   "source": [
    "colbert_csv.sort_values(by='0',ascending=False).head(10)"
   ]
  },
  {
   "cell_type": "code",
   "execution_count": null,
   "id": "2e9acf49-071b-40b7-976f-c01595ea0f67",
   "metadata": {},
   "outputs": [],
   "source": []
  },
  {
   "cell_type": "code",
   "execution_count": null,
   "id": "f6cf01e2-6854-49f4-8361-720b8cf42b55",
   "metadata": {},
   "outputs": [],
   "source": [
    "def G(v):\n",
    "    v = np.array(v)\n",
    "    bins = np.linspace(0., 100., 11)\n",
    "    total = float(np.sum(v))\n",
    "    yvals = [0]\n",
    "    for b in bins[1:]:\n",
    "        bin_vals = v[v <= np.percentile(v, b)]\n",
    "        bin_fraction = (np.sum(bin_vals) / total) * 100.0\n",
    "        yvals.append(bin_fraction)\n",
    "    # perfect equality area\n",
    "    pe_area = np.trapz(bins, x=bins)\n",
    "    # lorenz area\n",
    "    lorenz_area = np.trapz(yvals, x=bins)\n",
    "    gini_val = (pe_area - lorenz_area) / float(pe_area)\n",
    "    # return bins, yvals, gini_val\n",
    "    return gini_val"
   ]
  },
  {
   "cell_type": "code",
   "execution_count": null,
   "id": "19f8015a-bb39-4e27-9c1d-260e0843a3a8",
   "metadata": {},
   "outputs": [],
   "source": [
    "bm25_csv = pd.read_csv('./results/bm25_csv_pruned.csv',ignore_index=True)"
   ]
  },
  {
   "cell_type": "code",
   "execution_count": null,
   "id": "01472ee7-e275-419d-af43-3d235b001bdf",
   "metadata": {},
   "outputs": [],
   "source": [
    "bm25_csv.head()"
   ]
  },
  {
   "cell_type": "code",
   "execution_count": null,
   "id": "bf05b182-4578-4787-adff-ce55ae96d418",
   "metadata": {},
   "outputs": [],
   "source": [
    "bm25_csv = pd.read_csv('./results/bm25.csv')\n",
    "column = bm25_csv.columns[0]\n",
    "bm25_csv = bm25_csv[bm25_csv[column]>0]\n",
    "# bm25_csv.to_csv('./results/bm25_csv_pruned.csv')\n",
    "bm25_csv.head()"
   ]
  },
  {
   "cell_type": "code",
   "execution_count": null,
   "id": "ee66dc3d-b33f-41d2-a3d9-8d76f07c86d6",
   "metadata": {},
   "outputs": [],
   "source": [
    "scores = bm25_csv[bm25_csv.columns[1]].to_list()"
   ]
  },
  {
   "cell_type": "code",
   "execution_count": null,
   "id": "66c28435-5c10-4f15-8189-c0b5076086be",
   "metadata": {
    "scrolled": true
   },
   "outputs": [],
   "source": [
    "gini_value = gini_coefficient2(scores)\n",
    "gini_value"
   ]
  },
  {
   "cell_type": "code",
   "execution_count": null,
   "id": "f3414749-9855-4c59-8d15-9c4bb0b94e9d",
   "metadata": {},
   "outputs": [],
   "source": [
    "scores = monot5_csv[monot5_csv.columns[1]].to_list()\n",
    "gini_value = gini_coefficient2(scores)\n",
    "gini_value"
   ]
  },
  {
   "cell_type": "code",
   "execution_count": null,
   "id": "f2afef05-0e30-4987-ac6d-de56f556cd57",
   "metadata": {},
   "outputs": [],
   "source": [
    "scores = splade_csv[splade_csv.columns[1]].to_list()\n",
    "gini_value = gini_coefficient2(scores)\n",
    "gini_value"
   ]
  },
  {
   "cell_type": "code",
   "execution_count": null,
   "id": "879585b0-32bd-4bad-a1cd-4068089c2740",
   "metadata": {},
   "outputs": [],
   "source": [
    "scores = colbert_csv[colbert_csv.columns[1]].to_list()\n",
    "gini_value = gini_coefficient2(scores)\n",
    "gini_value"
   ]
  },
  {
   "cell_type": "code",
   "execution_count": null,
   "id": "cfdc21d1-15ce-4a1c-afe2-c4ccd6926975",
   "metadata": {},
   "outputs": [],
   "source": [
    "import statistics\n",
    "\n",
    "def calc_stats(values):\n",
    "    # values = list(data.values())\n",
    "\n",
    "    mean = statistics.mean(values)\n",
    "    std_dev = statistics.stdev(values) \n",
    "    \n",
    "    print(f\"Mean: {mean}\")\n",
    "    print(f\"Standard Deviation: {std_dev}\")"
   ]
  },
  {
   "cell_type": "code",
   "execution_count": null,
   "id": "d9f24255-4fed-4b9a-b8a2-97314ff18a80",
   "metadata": {},
   "outputs": [],
   "source": [
    "calc_stats(bm25_csv[bm25_csv.columns[1]].to_list())"
   ]
  },
  {
   "cell_type": "code",
   "execution_count": null,
   "id": "65f38de3-cc46-4ff2-b07f-e5c952112e36",
   "metadata": {},
   "outputs": [],
   "source": [
    "calc_stats(monot5_csv[monot5_csv.columns[1]].to_list())"
   ]
  },
  {
   "cell_type": "code",
   "execution_count": null,
   "id": "6754318b-dee5-48ea-9b58-c3ee19bed07b",
   "metadata": {},
   "outputs": [],
   "source": [
    "calc_stats(splade_csv[splade_csv.columns[1]].to_list())"
   ]
  },
  {
   "cell_type": "code",
   "execution_count": null,
   "id": "fa64e587-c238-44e5-b462-13c8bd419b1e",
   "metadata": {},
   "outputs": [],
   "source": [
    "calc_stats(colbert_csv[colbert_csv.columns[1]].to_list())"
   ]
  },
  {
   "cell_type": "code",
   "execution_count": null,
   "id": "99b1219a-5c7b-4120-acae-af5c4e6174e5",
   "metadata": {},
   "outputs": [],
   "source": [
    "bm25_csv.head(2)"
   ]
  },
  {
   "cell_type": "code",
   "execution_count": null,
   "id": "fc1b252f-d3cc-4f81-b5d4-0e1b495c3f86",
   "metadata": {},
   "outputs": [],
   "source": []
  },
  {
   "cell_type": "code",
   "execution_count": null,
   "id": "cac44660-fb08-4d66-819c-a5a655771b3e",
   "metadata": {},
   "outputs": [],
   "source": [
    "import ir_measures\n",
    "from ir_measures import nDCG, MRR\n",
    "\n",
    "\n",
    "def calc_metrics(df):\n",
    "    # Prepare query-level results\n",
    "    run = []\n",
    "    for qid, group in df.groupby('qid'):\n",
    "        for _, row in group.iterrows():\n",
    "            input_data = [ir_measures.ScoredDoc(query_id=row['qid'], doc_id=row['docid'], score=10- row['rank'])]\n",
    "            run.append(input_data)\n",
    "\n",
    "    print(run)\n",
    "    # qrel = [\n",
    "    # ir_measures.Qrel(query_id=row['qid'], doc_id=row['docno'], relevance=row['label'])\n",
    "    # for _, row in qrels.iterrows()\n",
    "    # ]\n",
    "    \n",
    "    # # Calculate metrics\n",
    "    # metrics = ir_measures.calc_aggregate([nDCG @ 10, MRR], qrel, run)\n",
    "    \n",
    "    # # Print metrics\n",
    "    # print(f\"nDCG@10: {metrics[nDCG @ 10]}\")\n",
    "    # print(f\"MRR: {metrics[MRR]}\")\n",
    "\n"
   ]
  },
  {
   "cell_type": "code",
   "execution_count": null,
   "id": "5f35e1b1-2391-4bda-9403-b3237edb98c3",
   "metadata": {},
   "outputs": [],
   "source": [
    "calc_metrics(bm25[:20])"
   ]
  },
  {
   "cell_type": "code",
   "execution_count": null,
   "id": "8595bd95-8b4b-4066-ad02-d96e21a07d36",
   "metadata": {},
   "outputs": [],
   "source": [
    "qls=qls[['query_id','doc_id','relevance']]"
   ]
  },
  {
   "cell_type": "code",
   "execution_count": null,
   "id": "0dbafe2e-4f4e-4273-a7f9-e0d6ac07d91e",
   "metadata": {},
   "outputs": [],
   "source": [
    "qls[['query_id','doc_id']] = qls[['query_id','doc_id']].astype(str)"
   ]
  },
  {
   "cell_type": "code",
   "execution_count": null,
   "id": "4095d0aa-8676-4f57-b01c-5025cd5fadad",
   "metadata": {},
   "outputs": [],
   "source": [
    "qls['query_id'] = qls['query_id'].astype(str)"
   ]
  },
  {
   "cell_type": "code",
   "execution_count": null,
   "id": "f341ad64-2d50-47ad-842f-e714524a7293",
   "metadata": {},
   "outputs": [],
   "source": [
    "qls.dtypes"
   ]
  },
  {
   "cell_type": "code",
   "execution_count": null,
   "id": "aeda770f-4382-4003-8950-0af461e5e084",
   "metadata": {},
   "outputs": [],
   "source": [
    "bm25_run[:10]"
   ]
  },
  {
   "cell_type": "code",
   "execution_count": null,
   "id": "d1c7631e-ebc3-4ac3-b66a-7bc553689040",
   "metadata": {},
   "outputs": [],
   "source": [
    "bm25_run.info()"
   ]
  },
  {
   "cell_type": "code",
   "execution_count": null,
   "id": "63a238d9-7e75-44bb-bd39-275f88ea2c5b",
   "metadata": {},
   "outputs": [],
   "source": [
    "# aggregated results\n",
    "metrics = ir_measures.calc_aggregate([nDCG@10, MRR], qls, bm25_run[:10])\n",
    "print(metrics)"
   ]
  },
  {
   "cell_type": "code",
   "execution_count": null,
   "id": "d348f07c-03a3-4b72-8ec2-e1726dfa0bc5",
   "metadata": {},
   "outputs": [],
   "source": [
    "print()"
   ]
  },
  {
   "cell_type": "code",
   "execution_count": null,
   "id": "b3b7b6f5-8df1-498a-9d29-c22a45b53ef6",
   "metadata": {},
   "outputs": [],
   "source": [
    "qrels.tail(10)"
   ]
  },
  {
   "cell_type": "code",
   "execution_count": null,
   "id": "0a6c083f-f117-4e51-873e-f920cca24796",
   "metadata": {},
   "outputs": [],
   "source": [
    "bm25_run.head()"
   ]
  },
  {
   "cell_type": "code",
   "execution_count": null,
   "id": "ce7f451d-8f6e-40b9-b087-49bb6b19981b",
   "metadata": {},
   "outputs": [],
   "source": []
  },
  {
   "cell_type": "code",
   "execution_count": null,
   "id": "2aa906ac-056b-4c7f-993c-623fe8f137f7",
   "metadata": {},
   "outputs": [],
   "source": []
  },
  {
   "cell_type": "code",
   "execution_count": null,
   "id": "3f9ec9da-8b4a-4e86-9205-6d15dd7e5f62",
   "metadata": {},
   "outputs": [],
   "source": []
  },
  {
   "cell_type": "code",
   "execution_count": 349,
   "id": "8111e0aa-15a3-4be4-93e7-52939eadc93b",
   "metadata": {},
   "outputs": [],
   "source": [
    "import ir_datasets\n",
    "qrels = ir_datasets.load(\"msmarco-passage/dev\").qrels_iter()"
   ]
  },
  {
   "cell_type": "code",
   "execution_count": 350,
   "id": "9491ee9f-5f70-4909-8dc3-be85372e39be",
   "metadata": {},
   "outputs": [],
   "source": [
    "bm25 = pd.read_csv('/nfs/datasets/cxj/retrievability-bias/results_bm25_10.csv', index_col=0)"
   ]
  },
  {
   "cell_type": "code",
   "execution_count": 351,
   "id": "3ba6f678-c4db-4b79-ae41-9b5f31356880",
   "metadata": {},
   "outputs": [
    {
     "data": {
      "text/html": [
       "<div>\n",
       "<style scoped>\n",
       "    .dataframe tbody tr th:only-of-type {\n",
       "        vertical-align: middle;\n",
       "    }\n",
       "\n",
       "    .dataframe tbody tr th {\n",
       "        vertical-align: top;\n",
       "    }\n",
       "\n",
       "    .dataframe thead th {\n",
       "        text-align: right;\n",
       "    }\n",
       "</style>\n",
       "<table border=\"1\" class=\"dataframe\">\n",
       "  <thead>\n",
       "    <tr style=\"text-align: right;\">\n",
       "      <th></th>\n",
       "      <th>qid</th>\n",
       "      <th>docid</th>\n",
       "      <th>docno</th>\n",
       "      <th>rank</th>\n",
       "      <th>score</th>\n",
       "      <th>query</th>\n",
       "      <th>text</th>\n",
       "    </tr>\n",
       "  </thead>\n",
       "  <tbody>\n",
       "    <tr>\n",
       "      <th>0</th>\n",
       "      <td>1048578</td>\n",
       "      <td>7187236</td>\n",
       "      <td>7187236</td>\n",
       "      <td>0</td>\n",
       "      <td>67.528593</td>\n",
       "      <td>cost of endless pools swim spa</td>\n",
       "      <td>The Endless Pool 15' endless pools swim spa Endless Pool Nightmare Buy A Big Spa Instead Great training pool</td>\n",
       "    </tr>\n",
       "    <tr>\n",
       "      <th>1</th>\n",
       "      <td>1048578</td>\n",
       "      <td>7471198</td>\n",
       "      <td>7471198</td>\n",
       "      <td>1</td>\n",
       "      <td>62.121928</td>\n",
       "      <td>cost of endless pools swim spa</td>\n",
       "      <td>Cal Spas is the leading maker of home resort products. Cal Spas makes a great jetted swim spa with thoughtful attention paid to all design features. Read our Cal Spas Swim Spa Review. Dimesion One offers swim spas through their Aquatic Fitness Systems brand. Read our Dimension One Swim Spa Review. Endless Pools is one of the industry leaders in swim spas and counter-current pools. Known for their superior swim current, Endless Pools sell a range of swim spas and modular pools.</td>\n",
       "    </tr>\n",
       "    <tr>\n",
       "      <th>2</th>\n",
       "      <td>1048578</td>\n",
       "      <td>5365326</td>\n",
       "      <td>5365326</td>\n",
       "      <td>2</td>\n",
       "      <td>51.958492</td>\n",
       "      <td>cost of endless pools swim spa</td>\n",
       "      <td>How much does a swim spa cost. 1  A top of the line, branded swim spa 9 feet by 16 feet with the bells and whistles could be $30,000 to $40,000. A number of value brands will sell swim spas in the $15,000 to $18,000 range. 2  CalSpas sells swim spas from $14,999 to $18,999 depending upon the product and configuration (May 2011). 3  Endless Pools sells swim spas from $7,500 to $28,900.</td>\n",
       "    </tr>\n",
       "    <tr>\n",
       "      <th>3</th>\n",
       "      <td>1048578</td>\n",
       "      <td>7187241</td>\n",
       "      <td>7187241</td>\n",
       "      <td>3</td>\n",
       "      <td>51.947947</td>\n",
       "      <td>cost of endless pools swim spa</td>\n",
       "      <td>Disclaimer: Endless Pools (and all other swim spa manufacturers) are intentionally secretive about their pricing. All information in this article should be seen as a guide only, we make no claims to the accuracy of any endless pool prices on this page. All opinions are our own. We are not associated with any particular brand of swim spa in any way.</td>\n",
       "    </tr>\n",
       "    <tr>\n",
       "      <th>4</th>\n",
       "      <td>1048578</td>\n",
       "      <td>6802210</td>\n",
       "      <td>6802210</td>\n",
       "      <td>4</td>\n",
       "      <td>47.925985</td>\n",
       "      <td>cost of endless pools swim spa</td>\n",
       "      <td>Endless Pools is one of the first companies to develop this Swim Spa, or “endless” swimming pool concept quite a number of years ago. Because of its modular design, it can be installed indoors in existing spaces. All of the components of an Original Endless Pool fit easily through doorways and down stairs.</td>\n",
       "    </tr>\n",
       "  </tbody>\n",
       "</table>\n",
       "</div>"
      ],
      "text/plain": [
       "       qid    docid    docno  rank      score                           query  \\\n",
       "0  1048578  7187236  7187236  0     67.528593  cost of endless pools swim spa   \n",
       "1  1048578  7471198  7471198  1     62.121928  cost of endless pools swim spa   \n",
       "2  1048578  5365326  5365326  2     51.958492  cost of endless pools swim spa   \n",
       "3  1048578  7187241  7187241  3     51.947947  cost of endless pools swim spa   \n",
       "4  1048578  6802210  6802210  4     47.925985  cost of endless pools swim spa   \n",
       "\n",
       "                                                                                                                                                                                                                                                                                                                                                                                                                                                                                                text  \n",
       "0  The Endless Pool 15' endless pools swim spa Endless Pool Nightmare Buy A Big Spa Instead Great training pool                                                                                                                                                                                                                                                                                                                                                                                       \n",
       "1  Cal Spas is the leading maker of home resort products. Cal Spas makes a great jetted swim spa with thoughtful attention paid to all design features. Read our Cal Spas Swim Spa Review. Dimesion One offers swim spas through their Aquatic Fitness Systems brand. Read our Dimension One Swim Spa Review. Endless Pools is one of the industry leaders in swim spas and counter-current pools. Known for their superior swim current, Endless Pools sell a range of swim spas and modular pools.  \n",
       "2  How much does a swim spa cost. 1  A top of the line, branded swim spa 9 feet by 16 feet with the bells and whistles could be $30,000 to $40,000. A number of value brands will sell swim spas in the $15,000 to $18,000 range. 2  CalSpas sells swim spas from $14,999 to $18,999 depending upon the product and configuration (May 2011). 3  Endless Pools sells swim spas from $7,500 to $28,900.                                                                                                \n",
       "3  Disclaimer: Endless Pools (and all other swim spa manufacturers) are intentionally secretive about their pricing. All information in this article should be seen as a guide only, we make no claims to the accuracy of any endless pool prices on this page. All opinions are our own. We are not associated with any particular brand of swim spa in any way.                                                                                                                                     \n",
       "4  Endless Pools is one of the first companies to develop this Swim Spa, or “endless” swimming pool concept quite a number of years ago. Because of its modular design, it can be installed indoors in existing spaces. All of the components of an Original Endless Pool fit easily through doorways and down stairs.                                                                                                                                                                                "
      ]
     },
     "execution_count": 351,
     "metadata": {},
     "output_type": "execute_result"
    }
   ],
   "source": [
    "bm25[:5]"
   ]
  },
  {
   "cell_type": "code",
   "execution_count": 352,
   "id": "59efba51-ae9d-4271-8566-dd1fd87699c6",
   "metadata": {},
   "outputs": [
    {
     "data": {
      "text/plain": [
       "{nDCG@10: 5.416351715858455e-06, RR: 1.9991923263001747e-06}"
      ]
     },
     "execution_count": 352,
     "metadata": {},
     "output_type": "execute_result"
    }
   ],
   "source": [
    "bm25_run = bm25.rename(columns={'qid':'query_id','docid':'doc_id'})\n",
    "del bm25_run['score']\n",
    "bm25_run['score'] = 10-bm25_run['rank']\n",
    "bm25_run = bm25_run[['query_id','doc_id','score']]\n",
    "bm25_run[['query_id','doc_id']] = bm25_run[['query_id','doc_id']].astype(str)\n",
    "ir_measures.calc_aggregate([nDCG@10, RR], qrels, bm25_run[:10])\n",
    "# print(metrics)"
   ]
  },
  {
   "cell_type": "code",
   "execution_count": 343,
   "id": "65ce1abe-fa8f-4fc5-ab3f-49a6c21b6094",
   "metadata": {},
   "outputs": [
    {
     "data": {
      "text/html": [
       "<div>\n",
       "<style scoped>\n",
       "    .dataframe tbody tr th:only-of-type {\n",
       "        vertical-align: middle;\n",
       "    }\n",
       "\n",
       "    .dataframe tbody tr th {\n",
       "        vertical-align: top;\n",
       "    }\n",
       "\n",
       "    .dataframe thead th {\n",
       "        text-align: right;\n",
       "    }\n",
       "</style>\n",
       "<table border=\"1\" class=\"dataframe\">\n",
       "  <thead>\n",
       "    <tr style=\"text-align: right;\">\n",
       "      <th></th>\n",
       "      <th>query_id</th>\n",
       "      <th>doc_id</th>\n",
       "      <th>docno</th>\n",
       "      <th>rank</th>\n",
       "      <th>query</th>\n",
       "      <th>text</th>\n",
       "      <th>score</th>\n",
       "    </tr>\n",
       "  </thead>\n",
       "  <tbody>\n",
       "    <tr>\n",
       "      <th>0</th>\n",
       "      <td>1048578</td>\n",
       "      <td>7187236</td>\n",
       "      <td>7187236</td>\n",
       "      <td>0</td>\n",
       "      <td>cost of endless pools swim spa</td>\n",
       "      <td>The Endless Pool 15' endless pools swim spa Endless Pool Nightmare Buy A Big Spa Instead Great training pool</td>\n",
       "      <td>10</td>\n",
       "    </tr>\n",
       "    <tr>\n",
       "      <th>1</th>\n",
       "      <td>1048578</td>\n",
       "      <td>7471198</td>\n",
       "      <td>7471198</td>\n",
       "      <td>1</td>\n",
       "      <td>cost of endless pools swim spa</td>\n",
       "      <td>Cal Spas is the leading maker of home resort products. Cal Spas makes a great jetted swim spa with thoughtful attention paid to all design features. Read our Cal Spas Swim Spa Review. Dimesion One offers swim spas through their Aquatic Fitness Systems brand. Read our Dimension One Swim Spa Review. Endless Pools is one of the industry leaders in swim spas and counter-current pools. Known for their superior swim current, Endless Pools sell a range of swim spas and modular pools.</td>\n",
       "      <td>9</td>\n",
       "    </tr>\n",
       "    <tr>\n",
       "      <th>2</th>\n",
       "      <td>1048578</td>\n",
       "      <td>5365326</td>\n",
       "      <td>5365326</td>\n",
       "      <td>2</td>\n",
       "      <td>cost of endless pools swim spa</td>\n",
       "      <td>How much does a swim spa cost. 1  A top of the line, branded swim spa 9 feet by 16 feet with the bells and whistles could be $30,000 to $40,000. A number of value brands will sell swim spas in the $15,000 to $18,000 range. 2  CalSpas sells swim spas from $14,999 to $18,999 depending upon the product and configuration (May 2011). 3  Endless Pools sells swim spas from $7,500 to $28,900.</td>\n",
       "      <td>8</td>\n",
       "    </tr>\n",
       "    <tr>\n",
       "      <th>3</th>\n",
       "      <td>1048578</td>\n",
       "      <td>7187241</td>\n",
       "      <td>7187241</td>\n",
       "      <td>3</td>\n",
       "      <td>cost of endless pools swim spa</td>\n",
       "      <td>Disclaimer: Endless Pools (and all other swim spa manufacturers) are intentionally secretive about their pricing. All information in this article should be seen as a guide only, we make no claims to the accuracy of any endless pool prices on this page. All opinions are our own. We are not associated with any particular brand of swim spa in any way.</td>\n",
       "      <td>7</td>\n",
       "    </tr>\n",
       "    <tr>\n",
       "      <th>4</th>\n",
       "      <td>1048578</td>\n",
       "      <td>6802210</td>\n",
       "      <td>6802210</td>\n",
       "      <td>4</td>\n",
       "      <td>cost of endless pools swim spa</td>\n",
       "      <td>Endless Pools is one of the first companies to develop this Swim Spa, or “endless” swimming pool concept quite a number of years ago. Because of its modular design, it can be installed indoors in existing spaces. All of the components of an Original Endless Pool fit easily through doorways and down stairs.</td>\n",
       "      <td>6</td>\n",
       "    </tr>\n",
       "  </tbody>\n",
       "</table>\n",
       "</div>"
      ],
      "text/plain": [
       "  query_id   doc_id    docno  rank                           query  \\\n",
       "0  1048578  7187236  7187236  0     cost of endless pools swim spa   \n",
       "1  1048578  7471198  7471198  1     cost of endless pools swim spa   \n",
       "2  1048578  5365326  5365326  2     cost of endless pools swim spa   \n",
       "3  1048578  7187241  7187241  3     cost of endless pools swim spa   \n",
       "4  1048578  6802210  6802210  4     cost of endless pools swim spa   \n",
       "\n",
       "                                                                                                                                                                                                                                                                                                                                                                                                                                                                                                text  \\\n",
       "0  The Endless Pool 15' endless pools swim spa Endless Pool Nightmare Buy A Big Spa Instead Great training pool                                                                                                                                                                                                                                                                                                                                                                                        \n",
       "1  Cal Spas is the leading maker of home resort products. Cal Spas makes a great jetted swim spa with thoughtful attention paid to all design features. Read our Cal Spas Swim Spa Review. Dimesion One offers swim spas through their Aquatic Fitness Systems brand. Read our Dimension One Swim Spa Review. Endless Pools is one of the industry leaders in swim spas and counter-current pools. Known for their superior swim current, Endless Pools sell a range of swim spas and modular pools.   \n",
       "2  How much does a swim spa cost. 1  A top of the line, branded swim spa 9 feet by 16 feet with the bells and whistles could be $30,000 to $40,000. A number of value brands will sell swim spas in the $15,000 to $18,000 range. 2  CalSpas sells swim spas from $14,999 to $18,999 depending upon the product and configuration (May 2011). 3  Endless Pools sells swim spas from $7,500 to $28,900.                                                                                                 \n",
       "3  Disclaimer: Endless Pools (and all other swim spa manufacturers) are intentionally secretive about their pricing. All information in this article should be seen as a guide only, we make no claims to the accuracy of any endless pool prices on this page. All opinions are our own. We are not associated with any particular brand of swim spa in any way.                                                                                                                                      \n",
       "4  Endless Pools is one of the first companies to develop this Swim Spa, or “endless” swimming pool concept quite a number of years ago. Because of its modular design, it can be installed indoors in existing spaces. All of the components of an Original Endless Pool fit easily through doorways and down stairs.                                                                                                                                                                                 \n",
       "\n",
       "   score  \n",
       "0  10     \n",
       "1  9      \n",
       "2  8      \n",
       "3  7      \n",
       "4  6      "
      ]
     },
     "execution_count": 343,
     "metadata": {},
     "output_type": "execute_result"
    }
   ],
   "source": [
    "bm25_run.head()"
   ]
  },
  {
   "cell_type": "code",
   "execution_count": null,
   "id": "bfbbfe38-e206-4c00-a80f-84492bca336b",
   "metadata": {},
   "outputs": [],
   "source": [
    "monot5 = pd.read_csv('/nfs/datasets/cxj/retrievability-bias/results_bm25_monot5_r10.csv') \n",
    "monot5[:10]"
   ]
  },
  {
   "cell_type": "code",
   "execution_count": null,
   "id": "44e62127-87f4-47ad-b778-5130130ad29d",
   "metadata": {},
   "outputs": [],
   "source": [
    "monot5_run = monot5.rename(columns={'qid':'query_id','docid':'doc_id'})\n",
    "del monot5_run['score']\n",
    "monot5_run['score'] = 10-monot5_run['rank']\n",
    "monot5_run[['query_id','doc_id']] = monot5_run[['query_id','doc_id']].astype(str)\n",
    "metrics = ir_measures.calc_aggregate([nDCG@10, RR], qrels, monot5_run)\n",
    "print(metrics)"
   ]
  },
  {
   "cell_type": "code",
   "execution_count": null,
   "id": "358b1f95-8a49-4587-89fa-b7ceab09ad62",
   "metadata": {},
   "outputs": [],
   "source": [
    "splade = pd.read_csv('/nfs/datasets/cxj/retrievability-bias/results_splade_10.csv') \n",
    "splade[:5]"
   ]
  },
  {
   "cell_type": "code",
   "execution_count": null,
   "id": "20da567e-73ad-4b3c-96cf-f0ba027b54c6",
   "metadata": {},
   "outputs": [],
   "source": [
    "splade_run = splade.rename(columns={'qid':'query_id','docid':'doc_id'})\n",
    "del splade_run['score']\n",
    "splade_run['score'] = 10-splade_run['rank']\n",
    "splade_run[['query_id','doc_id']] = splade_run[['query_id','doc_id']].astype(str)\n",
    "metrics = ir_measures.calc_aggregate([nDCG@10, RR], qrels, splade_run)\n",
    "print(metrics)"
   ]
  },
  {
   "cell_type": "code",
   "execution_count": 321,
   "id": "0bba33bc-ffa1-4eb6-af14-0be494fec460",
   "metadata": {},
   "outputs": [],
   "source": [
    "colbert = pd.read_csv('/nfs/datasets/cxj/retrievability-bias/result_colbert_10.csv').reset_index()"
   ]
  },
  {
   "cell_type": "code",
   "execution_count": 322,
   "id": "00c3d189-7aa1-4d51-9181-2666138c4c9a",
   "metadata": {},
   "outputs": [
    {
     "data": {
      "text/html": [
       "<div>\n",
       "<style scoped>\n",
       "    .dataframe tbody tr th:only-of-type {\n",
       "        vertical-align: middle;\n",
       "    }\n",
       "\n",
       "    .dataframe tbody tr th {\n",
       "        vertical-align: top;\n",
       "    }\n",
       "\n",
       "    .dataframe thead th {\n",
       "        text-align: right;\n",
       "    }\n",
       "</style>\n",
       "<table border=\"1\" class=\"dataframe\">\n",
       "  <thead>\n",
       "    <tr style=\"text-align: right;\">\n",
       "      <th></th>\n",
       "      <th>index</th>\n",
       "      <th>qid</th>\n",
       "      <th>docid</th>\n",
       "      <th>rank</th>\n",
       "    </tr>\n",
       "  </thead>\n",
       "  <tbody>\n",
       "    <tr>\n",
       "      <th>0</th>\n",
       "      <td>0</td>\n",
       "      <td>13021</td>\n",
       "      <td>6728409</td>\n",
       "      <td>0</td>\n",
       "    </tr>\n",
       "    <tr>\n",
       "      <th>1</th>\n",
       "      <td>1</td>\n",
       "      <td>13021</td>\n",
       "      <td>7076490</td>\n",
       "      <td>1</td>\n",
       "    </tr>\n",
       "    <tr>\n",
       "      <th>2</th>\n",
       "      <td>2</td>\n",
       "      <td>13021</td>\n",
       "      <td>6911464</td>\n",
       "      <td>2</td>\n",
       "    </tr>\n",
       "    <tr>\n",
       "      <th>3</th>\n",
       "      <td>3</td>\n",
       "      <td>13021</td>\n",
       "      <td>7351852</td>\n",
       "      <td>3</td>\n",
       "    </tr>\n",
       "    <tr>\n",
       "      <th>4</th>\n",
       "      <td>4</td>\n",
       "      <td>13021</td>\n",
       "      <td>3257520</td>\n",
       "      <td>4</td>\n",
       "    </tr>\n",
       "  </tbody>\n",
       "</table>\n",
       "</div>"
      ],
      "text/plain": [
       "   index    qid    docid  rank\n",
       "0  0      13021  6728409  0   \n",
       "1  1      13021  7076490  1   \n",
       "2  2      13021  6911464  2   \n",
       "3  3      13021  7351852  3   \n",
       "4  4      13021  3257520  4   "
      ]
     },
     "execution_count": 322,
     "metadata": {},
     "output_type": "execute_result"
    }
   ],
   "source": [
    "colbert.head()"
   ]
  },
  {
   "cell_type": "code",
   "execution_count": null,
   "id": "4be4b91a-0fe6-4f5f-9a9a-9c18358dfd27",
   "metadata": {},
   "outputs": [],
   "source": [
    "colbert_run = colbert.rename(columns={'qid':'query_id','docid':'doc_id'})\n",
    "# del colbert_run['score']\n",
    "colbert_run['score'] = 10-colbert_run['rank']\n",
    "colbert_run[['query_id','doc_id']] = colbert_run[['query_id','doc_id']].astype(str)\n",
    "metrics = ir_measures.calc_aggregate([nDCG@10, RR], qrels, colbert_run)\n",
    "print(metrics)"
   ]
  },
  {
   "cell_type": "code",
   "execution_count": null,
   "id": "7a08063c-dd87-48aa-ab5b-8c2cce73c307",
   "metadata": {},
   "outputs": [],
   "source": []
  }
 ],
 "metadata": {
  "kernelspec": {
   "display_name": "Python [conda env:splade]",
   "language": "python",
   "name": "conda-env-splade-py"
  },
  "language_info": {
   "codemirror_mode": {
    "name": "ipython",
    "version": 3
   },
   "file_extension": ".py",
   "mimetype": "text/x-python",
   "name": "python",
   "nbconvert_exporter": "python",
   "pygments_lexer": "ipython3",
   "version": "3.8.13"
  }
 },
 "nbformat": 4,
 "nbformat_minor": 5
}
