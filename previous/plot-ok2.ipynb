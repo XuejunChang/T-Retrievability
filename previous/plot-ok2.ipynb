{
 "cells": [
  {
   "cell_type": "code",
   "execution_count": 6,
   "id": "ebfc404f-f2d4-4dfe-8fe0-005cbf4c296c",
   "metadata": {},
   "outputs": [
    {
     "name": "stderr",
     "output_type": "stream",
     "text": [
      "PyTerrier 0.10.0 has loaded Terrier 5.10 (built by craigm on 2024-08-22 17:33) and terrier-helper 0.0.8\n",
      "\n"
     ]
    }
   ],
   "source": [
    "import warnings\n",
    "warnings.filterwarnings('ignore')\n",
    "import pyterrier as pt\n",
    "if not pt.started():\n",
    "    pt.init()\n",
    "\n",
    "import os\n",
    "import pandas as pd\n",
    "pd.set_option('display.max_columns', None)\n",
    "pd.set_option('display.max_rows', None)\n",
    "pd.set_option('display.max_colwidth', False)\n",
    "\n",
    "# import pyt_splade\n",
    "# splade = pyt_splade.Splade()\n",
    "\n",
    "dataset_name = 'msmarco-passage'\n",
    "eval_ds_name = 'dev'\n",
    "dataset = pt.get_dataset(f'irds:{dataset_name}')\n",
    "eval_dataset = pt.get_dataset(f'irds:{dataset_name}/{eval_ds_name}')\n",
    "topics = eval_dataset.get_topics()\n",
    "qrels = eval_dataset.get_qrels()"
   ]
  },
  {
   "cell_type": "code",
   "execution_count": 2,
   "id": "618fd19a-1058-412a-b4a5-1b79ab87cf9b",
   "metadata": {},
   "outputs": [
    {
     "data": {
      "text/plain": [
       "(101093, 2)"
      ]
     },
     "execution_count": 2,
     "metadata": {},
     "output_type": "execute_result"
    }
   ],
   "source": [
    "topics.shape"
   ]
  },
  {
   "cell_type": "code",
   "execution_count": 3,
   "id": "5cf8be5c-a924-4574-a20d-d19f194b04a5",
   "metadata": {},
   "outputs": [
    {
     "name": "stderr",
     "output_type": "stream",
     "text": [
      "msmarco-passage documents: 100%|██████████| 8841823/8841823 [00:39<00:00, 223736.91it/s]\n"
     ]
    }
   ],
   "source": [
    "dataset_df = pd.DataFrame(dataset.get_corpus_iter(verbose=True))"
   ]
  },
  {
   "cell_type": "code",
   "execution_count": 4,
   "id": "e1f6135d-559c-4d24-85ec-374da67fefa1",
   "metadata": {},
   "outputs": [],
   "source": [
    "#################### bm25 ###########################"
   ]
  },
  {
   "cell_type": "code",
   "execution_count": 7,
   "id": "8d2d5918-38e9-4953-b255-e88b11a28edd",
   "metadata": {},
   "outputs": [],
   "source": [
    "bm25 = pd.read_csv('/nfs/primary/retrievability-bias/results_bm25.csv')"
   ]
  },
  {
   "cell_type": "code",
   "execution_count": 8,
   "id": "534287bf-e7f8-468c-bc80-128fa1c85df6",
   "metadata": {},
   "outputs": [],
   "source": [
    "bm25 = bm25.groupby(['docid'])['docid'].count()\n",
    "bm25 = bm25.to_frame('rtr_cnt').reset_index()\n",
    "total = bm25['rtr_cnt'].sum() # total number of retrieved docs for 101093 queries in msmarco-passage/dev\n",
    "bm25['rtr_score'] = bm25['rtr_cnt']/total # normalisation\n",
    "bm25 = bm25.sort_values(by='rtr_score',ascending=False) # sort by retrievablity scores"
   ]
  },
  {
   "cell_type": "code",
   "execution_count": 6,
   "id": "81c3fe5f-3e19-490c-955f-c0dbe394cbd3",
   "metadata": {},
   "outputs": [
    {
     "data": {
      "text/html": [
       "<div>\n",
       "<style scoped>\n",
       "    .dataframe tbody tr th:only-of-type {\n",
       "        vertical-align: middle;\n",
       "    }\n",
       "\n",
       "    .dataframe tbody tr th {\n",
       "        vertical-align: top;\n",
       "    }\n",
       "\n",
       "    .dataframe thead th {\n",
       "        text-align: right;\n",
       "    }\n",
       "</style>\n",
       "<table border=\"1\" class=\"dataframe\">\n",
       "  <thead>\n",
       "    <tr style=\"text-align: right;\">\n",
       "      <th></th>\n",
       "      <th>docid</th>\n",
       "      <th>rtr_cnt</th>\n",
       "      <th>rtr_score</th>\n",
       "    </tr>\n",
       "  </thead>\n",
       "  <tbody>\n",
       "    <tr>\n",
       "      <th>516221</th>\n",
       "      <td>6958226</td>\n",
       "      <td>1294</td>\n",
       "      <td>0.001280</td>\n",
       "    </tr>\n",
       "    <tr>\n",
       "      <th>151878</th>\n",
       "      <td>1985345</td>\n",
       "      <td>1119</td>\n",
       "      <td>0.001107</td>\n",
       "    </tr>\n",
       "    <tr>\n",
       "      <th>12804</th>\n",
       "      <td>169073</td>\n",
       "      <td>874</td>\n",
       "      <td>0.000865</td>\n",
       "    </tr>\n",
       "    <tr>\n",
       "      <th>113041</th>\n",
       "      <td>1474877</td>\n",
       "      <td>820</td>\n",
       "      <td>0.000811</td>\n",
       "    </tr>\n",
       "    <tr>\n",
       "      <th>35579</th>\n",
       "      <td>462225</td>\n",
       "      <td>613</td>\n",
       "      <td>0.000606</td>\n",
       "    </tr>\n",
       "  </tbody>\n",
       "</table>\n",
       "</div>"
      ],
      "text/plain": [
       "          docid  rtr_cnt  rtr_score\n",
       "516221  6958226  1294     0.001280 \n",
       "151878  1985345  1119     0.001107 \n",
       "12804   169073   874      0.000865 \n",
       "113041  1474877  820      0.000811 \n",
       "35579   462225   613      0.000606 "
      ]
     },
     "execution_count": 6,
     "metadata": {},
     "output_type": "execute_result"
    }
   ],
   "source": [
    "bm25.head(100)."
   ]
  },
  {
   "cell_type": "code",
   "execution_count": 7,
   "id": "a1c1a900-b66c-44bc-8225-4f7bfef379d6",
   "metadata": {},
   "outputs": [
    {
     "data": {
      "text/plain": [
       "(803333, 3)"
      ]
     },
     "execution_count": 7,
     "metadata": {},
     "output_type": "execute_result"
    }
   ],
   "source": [
    "bm25.shape"
   ]
  },
  {
   "cell_type": "code",
   "execution_count": 9,
   "id": "2db77820-863b-47a7-ba0b-f2ac36d2dc47",
   "metadata": {},
   "outputs": [],
   "source": [
    "####################### bm25 >> monot5 ###############################"
   ]
  },
  {
   "cell_type": "code",
   "execution_count": 8,
   "id": "5c82d9fc-6413-409b-85cb-04de9f2bab14",
   "metadata": {},
   "outputs": [],
   "source": [
    "# 100 docs retrieved for each query\n",
    "# monot5 = pd.read_csv('/nfs/primary/retrievability-bias/results_bm25_monot5_r100.csv',index_col=1)"
   ]
  },
  {
   "cell_type": "code",
   "execution_count": 9,
   "id": "581b6c94-b1b4-451a-b771-e175f86a8492",
   "metadata": {},
   "outputs": [
    {
     "data": {
      "text/html": [
       "<div>\n",
       "<style scoped>\n",
       "    .dataframe tbody tr th:only-of-type {\n",
       "        vertical-align: middle;\n",
       "    }\n",
       "\n",
       "    .dataframe tbody tr th {\n",
       "        vertical-align: top;\n",
       "    }\n",
       "\n",
       "    .dataframe thead th {\n",
       "        text-align: right;\n",
       "    }\n",
       "</style>\n",
       "<table border=\"1\" class=\"dataframe\">\n",
       "  <thead>\n",
       "    <tr style=\"text-align: right;\">\n",
       "      <th></th>\n",
       "      <th>qid</th>\n",
       "      <th>Unnamed: 0</th>\n",
       "      <th>docid</th>\n",
       "      <th>docno</th>\n",
       "      <th>query</th>\n",
       "      <th>text</th>\n",
       "      <th>score</th>\n",
       "      <th>rank</th>\n",
       "    </tr>\n",
       "    <tr>\n",
       "      <th>qid.1</th>\n",
       "      <th></th>\n",
       "      <th></th>\n",
       "      <th></th>\n",
       "      <th></th>\n",
       "      <th></th>\n",
       "      <th></th>\n",
       "      <th></th>\n",
       "      <th></th>\n",
       "    </tr>\n",
       "  </thead>\n",
       "  <tbody>\n",
       "    <tr>\n",
       "      <th>2</th>\n",
       "      <td>2</td>\n",
       "      <td>1112</td>\n",
       "      <td>4339068</td>\n",
       "      <td>4339068</td>\n",
       "      <td>androgen receptor define</td>\n",
       "      <td>The androgen receptor (AR), also known as NR3C4 (nuclear receptor subfamily 3, group C, member 4), is a type of nuclear receptor that is activated by binding either of the androgenic hormones, testosterone, or dihydrotestosterone in the cytoplasm and then translocating into the nucleus.n some cell types, testosterone interacts directly with androgen receptors, whereas, in others, testosterone is converted by 5-alpha-reductase to dihydrotestosterone, an even more potent agonist for androgen receptor activation.</td>\n",
       "      <td>-0.016371</td>\n",
       "      <td>0</td>\n",
       "    </tr>\n",
       "    <tr>\n",
       "      <th>2</th>\n",
       "      <td>2</td>\n",
       "      <td>1117</td>\n",
       "      <td>1001873</td>\n",
       "      <td>1001873</td>\n",
       "      <td>androgen receptor define</td>\n",
       "      <td>The AR gene provides instructions for making a protein called an androgen receptor. Androgens are hormones (such as testosterone) that are important for normal male sexual development before birth and during puberty.Androgen receptors allow the body to respond appropriately to these hormones.The receptors are present in many of the body's tissues, where they attach (bind) to androgens. The resulting androgen-receptor complex then binds to DNA and regulates the activity of androgen-responsive genes.ndrogen receptors allow the body to respond appropriately to these hormones. The receptors are present in many of the body's tissues, where they attach (bind) to androgens. The resulting androgen-receptor complex then binds to DNA and regulates the activity of androgen-responsive genes.</td>\n",
       "      <td>-0.035911</td>\n",
       "      <td>1</td>\n",
       "    </tr>\n",
       "    <tr>\n",
       "      <th>2</th>\n",
       "      <td>2</td>\n",
       "      <td>1126</td>\n",
       "      <td>6920058</td>\n",
       "      <td>6920058</td>\n",
       "      <td>androgen receptor define</td>\n",
       "      <td>The AR gene provides instructions for making a protein called an androgen receptor. Androgens are hormones (such as testosterone) that are important for normal male sexual development before birth and during puberty.Androgen receptors allow the body to respond appropriately to these hormones.ome mutations lead to an abnormally short version of the androgen receptor protein, while others result in the production of an abnormal receptor that cannot bind to androgens or to DNA. As a result, cells that are sensitive to androgens become less responsive to these hormones or unable to use these hormones at all.</td>\n",
       "      <td>-0.055052</td>\n",
       "      <td>2</td>\n",
       "    </tr>\n",
       "    <tr>\n",
       "      <th>2</th>\n",
       "      <td>2</td>\n",
       "      <td>1152</td>\n",
       "      <td>7496504</td>\n",
       "      <td>7496504</td>\n",
       "      <td>androgen receptor define</td>\n",
       "      <td>Mutations in the AR gene cause androgen insensitivity syndrome. This gene provides instructions for making a protein called an androgen receptor. Androgen receptors allow cells to respond to androgens, which are hormones (such as testosterone) that direct male sexual development.Androgens and androgen receptors also have other important functions in both males and females, such as regulating hair growth and sex drive.ndrogen insensitivity syndrome is a condition that affects sexual development before birth and during puberty. People with this condition are genetically male, with one X chromosome and one Y chromosome in each cell.</td>\n",
       "      <td>-0.253432</td>\n",
       "      <td>3</td>\n",
       "    </tr>\n",
       "    <tr>\n",
       "      <th>2</th>\n",
       "      <td>2</td>\n",
       "      <td>1109</td>\n",
       "      <td>6285817</td>\n",
       "      <td>6285817</td>\n",
       "      <td>androgen receptor define</td>\n",
       "      <td>The term SARMS stands for “Selective Androgen Receptor Modulators .” Androgens are a class of hormones that serve as ligands that bind to cellular androgen receptors. The androgen receptor is involved in a complex signal transduction pathway that ultimately results in greater expression of specific genes.</td>\n",
       "      <td>-0.277261</td>\n",
       "      <td>4</td>\n",
       "    </tr>\n",
       "  </tbody>\n",
       "</table>\n",
       "</div>"
      ],
      "text/plain": [
       "       qid  Unnamed: 0    docid    docno                     query  \\\n",
       "qid.1                                                                \n",
       "2      2    1112        4339068  4339068  androgen receptor define   \n",
       "2      2    1117        1001873  1001873  androgen receptor define   \n",
       "2      2    1126        6920058  6920058  androgen receptor define   \n",
       "2      2    1152        7496504  7496504  androgen receptor define   \n",
       "2      2    1109        6285817  6285817  androgen receptor define   \n",
       "\n",
       "                                                                                                                                                                                                                                                                                                                                                                                                                                                                                                                                                                                                                                                                                                                                                                                                                         text  \\\n",
       "qid.1                                                                                                                                                                                                                                                                                                                                                                                                                                                                                                                                                                                                                                                                                                                                                                                                                           \n",
       "2      The androgen receptor (AR), also known as NR3C4 (nuclear receptor subfamily 3, group C, member 4), is a type of nuclear receptor that is activated by binding either of the androgenic hormones, testosterone, or dihydrotestosterone in the cytoplasm and then translocating into the nucleus.n some cell types, testosterone interacts directly with androgen receptors, whereas, in others, testosterone is converted by 5-alpha-reductase to dihydrotestosterone, an even more potent agonist for androgen receptor activation.                                                                                                                                                                                                                                                                                      \n",
       "2      The AR gene provides instructions for making a protein called an androgen receptor. Androgens are hormones (such as testosterone) that are important for normal male sexual development before birth and during puberty.Androgen receptors allow the body to respond appropriately to these hormones.The receptors are present in many of the body's tissues, where they attach (bind) to androgens. The resulting androgen-receptor complex then binds to DNA and regulates the activity of androgen-responsive genes.ndrogen receptors allow the body to respond appropriately to these hormones. The receptors are present in many of the body's tissues, where they attach (bind) to androgens. The resulting androgen-receptor complex then binds to DNA and regulates the activity of androgen-responsive genes.   \n",
       "2      The AR gene provides instructions for making a protein called an androgen receptor. Androgens are hormones (such as testosterone) that are important for normal male sexual development before birth and during puberty.Androgen receptors allow the body to respond appropriately to these hormones.ome mutations lead to an abnormally short version of the androgen receptor protein, while others result in the production of an abnormal receptor that cannot bind to androgens or to DNA. As a result, cells that are sensitive to androgens become less responsive to these hormones or unable to use these hormones at all.                                                                                                                                                                                      \n",
       "2      Mutations in the AR gene cause androgen insensitivity syndrome. This gene provides instructions for making a protein called an androgen receptor. Androgen receptors allow cells to respond to androgens, which are hormones (such as testosterone) that direct male sexual development.Androgens and androgen receptors also have other important functions in both males and females, such as regulating hair growth and sex drive.ndrogen insensitivity syndrome is a condition that affects sexual development before birth and during puberty. People with this condition are genetically male, with one X chromosome and one Y chromosome in each cell.                                                                                                                                                            \n",
       "2      The term SARMS stands for “Selective Androgen Receptor Modulators .” Androgens are a class of hormones that serve as ligands that bind to cellular androgen receptors. The androgen receptor is involved in a complex signal transduction pathway that ultimately results in greater expression of specific genes.                                                                                                                                                                                                                                                                                                                                                                                                                                                                                                       \n",
       "\n",
       "          score  rank  \n",
       "qid.1                  \n",
       "2     -0.016371  0     \n",
       "2     -0.035911  1     \n",
       "2     -0.055052  2     \n",
       "2     -0.253432  3     \n",
       "2     -0.277261  4     "
      ]
     },
     "execution_count": 9,
     "metadata": {},
     "output_type": "execute_result"
    }
   ],
   "source": [
    "# monot5.head(5)"
   ]
  },
  {
   "cell_type": "code",
   "execution_count": 10,
   "id": "968e3753-8437-499a-9c5d-5fb003d4a92d",
   "metadata": {},
   "outputs": [],
   "source": [
    "from tqdm import tqdm\n",
    "tqdm.pandas()"
   ]
  },
  {
   "cell_type": "code",
   "execution_count": 13,
   "id": "078bbb7f-150e-47e2-9cdf-c54b01e7f46d",
   "metadata": {},
   "outputs": [],
   "source": [
    "# obtain top 10 docs for each query\n",
    "# monot5 = monot5.groupby('qid')"
   ]
  },
  {
   "cell_type": "code",
   "execution_count": 14,
   "id": "eac08fe8-2535-43ea-b5fd-ade6b238260b",
   "metadata": {},
   "outputs": [
    {
     "name": "stderr",
     "output_type": "stream",
     "text": [
      "100%|██████████| 101092/101092 [00:53<00:00, 1894.65it/s]\n"
     ]
    }
   ],
   "source": [
    "# monot5 = monot5.progress_apply(lambda x: x.sort_values('rank', ascending=True))"
   ]
  },
  {
   "cell_type": "code",
   "execution_count": 15,
   "id": "42682093-b0d1-430d-8771-f0fd2bdbfb76",
   "metadata": {},
   "outputs": [],
   "source": [
    "# monot5 = monot5.groupby('qid').head(10)"
   ]
  },
  {
   "cell_type": "code",
   "execution_count": 16,
   "id": "df4cd70c-e101-4165-9c49-61d0edd1fd7d",
   "metadata": {},
   "outputs": [],
   "source": [
    "# monot5.to_csv('/nfs/primary/retrievability-bias/results_bm25_monot5_10.csv')"
   ]
  },
  {
   "cell_type": "code",
   "execution_count": 11,
   "id": "966d22be-314d-4d29-a71a-70f2766caf39",
   "metadata": {},
   "outputs": [],
   "source": [
    "monot5 = pd.read_csv('/nfs/primary/retrievability-bias/results_bm25_monot5_10.csv') # 100 docs retrieved for each query."
   ]
  },
  {
   "cell_type": "code",
   "execution_count": 12,
   "id": "96d695e8-a36d-4b41-ad05-69ef99405d34",
   "metadata": {},
   "outputs": [
    {
     "data": {
      "text/html": [
       "<div>\n",
       "<style scoped>\n",
       "    .dataframe tbody tr th:only-of-type {\n",
       "        vertical-align: middle;\n",
       "    }\n",
       "\n",
       "    .dataframe tbody tr th {\n",
       "        vertical-align: top;\n",
       "    }\n",
       "\n",
       "    .dataframe thead th {\n",
       "        text-align: right;\n",
       "    }\n",
       "</style>\n",
       "<table border=\"1\" class=\"dataframe\">\n",
       "  <thead>\n",
       "    <tr style=\"text-align: right;\">\n",
       "      <th></th>\n",
       "      <th>qid</th>\n",
       "      <th>qid.1</th>\n",
       "      <th>Unnamed: 0</th>\n",
       "      <th>docid</th>\n",
       "      <th>docno</th>\n",
       "      <th>query</th>\n",
       "      <th>text</th>\n",
       "      <th>score</th>\n",
       "      <th>rank</th>\n",
       "    </tr>\n",
       "  </thead>\n",
       "  <tbody>\n",
       "    <tr>\n",
       "      <th>0</th>\n",
       "      <td>2</td>\n",
       "      <td>2</td>\n",
       "      <td>1112</td>\n",
       "      <td>4339068</td>\n",
       "      <td>4339068</td>\n",
       "      <td>androgen receptor define</td>\n",
       "      <td>The androgen receptor (AR), also known as NR3C4 (nuclear receptor subfamily 3, group C, member 4), is a type of nuclear receptor that is activated by binding either of the androgenic hormones, testosterone, or dihydrotestosterone in the cytoplasm and then translocating into the nucleus.n some cell types, testosterone interacts directly with androgen receptors, whereas, in others, testosterone is converted by 5-alpha-reductase to dihydrotestosterone, an even more potent agonist for androgen receptor activation.</td>\n",
       "      <td>-0.016371</td>\n",
       "      <td>0</td>\n",
       "    </tr>\n",
       "    <tr>\n",
       "      <th>1</th>\n",
       "      <td>2</td>\n",
       "      <td>2</td>\n",
       "      <td>1117</td>\n",
       "      <td>1001873</td>\n",
       "      <td>1001873</td>\n",
       "      <td>androgen receptor define</td>\n",
       "      <td>The AR gene provides instructions for making a protein called an androgen receptor. Androgens are hormones (such as testosterone) that are important for normal male sexual development before birth and during puberty.Androgen receptors allow the body to respond appropriately to these hormones.The receptors are present in many of the body's tissues, where they attach (bind) to androgens. The resulting androgen-receptor complex then binds to DNA and regulates the activity of androgen-responsive genes.ndrogen receptors allow the body to respond appropriately to these hormones. The receptors are present in many of the body's tissues, where they attach (bind) to androgens. The resulting androgen-receptor complex then binds to DNA and regulates the activity of androgen-responsive genes.</td>\n",
       "      <td>-0.035911</td>\n",
       "      <td>1</td>\n",
       "    </tr>\n",
       "    <tr>\n",
       "      <th>2</th>\n",
       "      <td>2</td>\n",
       "      <td>2</td>\n",
       "      <td>1126</td>\n",
       "      <td>6920058</td>\n",
       "      <td>6920058</td>\n",
       "      <td>androgen receptor define</td>\n",
       "      <td>The AR gene provides instructions for making a protein called an androgen receptor. Androgens are hormones (such as testosterone) that are important for normal male sexual development before birth and during puberty.Androgen receptors allow the body to respond appropriately to these hormones.ome mutations lead to an abnormally short version of the androgen receptor protein, while others result in the production of an abnormal receptor that cannot bind to androgens or to DNA. As a result, cells that are sensitive to androgens become less responsive to these hormones or unable to use these hormones at all.</td>\n",
       "      <td>-0.055052</td>\n",
       "      <td>2</td>\n",
       "    </tr>\n",
       "    <tr>\n",
       "      <th>3</th>\n",
       "      <td>2</td>\n",
       "      <td>2</td>\n",
       "      <td>1152</td>\n",
       "      <td>7496504</td>\n",
       "      <td>7496504</td>\n",
       "      <td>androgen receptor define</td>\n",
       "      <td>Mutations in the AR gene cause androgen insensitivity syndrome. This gene provides instructions for making a protein called an androgen receptor. Androgen receptors allow cells to respond to androgens, which are hormones (such as testosterone) that direct male sexual development.Androgens and androgen receptors also have other important functions in both males and females, such as regulating hair growth and sex drive.ndrogen insensitivity syndrome is a condition that affects sexual development before birth and during puberty. People with this condition are genetically male, with one X chromosome and one Y chromosome in each cell.</td>\n",
       "      <td>-0.253432</td>\n",
       "      <td>3</td>\n",
       "    </tr>\n",
       "    <tr>\n",
       "      <th>4</th>\n",
       "      <td>2</td>\n",
       "      <td>2</td>\n",
       "      <td>1109</td>\n",
       "      <td>6285817</td>\n",
       "      <td>6285817</td>\n",
       "      <td>androgen receptor define</td>\n",
       "      <td>The term SARMS stands for “Selective Androgen Receptor Modulators .” Androgens are a class of hormones that serve as ligands that bind to cellular androgen receptors. The androgen receptor is involved in a complex signal transduction pathway that ultimately results in greater expression of specific genes.</td>\n",
       "      <td>-0.277261</td>\n",
       "      <td>4</td>\n",
       "    </tr>\n",
       "  </tbody>\n",
       "</table>\n",
       "</div>"
      ],
      "text/plain": [
       "   qid  qid.1  Unnamed: 0    docid    docno                     query  \\\n",
       "0  2    2      1112        4339068  4339068  androgen receptor define   \n",
       "1  2    2      1117        1001873  1001873  androgen receptor define   \n",
       "2  2    2      1126        6920058  6920058  androgen receptor define   \n",
       "3  2    2      1152        7496504  7496504  androgen receptor define   \n",
       "4  2    2      1109        6285817  6285817  androgen receptor define   \n",
       "\n",
       "                                                                                                                                                                                                                                                                                                                                                                                                                                                                                                                                                                                                                                                                                                                                                                                                                     text  \\\n",
       "0  The androgen receptor (AR), also known as NR3C4 (nuclear receptor subfamily 3, group C, member 4), is a type of nuclear receptor that is activated by binding either of the androgenic hormones, testosterone, or dihydrotestosterone in the cytoplasm and then translocating into the nucleus.n some cell types, testosterone interacts directly with androgen receptors, whereas, in others, testosterone is converted by 5-alpha-reductase to dihydrotestosterone, an even more potent agonist for androgen receptor activation.                                                                                                                                                                                                                                                                                      \n",
       "1  The AR gene provides instructions for making a protein called an androgen receptor. Androgens are hormones (such as testosterone) that are important for normal male sexual development before birth and during puberty.Androgen receptors allow the body to respond appropriately to these hormones.The receptors are present in many of the body's tissues, where they attach (bind) to androgens. The resulting androgen-receptor complex then binds to DNA and regulates the activity of androgen-responsive genes.ndrogen receptors allow the body to respond appropriately to these hormones. The receptors are present in many of the body's tissues, where they attach (bind) to androgens. The resulting androgen-receptor complex then binds to DNA and regulates the activity of androgen-responsive genes.   \n",
       "2  The AR gene provides instructions for making a protein called an androgen receptor. Androgens are hormones (such as testosterone) that are important for normal male sexual development before birth and during puberty.Androgen receptors allow the body to respond appropriately to these hormones.ome mutations lead to an abnormally short version of the androgen receptor protein, while others result in the production of an abnormal receptor that cannot bind to androgens or to DNA. As a result, cells that are sensitive to androgens become less responsive to these hormones or unable to use these hormones at all.                                                                                                                                                                                      \n",
       "3  Mutations in the AR gene cause androgen insensitivity syndrome. This gene provides instructions for making a protein called an androgen receptor. Androgen receptors allow cells to respond to androgens, which are hormones (such as testosterone) that direct male sexual development.Androgens and androgen receptors also have other important functions in both males and females, such as regulating hair growth and sex drive.ndrogen insensitivity syndrome is a condition that affects sexual development before birth and during puberty. People with this condition are genetically male, with one X chromosome and one Y chromosome in each cell.                                                                                                                                                            \n",
       "4  The term SARMS stands for “Selective Androgen Receptor Modulators .” Androgens are a class of hormones that serve as ligands that bind to cellular androgen receptors. The androgen receptor is involved in a complex signal transduction pathway that ultimately results in greater expression of specific genes.                                                                                                                                                                                                                                                                                                                                                                                                                                                                                                       \n",
       "\n",
       "      score  rank  \n",
       "0 -0.016371  0     \n",
       "1 -0.035911  1     \n",
       "2 -0.055052  2     \n",
       "3 -0.253432  3     \n",
       "4 -0.277261  4     "
      ]
     },
     "execution_count": 12,
     "metadata": {},
     "output_type": "execute_result"
    }
   ],
   "source": [
    "monot5.head(5)"
   ]
  },
  {
   "cell_type": "code",
   "execution_count": 13,
   "id": "f36fd193-5d30-41e2-8821-68e70e1d27cb",
   "metadata": {},
   "outputs": [],
   "source": [
    "monot5 = monot5.groupby(['docid'])['docid'].count()\n",
    "monot5 = monot5.to_frame('rtr_cnt').reset_index()\n",
    "total = monot5['rtr_cnt'].sum() # total number of retrieved docs for 101093 queries in msmarco-passage/dev\n",
    "monot5['rtr_score'] = monot5['rtr_cnt']/total # normalisation\n",
    "monot5 = monot5.sort_values(by='rtr_score',ascending=False) # sort by retrievablity scores\n"
   ]
  },
  {
   "cell_type": "code",
   "execution_count": 14,
   "id": "a2739bb0-403b-4f6e-b188-f24183b3dc63",
   "metadata": {},
   "outputs": [
    {
     "data": {
      "text/html": [
       "<div>\n",
       "<style scoped>\n",
       "    .dataframe tbody tr th:only-of-type {\n",
       "        vertical-align: middle;\n",
       "    }\n",
       "\n",
       "    .dataframe tbody tr th {\n",
       "        vertical-align: top;\n",
       "    }\n",
       "\n",
       "    .dataframe thead th {\n",
       "        text-align: right;\n",
       "    }\n",
       "</style>\n",
       "<table border=\"1\" class=\"dataframe\">\n",
       "  <thead>\n",
       "    <tr style=\"text-align: right;\">\n",
       "      <th></th>\n",
       "      <th>docid</th>\n",
       "      <th>rtr_cnt</th>\n",
       "      <th>rtr_score</th>\n",
       "    </tr>\n",
       "  </thead>\n",
       "  <tbody>\n",
       "    <tr>\n",
       "      <th>561792</th>\n",
       "      <td>6958226</td>\n",
       "      <td>327</td>\n",
       "      <td>0.000323</td>\n",
       "    </tr>\n",
       "    <tr>\n",
       "      <th>326582</th>\n",
       "      <td>4019213</td>\n",
       "      <td>325</td>\n",
       "      <td>0.000321</td>\n",
       "    </tr>\n",
       "    <tr>\n",
       "      <th>714802</th>\n",
       "      <td>7594233</td>\n",
       "      <td>163</td>\n",
       "      <td>0.000161</td>\n",
       "    </tr>\n",
       "    <tr>\n",
       "      <th>95793</th>\n",
       "      <td>1147809</td>\n",
       "      <td>159</td>\n",
       "      <td>0.000157</td>\n",
       "    </tr>\n",
       "    <tr>\n",
       "      <th>349615</th>\n",
       "      <td>4312541</td>\n",
       "      <td>143</td>\n",
       "      <td>0.000141</td>\n",
       "    </tr>\n",
       "  </tbody>\n",
       "</table>\n",
       "</div>"
      ],
      "text/plain": [
       "          docid  rtr_cnt  rtr_score\n",
       "561792  6958226  327      0.000323 \n",
       "326582  4019213  325      0.000321 \n",
       "714802  7594233  163      0.000161 \n",
       "95793   1147809  159      0.000157 \n",
       "349615  4312541  143      0.000141 "
      ]
     },
     "execution_count": 14,
     "metadata": {},
     "output_type": "execute_result"
    }
   ],
   "source": [
    "monot5.head(5)"
   ]
  },
  {
   "cell_type": "code",
   "execution_count": 15,
   "id": "920f3376-4759-4962-ac08-689ac629ebd2",
   "metadata": {},
   "outputs": [],
   "source": [
    "################ splade  ##################################"
   ]
  },
  {
   "cell_type": "code",
   "execution_count": 3,
   "id": "2c060776-2461-407f-a40d-9536b35c16db",
   "metadata": {},
   "outputs": [
    {
     "ename": "NameError",
     "evalue": "name 'pd' is not defined",
     "output_type": "error",
     "traceback": [
      "\u001b[0;31m---------------------------------------------------------------------------\u001b[0m",
      "\u001b[0;31mNameError\u001b[0m                                 Traceback (most recent call last)",
      "\u001b[0;32m/tmp/ipykernel_95588/1528159329.py\u001b[0m in \u001b[0;36m<module>\u001b[0;34m\u001b[0m\n\u001b[0;32m----> 1\u001b[0;31m \u001b[0msplade\u001b[0m \u001b[0;34m=\u001b[0m \u001b[0mpd\u001b[0m\u001b[0;34m.\u001b[0m\u001b[0mread_csv\u001b[0m\u001b[0;34m(\u001b[0m\u001b[0;34m'/nfs/primary/retrievability-bias/results_splade.csv'\u001b[0m\u001b[0;34m)\u001b[0m \u001b[0;31m# 100 docs retrieved for each query.\u001b[0m\u001b[0;34m\u001b[0m\u001b[0;34m\u001b[0m\u001b[0m\n\u001b[0m",
      "\u001b[0;31mNameError\u001b[0m: name 'pd' is not defined"
     ]
    }
   ],
   "source": [
    "splade = pd.read_csv('/nfs/primary/retrievability-bias/results_splade.csv') # 100 docs retrieved for each query."
   ]
  },
  {
   "cell_type": "code",
   "execution_count": 17,
   "id": "90aa3f2c-6039-486a-8bf1-43bb0e9666fe",
   "metadata": {},
   "outputs": [
    {
     "data": {
      "text/plain": [
       "['Unnamed: 0',\n",
       " 'qid',\n",
       " 'docid',\n",
       " 'docno',\n",
       " 'rank',\n",
       " 'score',\n",
       " 'query',\n",
       " 'query_toks',\n",
       " 'text']"
      ]
     },
     "execution_count": 17,
     "metadata": {},
     "output_type": "execute_result"
    }
   ],
   "source": [
    "splade.columns.to_list()"
   ]
  },
  {
   "cell_type": "code",
   "execution_count": 4,
   "id": "b79b8885-9d3a-4684-9512-1556232d9ccf",
   "metadata": {},
   "outputs": [
    {
     "ename": "NameError",
     "evalue": "name 'splade' is not defined",
     "output_type": "error",
     "traceback": [
      "\u001b[0;31m---------------------------------------------------------------------------\u001b[0m",
      "\u001b[0;31mNameError\u001b[0m                                 Traceback (most recent call last)",
      "\u001b[0;32m/tmp/ipykernel_95588/1672059866.py\u001b[0m in \u001b[0;36m<module>\u001b[0;34m\u001b[0m\n\u001b[0;32m----> 1\u001b[0;31m \u001b[0msplade\u001b[0m \u001b[0;34m=\u001b[0m \u001b[0msplade\u001b[0m\u001b[0;34m.\u001b[0m\u001b[0mgroupby\u001b[0m\u001b[0;34m(\u001b[0m\u001b[0;34m[\u001b[0m\u001b[0;34m'docid'\u001b[0m\u001b[0;34m]\u001b[0m\u001b[0;34m)\u001b[0m\u001b[0;34m[\u001b[0m\u001b[0;34m'docid'\u001b[0m\u001b[0;34m]\u001b[0m\u001b[0;34m.\u001b[0m\u001b[0mcount\u001b[0m\u001b[0;34m(\u001b[0m\u001b[0;34m)\u001b[0m\u001b[0;34m\u001b[0m\u001b[0;34m\u001b[0m\u001b[0m\n\u001b[0m\u001b[1;32m      2\u001b[0m \u001b[0msplade\u001b[0m \u001b[0;34m=\u001b[0m \u001b[0msplade\u001b[0m\u001b[0;34m.\u001b[0m\u001b[0mto_frame\u001b[0m\u001b[0;34m(\u001b[0m\u001b[0;34m'rtr_cnt'\u001b[0m\u001b[0;34m)\u001b[0m\u001b[0;34m.\u001b[0m\u001b[0mreset_index\u001b[0m\u001b[0;34m(\u001b[0m\u001b[0;34m)\u001b[0m\u001b[0;34m\u001b[0m\u001b[0;34m\u001b[0m\u001b[0m\n\u001b[1;32m      3\u001b[0m \u001b[0mtotal\u001b[0m \u001b[0;34m=\u001b[0m \u001b[0msplade\u001b[0m\u001b[0;34m[\u001b[0m\u001b[0;34m'rtr_cnt'\u001b[0m\u001b[0;34m]\u001b[0m\u001b[0;34m.\u001b[0m\u001b[0msum\u001b[0m\u001b[0;34m(\u001b[0m\u001b[0;34m)\u001b[0m\u001b[0;34m\u001b[0m\u001b[0;34m\u001b[0m\u001b[0m\n\u001b[1;32m      4\u001b[0m \u001b[0msplade\u001b[0m\u001b[0;34m[\u001b[0m\u001b[0;34m'rtr_score'\u001b[0m\u001b[0;34m]\u001b[0m \u001b[0;34m=\u001b[0m \u001b[0msplade\u001b[0m\u001b[0;34m[\u001b[0m\u001b[0;34m'rtr_cnt'\u001b[0m\u001b[0;34m]\u001b[0m\u001b[0;34m/\u001b[0m\u001b[0mtotal\u001b[0m \u001b[0;31m# normalisation\u001b[0m\u001b[0;34m\u001b[0m\u001b[0;34m\u001b[0m\u001b[0m\n\u001b[1;32m      5\u001b[0m \u001b[0msplade\u001b[0m \u001b[0;34m=\u001b[0m \u001b[0msplade\u001b[0m\u001b[0;34m.\u001b[0m\u001b[0msort_values\u001b[0m\u001b[0;34m(\u001b[0m\u001b[0mby\u001b[0m\u001b[0;34m=\u001b[0m\u001b[0;34m'rtr_score'\u001b[0m\u001b[0;34m,\u001b[0m\u001b[0mascending\u001b[0m\u001b[0;34m=\u001b[0m\u001b[0;32mFalse\u001b[0m\u001b[0;34m)\u001b[0m \u001b[0;31m# sort by retrievablity scores\u001b[0m\u001b[0;34m\u001b[0m\u001b[0;34m\u001b[0m\u001b[0m\n",
      "\u001b[0;31mNameError\u001b[0m: name 'splade' is not defined"
     ]
    }
   ],
   "source": [
    "splade = splade.groupby(['docid'])['docid'].count()\n",
    "splade = splade.to_frame('rtr_cnt').reset_index()\n",
    "total = splade['rtr_cnt'].sum()\n",
    "splade['rtr_score'] = splade['rtr_cnt']/total # normalisation\n",
    "splade = splade.sort_values(by='rtr_score',ascending=False) # sort by retrievablity scores"
   ]
  },
  {
   "cell_type": "code",
   "execution_count": 55,
   "id": "b72186ae-d428-4e16-9320-07db11ca629c",
   "metadata": {},
   "outputs": [],
   "source": [
    "colbert = pd.read_csv('/nfs/datasets/cxj/retrievability-bias/result_colbert.csv')\n",
    "# colbert = colbert.groupby(['docid'])['docid'].count()\n",
    "# colbert = colbert.to_frame('rtr_cnt').reset_index()\n",
    "\n"
   ]
  },
  {
   "cell_type": "code",
   "execution_count": 59,
   "id": "72953f42-4323-48db-a380-6283d78c4fd8",
   "metadata": {},
   "outputs": [],
   "source": [
    "colbert = colbert.rename(columns={'0':'rtr_cnt'})"
   ]
  },
  {
   "cell_type": "code",
   "execution_count": 61,
   "id": "ceb45ab1-7d9b-4b63-9abf-eb6f15c9d75a",
   "metadata": {},
   "outputs": [],
   "source": [
    "total = colbert['rtr_cnt'].sum()\n",
    "colbert['rtr_score'] = colbert['rtr_cnt']/total # normalisation\n",
    "colbert = colbert.sort_values(by='rtr_score',ascending=False) # sort by retrievablity scores"
   ]
  },
  {
   "cell_type": "code",
   "execution_count": 62,
   "id": "d44d548d-e9c8-4d7e-a397-69253af3cc33",
   "metadata": {},
   "outputs": [
    {
     "data": {
      "text/html": [
       "<div>\n",
       "<style scoped>\n",
       "    .dataframe tbody tr th:only-of-type {\n",
       "        vertical-align: middle;\n",
       "    }\n",
       "\n",
       "    .dataframe tbody tr th {\n",
       "        vertical-align: top;\n",
       "    }\n",
       "\n",
       "    .dataframe thead th {\n",
       "        text-align: right;\n",
       "    }\n",
       "</style>\n",
       "<table border=\"1\" class=\"dataframe\">\n",
       "  <thead>\n",
       "    <tr style=\"text-align: right;\">\n",
       "      <th></th>\n",
       "      <th>docid</th>\n",
       "      <th>rtr_cnt</th>\n",
       "      <th>rtr_score</th>\n",
       "    </tr>\n",
       "  </thead>\n",
       "  <tbody>\n",
       "    <tr>\n",
       "      <th>18486</th>\n",
       "      <td>961586</td>\n",
       "      <td>15</td>\n",
       "      <td>0.000015</td>\n",
       "    </tr>\n",
       "    <tr>\n",
       "      <th>19792</th>\n",
       "      <td>7318236</td>\n",
       "      <td>12</td>\n",
       "      <td>0.000012</td>\n",
       "    </tr>\n",
       "  </tbody>\n",
       "</table>\n",
       "</div>"
      ],
      "text/plain": [
       "         docid  rtr_cnt  rtr_score\n",
       "18486  961586   15       0.000015 \n",
       "19792  7318236  12       0.000012 "
      ]
     },
     "execution_count": 62,
     "metadata": {},
     "output_type": "execute_result"
    }
   ],
   "source": [
    "colbert.head(2)"
   ]
  },
  {
   "cell_type": "code",
   "execution_count": 63,
   "id": "45fa2fd2-bb7b-4fc7-820a-8fdef7c43a98",
   "metadata": {},
   "outputs": [
    {
     "name": "stdout",
     "output_type": "stream",
     "text": [
      "803333 888917 617193 893812\n"
     ]
    }
   ],
   "source": [
    "print(bm25.shape[0],monot5.shape[0],splade.shape[0],colbert.shape[0])"
   ]
  },
  {
   "cell_type": "code",
   "execution_count": 64,
   "id": "c63dd354-3a72-401c-9f56-8321587c17a9",
   "metadata": {},
   "outputs": [
    {
     "data": {
      "text/plain": [
       "59587"
      ]
     },
     "execution_count": 64,
     "metadata": {},
     "output_type": "execute_result"
    }
   ],
   "source": [
    "num_docs = max(bm25.shape[0],monot5.shape[0],splade.shape[0],colbert.shape[0])\n",
    "partitions = 15 # split the retrieved docs into 15 partitions, and sum the retrivability scores for each partition.\n",
    "intv = int(num_docs/partitions) # the number of docs within a partition\n",
    "intv"
   ]
  },
  {
   "cell_type": "code",
   "execution_count": 65,
   "id": "38214c76-7ef1-49ac-a80c-9e98feca5a2d",
   "metadata": {},
   "outputs": [],
   "source": [
    "bm25_scores = []\n",
    "for i in range(0,num_docs,intv):\n",
    "    bm25_scores.append(bm25[i:i+intv]['rtr_score'].sum())\n",
    "\n",
    "bm25_scores.append(0.0) # the retrievability scores of the reset of corpus docs are 0"
   ]
  },
  {
   "cell_type": "code",
   "execution_count": 1,
   "id": "47c58d32-912d-496b-a315-b578ecfa6019",
   "metadata": {},
   "outputs": [
    {
     "ename": "NameError",
     "evalue": "name 'bm25_scores' is not defined",
     "output_type": "error",
     "traceback": [
      "\u001b[0;31m---------------------------------------------------------------------------\u001b[0m",
      "\u001b[0;31mNameError\u001b[0m                                 Traceback (most recent call last)",
      "\u001b[0;32m/tmp/ipykernel_95588/3928094604.py\u001b[0m in \u001b[0;36m<module>\u001b[0;34m\u001b[0m\n\u001b[0;32m----> 1\u001b[0;31m \u001b[0mbm25_scores\u001b[0m\u001b[0;34m\u001b[0m\u001b[0;34m\u001b[0m\u001b[0m\n\u001b[0m",
      "\u001b[0;31mNameError\u001b[0m: name 'bm25_scores' is not defined"
     ]
    }
   ],
   "source": [
    "bm25_scores"
   ]
  },
  {
   "cell_type": "code",
   "execution_count": 67,
   "id": "a28a42ab-5938-4ac0-9c40-5c8a7780af96",
   "metadata": {},
   "outputs": [],
   "source": [
    "monot5_scores = []\n",
    "for i in range(0,num_docs,intv):\n",
    "    monot5_scores.append(monot5[i:i+intv]['rtr_score'].sum())\n",
    "\n",
    "monot5_scores.append(0.0) # the retrievability scores of the reset of corpus docs are 0"
   ]
  },
  {
   "cell_type": "code",
   "execution_count": 68,
   "id": "a3da7f8a-f649-4873-ab74-da7d11d71aa1",
   "metadata": {},
   "outputs": [
    {
     "data": {
      "text/plain": [
       "[0.14596648389531486,\n",
       " 0.09260305247611825,\n",
       " 0.058943513661358964,\n",
       " 0.058943513661358964,\n",
       " 0.058943513661358964,\n",
       " 0.058943513661358964,\n",
       " 0.058943513661358964,\n",
       " 0.058943513661358964,\n",
       " 0.058943513661358964,\n",
       " 0.058943513661358964,\n",
       " 0.058943513661358964,\n",
       " 0.058943513661358964,\n",
       " 0.058943513661358964,\n",
       " 0.058943513661358964,\n",
       " 0.054108299692259616,\n",
       " 0.0,\n",
       " 0.0]"
      ]
     },
     "execution_count": 68,
     "metadata": {},
     "output_type": "execute_result"
    }
   ],
   "source": [
    "monot5_scores"
   ]
  },
  {
   "cell_type": "code",
   "execution_count": 69,
   "id": "45261c2d-80bd-451d-889a-0bac41dc4249",
   "metadata": {},
   "outputs": [],
   "source": [
    "splade_scores = []\n",
    "for i in range(0,num_docs,intv):\n",
    "    splade_scores.append(splade[i:i+intv]['rtr_score'].sum())\n",
    "\n",
    "# The retrievability scores of the rest of corpus docs are 0 (not retrieved), \n",
    "# (i.e., the retrievability scores are zero within the last partition.)\n",
    "splade_scores.append(0.0) "
   ]
  },
  {
   "cell_type": "code",
   "execution_count": 70,
   "id": "0e04ec37-ade9-43b0-ad8f-fa3fb5c7fcb4",
   "metadata": {},
   "outputs": [
    {
     "data": {
      "text/plain": [
       "[0.32806227928738885,\n",
       " 0.13209421028162194,\n",
       " 0.10615176124954255,\n",
       " 0.05894275568041312,\n",
       " 0.05894275568041312,\n",
       " 0.05894275568041312,\n",
       " 0.05894275568041312,\n",
       " 0.05894275568041312,\n",
       " 0.05894275568041312,\n",
       " 0.05894275568041312,\n",
       " 0.0210924594185552,\n",
       " 0.0,\n",
       " 0.0,\n",
       " 0.0,\n",
       " 0.0,\n",
       " 0.0,\n",
       " 0.0]"
      ]
     },
     "execution_count": 70,
     "metadata": {},
     "output_type": "execute_result"
    }
   ],
   "source": [
    "splade_scores"
   ]
  },
  {
   "cell_type": "code",
   "execution_count": 71,
   "id": "b7eb6b95-0af7-474c-9e17-2f453b692ee7",
   "metadata": {},
   "outputs": [],
   "source": [
    "colbert_scores = []\n",
    "for i in range(0,num_docs,intv):\n",
    "    colbert_scores.append(colbert[i:i+intv]['rtr_score'].sum())\n",
    "\n",
    "# The retrievability scores of the rest of corpus docs are 0 (not retrieved), \n",
    "# (i.e., the retrievability scores are zero within the last partition.)\n",
    "colbert_scores.append(0.0) "
   ]
  },
  {
   "cell_type": "code",
   "execution_count": 72,
   "id": "7f874cc1-e7f7-47e7-a507-5d4e91b2c09f",
   "metadata": {},
   "outputs": [
    {
     "data": {
      "text/plain": [
       "[0.13560780667306346,\n",
       " 0.09812944516435365,\n",
       " 0.05894275568041312,\n",
       " 0.05894275568041312,\n",
       " 0.05894275568041312,\n",
       " 0.05894275568041312,\n",
       " 0.05894275568041312,\n",
       " 0.05894275568041312,\n",
       " 0.05894275568041312,\n",
       " 0.05894275568041312,\n",
       " 0.05894275568041312,\n",
       " 0.05894275568041312,\n",
       " 0.05894275568041312,\n",
       " 0.05894275568041312,\n",
       " 0.05894275568041312,\n",
       " 6.924317212863403e-06,\n",
       " 0.0]"
      ]
     },
     "execution_count": 72,
     "metadata": {},
     "output_type": "execute_result"
    }
   ],
   "source": [
    "colbert_scores"
   ]
  },
  {
   "cell_type": "code",
   "execution_count": 73,
   "id": "11b354c3-31de-4f70-83c6-9bfc24478318",
   "metadata": {},
   "outputs": [
    {
     "data": {
      "text/plain": [
       "17"
      ]
     },
     "execution_count": 73,
     "metadata": {},
     "output_type": "execute_result"
    }
   ],
   "source": [
    "scale_num = max(len(bm25_scores),len(monot5_scores),len(splade_scores),len(colbert_scores))\n",
    "scale_num"
   ]
  },
  {
   "cell_type": "code",
   "execution_count": 74,
   "id": "dae2a745-ea51-44c2-a1c9-3eec97827a98",
   "metadata": {},
   "outputs": [
    {
     "data": {
      "text/plain": [
       "array([ 1,  2,  3,  4,  5,  6,  7,  8,  9, 10, 11, 12, 13, 14, 15, 16, 17])"
      ]
     },
     "execution_count": 74,
     "metadata": {},
     "output_type": "execute_result"
    }
   ],
   "source": [
    "import numpy as np\n",
    "import matplotlib.pyplot as plt\n",
    "\n",
    "x_ticks = np.arange(1,scale_num +1)\n",
    "x_ticks"
   ]
  },
  {
   "cell_type": "code",
   "execution_count": 75,
   "id": "ac9fb064-4659-4067-8583-875b14eba3d1",
   "metadata": {},
   "outputs": [
    {
     "data": {
      "image/png": "[encoded data removed]",
      "text/plain": [
       "<Figure size 640x480 with 1 Axes>"
      ]
     },
     "metadata": {},
     "output_type": "display_data"
    }
   ],
   "source": [
    "total_width, n = 0.8, 4\n",
    "width = total_width / n\n",
    "x = x_ticks\n",
    "x = x - (total_width - width) / 2\n",
    "\n",
    "plt.bar(x, bm25_scores,  width=width, label='BM25')\n",
    "plt.bar(x + width, monot5_scores, width=width, label='Monot5')\n",
    "plt.bar(x + 2 * width, splade_scores, width=width, label='Splade')\n",
    "plt.bar(x + 3 * width, colbert_scores, width=width, label='Colbert')\n",
    "\n",
    "\n",
    "plt.tick_params(axis='x',length=0)\n",
    "plt.xticks(ticks=x_ticks, labels=None)\n",
    "\n",
    "plt.xlabel(f'Partition Number (with each partition containing {intv} docs)',fontsize=11)\n",
    "plt.ylabel('Accumulated Retrievability Score',fontsize=11)\n",
    "plt.legend()\n",
    "plt.show()"
   ]
  },
  {
   "cell_type": "code",
   "execution_count": 36,
   "id": "a3296fc1-e427-4baf-a42f-cf8523f4dafc",
   "metadata": {},
   "outputs": [],
   "source": [
    "# verify partition 4 about why the accumulated scores are the same\n",
    "partition = 4\n",
    "start = partition*intv"
   ]
  },
  {
   "cell_type": "code",
   "execution_count": 37,
   "id": "a317dcf2-1bcf-4505-b0d5-4f4ba4b65820",
   "metadata": {},
   "outputs": [
    {
     "data": {
      "text/plain": [
       "(450294, 3)"
      ]
     },
     "execution_count": 37,
     "metadata": {},
     "output_type": "execute_result"
    }
   ],
   "source": [
    "splade[splade['rtr_cnt'] == 1].shape"
   ]
  },
  {
   "cell_type": "code",
   "execution_count": 38,
   "id": "b98e5a34-ed26-4de1-8c54-bc3f4d201cf8",
   "metadata": {},
   "outputs": [
    {
     "data": {
      "text/plain": [
       "0.05862028033592834"
      ]
     },
     "execution_count": 38,
     "metadata": {},
     "output_type": "execute_result"
    }
   ],
   "source": [
    "splade[start:start+intv]['rtr_score'].sum()"
   ]
  },
  {
   "cell_type": "code",
   "execution_count": 39,
   "id": "037cdb25-a8b5-405e-9085-85ce2cb0b105",
   "metadata": {},
   "outputs": [
    {
     "data": {
      "text/plain": [
       "0.058621034169966495"
      ]
     },
     "execution_count": 39,
     "metadata": {},
     "output_type": "execute_result"
    }
   ],
   "source": [
    "bm25[start:start+intv]['rtr_score'].sum()"
   ]
  },
  {
   "cell_type": "code",
   "execution_count": 40,
   "id": "b8640179-32e9-4504-8d82-d2aeae0a99a8",
   "metadata": {},
   "outputs": [
    {
     "data": {
      "text/plain": [
       "0.058621034169966495"
      ]
     },
     "execution_count": 40,
     "metadata": {},
     "output_type": "execute_result"
    }
   ],
   "source": [
    "monot5[start:start+intv]['rtr_score'].sum()"
   ]
  },
  {
   "cell_type": "code",
   "execution_count": null,
   "id": "8e811cc6-5b4b-46e1-a975-25245b55aea4",
   "metadata": {},
   "outputs": [],
   "source": []
  }
 ],
 "metadata": {
  "kernelspec": {
   "display_name": "Python [conda env:myenv]",
   "language": "python",
   "name": "conda-env-myenv-py"
  },
  "language_info": {
   "codemirror_mode": {
    "name": "ipython",
    "version": 3
   },
   "file_extension": ".py",
   "mimetype": "text/x-python",
   "name": "python",
   "nbconvert_exporter": "python",
   "pygments_lexer": "ipython3",
   "version": "3.7.16"
  }
 },
 "nbformat": 4,
 "nbformat_minor": 5
}
