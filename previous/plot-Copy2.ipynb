{
 "cells": [
  {
   "cell_type": "code",
   "execution_count": 1,
   "id": "ebfc404f-f2d4-4dfe-8fe0-005cbf4c296c",
   "metadata": {},
   "outputs": [
    {
     "name": "stderr",
     "output_type": "stream",
     "text": [
      "Java started and loaded: pyterrier.java, pyterrier.terrier.java [version=5.11 (build: craig.macdonald 2025-01-13 21:29), helper_version=0.0.8]\n",
      "/tmp/ipykernel_28207/3663056234.py:5: DeprecationWarning: Call to deprecated method pt.init(). Deprecated since version 0.11.0.\n",
      "java is now started automatically with default settings. To force initialisation early, run:\n",
      "pt.java.init() # optional, forces java initialisation\n",
      "  pt.init()\n"
     ]
    }
   ],
   "source": [
    "import warnings\n",
    "warnings.filterwarnings('ignore')\n",
    "import pyterrier as pt\n",
    "if not pt.started():\n",
    "    pt.init()\n",
    "\n",
    "import os\n",
    "import pandas as pd\n",
    "import numpy as np\n",
    "pd.set_option('display.max_columns', None)\n",
    "pd.set_option('display.max_rows', None)\n",
    "pd.set_option('display.max_colwidth', False)\n",
    "\n",
    "import ir_measures\n",
    "from ir_measures import * # imports all supported measures, e.g., AP, nDCG, RR, P\n",
    "\n",
    "# import pyt_splade\n",
    "# splade = pyt_splade.Splade()"
   ]
  },
  {
   "cell_type": "code",
   "execution_count": 2,
   "id": "ad0ece66-f982-4675-a9ba-e32723bbcd56",
   "metadata": {},
   "outputs": [],
   "source": [
    "# dataset_name = 'msmarco-passage'\n",
    "# dataset = pt.get_dataset(f'irds:{dataset_name}')\n",
    "\n",
    "# eval_dataset = pt.get_dataset(f'irds:{dataset_name}/dev')\n",
    "# topics = eval_dataset.get_topics()\n",
    "# qrels = eval_dataset.get_qrels()\n",
    "\n",
    "import ir_datasets\n",
    "eval = ir_datasets.load(\"msmarco-passage/dev\")\n",
    "topics = pd.DataFrame(eval.queries_iter())\n",
    "qrels = pd.DataFrame(eval.qrels_iter())\n"
   ]
  },
  {
   "cell_type": "code",
   "execution_count": 3,
   "id": "1d3127ce-b5ad-4cf8-b0fb-9ad0f04fdf68",
   "metadata": {},
   "outputs": [
    {
     "data": {
      "text/plain": [
       "(101093, 2)"
      ]
     },
     "execution_count": 3,
     "metadata": {},
     "output_type": "execute_result"
    }
   ],
   "source": [
    "topics.shape"
   ]
  },
  {
   "cell_type": "code",
   "execution_count": null,
   "id": "fa0669cb-7ed0-4dd2-add2-f56f582b3dc4",
   "metadata": {},
   "outputs": [],
   "source": [
    "# df.shape"
   ]
  },
  {
   "cell_type": "code",
   "execution_count": null,
   "id": "592e888a-693b-4e2c-a19f-3fc24ac419f6",
   "metadata": {},
   "outputs": [],
   "source": [
    "# import ir_datasets\n",
    "# dataset = ir_datasets.load(\"msmarco-passage/dev\")\n",
    "# count = 0\n",
    "# for doc in dataset.docs_iter():\n",
    "#     print(doc)\n",
    "#     count +=1\n",
    "#     if count >5:\n",
    "#         break"
   ]
  },
  {
   "cell_type": "code",
   "execution_count": null,
   "id": "1f30d418-42cd-4589-9e14-93f4dd76428b",
   "metadata": {},
   "outputs": [],
   "source": [
    "# ms_docids = {key['docno']:0 for key in dataset.get_corpus_iter(verbose=True)}"
   ]
  },
  {
   "cell_type": "code",
   "execution_count": null,
   "id": "c52b0920-ad48-41c8-8ead-d683a3db05e1",
   "metadata": {},
   "outputs": [],
   "source": [
    "import json\n",
    "\n",
    "def save(dict, file):\n",
    "    with open(file,'w') as f:\n",
    "        json.dump(dict, f)\n"
   ]
  },
  {
   "cell_type": "code",
   "execution_count": null,
   "id": "1ac11ee5-a382-4eae-a8cb-cc8b09ed6289",
   "metadata": {},
   "outputs": [],
   "source": [
    "def load(file):\n",
    "    with open(file,'r') as f:\n",
    "        ms_docids = json.load(f)\n",
    "    return ms_docids"
   ]
  },
  {
   "cell_type": "code",
   "execution_count": null,
   "id": "045c0619-2382-4a9f-89bc-715c18366a89",
   "metadata": {},
   "outputs": [],
   "source": [
    "# savedisk(ms_docids, './ms_docids.json')"
   ]
  },
  {
   "cell_type": "code",
   "execution_count": null,
   "id": "b08acd4e-771b-4afe-89e7-07f14843fb9d",
   "metadata": {},
   "outputs": [],
   "source": [
    "# for k,v in ms_docids.items():\n",
    "#     print(type(k),type(v))"
   ]
  },
  {
   "cell_type": "code",
   "execution_count": null,
   "id": "e1f6135d-559c-4d24-85ec-374da67fefa1",
   "metadata": {},
   "outputs": [],
   "source": [
    "#################### bm25 ###########################"
   ]
  },
  {
   "cell_type": "code",
   "execution_count": null,
   "id": "96f79ef6-cf95-44c2-b403-e9900f87e584",
   "metadata": {},
   "outputs": [],
   "source": [
    "\n",
    "def calc_rtr_score(df, docid_dict, savename):\n",
    "    for query_id in pt.tqdm(topics['query_id']):\n",
    "        D = df[df['qid'] == np.int64(query_id)]\n",
    "        for dno in D['docno']:\n",
    "            rank =  D[D['docno'] == dno]['rank'].values[0]\n",
    "            score = 100/np.log(rank + 2) # plus 2 because the ranks start from zero\n",
    "            docid_dict[str(dno)] += score\n",
    "    \n",
    "    save(docid_dict,savename)   \n"
   ]
  },
  {
   "cell_type": "code",
   "execution_count": null,
   "id": "876b20f5-f9da-4408-9efc-83e58d833989",
   "metadata": {},
   "outputs": [],
   "source": [
    "def calc_metrics(modelname):\n",
    "    scoredF = f'./results/{modelname}_docids_100.json'\n",
    "    if not os.path.exists(scoredF):\n",
    "        csv = f'/nfs/datasets/cxj/retrievability-bias/results_{modelname}_100.csv'\n",
    "        init_msmarco_dict = './results/ms_docids.json'\n",
    "        docids_score = load(init_msmarco_dict)\n",
    "        for query_id in pt.tqdm(topics['query_id']):\n",
    "            D = df[df['qid'] == np.int64(query_id)]\n",
    "            for dno in D['docno']:\n",
    "                rank =  D[D['docno'] == dno]['rank'].values[0]\n",
    "                score = 100/np.log(rank + 2) # plus 2 because the ranks start from zero\n",
    "                docids_score[str(dno)] += score\n",
    "\n",
    "    docids_score = load(scoredF)\n",
    "    scores_df = pd.DataFrame.from_dict(docids_score, orient=\"index\",columns=[\"score\"])\n",
    "    scores_df = scores_df[scores_df[\"score\"]>0]\n",
    "    scores = scores_df['score'].to_list()\n",
    "    calc_stats(scores)\n",
    "    gini_value = G(scores)\n"
   ]
  },
  {
   "cell_type": "code",
   "execution_count": null,
   "id": "09e4ec63-5dd6-4252-91b3-21ce50680c5e",
   "metadata": {},
   "outputs": [],
   "source": [
    "def transform_df(df):\n",
    "    df_run = df.rename(columns={'qid':'query_id','docid':'doc_id'})\n",
    "    del df_run['score']\n",
    "    df_run['score'] = 10-df_run['rank']\n",
    "    df_run[['query_id','doc_id']] = df_run[['query_id','doc_id']].astype(str)\n",
    "\n",
    "    return df_run"
   ]
  },
  {
   "cell_type": "code",
   "execution_count": null,
   "id": "e1cc3b9c-2e03-48b4-86b7-e11b5692b019",
   "metadata": {},
   "outputs": [],
   "source": [
    "calc_metrics('bm25')"
   ]
  },
  {
   "cell_type": "code",
   "execution_count": null,
   "id": "8d2d5918-38e9-4953-b255-e88b11a28edd",
   "metadata": {},
   "outputs": [],
   "source": [
    "bm25 = pd.read_csv('/nfs/datasets/cxj/retrievability-bias/results_bm25_100.csv')"
   ]
  },
  {
   "cell_type": "code",
   "execution_count": null,
   "id": "a5c733c8-5f95-4c24-b0cf-95242468dc73",
   "metadata": {},
   "outputs": [],
   "source": [
    "bm25_docids_100 = load('./results/ms_docids.json')"
   ]
  },
  {
   "cell_type": "code",
   "execution_count": null,
   "id": "4977ccae-f0fb-458f-a2af-b0a188e6a24f",
   "metadata": {},
   "outputs": [],
   "source": [
    "calc_rtr_score(bm25, bm25_docids_100, './results/bm25_docids_100.json')"
   ]
  },
  {
   "cell_type": "code",
   "execution_count": null,
   "id": "c5277e9a-207f-47d6-b685-e01e6fc50f6e",
   "metadata": {},
   "outputs": [],
   "source": []
  },
  {
   "cell_type": "code",
   "execution_count": null,
   "id": "966d22be-314d-4d29-a71a-70f2766caf39",
   "metadata": {},
   "outputs": [],
   "source": [
    "monot5 = pd.read_csv('/nfs/datasets/cxj/retrievability-bias/results_monot5_100.csv') # 100 docs retrieved for each query."
   ]
  },
  {
   "cell_type": "code",
   "execution_count": null,
   "id": "bacb1bde-77b6-4234-bf8c-b4ffe596e6b4",
   "metadata": {},
   "outputs": [],
   "source": [
    "monot5_docids_100 = load('./results/ms_docids.json')"
   ]
  },
  {
   "cell_type": "code",
   "execution_count": null,
   "id": "aeca063f-d5aa-4503-9c8c-41dd0013b234",
   "metadata": {},
   "outputs": [],
   "source": [
    "calc_rtr_score(monot5, monot5_docids_100, './results/monot5_docids_100.json')"
   ]
  },
  {
   "cell_type": "code",
   "execution_count": null,
   "id": "920f3376-4759-4962-ac08-689ac629ebd2",
   "metadata": {},
   "outputs": [],
   "source": [
    "################ splade  ##################################"
   ]
  },
  {
   "cell_type": "code",
   "execution_count": null,
   "id": "2c060776-2461-407f-a40d-9536b35c16db",
   "metadata": {},
   "outputs": [],
   "source": [
    "splade = pd.read_csv('/nfs/datasets/cxj/retrievability-bias/results_splade_100.csv') # 100 docs retrieved for each query."
   ]
  },
  {
   "cell_type": "code",
   "execution_count": null,
   "id": "8f64ac4b-45fb-4c83-a295-27600fc951d7",
   "metadata": {},
   "outputs": [],
   "source": [
    "splade.head(2)"
   ]
  },
  {
   "cell_type": "code",
   "execution_count": null,
   "id": "00a09409-dd8d-4233-9147-f94ad0159c21",
   "metadata": {},
   "outputs": [],
   "source": [
    "splade_docids_100 = load('./results/ms_docids.json')"
   ]
  },
  {
   "cell_type": "code",
   "execution_count": null,
   "id": "a4aee4e1-444e-4d10-9299-4a0c5c7dc029",
   "metadata": {},
   "outputs": [],
   "source": [
    "calc_rtr_score(splade, splade_docids_100, './results/splade_docids_100.json')"
   ]
  },
  {
   "cell_type": "code",
   "execution_count": null,
   "id": "f4d96463-8b78-49e0-9dcb-77fdc4763a6a",
   "metadata": {},
   "outputs": [],
   "source": []
  },
  {
   "cell_type": "code",
   "execution_count": null,
   "id": "b72186ae-d428-4e16-9320-07db11ca629c",
   "metadata": {},
   "outputs": [],
   "source": [
    "colbert = pd.read_csv('/nfs/datasets/cxj/retrievability-bias/results_colbert_100.csv')"
   ]
  },
  {
   "cell_type": "code",
   "execution_count": null,
   "id": "cc11b0d1-3480-4aa2-a7ff-d155b0734f8c",
   "metadata": {},
   "outputs": [],
   "source": [
    "colbert['docno'] = colbert['docid']"
   ]
  },
  {
   "cell_type": "code",
   "execution_count": null,
   "id": "6187763a-cbe2-4764-8640-bc104cdf8478",
   "metadata": {},
   "outputs": [],
   "source": [
    "colbert.head(2)"
   ]
  },
  {
   "cell_type": "code",
   "execution_count": null,
   "id": "7470ff90-53ae-49dd-b038-f75743a92a4f",
   "metadata": {},
   "outputs": [],
   "source": [
    "colbert_docids_100 = load('./results/ms_docids.json')"
   ]
  },
  {
   "cell_type": "code",
   "execution_count": null,
   "id": "460a4bfd-79e2-4cc4-9d6c-ab21bccfe4e4",
   "metadata": {},
   "outputs": [],
   "source": [
    "calc_rtr_score(colbert, colbert_docids_100, './results/colbert_docids_100.json')"
   ]
  },
  {
   "cell_type": "code",
   "execution_count": null,
   "id": "6332c23a-1932-424b-8807-5cd2e56e9bb6",
   "metadata": {},
   "outputs": [],
   "source": [
    "bm25_colbert = pd.read_csv('/nfs/datasets/cxj/retrievability-bias/results_bm25_colbert_100.csv')\n",
    "bm25_colbert.info()"
   ]
  },
  {
   "cell_type": "code",
   "execution_count": null,
   "id": "7654bf8b-fe49-4fa9-963e-839ee036ab5f",
   "metadata": {},
   "outputs": [],
   "source": [
    "bm25_colbert_docids_100 = load('./results/ms_docids.json')\n",
    "calc_rtr_score(bm25_colbert, bm25_colbert_docids_100, './results/bm25_colbert_docids_100.json')\n"
   ]
  },
  {
   "cell_type": "code",
   "execution_count": null,
   "id": "dc0fbf80-9599-4c13-859f-e763e8e27eaf",
   "metadata": {},
   "outputs": [],
   "source": []
  },
  {
   "cell_type": "code",
   "execution_count": null,
   "id": "e958841c-590e-43e2-9f47-42e35f5f32af",
   "metadata": {},
   "outputs": [],
   "source": []
  },
  {
   "cell_type": "code",
   "execution_count": null,
   "id": "866acb55-186f-4719-a434-a8bb115d7781",
   "metadata": {},
   "outputs": [],
   "source": [
    "bm25_docids = load('./results/bm25_docids_100.json')"
   ]
  },
  {
   "cell_type": "code",
   "execution_count": null,
   "id": "1da2f7a6-8911-4fa7-927f-37545cbd863b",
   "metadata": {},
   "outputs": [],
   "source": [
    "monot5_docids = load('./results/monot5_docids_100.json')"
   ]
  },
  {
   "cell_type": "code",
   "execution_count": null,
   "id": "67ab490b-4ed5-4bd9-abb9-8ab58b10f277",
   "metadata": {},
   "outputs": [],
   "source": [
    "splade_docids = load('./results/splade_docids_100.json')"
   ]
  },
  {
   "cell_type": "code",
   "execution_count": null,
   "id": "5cb6947d-19bf-422e-9dde-9ba50006c6f5",
   "metadata": {},
   "outputs": [],
   "source": [
    "colbert_docids = load('./results/colbert_docids_100.json')"
   ]
  },
  {
   "cell_type": "code",
   "execution_count": null,
   "id": "2dfe5da5-c66f-4ef9-8b67-73a1b5d7d8b5",
   "metadata": {},
   "outputs": [],
   "source": [
    "bm25_colbert_docids = load('./results/bm25_colbert_docids_100.json')"
   ]
  },
  {
   "cell_type": "code",
   "execution_count": null,
   "id": "ef4dd7b1-fae7-49b5-8201-e17b84dc7f57",
   "metadata": {},
   "outputs": [],
   "source": []
  },
  {
   "cell_type": "code",
   "execution_count": null,
   "id": "68f576b2-9614-4564-9eb1-e1a5e7b50ecc",
   "metadata": {},
   "outputs": [],
   "source": [
    "bm25_csv = pd.DataFrame.from_dict(bm25_docids, orient=\"index\",columns=[\"score\"])\n",
    "bm25_csv.to_csv('./results/bm25_100.csv',index=False)"
   ]
  },
  {
   "cell_type": "code",
   "execution_count": null,
   "id": "6ed2a20e-797d-459e-a118-793c61be0754",
   "metadata": {},
   "outputs": [],
   "source": [
    "monot5_csv = pd.DataFrame.from_dict(monot5_docids, orient=\"index\",columns=[\"score\"])\n",
    "monot5_csv.to_csv('./results/monot5_100.csv',index=False)"
   ]
  },
  {
   "cell_type": "code",
   "execution_count": null,
   "id": "fc93dd4c-1494-452a-bfc2-3dd32c65a026",
   "metadata": {},
   "outputs": [],
   "source": [
    "splade_csv = pd.DataFrame.from_dict(splade_docids, orient=\"index\",columns=[\"score\"])\n",
    "splade_csv.to_csv('./results/splade_100.csv',index=False)\n"
   ]
  },
  {
   "cell_type": "code",
   "execution_count": null,
   "id": "3d7194e0-ba63-4837-98dc-561725281ecc",
   "metadata": {},
   "outputs": [],
   "source": [
    "colbert_csv = pd.DataFrame.from_dict(colbert_docids, orient=\"index\",columns=[\"score\"])\n",
    "colbert_csv.to_csv('./results/colbert_100.csv',index=False)"
   ]
  },
  {
   "cell_type": "code",
   "execution_count": null,
   "id": "6adb3641-0c30-4739-af9b-3fb113f5e872",
   "metadata": {},
   "outputs": [],
   "source": [
    "bm25_colbert_csv = pd.DataFrame.from_dict(bm25_colbert_docids, orient=\"index\",columns=[\"score\"])\n",
    "bm25_colbert_csv.to_csv('./results/bm25_colbert_100.csv',index=False)"
   ]
  },
  {
   "cell_type": "code",
   "execution_count": null,
   "id": "c2010c64-efdd-4c13-945f-8bcd25343e45",
   "metadata": {},
   "outputs": [],
   "source": []
  },
  {
   "cell_type": "code",
   "execution_count": null,
   "id": "722f869a-1cca-4213-8115-d4f0c2375a0e",
   "metadata": {},
   "outputs": [],
   "source": [
    "bm25_csv = pd.read_csv('./results/bm25_100.csv')\n",
    "bm25_csv = bm25_csv[bm25_csv[\"score\"]>0]\n",
    "bm25_csv.to_csv('./results/bm25_csv_100_pruned.csv', index=False)"
   ]
  },
  {
   "cell_type": "code",
   "execution_count": null,
   "id": "bcfb905f-348e-4c2e-ab8f-af24078df097",
   "metadata": {},
   "outputs": [],
   "source": [
    "\n",
    "\n",
    "monot5_csv = pd.read_csv('./results/monot5_100.csv')\n",
    "monot5_csv = monot5_csv[monot5_csv[\"score\"]>0]\n",
    "monot5_csv.to_csv('./results/monot5_csv_100_pruned.csv', index=False)\n",
    "\n"
   ]
  },
  {
   "cell_type": "code",
   "execution_count": null,
   "id": "3bf8b7b6-f362-48b2-b395-654cb447daff",
   "metadata": {},
   "outputs": [],
   "source": [
    "splade_csv = pd.read_csv('./results/splade_100.csv')\n",
    "splade_csv = splade_csv[splade_csv[\"score\"]>0]\n",
    "splade_csv.to_csv('./results/splade_csv_100_pruned.csv', index=False)\n",
    "\n"
   ]
  },
  {
   "cell_type": "code",
   "execution_count": null,
   "id": "a0ffb239-b466-4769-8024-017d9929e770",
   "metadata": {},
   "outputs": [],
   "source": [
    "colbert_csv = pd.read_csv('./results/colbert_100.csv')\n",
    "colbert_csv = colbert_csv[colbert_csv[\"score\"]>0]\n",
    "colbert_csv.to_csv('./results/colbert_csv_100_pruned.csv', index=False)"
   ]
  },
  {
   "cell_type": "code",
   "execution_count": null,
   "id": "a2246734-0e7c-4076-8f99-dd55ce1c5b13",
   "metadata": {},
   "outputs": [],
   "source": [
    "bm25_colbert_csv = pd.read_csv('./results/bm25_colbert_100.csv')\n",
    "bm25_colbert_csv = bm25_colbert_csv[bm25_colbert_csv[\"score\"]>0]\n",
    "bm25_colbert_csv.to_csv('./results/bm25_colbert_csv_100_pruned.csv', index=False)"
   ]
  },
  {
   "cell_type": "code",
   "execution_count": null,
   "id": "9f132734-b65f-4237-aa1d-80d29b0ea02b",
   "metadata": {},
   "outputs": [],
   "source": [
    "# bm25_csv = pd.read_csv('./results/bm25.csv')\n",
    "# column = bm25_csv.columns[1]\n",
    "# bm25_csv = bm25_csv[bm25_csv[column] == 0]\n",
    "# bm25_csv.to_csv('./results/bm25_csv_with_0.csv', index=False)\n",
    "\n",
    "# monot5_csv = pd.read_csv('./results/monot5.csv')\n",
    "# column = monot5_csv.columns[1]\n",
    "# monot5_csv = monot5_csv[monot5_csv[column] == 0]\n",
    "# monot5_csv.to_csv('./results/monot5_csv_with_0.csv', index=False)\n",
    "\n",
    "# splade_csv = pd.read_csv('./results/splade.csv')\n",
    "# column = splade_csv.columns[1]\n",
    "# splade_csv = splade_csv[splade_csv[column] == 0]\n",
    "# splade_csv.to_csv('./results/splade_csv_with_0.csv', index=False)\n",
    "\n",
    "# colbert_csv = pd.read_csv('./results/colbert.csv')\n",
    "# column = colbert_csv.columns[1]\n",
    "# colbert_csv = colbert_csv[colbert_csv[column] == 0]\n",
    "# colbert_csv.to_csv('./results/colbert_csv_with_0.csv', index=False)"
   ]
  },
  {
   "cell_type": "code",
   "execution_count": null,
   "id": "7e3d645f-da4c-4caf-869e-6bd8e1dba0d7",
   "metadata": {},
   "outputs": [],
   "source": [
    "bm25_csv.shape"
   ]
  },
  {
   "cell_type": "code",
   "execution_count": null,
   "id": "e3b7458b-75d0-46fe-a810-f925b3f9df2d",
   "metadata": {},
   "outputs": [],
   "source": [
    "monot5_csv.shape"
   ]
  },
  {
   "cell_type": "code",
   "execution_count": null,
   "id": "8e806b35-d6f2-4483-a5dc-0fcbd81da036",
   "metadata": {},
   "outputs": [],
   "source": [
    "splade_csv.shape"
   ]
  },
  {
   "cell_type": "code",
   "execution_count": null,
   "id": "51cfea5b-01e4-49c1-9c1c-e0b015cd13f0",
   "metadata": {},
   "outputs": [],
   "source": [
    "colbert_csv.shape"
   ]
  },
  {
   "cell_type": "code",
   "execution_count": null,
   "id": "c2982997-7146-4405-8097-f5c46949bef8",
   "metadata": {},
   "outputs": [],
   "source": [
    "bm25_colbert_csv.shape"
   ]
  },
  {
   "cell_type": "code",
   "execution_count": null,
   "id": "f6cf01e2-6854-49f4-8361-720b8cf42b55",
   "metadata": {},
   "outputs": [],
   "source": [
    "def G(v):\n",
    "    v = np.array(v)\n",
    "    bins = np.linspace(0., 100., 11)\n",
    "    total = float(np.sum(v))\n",
    "    yvals = [0]\n",
    "    for b in bins[1:]:\n",
    "        bin_vals = v[v <= np.percentile(v, b)]\n",
    "        bin_fraction = (np.sum(bin_vals) / total) * 100.0\n",
    "        yvals.append(bin_fraction)\n",
    "    # perfect equality area\n",
    "    pe_area = np.trapz(bins, x=bins)\n",
    "    # lorenz area\n",
    "    lorenz_area = np.trapz(yvals, x=bins)\n",
    "    gini_val = (pe_area - lorenz_area) / float(pe_area)\n",
    "    # return bins, yvals, gini_val\n",
    "    print('gini:', gini_val)"
   ]
  },
  {
   "cell_type": "code",
   "execution_count": null,
   "id": "cfdc21d1-15ce-4a1c-afe2-c4ccd6926975",
   "metadata": {},
   "outputs": [],
   "source": [
    "import statistics\n",
    "\n",
    "def calc_stats(values):\n",
    "    # values = list(data.values())\n",
    "\n",
    "    mean = statistics.mean(values)\n",
    "    std_dev = statistics.stdev(values) \n",
    "    print(f\"Mean: {mean}\")\n",
    "    print(f\"Standard Deviation: {std_dev}\")\n"
   ]
  },
  {
   "cell_type": "code",
   "execution_count": null,
   "id": "d9f24255-4fed-4b9a-b8a2-97314ff18a80",
   "metadata": {},
   "outputs": [],
   "source": [
    "bm25_scores = bm25_csv['score'].to_list()\n",
    "calc_stats(bm25_scores)"
   ]
  },
  {
   "cell_type": "code",
   "execution_count": null,
   "id": "04539efd-8f51-4fb4-9ac5-e3a7752b4644",
   "metadata": {},
   "outputs": [],
   "source": [
    "gini_value = G(bm25_scores)\n",
    "gini_value"
   ]
  },
  {
   "cell_type": "code",
   "execution_count": null,
   "id": "fcdd187c-b9f4-46d4-b7af-a5f5ac05ff2d",
   "metadata": {},
   "outputs": [],
   "source": [
    "monot5_scores = monot5_csv['score'].to_list()\n",
    "calc_stats(monot5_scores)"
   ]
  },
  {
   "cell_type": "code",
   "execution_count": null,
   "id": "ad0a5c45-5fc0-404d-8161-d5e3cff5bc85",
   "metadata": {},
   "outputs": [],
   "source": [
    "gini_value = G(monot5_scores)\n",
    "gini_value"
   ]
  },
  {
   "cell_type": "code",
   "execution_count": null,
   "id": "87cb336b-8631-46cd-a748-07eee2f97b0c",
   "metadata": {},
   "outputs": [],
   "source": [
    "splade_scores = splade_csv['score'].to_list()\n",
    "calc_stats(splade_scores)"
   ]
  },
  {
   "cell_type": "code",
   "execution_count": null,
   "id": "078fc703-a87f-404a-865f-af1587509f71",
   "metadata": {},
   "outputs": [],
   "source": [
    "gini_value = G(splade_scores)\n",
    "gini_value"
   ]
  },
  {
   "cell_type": "code",
   "execution_count": null,
   "id": "72e05396-2eaf-4175-bcab-241d0994f4c0",
   "metadata": {},
   "outputs": [],
   "source": [
    "colbert_scores = colbert_csv['score'].to_list()\n",
    "calc_stats(colbert_scores)"
   ]
  },
  {
   "cell_type": "code",
   "execution_count": null,
   "id": "b8cc62b1-051b-45a5-b3be-36ca780ca6a0",
   "metadata": {},
   "outputs": [],
   "source": [
    "gini_value = G(colbert_scores)\n",
    "gini_value"
   ]
  },
  {
   "cell_type": "code",
   "execution_count": null,
   "id": "fc1b252f-d3cc-4f81-b5d4-0e1b495c3f86",
   "metadata": {},
   "outputs": [],
   "source": [
    "bm25_colbert_scores = bm25_colbert_csv['score'].to_list()\n",
    "calc_stats(bm25_colbert_scores)"
   ]
  },
  {
   "cell_type": "code",
   "execution_count": null,
   "id": "7a08063c-dd87-48aa-ab5b-8c2cce73c307",
   "metadata": {},
   "outputs": [],
   "source": [
    "gini_value = G(bm25_colbert_scores)\n",
    "gini_value"
   ]
  },
  {
   "cell_type": "code",
   "execution_count": null,
   "id": "840c5697-a471-489a-b85a-4cb821c76c01",
   "metadata": {},
   "outputs": [],
   "source": [
    "bm25 = pd.read_csv('/nfs/datasets/cxj/retrievability-bias/results_bm25_100.csv')\n",
    "bm25 = transform_df(bm25)\n",
    "ir_measures.calc_aggregate([nDCG@10, RR], qrels, bm25)"
   ]
  },
  {
   "cell_type": "code",
   "execution_count": null,
   "id": "d01cfe4e-90e3-4f1a-b56a-9b90222e3821",
   "metadata": {},
   "outputs": [],
   "source": [
    "monot5 = pd.read_csv('/nfs/datasets/cxj/retrievability-bias/results_bm25_monot5_100.csv')"
   ]
  },
  {
   "cell_type": "code",
   "execution_count": null,
   "id": "ceee2104-76c4-4590-a749-b1d259f79855",
   "metadata": {},
   "outputs": [],
   "source": [
    "splade = pd.read_csv('/nfs/datasets/cxj/retrievability-bias/results_splade_100.csv')"
   ]
  },
  {
   "cell_type": "code",
   "execution_count": null,
   "id": "a2bb81c9-f5a6-41ed-8a78-b9c7e0683398",
   "metadata": {},
   "outputs": [],
   "source": [
    "colbert = pd.read_csv('/nfs/datasets/cxj/retrievability-bias/results_colbert_100.csv')"
   ]
  },
  {
   "cell_type": "code",
   "execution_count": null,
   "id": "b17a5075-07b1-4c94-9b70-c9de5a948425",
   "metadata": {},
   "outputs": [],
   "source": [
    "bm25_colbert = pd.read_csv('/nfs/datasets/cxj/retrievability-bias/results_bm25_colbert_100.csv')\n",
    "bm25_colbert['docid'] = bm25_colbert['docno']\n",
    "bm25_colbert = transform_df(bm25_colbert)\n",
    "ir_measures.calc_aggregate([nDCG@10, RR], qrels, bm25_colbert)"
   ]
  }
 ],
 "metadata": {
  "kernelspec": {
   "display_name": "Python [conda env:splade]",
   "language": "python",
   "name": "conda-env-splade-py"
  },
  "language_info": {
   "codemirror_mode": {
    "name": "ipython",
    "version": 3
   },
   "file_extension": ".py",
   "mimetype": "text/x-python",
   "name": "python",
   "nbconvert_exporter": "python",
   "pygments_lexer": "ipython3",
   "version": "3.8.13"
  }
 },
 "nbformat": 4,
 "nbformat_minor": 5
}
