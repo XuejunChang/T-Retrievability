{
 "cells": [
  {
   "cell_type": "code",
   "execution_count": 2,
   "id": "initial_id",
   "metadata": {
    "jupyter": {
     "is_executing": true
    }
   },
   "outputs": [
    {
     "name": "stderr",
     "output_type": "stream",
     "text": [
      "PyTerrier 0.10.0 has loaded Terrier 5.10 (built by craigm on 2024-08-22 17:33) and terrier-helper 0.0.8\n",
      "\n"
     ]
    },
    {
     "name": "stdout",
     "output_type": "stream",
     "text": [
      "Number of documents: 8841823\n",
      "Number of terms: 1170682\n",
      "Number of postings: 215238456\n",
      "Number of fields: 1\n",
      "Number of tokens: 288759529\n",
      "Field names: [text]\n",
      "Positions:   false\n",
      "\n"
     ]
    }
   ],
   "source": [
    "import pyterrier as pt\n",
    "if not pt.started():\n",
    "    pt.init()\n",
    "import warnings\n",
    "warnings.filterwarnings('ignore')\n",
    "from ir_measures import AP, nDCG, P, R, RR, MRR\n",
    "import pandas as pd\n",
    "pd.set_option('display.max_columns',None)\n",
    "pd.set_option('display.max_rows', None)\n",
    "pd.set_option('display.expand_frame_repr', False)\n",
    "import numpy as np\n",
    "import os\n",
    "import shutil\n",
    "\n",
    "# work_name=\"retrievability-bias\"\n",
    "nfs_dir = f'/nfs/datasets/cxj/bm25'\n",
    "if not os.path.exists(nfs_dir):\n",
    "    os.makedirs(nfs_dir)\n",
    "\n",
    "dataset_name = 'msmarco-passage'\n",
    "# eval_ds_name = 'trec-dl-2019'\n",
    "eval_ds_name = 'dev'\n",
    "text_field= 'text'\n",
    "ranker = \"BM25\"\n",
    "retrieve_num = 10\n",
    "dataset = pt.get_dataset(f'irds:{dataset_name}')\n",
    "eval_dataset = pt.get_dataset(f'irds:{dataset_name}/{eval_ds_name}')\n",
    "topics = eval_dataset.get_topics()\n",
    "qrels = eval_dataset.get_qrels()\n",
    "\n",
    "# dataset_index = f'/nfs/llm/indices/{dataset_name}'\n",
    "# index = pt.IndexRef.of(f'{dataset_index}')\n",
    "index = pt.IndexFactory.of(f'/nfs/llm/indices/{dataset_name}/data.properties')\n",
    "print(index.getCollectionStatistics())"
   ]
  },
  {
   "cell_type": "code",
   "execution_count": 3,
   "id": "fca7f4c3-2326-496f-be70-df3d4c1ad545",
   "metadata": {},
   "outputs": [
    {
     "name": "stderr",
     "output_type": "stream",
     "text": [
      "msmarco-passage documents: 100%|██████████| 8841823/8841823 [00:39<00:00, 225614.01it/s]\n"
     ]
    }
   ],
   "source": [
    "df = pd.DataFrame(dataset.get_corpus_iter(verbose=True))"
   ]
  },
  {
   "cell_type": "code",
   "execution_count": 4,
   "id": "edc57d49-95cd-4d62-9ba0-f98ff9d3ce19",
   "metadata": {},
   "outputs": [],
   "source": [
    "df['len'] = df['text'].apply(lambda x: len(x))"
   ]
  },
  {
   "cell_type": "code",
   "execution_count": 8,
   "id": "c0383ad8-1790-432e-8ad1-533c8ebe3e2b",
   "metadata": {},
   "outputs": [],
   "source": [
    "df.sort_values(by='len', ascending=False,inplace=True)"
   ]
  },
  {
   "cell_type": "code",
   "execution_count": 13,
   "id": "d9fea58e-3f50-489c-960b-8d8768dc2a0d",
   "metadata": {},
   "outputs": [
    {
     "data": {
      "text/plain": [
       "3452"
      ]
     },
     "execution_count": 13,
     "metadata": {},
     "output_type": "execute_result"
    }
   ],
   "source": [
    "import sys\n",
    "sys.getsizeof(df[df['len']==1665]['text'])"
   ]
  },
  {
   "cell_type": "code",
   "execution_count": 14,
   "id": "d4938c45-4ff0-4782-a1a3-5cec0871cdaf",
   "metadata": {},
   "outputs": [
    {
     "data": {
      "text/plain": [
       "28"
      ]
     },
     "execution_count": 14,
     "metadata": {},
     "output_type": "execute_result"
    }
   ],
   "source": [
    "sys.getsizeof(4)"
   ]
  },
  {
   "cell_type": "code",
   "execution_count": null,
   "id": "491a8e67502034b7",
   "metadata": {},
   "outputs": [],
   "source": [
    "if os.path.exists('./df_msmarco.csv'):\n",
    "    df = pd.read_csv('./df_msmarco.csv')\n",
    "else:\n",
    "    df = pd.DataFrame(dataset.get_corpus_iter(verbose=True))\n",
    "    df.to_csv('./df_msmarco.csv', index=True)\n",
    "\n"
   ]
  },
  {
   "cell_type": "code",
   "execution_count": null,
   "id": "2c38cf19-d177-417e-aa31-17d621f35d71",
   "metadata": {},
   "outputs": [],
   "source": [
    "# sample_docs = df[text_field].sample(n=1000,random_state=1)\n",
    "sample_df = df.sample(n=1000000,random_state=1) # 1 M\n",
    "print(sample_df[0:5])"
   ]
  },
  {
   "cell_type": "code",
   "execution_count": null,
   "id": "7d1581c2-4310-4fb5-a467-b3381533e779",
   "metadata": {},
   "outputs": [],
   "source": [
    "def is_number(s):\n",
    "    try:  \n",
    "        float(s)\n",
    "        return True\n",
    "    except ValueError:  \n",
    "        pass  \n",
    "    try:\n",
    "        import unicodedata  \n",
    "        unicodedata.numeric(s)  \n",
    "        return True\n",
    "    except (TypeError, ValueError):\n",
    "        pass\n",
    "    return False"
   ]
  },
  {
   "cell_type": "code",
   "execution_count": null,
   "id": "ad83a6fc-86d9-4f09-a06d-1ec32525ac86",
   "metadata": {},
   "outputs": [],
   "source": [
    "di = index.getDirectIndex()\n",
    "doi = index.getDocumentIndex()\n",
    "lex = index.getLexicon()"
   ]
  },
  {
   "cell_type": "code",
   "execution_count": null,
   "id": "9ae9f10d-0f61-4984-a501-c1a33dec587e",
   "metadata": {},
   "outputs": [],
   "source": [
    "Q = []\n",
    "terms = []\n",
    "count=0\n",
    "for docid, _ in sample_df.iterrows():\n",
    "    # print(docid)\n",
    "    # print(f'terms={terms}')\n",
    "    for posting in di.getPostings(doi.getDocumentEntry(docid)):\n",
    "        termid = posting.getId()\n",
    "        lee = lex.getLexiconEntry(termid)\n",
    "        term = lee.getKey()\n",
    "        freq = posting.getFrequency()\n",
    "        if freq >=2 and not is_number(term):\n",
    "            # print(\"%s with frequency %d\" % (term,freq))\n",
    "            terms.append(term)\n",
    "            if len(terms) == 3:\n",
    "                Q.append(' '.join(terms))\n",
    "                terms = []\n",
    "    \n",
    "    terms = []\n",
    "    # count +=1\n",
    "    # if count ==8:\n",
    "    #     break"
   ]
  },
  {
   "cell_type": "code",
   "execution_count": null,
   "id": "5b229f7f-cec2-4139-86b8-dfc74b77ec8c",
   "metadata": {},
   "outputs": [],
   "source": [
    "print(f'Q={len(Q)}')"
   ]
  },
  {
   "cell_type": "code",
   "execution_count": null,
   "id": "445fe43f-faca-44ef-8257-bcbb1be830a2",
   "metadata": {},
   "outputs": [],
   "source": [
    "Q[:10]"
   ]
  },
  {
   "cell_type": "code",
   "execution_count": null,
   "id": "96aca29f-b826-407e-9782-b9eb6dc96c24",
   "metadata": {},
   "outputs": [],
   "source": [
    "df_Q = pd.DataFrame({'qid':range(0,len(Q)),'query':Q})"
   ]
  },
  {
   "cell_type": "code",
   "execution_count": null,
   "id": "65503c14-bd9f-4c61-a1c7-79cd8faa6214",
   "metadata": {},
   "outputs": [],
   "source": [
    "df_Q.shape"
   ]
  },
  {
   "cell_type": "code",
   "execution_count": null,
   "id": "293a8460-0468-4f81-8d14-28fbd0128c0e",
   "metadata": {},
   "outputs": [],
   "source": [
    "# df_Q.to_csv('./df_Q.csv')\n",
    "df_Q = pd.read_csv('./df_Q.csv')"
   ]
  },
  {
   "cell_type": "code",
   "execution_count": null,
   "id": "03d1d27b-5b1a-4f4b-ab58-8cc61e1a0467",
   "metadata": {},
   "outputs": [],
   "source": [
    "df_Q[:10]"
   ]
  },
  {
   "cell_type": "code",
   "execution_count": null,
   "id": "683c81a3-c7d3-4c18-b3a7-b39f302d2636",
   "metadata": {},
   "outputs": [],
   "source": [
    "# tf_idf = pt.terrier.Retriever(index, wmodel=\"TF_IDF\")\n",
    "bm25 = pt.terrier.Retriever(index, wmodel=\"BM25\") % 10"
   ]
  },
  {
   "cell_type": "code",
   "execution_count": null,
   "id": "7d8164ba-9c1e-464f-9e58-ba3722f6386b",
   "metadata": {},
   "outputs": [],
   "source": [
    "# pipe = bm25 >> pt.text.get_text(dataset,'text')"
   ]
  },
  {
   "cell_type": "code",
   "execution_count": null,
   "id": "f5292a02-801b-4e3e-b929-588a303edbf9",
   "metadata": {},
   "outputs": [],
   "source": [
    "sample_Q = df_Q.sample(n=1000,random_state=1)"
   ]
  },
  {
   "cell_type": "code",
   "execution_count": null,
   "id": "86f1e646-3598-4473-b65e-4a055288f0e1",
   "metadata": {},
   "outputs": [],
   "source": [
    "result = bm25.transform(sample_Q)"
   ]
  },
  {
   "cell_type": "code",
   "execution_count": null,
   "id": "27eec2d8-415d-417b-9d43-b60b8769bcd6",
   "metadata": {},
   "outputs": [],
   "source": [
    "# result[result['docid']==5628017]"
   ]
  },
  {
   "cell_type": "code",
   "execution_count": null,
   "id": "1679539f-a4f7-4977-b16d-ec90cba2c60c",
   "metadata": {},
   "outputs": [],
   "source": [
    "g = result.groupby(['docid'])['docid'].count()"
   ]
  },
  {
   "cell_type": "code",
   "execution_count": null,
   "id": "94c216c4-3664-4692-a470-992dcd6cfa60",
   "metadata": {},
   "outputs": [],
   "source": [
    "type(g)"
   ]
  },
  {
   "cell_type": "code",
   "execution_count": null,
   "id": "e5d63d95-bd0e-4590-b982-faca00b7ddb1",
   "metadata": {},
   "outputs": [],
   "source": [
    "df_g = pd.DataFrame(g)"
   ]
  },
  {
   "cell_type": "code",
   "execution_count": null,
   "id": "b1ae04a6-d27f-4509-a9ed-97420f8e8f1f",
   "metadata": {},
   "outputs": [],
   "source": [
    "df_g.index.name='inx'"
   ]
  },
  {
   "cell_type": "code",
   "execution_count": null,
   "id": "8854bb41-14f3-42d3-be39-0691ba4c91cb",
   "metadata": {},
   "outputs": [],
   "source": [
    "df_g.shape"
   ]
  },
  {
   "cell_type": "code",
   "execution_count": null,
   "id": "bf6d8355-0b02-4aa7-bcd6-63602e43c1de",
   "metadata": {},
   "outputs": [],
   "source": [
    "df_g.sort_values(by='docid',inplace=True)"
   ]
  },
  {
   "cell_type": "code",
   "execution_count": null,
   "id": "cad96ec6-79c4-4567-ab08-33dbbefbd19f",
   "metadata": {},
   "outputs": [],
   "source": [
    "df_g.loc[5628017]['docid']"
   ]
  },
  {
   "cell_type": "code",
   "execution_count": null,
   "id": "2da6fdf5-8b1d-40fa-9e58-a9e3b3fd8b50",
   "metadata": {},
   "outputs": [],
   "source": []
  },
  {
   "cell_type": "code",
   "execution_count": null,
   "id": "9579ba2f-a392-4ac4-9d64-9ce39ef275ec",
   "metadata": {},
   "outputs": [],
   "source": []
  },
  {
   "cell_type": "code",
   "execution_count": null,
   "id": "a8f98118-c839-4834-a903-d974f4c9c149",
   "metadata": {},
   "outputs": [],
   "source": []
  },
  {
   "cell_type": "code",
   "execution_count": null,
   "id": "935630e5-5e80-4565-af3f-2849756458df",
   "metadata": {},
   "outputs": [],
   "source": [
    "df_sorted = pd.read_csv('./df_sorted.csv')"
   ]
  },
  {
   "cell_type": "code",
   "execution_count": null,
   "id": "f278c122-6b13-4fe5-9315-736493107465",
   "metadata": {},
   "outputs": [],
   "source": [
    "df_sorted.shape"
   ]
  },
  {
   "cell_type": "code",
   "execution_count": null,
   "id": "e01bc6e7-b75f-45af-a7ac-4c3f242fef3c",
   "metadata": {},
   "outputs": [],
   "source": [
    "df_sorted = df_sorted.rename(columns = {'docid':'count'})"
   ]
  },
  {
   "cell_type": "code",
   "execution_count": null,
   "id": "b34667af-5628-4364-9a41-88b8710b6226",
   "metadata": {},
   "outputs": [],
   "source": [
    "df_sorted[:10]\n",
    "# df_sorted.to_csv('./df_sorted.csv')"
   ]
  },
  {
   "cell_type": "code",
   "execution_count": null,
   "id": "17f0efc6-e030-45f4-91b5-50d21d2869b1",
   "metadata": {},
   "outputs": [],
   "source": [
    "df_sorted = df_sorted[:820000]"
   ]
  },
  {
   "cell_type": "code",
   "execution_count": 20,
   "id": "aaa3d94f-20b9-4fb4-88ab-8eb9fd976f23",
   "metadata": {},
   "outputs": [
    {
     "data": {
      "text/plain": [
       "(820000, 2)"
      ]
     },
     "execution_count": 20,
     "metadata": {},
     "output_type": "execute_result"
    }
   ],
   "source": [
    "df_sorted.shape"
   ]
  },
  {
   "cell_type": "code",
   "execution_count": null,
   "id": "b0e7ed0d-bb33-404d-938e-815022938d31",
   "metadata": {},
   "outputs": [],
   "source": [
    "df_sorted[:2]['count'].sum()"
   ]
  },
  {
   "cell_type": "code",
   "execution_count": 26,
   "id": "eb3915a8-1961-48b0-b6cc-e30b0dd571a8",
   "metadata": {},
   "outputs": [
    {
     "data": {
      "text/plain": [
       "954787"
      ]
     },
     "execution_count": 26,
     "metadata": {},
     "output_type": "execute_result"
    }
   ],
   "source": [
    "total = df_sorted['count'].sum()\n",
    "total"
   ]
  },
  {
   "cell_type": "code",
   "execution_count": null,
   "id": "7fdb43ae-5a64-4bd6-a1f0-c0369cb752df",
   "metadata": {},
   "outputs": [],
   "source": [
    "import matplotlib.pyplot as plt\n",
    "from matplotlib.pyplot import MultipleLocator\n",
    "from matplotlib.pyplot import FixedLocator\n",
    "import matplotlib as mpl\n",
    "from matplotlib import cycler\n",
    "from matplotlib import cm"
   ]
  },
  {
   "cell_type": "code",
   "execution_count": null,
   "id": "1c0e6910-6982-4efb-97c1-5a1bd3c4abc5",
   "metadata": {},
   "outputs": [],
   "source": [
    "x_num = df_sorted.shape[0] + 10000\n",
    "x0 = [i for i in range(0,x_num,10000)]\n",
    "equality_scores = [1 for i in range(0,x_num,1)]\n",
    "y0 = [sum(equality_scores[:i])/df_sorted.shape[0] for i in x0]"
   ]
  },
  {
   "cell_type": "code",
   "execution_count": 22,
   "id": "271269c0-2007-4aab-8ba1-68319049a4e5",
   "metadata": {},
   "outputs": [
    {
     "data": {
      "text/plain": [
       "[810000, 820000]"
      ]
     },
     "execution_count": 22,
     "metadata": {},
     "output_type": "execute_result"
    }
   ],
   "source": [
    "x0[-2:]"
   ]
  },
  {
   "cell_type": "code",
   "execution_count": null,
   "id": "e1bf4780-3c2e-4417-a2cb-be541ae38111",
   "metadata": {},
   "outputs": [],
   "source": [
    "equality_scores"
   ]
  },
  {
   "cell_type": "code",
   "execution_count": 23,
   "id": "7b200b4b-de61-470b-92b0-ee4f0514a426",
   "metadata": {},
   "outputs": [
    {
     "data": {
      "text/plain": [
       "[0.9878048780487805, 1.0]"
      ]
     },
     "execution_count": 23,
     "metadata": {},
     "output_type": "execute_result"
    }
   ],
   "source": [
    "y0[-2:]"
   ]
  },
  {
   "cell_type": "code",
   "execution_count": null,
   "id": "a0cfc275-0120-44ef-9ba4-27906fb72fbc",
   "metadata": {},
   "outputs": [],
   "source": [
    "x = [i for i in range(0,x_num,10000)]\n",
    "y = [df_sorted[0:i]['count'].sum()/total for i in x]"
   ]
  },
  {
   "cell_type": "code",
   "execution_count": 24,
   "id": "9c0edbdd-0643-46df-b706-951bc6aa3288",
   "metadata": {},
   "outputs": [
    {
     "data": {
      "text/plain": [
       "[810000, 820000]"
      ]
     },
     "execution_count": 24,
     "metadata": {},
     "output_type": "execute_result"
    }
   ],
   "source": [
    "x[-2:]"
   ]
  },
  {
   "cell_type": "code",
   "execution_count": 25,
   "id": "272d8989-1767-40c5-89af-452ba983cb33",
   "metadata": {},
   "outputs": [
    {
     "data": {
      "text/plain": [
       "[0.9592411710674736, 1.0]"
      ]
     },
     "execution_count": 25,
     "metadata": {},
     "output_type": "execute_result"
    }
   ],
   "source": [
    "y[-2:]"
   ]
  },
  {
   "cell_type": "code",
   "execution_count": null,
   "id": "c1d4d84e-875f-4b99-a226-981f894d97bc",
   "metadata": {},
   "outputs": [],
   "source": [
    "# df_sorted_tfidf = pd.read_csv('./df_sorted_tfidf.csv')\n",
    "# df_sorted_tfidf = df_sorted_tfidf[:820000]\n",
    "# total2 = df_sorted_tfidf['docid'].sum()\n",
    "# total2"
   ]
  },
  {
   "cell_type": "code",
   "execution_count": null,
   "id": "10e517b9-ca60-4e56-935d-c43c7da973ee",
   "metadata": {},
   "outputs": [],
   "source": [
    "# x2 = [i for i in range(0,x_num,10000)]\n",
    "# y2 = [df_sorted_tfidf[0:i]['docid'].sum()/total2 for i in x2]"
   ]
  },
  {
   "cell_type": "code",
   "execution_count": 21,
   "id": "55f14009-a2fa-4b2c-bea1-e585fd4feb09",
   "metadata": {},
   "outputs": [
    {
     "data": {
      "image/png": "[encoded data removed]",
      "text/plain": [
       "<Figure size 1500x1200 with 1 Axes>"
      ]
     },
     "metadata": {},
     "output_type": "display_data"
    }
   ],
   "source": [
    "fig1,ax = plt.subplots(1,1, figsize=(15,12))\n",
    "# plt.xscale('log')\n",
    "ax.plot(x0,y0,color='black', linestyle='solid', marker='None', label='Equality')\n",
    "ax.plot(x,y,color='red', linestyle='solid', marker='None', label='BM25')\n",
    "# ax.plot(x2,y2,color='blue', linestyle='solid', marker='None', label='TF-IDF')\n",
    "\n",
    "ax.set_title('Lorenz Curves on MSMARCO passage')\n",
    "ax.set_xlabel('Number of Documents with r(d) in ascending order)')\n",
    "ax.set_ylabel('Cumulative Normalised r(d)')\n",
    "\n",
    "ax.legend(prop = {'size':12})\n",
    "\n",
    "plt.show()"
   ]
  },
  {
   "cell_type": "code",
   "execution_count": null,
   "id": "8d590edc-3357-4c75-b382-0324e8f7de92",
   "metadata": {},
   "outputs": [],
   "source": []
  }
 ],
 "metadata": {
  "kernelspec": {
   "display_name": "Python [conda env:myenv]",
   "language": "python",
   "name": "conda-env-myenv-py"
  },
  "language_info": {
   "codemirror_mode": {
    "name": "ipython",
    "version": 3
   },
   "file_extension": ".py",
   "mimetype": "text/x-python",
   "name": "python",
   "nbconvert_exporter": "python",
   "pygments_lexer": "ipython3",
   "version": "3.7.16"
  }
 },
 "nbformat": 4,
 "nbformat_minor": 5
}
