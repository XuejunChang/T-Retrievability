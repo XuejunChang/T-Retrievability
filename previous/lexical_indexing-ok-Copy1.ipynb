{
 "cells": [
  {
   "cell_type": "code",
   "execution_count": null,
   "id": "ebfc404f-f2d4-4dfe-8fe0-005cbf4c296c",
   "metadata": {},
   "outputs": [],
   "source": [
    "import warnings\n",
    "warnings.filterwarnings('ignore')\n",
    "import pyterrier as pt\n",
    "\n",
    "if not pt.started():\n",
    "    pt.init()\n",
    "\n",
    "import os\n",
    "import pandas as pd\n",
    "pd.set_option('display.max_columns', None)\n",
    "pd.set_option('display.max_rows', None)\n",
    "pd.set_option('display.max_colwidth', False)\n",
    "\n",
    "import pyt_splade\n",
    "splade = pyt_splade.Splade()\n",
    "\n",
    "dataset_name = 'msmarco-passage'\n",
    "eval_ds_name = 'dev'\n",
    "dataset = pt.get_dataset(f'irds:{dataset_name}')\n",
    "eval_dataset = pt.get_dataset(f'irds:{dataset_name}/{eval_ds_name}')\n",
    "topics = eval_dataset.get_topics()\n",
    "qrels = eval_dataset.get_qrels()"
   ]
  },
  {
   "cell_type": "code",
   "execution_count": null,
   "id": "5cf8be5c-a924-4574-a20d-d19f194b04a5",
   "metadata": {},
   "outputs": [],
   "source": [
    "dataset_df = pd.DataFrame(dataset.get_corpus_iter(verbose=True))"
   ]
  },
  {
   "cell_type": "code",
   "execution_count": null,
   "id": "a17fdc21-54af-4420-9a11-0d74e913dccc",
   "metadata": {},
   "outputs": [],
   "source": [
    "import numpy as np\n",
    "dataset_df['rtr_score'] = np.zeros(dataset_df.shape[0])"
   ]
  },
  {
   "cell_type": "code",
   "execution_count": null,
   "id": "f907a9d5-2879-4968-8b68-1dad8d89b14e",
   "metadata": {},
   "outputs": [],
   "source": [
    "dataset_df['docid'] = dataset_df['docno'].astype(int)"
   ]
  },
  {
   "cell_type": "code",
   "execution_count": null,
   "id": "a3e1051b-cd24-443d-84f1-e5df132db29e",
   "metadata": {},
   "outputs": [],
   "source": [
    "dataset_df.dtypes"
   ]
  },
  {
   "cell_type": "code",
   "execution_count": null,
   "id": "e1f6135d-559c-4d24-85ec-374da67fefa1",
   "metadata": {},
   "outputs": [],
   "source": [
    "#################### bm25 ###########################"
   ]
  },
  {
   "cell_type": "code",
   "execution_count": null,
   "id": "8d2d5918-38e9-4953-b255-e88b11a28edd",
   "metadata": {},
   "outputs": [],
   "source": [
    "bm25 = pd.read_csv('/nfs/primary/retrievability-bias/results_bm25.csv')"
   ]
  },
  {
   "cell_type": "code",
   "execution_count": null,
   "id": "534287bf-e7f8-468c-bc80-128fa1c85df6",
   "metadata": {},
   "outputs": [],
   "source": [
    "bm25 = bm25.groupby(['docid'])['docid'].count()\n",
    "bm25 = bm25.to_frame('rtr_cnt').reset_index()\n",
    "bm25 = bm25.sort_values(by='rtr_cnt')\n",
    "total = bm25['rtr_cnt'].sum()"
   ]
  },
  {
   "cell_type": "code",
   "execution_count": null,
   "id": "81c3fe5f-3e19-490c-955f-c0dbe394cbd3",
   "metadata": {},
   "outputs": [],
   "source": [
    "bm25.columns.to_list()"
   ]
  },
  {
   "cell_type": "code",
   "execution_count": null,
   "id": "ac62c4cd-5de9-45af-b4d9-cc597fd313a4",
   "metadata": {},
   "outputs": [],
   "source": [
    "bm25.head(10)"
   ]
  },
  {
   "cell_type": "code",
   "execution_count": null,
   "id": "4826a992-cc64-4532-bdc8-b9237d4dac2e",
   "metadata": {},
   "outputs": [],
   "source": [
    "# bm25.index.name = 'no'\n",
    "# bm25 = bm25.rename(columns = {'docid':'count'})"
   ]
  },
  {
   "cell_type": "code",
   "execution_count": null,
   "id": "ef63dee8-aea5-4dd4-a335-8b09a4b50675",
   "metadata": {},
   "outputs": [],
   "source": [
    "bm25['rtr_score'] = bm25['rtr_cnt']/total # normalisation"
   ]
  },
  {
   "cell_type": "code",
   "execution_count": null,
   "id": "a1c1a900-b66c-44bc-8225-4f7bfef379d6",
   "metadata": {},
   "outputs": [],
   "source": [
    "bm25.tail(10)"
   ]
  },
  {
   "cell_type": "code",
   "execution_count": null,
   "id": "2d7cf600-0b9a-42fb-9344-619662c7035d",
   "metadata": {},
   "outputs": [],
   "source": [
    "def set_score(df,row):\n",
    "    docid = row['docid'] # int.64 to str\n",
    "    rtr_score = row['rtr_score']\n",
    "    # print(row.name)\n",
    "    df.loc[docid,'rtr_score'] = rtr_score"
   ]
  },
  {
   "cell_type": "code",
   "execution_count": null,
   "id": "2d75bb63-835b-4b70-b1f6-bd87e8dd5969",
   "metadata": {},
   "outputs": [],
   "source": [
    "dataset_bm25 = dataset_df.copy()\n",
    "for _, row in bm25.iterrows():\n",
    "    set_score(dataset_bm25, row)"
   ]
  },
  {
   "cell_type": "code",
   "execution_count": null,
   "id": "3101c20f-ba88-4ded-87fb-7d1b743d962d",
   "metadata": {},
   "outputs": [],
   "source": [
    "dataset_bm25[dataset_bm25['rtr_score'] > 0].head(10)"
   ]
  },
  {
   "cell_type": "code",
   "execution_count": null,
   "id": "2db77820-863b-47a7-ba0b-f2ac36d2dc47",
   "metadata": {},
   "outputs": [],
   "source": [
    "####################### bm25 >> monot5 ###############################"
   ]
  },
  {
   "cell_type": "code",
   "execution_count": null,
   "id": "5c82d9fc-6413-409b-85cb-04de9f2bab14",
   "metadata": {},
   "outputs": [],
   "source": [
    "# monot5 = pd.read_csv('/nfs/primary/retrievability-bias/results_bm25_monot5_r100.csv',) # 100 docs retrieved for each query.\n",
    "monot5 = pd.read_csv('/nfs/primary/retrievability-bias/results_bm25_monot5_r10.csv')"
   ]
  },
  {
   "cell_type": "code",
   "execution_count": null,
   "id": "96d695e8-a36d-4b41-ad05-69ef99405d34",
   "metadata": {},
   "outputs": [],
   "source": [
    "monot5.shape"
   ]
  },
  {
   "cell_type": "code",
   "execution_count": null,
   "id": "4837a9a5-08bf-40de-82ec-47c977ae7cec",
   "metadata": {
    "scrolled": true
   },
   "outputs": [],
   "source": [
    "# monot5 = monot5.sort_values(by=['docid','rank'], ascending=[True, True])"
   ]
  },
  {
   "cell_type": "code",
   "execution_count": null,
   "id": "078bbb7f-150e-47e2-9cdf-c54b01e7f46d",
   "metadata": {},
   "outputs": [],
   "source": [
    "# monot5 = monot5.groupby(['docid']).head(10)"
   ]
  },
  {
   "cell_type": "code",
   "execution_count": null,
   "id": "f36fd193-5d30-41e2-8821-68e70e1d27cb",
   "metadata": {},
   "outputs": [],
   "source": [
    "monot5 = monot5.groupby(['docid'])['docid'].count()\n",
    "monot5 = monot5.to_frame('rtr_cnt').reset_index()\n",
    "monot5 = monot5.sort_values(by='rtr_cnt')\n",
    "total = monot5['rtr_cnt'].sum()\n",
    "monot5['rtr_score'] = monot5['rtr_cnt']/total # normalisation\n"
   ]
  },
  {
   "cell_type": "code",
   "execution_count": null,
   "id": "0e56751b-514b-47a2-8c1b-930c4edaacd1",
   "metadata": {},
   "outputs": [],
   "source": [
    "dataset_monot5 = dataset_df.copy()\n",
    "for _, row in monot5.iterrows():\n",
    "    set_score(dataset_monot5, row)"
   ]
  },
  {
   "cell_type": "code",
   "execution_count": null,
   "id": "ff89bbc6-b5cb-4f31-871c-9a23703f60b6",
   "metadata": {},
   "outputs": [],
   "source": [
    "dataset_monot5[dataset_monot5['rtr_score'] > 0].shape"
   ]
  },
  {
   "cell_type": "code",
   "execution_count": null,
   "id": "920f3376-4759-4962-ac08-689ac629ebd2",
   "metadata": {},
   "outputs": [],
   "source": [
    "################ splade  ##################################"
   ]
  },
  {
   "cell_type": "code",
   "execution_count": null,
   "id": "2c060776-2461-407f-a40d-9536b35c16db",
   "metadata": {},
   "outputs": [],
   "source": [
    "splade = pd.read_csv('/nfs/primary/retrievability-bias/results_splade.csv',) # 100 docs retrieved for each query."
   ]
  },
  {
   "cell_type": "code",
   "execution_count": null,
   "id": "90aa3f2c-6039-486a-8bf1-43bb0e9666fe",
   "metadata": {},
   "outputs": [],
   "source": [
    "splade.columns.to_list()"
   ]
  },
  {
   "cell_type": "code",
   "execution_count": null,
   "id": "b79b8885-9d3a-4684-9512-1556232d9ccf",
   "metadata": {},
   "outputs": [],
   "source": [
    "splade = splade.groupby(['docid'])['docid'].count()\n",
    "splade = splade.to_frame('rtr_cnt').reset_index()\n",
    "splade = splade.sort_values(by='rtr_cnt')\n",
    "total = splade['rtr_cnt'].sum()\n",
    "splade['rtr_score'] = splade['rtr_cnt']/total # normalisation"
   ]
  },
  {
   "cell_type": "code",
   "execution_count": null,
   "id": "cc6f050e-4ec7-421f-87d4-679419bc540c",
   "metadata": {},
   "outputs": [],
   "source": [
    "splade.shape"
   ]
  },
  {
   "cell_type": "code",
   "execution_count": null,
   "id": "753a80d0-0213-48c2-8c03-85a4776b8670",
   "metadata": {},
   "outputs": [],
   "source": [
    "dataset_splade = dataset_df.copy()\n",
    "for _, row in splade.iterrows():\n",
    "    set_score(dataset_splade, row)"
   ]
  },
  {
   "cell_type": "code",
   "execution_count": null,
   "id": "d040f2ba-952c-4d68-80b7-7fe3529c492c",
   "metadata": {},
   "outputs": [],
   "source": [
    "dataset_splade[dataset_splade['rtr_score'] > 0].shape"
   ]
  },
  {
   "cell_type": "code",
   "execution_count": null,
   "id": "1cb39a34-5861-4b45-b961-cbfbc48ec91c",
   "metadata": {},
   "outputs": [],
   "source": [
    "dataset_bm25 = dataset_bm25.sort_values(by='rtr_score',ascending=False)\n",
    "# dataset_bm25.to_csv('/nfs/datasets/cxj/retrievability-bias/dataset_bm25.csv')"
   ]
  },
  {
   "cell_type": "code",
   "execution_count": null,
   "id": "e1e344f9-f292-48ea-a913-a7d27d51621b",
   "metadata": {},
   "outputs": [],
   "source": [
    "dataset_monot5 = dataset_monot5.sort_values(by='rtr_score',ascending=False)\n",
    "# dataset_monot5.to_csv('/nfs/datasets/cxj/retrievability-bias/dataset_monot5.csv')"
   ]
  },
  {
   "cell_type": "code",
   "execution_count": null,
   "id": "c925409e-c47f-4a42-9fc9-0879a33b37c8",
   "metadata": {},
   "outputs": [],
   "source": [
    "dataset_splade = dataset_splade.sort_values(by='rtr_score',ascending=False)\n",
    "# dataset_splade.to_csv('/nfs/datasets/cxj/retrievability-bias/dataset_splade.csv')"
   ]
  },
  {
   "cell_type": "code",
   "execution_count": 57,
   "id": "c63dd354-3a72-401c-9f56-8321587c17a9",
   "metadata": {},
   "outputs": [],
   "source": [
    "num_docs = max(bm25.shape[0],monot5.shape[0],splade.shape[0])\n",
    "split = 100\n",
    "intv = int(num_docs/split)"
   ]
  },
  {
   "cell_type": "code",
   "execution_count": 58,
   "id": "2570971c-9a57-46a2-af10-928811b2c434",
   "metadata": {},
   "outputs": [
    {
     "data": {
      "text/plain": [
       "8889"
      ]
     },
     "execution_count": 58,
     "metadata": {},
     "output_type": "execute_result"
    }
   ],
   "source": [
    "intv"
   ]
  },
  {
   "cell_type": "code",
   "execution_count": 59,
   "id": "38214c76-7ef1-49ac-a80c-9e98feca5a2d",
   "metadata": {},
   "outputs": [],
   "source": [
    "bm25_scores = []\n",
    "for i in range(0,num_docs,intv):\n",
    "    bm25_scores.append(dataset_bm25[i:i+intv]['rtr_score'].sum())\n",
    "\n",
    "bm25_scores.append(0.0) # the retrievability scores of the reset of corpus docs are 0"
   ]
  },
  {
   "cell_type": "code",
   "execution_count": 60,
   "id": "47c58d32-912d-496b-a315-b578ecfa6019",
   "metadata": {},
   "outputs": [
    {
     "data": {
      "text/plain": [
       "[0.07360544930988398,\n",
       " 0.030842294669097464,\n",
       " 0.026379020236082677,\n",
       " 0.02375565946561389,\n",
       " 0.017586013490721794,\n",
       " 0.017586013490721794,\n",
       " 0.017586013490721794,\n",
       " 0.017586013490721794,\n",
       " 0.017586013490721794,\n",
       " 0.017586013490721794,\n",
       " 0.017586013490721794,\n",
       " 0.017586013490721794,\n",
       " 0.017586013490721794,\n",
       " 0.0155878276851611,\n",
       " 0.008793006745360897,\n",
       " 0.008793006745360897,\n",
       " 0.008793006745360897,\n",
       " 0.008793006745360897,\n",
       " 0.008793006745360897,\n",
       " 0.008793006745360897,\n",
       " 0.008793006745360897,\n",
       " 0.008793006745360897,\n",
       " 0.008793006745360897,\n",
       " 0.008793006745360897,\n",
       " 0.008793006745360897,\n",
       " 0.008793006745360897,\n",
       " 0.008793006745360897,\n",
       " 0.008793006745360897,\n",
       " 0.008793006745360897,\n",
       " 0.008793006745360897,\n",
       " 0.008793006745360897,\n",
       " 0.008793006745360897,\n",
       " 0.008793006745360897,\n",
       " 0.008793006745360897,\n",
       " 0.008793006745360897,\n",
       " 0.008793006745360897,\n",
       " 0.008793006745360897,\n",
       " 0.008793006745360897,\n",
       " 0.008793006745360897,\n",
       " 0.008793006745360897,\n",
       " 0.008793006745360897,\n",
       " 0.008793006745360897,\n",
       " 0.008793006745360897,\n",
       " 0.008793006745360897,\n",
       " 0.008793006745360897,\n",
       " 0.008793006745360897,\n",
       " 0.008793006745360897,\n",
       " 0.008793006745360897,\n",
       " 0.008793006745360897,\n",
       " 0.008793006745360897,\n",
       " 0.008793006745360897,\n",
       " 0.008793006745360897,\n",
       " 0.008793006745360897,\n",
       " 0.008793006745360897,\n",
       " 0.008793006745360897,\n",
       " 0.008793006745360897,\n",
       " 0.008793006745360897,\n",
       " 0.008793006745360897,\n",
       " 0.008793006745360897,\n",
       " 0.008793006745360897,\n",
       " 0.008793006745360897,\n",
       " 0.008793006745360897,\n",
       " 0.008793006745360897,\n",
       " 0.008793006745360897,\n",
       " 0.008793006745360897,\n",
       " 0.008793006745360897,\n",
       " 0.008793006745360897,\n",
       " 0.008793006745360897,\n",
       " 0.008793006745360897,\n",
       " 0.008793006745360897,\n",
       " 0.008793006745360897,\n",
       " 0.008793006745360897,\n",
       " 0.008793006745360897,\n",
       " 0.008793006745360897,\n",
       " 0.008793006745360897,\n",
       " 0.008793006745360897,\n",
       " 0.008793006745360897,\n",
       " 0.008793006745360897,\n",
       " 0.008793006745360897,\n",
       " 0.008793006745360897,\n",
       " 0.008793006745360897,\n",
       " 0.008793006745360897,\n",
       " 0.008793006745360897,\n",
       " 0.008793006745360897,\n",
       " 0.008793006745360897,\n",
       " 0.008793006745360897,\n",
       " 0.008793006745360897,\n",
       " 0.008793006745360897,\n",
       " 0.008793006745360897,\n",
       " 0.008793006745360897,\n",
       " 0.003287114570236726,\n",
       " 0.0,\n",
       " 0.0,\n",
       " 0.0,\n",
       " 0.0,\n",
       " 0.0,\n",
       " 0.0,\n",
       " 0.0,\n",
       " 0.0,\n",
       " 0.0,\n",
       " 0.0,\n",
       " 0.0]"
      ]
     },
     "execution_count": 60,
     "metadata": {},
     "output_type": "execute_result"
    }
   ],
   "source": [
    "bm25_scores"
   ]
  },
  {
   "cell_type": "code",
   "execution_count": 61,
   "id": "a28a42ab-5938-4ac0-9c40-5c8a7780af96",
   "metadata": {},
   "outputs": [],
   "source": [
    "monot5_scores = []\n",
    "for i in range(0,num_docs,intv):\n",
    "    monot5_scores.append(dataset_monot5[i:i+intv]['rtr_score'].sum())\n",
    "\n",
    "monot5_scores.append(0.0) # the retrievability scores of the reset of corpus docs are 0"
   ]
  },
  {
   "cell_type": "code",
   "execution_count": 62,
   "id": "a3da7f8a-f649-4873-ab74-da7d11d71aa1",
   "metadata": {},
   "outputs": [
    {
     "data": {
      "text/plain": [
       "102"
      ]
     },
     "execution_count": 62,
     "metadata": {},
     "output_type": "execute_result"
    }
   ],
   "source": [
    "len(monot5_scores)"
   ]
  },
  {
   "cell_type": "code",
   "execution_count": 63,
   "id": "45261c2d-80bd-451d-889a-0bac41dc4249",
   "metadata": {},
   "outputs": [],
   "source": [
    "splade_scores = []\n",
    "for i in range(0,num_docs,intv):\n",
    "    splade_scores.append(dataset_splade[i:i+intv]['rtr_score'].sum())\n",
    "\n",
    "splade_scores.append(0.0) # the retrievability scores of the reset of corpus docs are 0"
   ]
  },
  {
   "cell_type": "code",
   "execution_count": 64,
   "id": "0e04ec37-ade9-43b0-ad8f-fa3fb5c7fcb4",
   "metadata": {},
   "outputs": [
    {
     "data": {
      "text/plain": [
       "102"
      ]
     },
     "execution_count": 64,
     "metadata": {},
     "output_type": "execute_result"
    }
   ],
   "source": [
    "len(splade_scores)"
   ]
  },
  {
   "cell_type": "code",
   "execution_count": 65,
   "id": "11b354c3-31de-4f70-83c6-9bfc24478318",
   "metadata": {},
   "outputs": [
    {
     "data": {
      "text/plain": [
       "102"
      ]
     },
     "execution_count": 65,
     "metadata": {},
     "output_type": "execute_result"
    }
   ],
   "source": [
    "scale_num = max(len(bm25_scores),len(monot5_scores),len(splade_scores))\n",
    "scale_num"
   ]
  },
  {
   "cell_type": "code",
   "execution_count": 66,
   "id": "dae2a745-ea51-44c2-a1c9-3eec97827a98",
   "metadata": {},
   "outputs": [
    {
     "data": {
      "text/plain": [
       "array([  1,   2,   3,   4,   5,   6,   7,   8,   9,  10,  11,  12,  13,\n",
       "        14,  15,  16,  17,  18,  19,  20,  21,  22,  23,  24,  25,  26,\n",
       "        27,  28,  29,  30,  31,  32,  33,  34,  35,  36,  37,  38,  39,\n",
       "        40,  41,  42,  43,  44,  45,  46,  47,  48,  49,  50,  51,  52,\n",
       "        53,  54,  55,  56,  57,  58,  59,  60,  61,  62,  63,  64,  65,\n",
       "        66,  67,  68,  69,  70,  71,  72,  73,  74,  75,  76,  77,  78,\n",
       "        79,  80,  81,  82,  83,  84,  85,  86,  87,  88,  89,  90,  91,\n",
       "        92,  93,  94,  95,  96,  97,  98,  99, 100, 101, 102])"
      ]
     },
     "execution_count": 66,
     "metadata": {},
     "output_type": "execute_result"
    }
   ],
   "source": [
    "import numpy as np\n",
    "import matplotlib.pyplot as plt\n",
    "\n",
    "x_ticks = np.arange(1,scale_num +1)\n",
    "x_ticks"
   ]
  },
  {
   "cell_type": "code",
   "execution_count": 67,
   "id": "ac9fb064-4659-4067-8583-875b14eba3d1",
   "metadata": {},
   "outputs": [
    {
     "data": {
      "image/png": "[encoded data removed]",
      "text/plain": [
       "<Figure size 640x480 with 1 Axes>"
      ]
     },
     "metadata": {},
     "output_type": "display_data"
    }
   ],
   "source": [
    "\n",
    "# a = np.random.random(intv)\n",
    "# b = np.random.random(intv)\n",
    "# c = np.random.random(intv)\n",
    "\n",
    "total_width, n = 0.7, 3\n",
    "width = total_width / n\n",
    "x = x_ticks\n",
    "x = x - (total_width - width) / 2\n",
    "\n",
    "plt.bar(x, bm25_scores,  width=width, label='BM25')\n",
    "plt.bar(x + width, monot5_scores, width=width, label='Monot5')\n",
    "plt.bar(x + 2 * width, splade_scores, width=width, label='Splade')\n",
    "\n",
    "plt.tick_params(axis='x',length=0)\n",
    "plt.xticks(ticks=x_ticks, labels=None)\n",
    "plt.legend()\n",
    "plt.show()"
   ]
  },
  {
   "cell_type": "code",
   "execution_count": null,
   "id": "9e9c74e8-7bad-4787-905a-994e2647ef94",
   "metadata": {},
   "outputs": [],
   "source": []
  }
 ],
 "metadata": {
  "kernelspec": {
   "display_name": "Python [conda env:splade]",
   "language": "python",
   "name": "conda-env-splade-py"
  },
  "language_info": {
   "codemirror_mode": {
    "name": "ipython",
    "version": 3
   },
   "file_extension": ".py",
   "mimetype": "text/x-python",
   "name": "python",
   "nbconvert_exporter": "python",
   "pygments_lexer": "ipython3",
   "version": "3.8.13"
  }
 },
 "nbformat": 4,
 "nbformat_minor": 5
}
