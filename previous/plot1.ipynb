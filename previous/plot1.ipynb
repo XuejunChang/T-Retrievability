{
 "cells": [
  {
   "cell_type": "code",
   "execution_count": 1,
   "id": "ebfc404f-f2d4-4dfe-8fe0-005cbf4c296c",
   "metadata": {},
   "outputs": [
    {
     "name": "stderr",
     "output_type": "stream",
     "text": [
      "Java started and loaded: pyterrier.java, pyterrier.terrier.java [version=5.11 (build: craig.macdonald 2025-01-13 21:29), helper_version=0.0.8]\n",
      "/tmp/ipykernel_74506/2663994881.py:5: DeprecationWarning: Call to deprecated method pt.init(). Deprecated since version 0.11.0.\n",
      "java is now started automatically with default settings. To force initialisation early, run:\n",
      "pt.java.init() # optional, forces java initialisation\n",
      "  pt.init()\n"
     ]
    }
   ],
   "source": [
    "import warnings\n",
    "warnings.filterwarnings('ignore')\n",
    "import pyterrier as pt\n",
    "if not pt.started():\n",
    "    pt.init()\n",
    "\n",
    "import os\n",
    "import pandas as pd\n",
    "import numpy as np\n",
    "pd.set_option('display.max_columns', None)\n",
    "pd.set_option('display.max_rows', None)\n",
    "pd.set_option('display.max_colwidth', False)\n",
    "\n",
    "import ir_measures\n",
    "from ir_measures import * # imports all supported measures, e.g., AP, nDCG, RR, P"
   ]
  },
  {
   "cell_type": "code",
   "execution_count": 2,
   "id": "ad0ece66-f982-4675-a9ba-e32723bbcd56",
   "metadata": {},
   "outputs": [],
   "source": [
    "# dataset_name = 'msmarco-passage'\n",
    "# dataset = pt.get_dataset(f'irds:{dataset_name}')\n",
    "\n",
    "# eval_dataset = pt.get_dataset(f'irds:{dataset_name}/dev')\n",
    "# topics = eval_dataset.get_topics()\n",
    "# qrels = eval_dataset.get_qrels()\n",
    "\n",
    "import ir_datasets\n",
    "eval = ir_datasets.load(\"msmarco-passage/dev\")\n",
    "topics = pd.DataFrame(eval.queries_iter())\n",
    "qrels = pd.DataFrame(eval.qrels_iter())\n"
   ]
  },
  {
   "cell_type": "code",
   "execution_count": 3,
   "id": "1d3127ce-b5ad-4cf8-b0fb-9ad0f04fdf68",
   "metadata": {},
   "outputs": [
    {
     "data": {
      "text/plain": [
       "(59273, 4)"
      ]
     },
     "execution_count": 3,
     "metadata": {},
     "output_type": "execute_result"
    }
   ],
   "source": [
    "qrels.shape"
   ]
  },
  {
   "cell_type": "code",
   "execution_count": null,
   "id": "c52b0920-ad48-41c8-8ead-d683a3db05e1",
   "metadata": {},
   "outputs": [],
   "source": [
    "import json\n",
    "\n",
    "def save(dict, file):\n",
    "    with open(file,'w') as f:\n",
    "        json.dump(dict, f)\n"
   ]
  },
  {
   "cell_type": "code",
   "execution_count": null,
   "id": "1ac11ee5-a382-4eae-a8cb-cc8b09ed6289",
   "metadata": {},
   "outputs": [],
   "source": [
    "def load(file):\n",
    "    with open(file,'r') as f:\n",
    "        ms_docids = json.load(f)\n",
    "    return ms_docids"
   ]
  },
  {
   "cell_type": "code",
   "execution_count": null,
   "id": "96f79ef6-cf95-44c2-b403-e9900f87e584",
   "metadata": {},
   "outputs": [],
   "source": [
    "\n",
    "def calc_rtr_score(df, docid_dict, savename):\n",
    "    for query_id in pt.tqdm(topics['query_id']):\n",
    "        D = df[df['qid'] == np.int64(query_id)]\n",
    "        for dno in D['docno']:\n",
    "            rank =  D[D['docno'] == dno]['rank'].values[0]\n",
    "            score = 100/np.log(rank + 2) # plus 2 because the ranks start from zero\n",
    "            docid_dict[str(dno)] += score\n",
    "    \n",
    "    save(docid_dict,savename)   \n"
   ]
  },
  {
   "cell_type": "code",
   "execution_count": 4,
   "id": "f6cf01e2-6854-49f4-8361-720b8cf42b55",
   "metadata": {},
   "outputs": [],
   "source": [
    "def G(v):\n",
    "    v = np.array(v)\n",
    "    bins = np.linspace(0., 100., 11)\n",
    "    total = float(np.sum(v))\n",
    "    yvals = [0]\n",
    "    for b in bins[1:]:\n",
    "        bin_vals = v[v <= np.percentile(v, b)]\n",
    "        bin_fraction = (np.sum(bin_vals) / total) * 100.0\n",
    "        yvals.append(bin_fraction)\n",
    "    # perfect equality area\n",
    "    pe_area = np.trapz(bins, x=bins)\n",
    "    # lorenz area\n",
    "    lorenz_area = np.trapz(yvals, x=bins)\n",
    "    gini_val = (pe_area - lorenz_area) / float(pe_area)\n",
    "    # return bins, yvals, gini_val\n",
    "    print('gini:', gini_val)"
   ]
  },
  {
   "cell_type": "code",
   "execution_count": null,
   "id": "cfdc21d1-15ce-4a1c-afe2-c4ccd6926975",
   "metadata": {},
   "outputs": [],
   "source": [
    "import statistics\n",
    "\n",
    "def calc_stats(values):\n",
    "    # values = list(data.values())\n",
    "\n",
    "    mean = statistics.mean(values)\n",
    "    std_dev = statistics.stdev(values) \n",
    "    print(f\"Mean: {mean}\")\n",
    "    print(f\"Standard Deviation: {std_dev}\")\n"
   ]
  },
  {
   "cell_type": "code",
   "execution_count": null,
   "id": "876b20f5-f9da-4408-9efc-83e58d833989",
   "metadata": {},
   "outputs": [],
   "source": [
    "def calc_metrics(modelname):\n",
    "    scoredF = f'./results/{modelname}_docids_100.json'\n",
    "    if not os.path.exists(scoredF):\n",
    "        csv = f'/nfs/datasets/cxj/retrievability-bias/results_{modelname}_100.csv'\n",
    "        df = pd.read_csv(csv)\n",
    "        init_msmarco_dict = './results/ms_docids.json'\n",
    "        docids_score = load(init_msmarco_dict)\n",
    "        for query_id in pt.tqdm(topics['query_id']):\n",
    "            D = df[df['qid'] == np.int64(query_id)]\n",
    "            for dno in D['docno']:\n",
    "                rank =  D[D['docno'] == dno]['rank'].values[0]\n",
    "                score = 100/np.log(rank + 2) # plus 2 because the ranks start from zero\n",
    "                docids_score[str(dno)] += score\n",
    "        save(docids_score, scoredF)\n",
    "        \n",
    "    docids_score = load(scoredF)\n",
    "    scores_df = pd.DataFrame.from_dict(docids_score, orient=\"index\",columns=[\"score\"])\n",
    "    scores_df = scores_df[scores_df[\"score\"]>0]\n",
    "    scores = scores_df['score'].to_list()\n",
    "    calc_stats(scores)\n",
    "    gini_value = G(scores)\n"
   ]
  },
  {
   "cell_type": "code",
   "execution_count": 36,
   "id": "09e4ec63-5dd6-4252-91b3-21ce50680c5e",
   "metadata": {},
   "outputs": [],
   "source": [
    "def transform_df(df):\n",
    "    df_run = df.rename(columns={'qid':'query_id','docid':'doc_id'})\n",
    "    df_run[['query_id','doc_id']] = df_run[['query_id','doc_id']].astype(str)\n",
    "\n",
    "    return df_run"
   ]
  },
  {
   "cell_type": "code",
   "execution_count": null,
   "id": "e1cc3b9c-2e03-48b4-86b7-e11b5692b019",
   "metadata": {},
   "outputs": [],
   "source": [
    "calc_metrics('bm25')"
   ]
  },
  {
   "cell_type": "code",
   "execution_count": null,
   "id": "5b67887e-c863-4a01-b265-25547f9c9b21",
   "metadata": {},
   "outputs": [],
   "source": [
    "calc_metrics('splade')"
   ]
  },
  {
   "cell_type": "code",
   "execution_count": null,
   "id": "a2cb9661-5720-48f1-a9f8-959e5f5d7ecb",
   "metadata": {},
   "outputs": [],
   "source": [
    "calc_metrics('colbert')"
   ]
  },
  {
   "cell_type": "code",
   "execution_count": null,
   "id": "df49eef8-07e9-44f1-ae6a-1e8e1172a878",
   "metadata": {},
   "outputs": [],
   "source": [
    "calc_metrics('contriever')"
   ]
  },
  {
   "cell_type": "code",
   "execution_count": null,
   "id": "19e03e48-7a03-4423-bfb1-fab12ac2c5d4",
   "metadata": {},
   "outputs": [],
   "source": [
    "calc_metrics('bm25_colbert')"
   ]
  },
  {
   "cell_type": "code",
   "execution_count": 5,
   "id": "840c5697-a471-489a-b85a-4cb821c76c01",
   "metadata": {},
   "outputs": [
    {
     "data": {
      "text/html": [
       "<div>\n",
       "<style scoped>\n",
       "    .dataframe tbody tr th:only-of-type {\n",
       "        vertical-align: middle;\n",
       "    }\n",
       "\n",
       "    .dataframe tbody tr th {\n",
       "        vertical-align: top;\n",
       "    }\n",
       "\n",
       "    .dataframe thead th {\n",
       "        text-align: right;\n",
       "    }\n",
       "</style>\n",
       "<table border=\"1\" class=\"dataframe\">\n",
       "  <thead>\n",
       "    <tr style=\"text-align: right;\">\n",
       "      <th></th>\n",
       "      <th>qid</th>\n",
       "      <th>docid</th>\n",
       "      <th>docno</th>\n",
       "      <th>rank</th>\n",
       "      <th>score</th>\n",
       "      <th>query</th>\n",
       "      <th>text</th>\n",
       "    </tr>\n",
       "  </thead>\n",
       "  <tbody>\n",
       "    <tr>\n",
       "      <th>0</th>\n",
       "      <td>1048578</td>\n",
       "      <td>7187236</td>\n",
       "      <td>7187236</td>\n",
       "      <td>0</td>\n",
       "      <td>67.528593</td>\n",
       "      <td>cost of endless pools swim spa</td>\n",
       "      <td>The Endless Pool 15' endless pools swim spa Endless Pool Nightmare Buy A Big Spa Instead Great training pool</td>\n",
       "    </tr>\n",
       "    <tr>\n",
       "      <th>1</th>\n",
       "      <td>1048578</td>\n",
       "      <td>7471198</td>\n",
       "      <td>7471198</td>\n",
       "      <td>1</td>\n",
       "      <td>62.121928</td>\n",
       "      <td>cost of endless pools swim spa</td>\n",
       "      <td>Cal Spas is the leading maker of home resort products. Cal Spas makes a great jetted swim spa with thoughtful attention paid to all design features. Read our Cal Spas Swim Spa Review. Dimesion One offers swim spas through their Aquatic Fitness Systems brand. Read our Dimension One Swim Spa Review. Endless Pools is one of the industry leaders in swim spas and counter-current pools. Known for their superior swim current, Endless Pools sell a range of swim spas and modular pools.</td>\n",
       "    </tr>\n",
       "  </tbody>\n",
       "</table>\n",
       "</div>"
      ],
      "text/plain": [
       "       qid    docid    docno  rank      score                           query  \\\n",
       "0  1048578  7187236  7187236  0     67.528593  cost of endless pools swim spa   \n",
       "1  1048578  7471198  7471198  1     62.121928  cost of endless pools swim spa   \n",
       "\n",
       "                                                                                                                                                                                                                                                                                                                                                                                                                                                                                                text  \n",
       "0  The Endless Pool 15' endless pools swim spa Endless Pool Nightmare Buy A Big Spa Instead Great training pool                                                                                                                                                                                                                                                                                                                                                                                       \n",
       "1  Cal Spas is the leading maker of home resort products. Cal Spas makes a great jetted swim spa with thoughtful attention paid to all design features. Read our Cal Spas Swim Spa Review. Dimesion One offers swim spas through their Aquatic Fitness Systems brand. Read our Dimension One Swim Spa Review. Endless Pools is one of the industry leaders in swim spas and counter-current pools. Known for their superior swim current, Endless Pools sell a range of swim spas and modular pools.  "
      ]
     },
     "execution_count": 5,
     "metadata": {},
     "output_type": "execute_result"
    }
   ],
   "source": [
    "bm25 = pd.read_csv('/nfs/datasets/cxj/retrievability-bias/results_bm25_100.csv')\n",
    "bm25.head(2)"
   ]
  },
  {
   "cell_type": "code",
   "execution_count": null,
   "id": "13f8aea7-3e9e-4bd2-80c7-226cccef4bdd",
   "metadata": {},
   "outputs": [],
   "source": [
    "del bm25['score']\n",
    "bm25 = transform_df(bm25)\n",
    "ir_measures.calc_aggregate([RR, nDCG@10], qrels, bm25)"
   ]
  },
  {
   "cell_type": "code",
   "execution_count": 7,
   "id": "d01cfe4e-90e3-4f1a-b56a-9b90222e3821",
   "metadata": {},
   "outputs": [
    {
     "data": {
      "text/html": [
       "<div>\n",
       "<style scoped>\n",
       "    .dataframe tbody tr th:only-of-type {\n",
       "        vertical-align: middle;\n",
       "    }\n",
       "\n",
       "    .dataframe tbody tr th {\n",
       "        vertical-align: top;\n",
       "    }\n",
       "\n",
       "    .dataframe thead th {\n",
       "        text-align: right;\n",
       "    }\n",
       "</style>\n",
       "<table border=\"1\" class=\"dataframe\">\n",
       "  <thead>\n",
       "    <tr style=\"text-align: right;\">\n",
       "      <th></th>\n",
       "      <th>Unnamed: 0</th>\n",
       "      <th>qid</th>\n",
       "      <th>docid</th>\n",
       "      <th>docno</th>\n",
       "      <th>query</th>\n",
       "      <th>text</th>\n",
       "      <th>score</th>\n",
       "      <th>rank</th>\n",
       "    </tr>\n",
       "  </thead>\n",
       "  <tbody>\n",
       "    <tr>\n",
       "      <th>0</th>\n",
       "      <td>0</td>\n",
       "      <td>1048578</td>\n",
       "      <td>7187236</td>\n",
       "      <td>7187236</td>\n",
       "      <td>cost of endless pools swim spa</td>\n",
       "      <td>The Endless Pool 15' endless pools swim spa Endless Pool Nightmare Buy A Big Spa Instead Great training pool</td>\n",
       "      <td>-1.152498</td>\n",
       "      <td>17</td>\n",
       "    </tr>\n",
       "    <tr>\n",
       "      <th>1</th>\n",
       "      <td>1</td>\n",
       "      <td>1048578</td>\n",
       "      <td>7471198</td>\n",
       "      <td>7471198</td>\n",
       "      <td>cost of endless pools swim spa</td>\n",
       "      <td>Cal Spas is the leading maker of home resort products. Cal Spas makes a great jetted swim spa with thoughtful attention paid to all design features. Read our Cal Spas Swim Spa Review. Dimesion One offers swim spas through their Aquatic Fitness Systems brand. Read our Dimension One Swim Spa Review. Endless Pools is one of the industry leaders in swim spas and counter-current pools. Known for their superior swim current, Endless Pools sell a range of swim spas and modular pools.</td>\n",
       "      <td>-3.906874</td>\n",
       "      <td>22</td>\n",
       "    </tr>\n",
       "  </tbody>\n",
       "</table>\n",
       "</div>"
      ],
      "text/plain": [
       "   Unnamed: 0      qid    docid    docno                           query  \\\n",
       "0  0           1048578  7187236  7187236  cost of endless pools swim spa   \n",
       "1  1           1048578  7471198  7471198  cost of endless pools swim spa   \n",
       "\n",
       "                                                                                                                                                                                                                                                                                                                                                                                                                                                                                                text  \\\n",
       "0  The Endless Pool 15' endless pools swim spa Endless Pool Nightmare Buy A Big Spa Instead Great training pool                                                                                                                                                                                                                                                                                                                                                                                        \n",
       "1  Cal Spas is the leading maker of home resort products. Cal Spas makes a great jetted swim spa with thoughtful attention paid to all design features. Read our Cal Spas Swim Spa Review. Dimesion One offers swim spas through their Aquatic Fitness Systems brand. Read our Dimension One Swim Spa Review. Endless Pools is one of the industry leaders in swim spas and counter-current pools. Known for their superior swim current, Endless Pools sell a range of swim spas and modular pools.   \n",
       "\n",
       "      score  rank  \n",
       "0 -1.152498  17    \n",
       "1 -3.906874  22    "
      ]
     },
     "execution_count": 7,
     "metadata": {},
     "output_type": "execute_result"
    }
   ],
   "source": [
    "monot5 = pd.read_csv('/nfs/datasets/cxj/retrievability-bias/results_monot5_100.csv')\n",
    "monot5.head(2)"
   ]
  },
  {
   "cell_type": "code",
   "execution_count": null,
   "id": "ba892cbc-99b5-4131-bec9-0bfb21e182e1",
   "metadata": {},
   "outputs": [],
   "source": [
    "splade = pd.read_csv('/nfs/datasets/cxj/retrievability-bias/results_splade_100.csv')\n",
    "splade.head(2)"
   ]
  },
  {
   "cell_type": "code",
   "execution_count": null,
   "id": "ceee2104-76c4-4590-a749-b1d259f79855",
   "metadata": {},
   "outputs": [],
   "source": [
    "del splade['score']\n",
    "# splade['docid'] = splade['docno']\n",
    "splade = transform_df(splade)\n",
    "ir_measures.calc_aggregate([RR, nDCG@10], qrels, splade)"
   ]
  },
  {
   "cell_type": "code",
   "execution_count": 27,
   "id": "baebde1f-33de-478f-bbf9-f77761b76227",
   "metadata": {},
   "outputs": [
    {
     "data": {
      "text/html": [
       "<div>\n",
       "<style scoped>\n",
       "    .dataframe tbody tr th:only-of-type {\n",
       "        vertical-align: middle;\n",
       "    }\n",
       "\n",
       "    .dataframe tbody tr th {\n",
       "        vertical-align: top;\n",
       "    }\n",
       "\n",
       "    .dataframe thead th {\n",
       "        text-align: right;\n",
       "    }\n",
       "</style>\n",
       "<table border=\"1\" class=\"dataframe\">\n",
       "  <thead>\n",
       "    <tr style=\"text-align: right;\">\n",
       "      <th></th>\n",
       "      <th>qid</th>\n",
       "      <th>docid</th>\n",
       "      <th>rank</th>\n",
       "      <th>docno</th>\n",
       "      <th>score</th>\n",
       "    </tr>\n",
       "  </thead>\n",
       "  <tbody>\n",
       "    <tr>\n",
       "      <th>0</th>\n",
       "      <td>13021</td>\n",
       "      <td>6728409</td>\n",
       "      <td>0</td>\n",
       "      <td>6728409</td>\n",
       "      <td>100</td>\n",
       "    </tr>\n",
       "    <tr>\n",
       "      <th>1</th>\n",
       "      <td>13021</td>\n",
       "      <td>7076490</td>\n",
       "      <td>1</td>\n",
       "      <td>7076490</td>\n",
       "      <td>99</td>\n",
       "    </tr>\n",
       "  </tbody>\n",
       "</table>\n",
       "</div>"
      ],
      "text/plain": [
       "     qid    docid  rank    docno  score\n",
       "0  13021  6728409  0     6728409  100  \n",
       "1  13021  7076490  1     7076490  99   "
      ]
     },
     "execution_count": 27,
     "metadata": {},
     "output_type": "execute_result"
    }
   ],
   "source": [
    "colbert = pd.read_csv('/nfs/datasets/cxj/retrievability-bias/results_colbert_100.csv',index_col=1).reset_index()\n",
    "colbert.head(2)"
   ]
  },
  {
   "cell_type": "code",
   "execution_count": 17,
   "id": "a0546124-024f-456f-9f77-aeae5184ac56",
   "metadata": {},
   "outputs": [],
   "source": [
    "del colbert['qid.1']"
   ]
  },
  {
   "cell_type": "code",
   "execution_count": 19,
   "id": "22a6e0b4-73ba-455f-9d03-b2b47317f4c2",
   "metadata": {},
   "outputs": [],
   "source": [
    "colbert['docno'] = colbert['docid']"
   ]
  },
  {
   "cell_type": "code",
   "execution_count": 20,
   "id": "c683913c-7d33-429c-8956-ad32dac5d870",
   "metadata": {},
   "outputs": [],
   "source": [
    "colbert['score'] = 100-colbert['rank']"
   ]
  },
  {
   "cell_type": "code",
   "execution_count": 25,
   "id": "e8dddeac-b179-4904-b0c3-298f4c01cc2c",
   "metadata": {},
   "outputs": [
    {
     "data": {
      "text/html": [
       "<div>\n",
       "<style scoped>\n",
       "    .dataframe tbody tr th:only-of-type {\n",
       "        vertical-align: middle;\n",
       "    }\n",
       "\n",
       "    .dataframe tbody tr th {\n",
       "        vertical-align: top;\n",
       "    }\n",
       "\n",
       "    .dataframe thead th {\n",
       "        text-align: right;\n",
       "    }\n",
       "</style>\n",
       "<table border=\"1\" class=\"dataframe\">\n",
       "  <thead>\n",
       "    <tr style=\"text-align: right;\">\n",
       "      <th></th>\n",
       "      <th>docid</th>\n",
       "      <th>qid</th>\n",
       "      <th>rank</th>\n",
       "      <th>docno</th>\n",
       "      <th>score</th>\n",
       "    </tr>\n",
       "  </thead>\n",
       "  <tbody>\n",
       "    <tr>\n",
       "      <th>0</th>\n",
       "      <td>6728409</td>\n",
       "      <td>13021</td>\n",
       "      <td>0</td>\n",
       "      <td>6728409</td>\n",
       "      <td>100</td>\n",
       "    </tr>\n",
       "    <tr>\n",
       "      <th>1</th>\n",
       "      <td>7076490</td>\n",
       "      <td>13021</td>\n",
       "      <td>1</td>\n",
       "      <td>7076490</td>\n",
       "      <td>99</td>\n",
       "    </tr>\n",
       "  </tbody>\n",
       "</table>\n",
       "</div>"
      ],
      "text/plain": [
       "     docid    qid  rank    docno  score\n",
       "0  6728409  13021  0     6728409  100  \n",
       "1  7076490  13021  1     7076490  99   "
      ]
     },
     "execution_count": 25,
     "metadata": {},
     "output_type": "execute_result"
    }
   ],
   "source": [
    "colbert.head(2)"
   ]
  },
  {
   "cell_type": "code",
   "execution_count": 26,
   "id": "6adb8631-1071-4eb9-b782-40e86dd5c4d8",
   "metadata": {},
   "outputs": [],
   "source": [
    "colbert.to_csv('/nfs/datasets/cxj/retrievability-bias/results_colbert_100.csv',index=False)"
   ]
  },
  {
   "cell_type": "code",
   "execution_count": null,
   "id": "a2bb81c9-f5a6-41ed-8a78-b9c7e0683398",
   "metadata": {},
   "outputs": [],
   "source": [
    "\n",
    "# del colbert['score']\n",
    "# colbert['docid'] = colbert['docno']\n",
    "colbert = transform_df(colbert)\n",
    "ir_measures.calc_aggregate([RR, nDCG@10], qrels, colbert)"
   ]
  },
  {
   "cell_type": "code",
   "execution_count": null,
   "id": "438d5744-54bb-4ec5-a5fd-d295cc2dd1c6",
   "metadata": {},
   "outputs": [],
   "source": []
  },
  {
   "cell_type": "code",
   "execution_count": 40,
   "id": "eab62e9b-50f0-4ba6-b8e1-48b72192bcfa",
   "metadata": {},
   "outputs": [
    {
     "data": {
      "text/html": [
       "<div>\n",
       "<style scoped>\n",
       "    .dataframe tbody tr th:only-of-type {\n",
       "        vertical-align: middle;\n",
       "    }\n",
       "\n",
       "    .dataframe tbody tr th {\n",
       "        vertical-align: top;\n",
       "    }\n",
       "\n",
       "    .dataframe thead th {\n",
       "        text-align: right;\n",
       "    }\n",
       "</style>\n",
       "<table border=\"1\" class=\"dataframe\">\n",
       "  <thead>\n",
       "    <tr style=\"text-align: right;\">\n",
       "      <th></th>\n",
       "      <th>query</th>\n",
       "      <th>qid</th>\n",
       "      <th>docno</th>\n",
       "      <th>docid</th>\n",
       "      <th>score</th>\n",
       "      <th>rank</th>\n",
       "    </tr>\n",
       "  </thead>\n",
       "  <tbody>\n",
       "    <tr>\n",
       "      <th>0</th>\n",
       "      <td>cost of endless pools swim spa</td>\n",
       "      <td>1048578</td>\n",
       "      <td>7453627</td>\n",
       "      <td>7453627</td>\n",
       "      <td>2.209815</td>\n",
       "      <td>0</td>\n",
       "    </tr>\n",
       "    <tr>\n",
       "      <th>1</th>\n",
       "      <td>cost of endless pools swim spa</td>\n",
       "      <td>1048578</td>\n",
       "      <td>3819219</td>\n",
       "      <td>3819219</td>\n",
       "      <td>2.108093</td>\n",
       "      <td>1</td>\n",
       "    </tr>\n",
       "  </tbody>\n",
       "</table>\n",
       "</div>"
      ],
      "text/plain": [
       "                            query      qid    docno    docid     score  rank\n",
       "0  cost of endless pools swim spa  1048578  7453627  7453627  2.209815  0   \n",
       "1  cost of endless pools swim spa  1048578  3819219  3819219  2.108093  1   "
      ]
     },
     "execution_count": 40,
     "metadata": {},
     "output_type": "execute_result"
    }
   ],
   "source": [
    "contreiver = pd.read_csv('/nfs/datasets/cxj/retrievability-bias/results_contriever_raw.csv',index_col=1).reset_index()\n",
    "contreiver.head(2)"
   ]
  },
  {
   "cell_type": "code",
   "execution_count": null,
   "id": "107959d0-8af8-473e-8e79-6918d411ddc9",
   "metadata": {},
   "outputs": [
    {
     "name": "stderr",
     "output_type": "stream",
     "text": [
      "100%|██████████| 101093/101093 [00:37<00:00, 5246.56it/s]"
     ]
    }
   ],
   "source": [
    "contreiver = contreiver.groupby('qid')\n",
    "# contreiver = contreiver.progress_apply(lambda x: x.sort_values('rank', ascending=True))\n",
    "contreiver = contreiver.progress_apply(lambda x: x.sort_values('score', ascending=False))\n",
    "contreiver = contreiver.groupby('qid').head(100)"
   ]
  },
  {
   "cell_type": "code",
   "execution_count": null,
   "id": "b29f1560-b0d0-4bb8-a845-52d06601eba9",
   "metadata": {},
   "outputs": [],
   "source": [
    "contreiver.head(200)"
   ]
  },
  {
   "cell_type": "code",
   "execution_count": null,
   "id": "9dd77593-1d48-4157-8573-2b8a6822c221",
   "metadata": {},
   "outputs": [],
   "source": [
    "contreiver.to_csv('/nfs/datasets/cxj/retrievability-bias/results_contriever_100.csv')"
   ]
  },
  {
   "cell_type": "code",
   "execution_count": 37,
   "id": "49997328-63b0-4b49-a1ef-fea7c6d8cea7",
   "metadata": {},
   "outputs": [],
   "source": [
    "contriever = pd.read_csv('/nfs/datasets/cxj/retrievability-bias/results_contriever_100.csv',index_col=1).reset_index()"
   ]
  },
  {
   "cell_type": "code",
   "execution_count": 38,
   "id": "359960d9-2a01-4a7e-94df-7b5bce666254",
   "metadata": {},
   "outputs": [
    {
     "data": {
      "text/html": [
       "<div>\n",
       "<style scoped>\n",
       "    .dataframe tbody tr th:only-of-type {\n",
       "        vertical-align: middle;\n",
       "    }\n",
       "\n",
       "    .dataframe tbody tr th {\n",
       "        vertical-align: top;\n",
       "    }\n",
       "\n",
       "    .dataframe thead th {\n",
       "        text-align: right;\n",
       "    }\n",
       "</style>\n",
       "<table border=\"1\" class=\"dataframe\">\n",
       "  <thead>\n",
       "    <tr style=\"text-align: right;\">\n",
       "      <th></th>\n",
       "      <th>qid</th>\n",
       "      <th>Unnamed: 0</th>\n",
       "      <th>query</th>\n",
       "      <th>docno</th>\n",
       "      <th>docid</th>\n",
       "      <th>score</th>\n",
       "      <th>rank</th>\n",
       "    </tr>\n",
       "  </thead>\n",
       "  <tbody>\n",
       "    <tr>\n",
       "      <th>0</th>\n",
       "      <td>1048578</td>\n",
       "      <td>0</td>\n",
       "      <td>cost of endless pools swim spa</td>\n",
       "      <td>7453627</td>\n",
       "      <td>7453627</td>\n",
       "      <td>2.209815</td>\n",
       "      <td>0</td>\n",
       "    </tr>\n",
       "    <tr>\n",
       "      <th>1</th>\n",
       "      <td>1048578</td>\n",
       "      <td>1</td>\n",
       "      <td>cost of endless pools swim spa</td>\n",
       "      <td>3819219</td>\n",
       "      <td>3819219</td>\n",
       "      <td>2.108093</td>\n",
       "      <td>1</td>\n",
       "    </tr>\n",
       "  </tbody>\n",
       "</table>\n",
       "</div>"
      ],
      "text/plain": [
       "       qid  Unnamed: 0                           query    docno    docid  \\\n",
       "0  1048578  0           cost of endless pools swim spa  7453627  7453627   \n",
       "1  1048578  1           cost of endless pools swim spa  3819219  3819219   \n",
       "\n",
       "      score  rank  \n",
       "0  2.209815  0     \n",
       "1  2.108093  1     "
      ]
     },
     "execution_count": 38,
     "metadata": {},
     "output_type": "execute_result"
    }
   ],
   "source": [
    "contriever.head(2)"
   ]
  },
  {
   "cell_type": "code",
   "execution_count": 39,
   "id": "96a4e54f-1f4b-4972-a606-94b5142ca04b",
   "metadata": {},
   "outputs": [
    {
     "data": {
      "text/plain": [
       "{nDCG@10: 0.014830054037404066, RR: 0.013490700854761381}"
      ]
     },
     "execution_count": 39,
     "metadata": {},
     "output_type": "execute_result"
    }
   ],
   "source": [
    "contriever = transform_df(contriever)\n",
    "ir_measures.calc_aggregate([RR, nDCG@10], qrels, contriever)"
   ]
  },
  {
   "cell_type": "code",
   "execution_count": 14,
   "id": "572593d3-9528-48b8-b0de-09db91b0b009",
   "metadata": {},
   "outputs": [
    {
     "data": {
      "text/html": [
       "<div>\n",
       "<style scoped>\n",
       "    .dataframe tbody tr th:only-of-type {\n",
       "        vertical-align: middle;\n",
       "    }\n",
       "\n",
       "    .dataframe tbody tr th {\n",
       "        vertical-align: top;\n",
       "    }\n",
       "\n",
       "    .dataframe thead th {\n",
       "        text-align: right;\n",
       "    }\n",
       "</style>\n",
       "<table border=\"1\" class=\"dataframe\">\n",
       "  <thead>\n",
       "    <tr style=\"text-align: right;\">\n",
       "      <th></th>\n",
       "      <th>Unnamed: 0</th>\n",
       "      <th>qid</th>\n",
       "      <th>query</th>\n",
       "      <th>docno</th>\n",
       "      <th>score</th>\n",
       "      <th>rank</th>\n",
       "    </tr>\n",
       "  </thead>\n",
       "  <tbody>\n",
       "    <tr>\n",
       "      <th>0</th>\n",
       "      <td>0</td>\n",
       "      <td>1000</td>\n",
       "      <td>2015 blue jays best players</td>\n",
       "      <td>7391782</td>\n",
       "      <td>24.29726</td>\n",
       "      <td>0</td>\n",
       "    </tr>\n",
       "    <tr>\n",
       "      <th>1</th>\n",
       "      <td>1</td>\n",
       "      <td>1000</td>\n",
       "      <td>2015 blue jays best players</td>\n",
       "      <td>3376671</td>\n",
       "      <td>22.79686</td>\n",
       "      <td>1</td>\n",
       "    </tr>\n",
       "  </tbody>\n",
       "</table>\n",
       "</div>"
      ],
      "text/plain": [
       "   Unnamed: 0   qid                        query    docno     score  rank\n",
       "0  0           1000  2015 blue jays best players  7391782  24.29726  0   \n",
       "1  1           1000  2015 blue jays best players  3376671  22.79686  1   "
      ]
     },
     "execution_count": 14,
     "metadata": {},
     "output_type": "execute_result"
    }
   ],
   "source": [
    "bm25_colbert = pd.read_csv('/nfs/datasets/cxj/retrievability-bias/results_bm25_colbert_100.csv')\n",
    "bm25_colbert.head(2)"
   ]
  },
  {
   "cell_type": "code",
   "execution_count": null,
   "id": "b17a5075-07b1-4c94-9b70-c9de5a948425",
   "metadata": {},
   "outputs": [],
   "source": [
    "\n",
    "del bm25_colbert['score']\n",
    "bm25_colbert['docid'] = bm25_colbert['docno']\n",
    "bm25_colbert = transform_df(bm25_colbert)\n",
    "ir_measures.calc_aggregate([RR, nDCG@10], qrels, bm25_colbert)"
   ]
  },
  {
   "cell_type": "code",
   "execution_count": null,
   "id": "c01bd000-2556-4e72-9f59-d54acef7de1a",
   "metadata": {},
   "outputs": [],
   "source": []
  }
 ],
 "metadata": {
  "kernelspec": {
   "display_name": "Python [conda env:splade]",
   "language": "python",
   "name": "conda-env-splade-py"
  },
  "language_info": {
   "codemirror_mode": {
    "name": "ipython",
    "version": 3
   },
   "file_extension": ".py",
   "mimetype": "text/x-python",
   "name": "python",
   "nbconvert_exporter": "python",
   "pygments_lexer": "ipython3",
   "version": "3.8.13"
  }
 },
 "nbformat": 4,
 "nbformat_minor": 5
}
