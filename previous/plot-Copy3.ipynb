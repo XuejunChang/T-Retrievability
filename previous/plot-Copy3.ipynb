{
 "cells": [
  {
   "cell_type": "code",
   "execution_count": 1,
   "id": "ebfc404f-f2d4-4dfe-8fe0-005cbf4c296c",
   "metadata": {},
   "outputs": [
    {
     "name": "stderr",
     "output_type": "stream",
     "text": [
      "Java started and loaded: pyterrier.java, pyterrier.terrier.java [version=5.11 (build: craig.macdonald 2025-01-13 21:29), helper_version=0.0.8]\n",
      "/tmp/ipykernel_117431/2663994881.py:5: DeprecationWarning: Call to deprecated method pt.init(). Deprecated since version 0.11.0.\n",
      "java is now started automatically with default settings. To force initialisation early, run:\n",
      "pt.java.init() # optional, forces java initialisation\n",
      "  pt.init()\n"
     ]
    }
   ],
   "source": [
    "import warnings\n",
    "warnings.filterwarnings('ignore')\n",
    "import pyterrier as pt\n",
    "if not pt.started():\n",
    "    pt.init()\n",
    "\n",
    "import os\n",
    "import pandas as pd\n",
    "import numpy as np\n",
    "pd.set_option('display.max_columns', None)\n",
    "pd.set_option('display.max_rows', None)\n",
    "pd.set_option('display.max_colwidth', False)\n",
    "\n",
    "import ir_measures\n",
    "from ir_measures import * # imports all supported measures, e.g., AP, nDCG, RR, P"
   ]
  },
  {
   "cell_type": "code",
   "execution_count": 2,
   "id": "ad0ece66-f982-4675-a9ba-e32723bbcd56",
   "metadata": {},
   "outputs": [],
   "source": [
    "# dataset_name = 'msmarco-passage'\n",
    "# dataset = pt.get_dataset(f'irds:{dataset_name}')\n",
    "\n",
    "dataset = pt.get_dataset(f'irds:msmarco-passage')\n",
    "eval_dataset = pt.get_dataset(f'irds:msmarco-passage/dev')\n",
    "topics = eval_dataset.get_topics()\n",
    "# qrels = eval_dataset.get_qrels()\n",
    "\n",
    "import ir_datasets\n",
    "eval = ir_datasets.load(\"msmarco-passage/dev\")\n",
    "# topics = pd.DataFrame(eval.queries_iter())\n",
    "qrels = pd.DataFrame(eval.qrels_iter())\n"
   ]
  },
  {
   "cell_type": "code",
   "execution_count": 3,
   "id": "1e8183a8-8ad4-406a-9e7e-124f9f47e929",
   "metadata": {},
   "outputs": [
    {
     "data": {
      "text/plain": [
       "(59273, 4)"
      ]
     },
     "execution_count": 3,
     "metadata": {},
     "output_type": "execute_result"
    }
   ],
   "source": [
    "qrels.shape"
   ]
  },
  {
   "cell_type": "code",
   "execution_count": 4,
   "id": "14781d08-a0fa-4463-bb79-5d2b106412da",
   "metadata": {},
   "outputs": [
    {
     "name": "stderr",
     "output_type": "stream",
     "text": [
      "100%|██████████| 5/5 [00:00<00:00, 85250.08it/s]"
     ]
    },
    {
     "name": "stdout",
     "output_type": "stream",
     "text": [
      "<class 'str'>\n",
      "<class 'str'>\n",
      "<class 'str'>\n",
      "<class 'str'>\n",
      "<class 'str'>\n"
     ]
    },
    {
     "name": "stderr",
     "output_type": "stream",
     "text": [
      "\n"
     ]
    }
   ],
   "source": [
    "import tqdm\n",
    "for qid in tqdm.tqdm(topics[:5]['qid']):\n",
    "    print(type(qid))"
   ]
  },
  {
   "cell_type": "code",
   "execution_count": 5,
   "id": "c52b0920-ad48-41c8-8ead-d683a3db05e1",
   "metadata": {},
   "outputs": [],
   "source": [
    "import json\n",
    "\n",
    "def save(dict, file):\n",
    "    with open(file,'w') as f:\n",
    "        json.dump(dict, f)\n",
    "\n",
    "def load(file):\n",
    "    with open(file,'r') as f:\n",
    "        ms_docids = json.load(f)\n",
    "    return ms_docids\n",
    "\n",
    "def Gini(v):\n",
    "    v = np.array(v)\n",
    "    bins = np.linspace(0., 100., 11)\n",
    "    total = float(np.sum(v))\n",
    "    yvals = [0]\n",
    "    for b in bins[1:]:\n",
    "        bin_vals = v[v <= np.percentile(v, b)]\n",
    "        bin_fraction = (np.sum(bin_vals) / total) * 100.0\n",
    "        yvals.append(bin_fraction)\n",
    "    # perfect equality area\n",
    "    pe_area = np.trapz(bins, x=bins)\n",
    "    # lorenz area\n",
    "    lorenz_area = np.trapz(yvals, x=bins)\n",
    "    gini_val = (pe_area - lorenz_area) / float(pe_area)\n",
    "    return gini_val"
   ]
  },
  {
   "cell_type": "code",
   "execution_count": 6,
   "id": "8c056f5a-d5e7-48f7-b3de-0c4452309d45",
   "metadata": {},
   "outputs": [],
   "source": [
    "import statistics\n",
    "def calc_stats(modelname,df, threshold, topics):\n",
    "    scoredF = f'./results/{modelname}_docids_100_threshold_{threshold}.json'\n",
    "    if not os.path.exists(scoredF):\n",
    "        init_msmarco_dict = './results/ms_docids.json'\n",
    "        docids_score = load(init_msmarco_dict)\n",
    "        for qid in tqdm.tqdm(topics['qid']):\n",
    "            D = df[df['qid'] == np.int64(qid)]\n",
    "            for dno in D['docno']:\n",
    "                rank = D[D['docno'] == dno]['rank'].values[0]\n",
    "                score = 100 / np.log(rank + 2)  # plus 2 because the ranks start from zero\n",
    "                docids_score[str(dno)] += score\n",
    "        save(docids_score, scoredF)\n",
    "\n",
    "    docids_score = load(scoredF)\n",
    "    scores_df = pd.DataFrame.from_dict(docids_score, orient=\"index\", columns=[\"score\"])\n",
    "    scores_df = scores_df[scores_df[\"score\"] > 0]\n",
    "    scores = scores_df['score'].to_list()\n",
    "\n",
    "    mean = statistics.mean(scores)\n",
    "    std_dev = statistics.stdev(scores)\n",
    "    gini_value = Gini(scores)\n",
    "    return mean, std_dev, gini_value"
   ]
  },
  {
   "cell_type": "code",
   "execution_count": 7,
   "id": "09e4ec63-5dd6-4252-91b3-21ce50680c5e",
   "metadata": {},
   "outputs": [],
   "source": [
    "# def transform_df(df):\n",
    "#     df_run = df.rename(columns={'qid':'query_id','docid':'doc_id'})\n",
    "#     df_run[['query_id','doc_id']] = df_run[['query_id','doc_id']].astype(str)\n",
    "\n",
    "#     return df_run\n"
   ]
  },
  {
   "cell_type": "code",
   "execution_count": 8,
   "id": "1ec37072-cd91-44d3-8c47-3204bde5c530",
   "metadata": {},
   "outputs": [],
   "source": [
    "import glob\n",
    "res = pd.DataFrame()\n",
    "for file in glob.glob('/nfs/resources/cxj/retrievability-bias/colbert/df_colbert_30*.csv'):\n",
    "    df = pd.concat([res,pd.read_csv(file,index_col=0).reset_index()],ignore_index=True)"
   ]
  },
  {
   "cell_type": "code",
   "execution_count": 9,
   "id": "7a876ee8-e834-46c5-9b81-db77de38b5e7",
   "metadata": {},
   "outputs": [
    {
     "data": {
      "text/html": [
       "<div>\n",
       "<style scoped>\n",
       "    .dataframe tbody tr th:only-of-type {\n",
       "        vertical-align: middle;\n",
       "    }\n",
       "\n",
       "    .dataframe tbody tr th {\n",
       "        vertical-align: top;\n",
       "    }\n",
       "\n",
       "    .dataframe thead th {\n",
       "        text-align: right;\n",
       "    }\n",
       "</style>\n",
       "<table border=\"1\" class=\"dataframe\">\n",
       "  <thead>\n",
       "    <tr style=\"text-align: right;\">\n",
       "      <th></th>\n",
       "      <th>qid</th>\n",
       "      <th>docid</th>\n",
       "      <th>docno</th>\n",
       "      <th>score</th>\n",
       "      <th>rank</th>\n",
       "    </tr>\n",
       "  </thead>\n",
       "  <tbody>\n",
       "    <tr>\n",
       "      <th>0</th>\n",
       "      <td>100007</td>\n",
       "      <td>96171</td>\n",
       "      <td>137813</td>\n",
       "      <td>18.810621</td>\n",
       "      <td>9</td>\n",
       "    </tr>\n",
       "    <tr>\n",
       "      <th>1</th>\n",
       "      <td>100007</td>\n",
       "      <td>169024</td>\n",
       "      <td>242346</td>\n",
       "      <td>18.449924</td>\n",
       "      <td>37</td>\n",
       "    </tr>\n",
       "    <tr>\n",
       "      <th>2</th>\n",
       "      <td>100007</td>\n",
       "      <td>169030</td>\n",
       "      <td>242353</td>\n",
       "      <td>18.538689</td>\n",
       "      <td>28</td>\n",
       "    </tr>\n",
       "    <tr>\n",
       "      <th>3</th>\n",
       "      <td>100007</td>\n",
       "      <td>205373</td>\n",
       "      <td>294515</td>\n",
       "      <td>17.751354</td>\n",
       "      <td>93</td>\n",
       "    </tr>\n",
       "    <tr>\n",
       "      <th>4</th>\n",
       "      <td>100007</td>\n",
       "      <td>249859</td>\n",
       "      <td>358161</td>\n",
       "      <td>18.137604</td>\n",
       "      <td>58</td>\n",
       "    </tr>\n",
       "  </tbody>\n",
       "</table>\n",
       "</div>"
      ],
      "text/plain": [
       "      qid   docid   docno      score  rank\n",
       "0  100007  96171   137813  18.810621  9   \n",
       "1  100007  169024  242346  18.449924  37  \n",
       "2  100007  169030  242353  18.538689  28  \n",
       "3  100007  205373  294515  17.751354  93  \n",
       "4  100007  249859  358161  18.137604  58  "
      ]
     },
     "execution_count": 9,
     "metadata": {},
     "output_type": "execute_result"
    }
   ],
   "source": [
    "df.head()"
   ]
  },
  {
   "cell_type": "code",
   "execution_count": 10,
   "id": "e2190460-2ecd-4108-baf8-b57ca2f7ad26",
   "metadata": {},
   "outputs": [
    {
     "data": {
      "text/plain": [
       "(40.663329624539074, 30.663810236402185, 0.3011090185532994)"
      ]
     },
     "execution_count": 10,
     "metadata": {},
     "output_type": "execute_result"
    }
   ],
   "source": [
    "calc_stats('colbert',df,30,topics)"
   ]
  },
  {
   "cell_type": "code",
   "execution_count": 11,
   "id": "fbbec448-c6ac-4700-a805-66017a645ba5",
   "metadata": {},
   "outputs": [],
   "source": [
    "df2 = pd.DataFrame()\n",
    "df2['query_id'] = df['qid'].astype(str)\n",
    "df2['doc_id'] = df['docno'].astype(str)\n",
    "df2['score'] = df['score']"
   ]
  },
  {
   "cell_type": "code",
   "execution_count": 12,
   "id": "bc275a32-c0cf-4c6b-a73f-ecfc5c43a205",
   "metadata": {},
   "outputs": [
    {
     "data": {
      "text/plain": [
       "{RR: 0.04989511915500925, nDCG@10: 0.05673301366116784}"
      ]
     },
     "execution_count": 12,
     "metadata": {},
     "output_type": "execute_result"
    }
   ],
   "source": [
    "ir_measures.calc_aggregate([RR, nDCG@10], qrels, df2)"
   ]
  },
  {
   "cell_type": "code",
   "execution_count": null,
   "id": "91fed7b9-e29a-4631-943b-7c218b964b32",
   "metadata": {},
   "outputs": [],
   "source": [
    "res = pd.DataFrame()\n",
    "for file in glob.glob('/nfs/resources/cxj/retrievability-bias/colbert/df_bm25_colbert_30_*.csv'):\n",
    "    df = pd.concat([res,pd.read_csv(file,index_col=0).reset_index()],ignore_index=True)"
   ]
  },
  {
   "cell_type": "code",
   "execution_count": null,
   "id": "a1be63cb-c20a-4c30-a605-884e85a0ca26",
   "metadata": {},
   "outputs": [],
   "source": [
    "calc_stats('bm25_colbert',df,30,topics)"
   ]
  },
  {
   "cell_type": "code",
   "execution_count": null,
   "id": "ee144286-311e-4039-b95a-ed2d2671251f",
   "metadata": {},
   "outputs": [],
   "source": [
    "df2 = pd.DataFrame()\n",
    "df2['query_id'] = df['qid'].astype(str)\n",
    "df2['doc_id'] = df['docno'].astype(str)\n",
    "df2['score'] = df['score']"
   ]
  },
  {
   "cell_type": "code",
   "execution_count": null,
   "id": "8d5ac2cb-20a2-48e5-9d37-659e8726d21b",
   "metadata": {},
   "outputs": [],
   "source": [
    "ir_measures.calc_aggregate([RR, nDCG@10], qrels, df2)"
   ]
  },
  {
   "cell_type": "code",
   "execution_count": null,
   "id": "813fca66-da79-48ba-9ecc-7459b56cbd59",
   "metadata": {},
   "outputs": [],
   "source": []
  },
  {
   "cell_type": "code",
   "execution_count": null,
   "id": "c4a71b1f-fd61-4a71-b6ef-5895932895a8",
   "metadata": {},
   "outputs": [],
   "source": []
  },
  {
   "cell_type": "code",
   "execution_count": null,
   "id": "0199d0a2-fb23-47a9-b4e9-2843c4f79f04",
   "metadata": {},
   "outputs": [],
   "source": [
    "df = pd.read_csv('/nfs/resources/cxj/retrievability-bias/bm25/df_bm25_monot5_30_.csv', index_col=0).reset_index()"
   ]
  },
  {
   "cell_type": "code",
   "execution_count": null,
   "id": "b382f6ac-92b6-4e08-80d5-3e9e9383a8b9",
   "metadata": {},
   "outputs": [],
   "source": [
    "calc_stats('bm25_monot5',df,30,topics)"
   ]
  },
  {
   "cell_type": "code",
   "execution_count": null,
   "id": "b2aae9ba-ebf8-4b37-a656-8ebfcb371ae4",
   "metadata": {},
   "outputs": [],
   "source": [
    "df2 = pd.DataFrame()\n",
    "df2['query_id'] = df['qid'].astype(str)\n",
    "df2['doc_id'] = df['docno'].astype(str)\n",
    "df2['score'] = df['score']"
   ]
  },
  {
   "cell_type": "code",
   "execution_count": null,
   "id": "c2f62d05-f5a6-47ea-9a72-bfcdf90f7d13",
   "metadata": {},
   "outputs": [],
   "source": [
    "ir_measures.calc_aggregate([RR, nDCG@10], qrels, df2)"
   ]
  },
  {
   "cell_type": "code",
   "execution_count": null,
   "id": "52192200-b5b6-4bc1-ad04-88c98ffee207",
   "metadata": {},
   "outputs": [],
   "source": [
    "df = pd.read_csv('/nfs/resources/cxj/retrievability-bias/splade/df_splade_90.csv', index_col=0).reset_index()"
   ]
  },
  {
   "cell_type": "code",
   "execution_count": null,
   "id": "38d36903-53fd-4138-9990-3d826d1cf6b2",
   "metadata": {},
   "outputs": [],
   "source": [
    "calc_stats('splade',df,90,topics)"
   ]
  },
  {
   "cell_type": "code",
   "execution_count": null,
   "id": "50a3887c-9003-4d87-a6ad-0a20f621cfd3",
   "metadata": {},
   "outputs": [],
   "source": [
    "df2 = pd.DataFrame()\n",
    "df2['query_id'] = df['qid'].astype(str)\n",
    "df2['doc_id'] = df['docno'].astype(str)\n",
    "df2['score'] = df['score']"
   ]
  },
  {
   "cell_type": "code",
   "execution_count": null,
   "id": "100c8a04-380c-4827-a4fd-8e0dad7238e6",
   "metadata": {},
   "outputs": [],
   "source": [
    "ir_measures.calc_aggregate([RR, nDCG@10], qrels, df2)"
   ]
  },
  {
   "cell_type": "code",
   "execution_count": 70,
   "id": "f773ed6b-f661-4966-8882-dd02c55c5b69",
   "metadata": {},
   "outputs": [],
   "source": [
    "df = pd.read_csv('/nfs/resources/cxj/retrievability-bias/bm25/df_bm25_30.csv', index_col=0).reset_index()\n"
   ]
  },
  {
   "cell_type": "code",
   "execution_count": null,
   "id": "ac12cf91-fa69-4c73-a9e4-f5f64f220400",
   "metadata": {},
   "outputs": [],
   "source": [
    "df2 = pd.DataFrame()\n",
    "df2['query_id'] = df['qid'].astype(str)\n",
    "df2['doc_id'] = df['docno'].astype(str)\n",
    "df2['score'] = df['score']"
   ]
  },
  {
   "cell_type": "code",
   "execution_count": 71,
   "id": "37da76e4-c359-426d-b925-f5712aeb249e",
   "metadata": {},
   "outputs": [
    {
     "data": {
      "text/html": [
       "<div>\n",
       "<style scoped>\n",
       "    .dataframe tbody tr th:only-of-type {\n",
       "        vertical-align: middle;\n",
       "    }\n",
       "\n",
       "    .dataframe tbody tr th {\n",
       "        vertical-align: top;\n",
       "    }\n",
       "\n",
       "    .dataframe thead th {\n",
       "        text-align: right;\n",
       "    }\n",
       "</style>\n",
       "<table border=\"1\" class=\"dataframe\">\n",
       "  <thead>\n",
       "    <tr style=\"text-align: right;\">\n",
       "      <th></th>\n",
       "      <th>qid</th>\n",
       "      <th>docid</th>\n",
       "      <th>docno</th>\n",
       "      <th>score</th>\n",
       "      <th>rank</th>\n",
       "    </tr>\n",
       "  </thead>\n",
       "  <tbody>\n",
       "    <tr>\n",
       "      <th>0</th>\n",
       "      <td>1048578</td>\n",
       "      <td>5258326</td>\n",
       "      <td>7471198</td>\n",
       "      <td>61.687367</td>\n",
       "      <td>0</td>\n",
       "    </tr>\n",
       "    <tr>\n",
       "      <th>1</th>\n",
       "      <td>1048578</td>\n",
       "      <td>5068140</td>\n",
       "      <td>7187241</td>\n",
       "      <td>51.659057</td>\n",
       "      <td>1</td>\n",
       "    </tr>\n",
       "    <tr>\n",
       "      <th>2</th>\n",
       "      <td>1048578</td>\n",
       "      <td>3801998</td>\n",
       "      <td>5365326</td>\n",
       "      <td>51.630145</td>\n",
       "      <td>2</td>\n",
       "    </tr>\n",
       "    <tr>\n",
       "      <th>3</th>\n",
       "      <td>1048578</td>\n",
       "      <td>4805741</td>\n",
       "      <td>6802210</td>\n",
       "      <td>47.519237</td>\n",
       "      <td>3</td>\n",
       "    </tr>\n",
       "    <tr>\n",
       "      <th>4</th>\n",
       "      <td>1048578</td>\n",
       "      <td>5068138</td>\n",
       "      <td>7187239</td>\n",
       "      <td>44.768203</td>\n",
       "      <td>4</td>\n",
       "    </tr>\n",
       "  </tbody>\n",
       "</table>\n",
       "</div>"
      ],
      "text/plain": [
       "       qid    docid    docno      score  rank\n",
       "0  1048578  5258326  7471198  61.687367  0   \n",
       "1  1048578  5068140  7187241  51.659057  1   \n",
       "2  1048578  3801998  5365326  51.630145  2   \n",
       "3  1048578  4805741  6802210  47.519237  3   \n",
       "4  1048578  5068138  7187239  44.768203  4   "
      ]
     },
     "execution_count": 71,
     "metadata": {},
     "output_type": "execute_result"
    }
   ],
   "source": [
    "df.head()"
   ]
  },
  {
   "cell_type": "code",
   "execution_count": 74,
   "id": "219a87b0-b882-4662-af07-2ca3891c7cb5",
   "metadata": {},
   "outputs": [
    {
     "data": {
      "text/plain": [
       "(82.29475302247792, 246.9971036759308, 0.47144859868381284)"
      ]
     },
     "execution_count": 74,
     "metadata": {},
     "output_type": "execute_result"
    }
   ],
   "source": [
    "calc_stats('bm25',df,30,topics)"
   ]
  },
  {
   "cell_type": "code",
   "execution_count": 73,
   "id": "92c431f8-6305-4ab4-85a2-7ddc49901e7b",
   "metadata": {},
   "outputs": [
    {
     "data": {
      "text/plain": [
       "{nDCG@10: 0.2246598189895539, RR: 0.19501269514963218}"
      ]
     },
     "execution_count": 73,
     "metadata": {},
     "output_type": "execute_result"
    }
   ],
   "source": [
    "ir_measures.calc_aggregate([RR, nDCG@10], qrels, df2)"
   ]
  },
  {
   "cell_type": "code",
   "execution_count": 75,
   "id": "0cde65bd-ec14-4ea5-8887-77b85a7e0a63",
   "metadata": {},
   "outputs": [],
   "source": [
    "df = pd.read_csv('/nfs/resources/cxj/retrievability-bias/splade/df_splade_30.csv', index_col=0).reset_index()\n",
    "df2 = pd.DataFrame()\n",
    "df2['query_id'] = df['qid'].astype(str)\n",
    "df2['doc_id'] = df['docno'].astype(str)\n",
    "df2['score'] = df['score']"
   ]
  },
  {
   "cell_type": "code",
   "execution_count": 76,
   "id": "3f984645-96f4-46e0-a350-7cbf9d0f1888",
   "metadata": {},
   "outputs": [
    {
     "data": {
      "text/html": [
       "<div>\n",
       "<style scoped>\n",
       "    .dataframe tbody tr th:only-of-type {\n",
       "        vertical-align: middle;\n",
       "    }\n",
       "\n",
       "    .dataframe tbody tr th {\n",
       "        vertical-align: top;\n",
       "    }\n",
       "\n",
       "    .dataframe thead th {\n",
       "        text-align: right;\n",
       "    }\n",
       "</style>\n",
       "<table border=\"1\" class=\"dataframe\">\n",
       "  <thead>\n",
       "    <tr style=\"text-align: right;\">\n",
       "      <th></th>\n",
       "      <th>qid</th>\n",
       "      <th>docid</th>\n",
       "      <th>docno</th>\n",
       "      <th>score</th>\n",
       "      <th>rank</th>\n",
       "    </tr>\n",
       "  </thead>\n",
       "  <tbody>\n",
       "    <tr>\n",
       "      <th>0</th>\n",
       "      <td>1048578</td>\n",
       "      <td>5068136</td>\n",
       "      <td>7187234</td>\n",
       "      <td>1346.051053</td>\n",
       "      <td>0</td>\n",
       "    </tr>\n",
       "    <tr>\n",
       "      <th>1</th>\n",
       "      <td>1048578</td>\n",
       "      <td>1451614</td>\n",
       "      <td>2078221</td>\n",
       "      <td>1324.122223</td>\n",
       "      <td>1</td>\n",
       "    </tr>\n",
       "    <tr>\n",
       "      <th>2</th>\n",
       "      <td>1048578</td>\n",
       "      <td>3801998</td>\n",
       "      <td>5365326</td>\n",
       "      <td>1322.758848</td>\n",
       "      <td>2</td>\n",
       "    </tr>\n",
       "    <tr>\n",
       "      <th>3</th>\n",
       "      <td>1048578</td>\n",
       "      <td>3232092</td>\n",
       "      <td>4567130</td>\n",
       "      <td>1308.443114</td>\n",
       "      <td>3</td>\n",
       "    </tr>\n",
       "    <tr>\n",
       "      <th>4</th>\n",
       "      <td>1048578</td>\n",
       "      <td>3802000</td>\n",
       "      <td>5365328</td>\n",
       "      <td>1249.605868</td>\n",
       "      <td>4</td>\n",
       "    </tr>\n",
       "  </tbody>\n",
       "</table>\n",
       "</div>"
      ],
      "text/plain": [
       "       qid    docid    docno        score  rank\n",
       "0  1048578  5068136  7187234  1346.051053  0   \n",
       "1  1048578  1451614  2078221  1324.122223  1   \n",
       "2  1048578  3801998  5365326  1322.758848  2   \n",
       "3  1048578  3232092  4567130  1308.443114  3   \n",
       "4  1048578  3802000  5365328  1249.605868  4   "
      ]
     },
     "execution_count": 76,
     "metadata": {},
     "output_type": "execute_result"
    }
   ],
   "source": [
    "df.head()"
   ]
  },
  {
   "cell_type": "code",
   "execution_count": 77,
   "id": "a98f5e68-ac74-4189-82cb-194197cfbeb9",
   "metadata": {},
   "outputs": [
    {
     "name": "stderr",
     "output_type": "stream",
     "text": [
      "100%|██████████| 101093/101093 [40:08<00:00, 41.97it/s]\n"
     ]
    },
    {
     "data": {
      "text/plain": [
       "(72.07897727079515, 67.02232864644255, 0.39601066004471325)"
      ]
     },
     "execution_count": 77,
     "metadata": {},
     "output_type": "execute_result"
    }
   ],
   "source": [
    "calc_stats('splade',df,30,topics)"
   ]
  },
  {
   "cell_type": "code",
   "execution_count": 78,
   "id": "7dfe908d-f37a-461c-a5d7-ed3b567438d2",
   "metadata": {},
   "outputs": [
    {
     "data": {
      "text/plain": [
       "{nDCG@10: 0.41843710445589793, RR: 0.36964461948385996}"
      ]
     },
     "execution_count": 78,
     "metadata": {},
     "output_type": "execute_result"
    }
   ],
   "source": [
    "ir_measures.calc_aggregate([RR, nDCG@10], qrels, df2)"
   ]
  },
  {
   "cell_type": "code",
   "execution_count": null,
   "id": "91ebd093-0cc2-4b6c-91b2-163ac1df59e8",
   "metadata": {},
   "outputs": [],
   "source": []
  },
  {
   "cell_type": "code",
   "execution_count": 12,
   "id": "8445fc3f-3a70-4c6e-b17a-e16292e87afa",
   "metadata": {},
   "outputs": [],
   "source": [
    "df = pd.read_csv('/nfs/resources/cxj/retrievability-bias/splade/df_splade_60.csv', index_col=0).reset_index()\n"
   ]
  },
  {
   "cell_type": "code",
   "execution_count": 13,
   "id": "e539f94f-79fd-4ef6-ad98-1ed07ae3f41a",
   "metadata": {},
   "outputs": [
    {
     "data": {
      "text/html": [
       "<div>\n",
       "<style scoped>\n",
       "    .dataframe tbody tr th:only-of-type {\n",
       "        vertical-align: middle;\n",
       "    }\n",
       "\n",
       "    .dataframe tbody tr th {\n",
       "        vertical-align: top;\n",
       "    }\n",
       "\n",
       "    .dataframe thead th {\n",
       "        text-align: right;\n",
       "    }\n",
       "</style>\n",
       "<table border=\"1\" class=\"dataframe\">\n",
       "  <thead>\n",
       "    <tr style=\"text-align: right;\">\n",
       "      <th></th>\n",
       "      <th>qid</th>\n",
       "      <th>docid</th>\n",
       "      <th>docno</th>\n",
       "      <th>score</th>\n",
       "      <th>rank</th>\n",
       "    </tr>\n",
       "  </thead>\n",
       "  <tbody>\n",
       "    <tr>\n",
       "      <th>0</th>\n",
       "      <td>1048578</td>\n",
       "      <td>2915219</td>\n",
       "      <td>7187234</td>\n",
       "      <td>1346.051053</td>\n",
       "      <td>0</td>\n",
       "    </tr>\n",
       "    <tr>\n",
       "      <th>1</th>\n",
       "      <td>1048578</td>\n",
       "      <td>837032</td>\n",
       "      <td>2078221</td>\n",
       "      <td>1324.376221</td>\n",
       "      <td>1</td>\n",
       "    </tr>\n",
       "    <tr>\n",
       "      <th>2</th>\n",
       "      <td>1048578</td>\n",
       "      <td>2184213</td>\n",
       "      <td>5365326</td>\n",
       "      <td>1322.035154</td>\n",
       "      <td>2</td>\n",
       "    </tr>\n",
       "    <tr>\n",
       "      <th>3</th>\n",
       "      <td>1048578</td>\n",
       "      <td>2184215</td>\n",
       "      <td>5365328</td>\n",
       "      <td>1249.605868</td>\n",
       "      <td>3</td>\n",
       "    </tr>\n",
       "    <tr>\n",
       "      <th>4</th>\n",
       "      <td>1048578</td>\n",
       "      <td>2915221</td>\n",
       "      <td>7187239</td>\n",
       "      <td>1170.215931</td>\n",
       "      <td>4</td>\n",
       "    </tr>\n",
       "  </tbody>\n",
       "</table>\n",
       "</div>"
      ],
      "text/plain": [
       "       qid    docid    docno        score  rank\n",
       "0  1048578  2915219  7187234  1346.051053  0   \n",
       "1  1048578  837032   2078221  1324.376221  1   \n",
       "2  1048578  2184213  5365326  1322.035154  2   \n",
       "3  1048578  2184215  5365328  1249.605868  3   \n",
       "4  1048578  2915221  7187239  1170.215931  4   "
      ]
     },
     "execution_count": 13,
     "metadata": {},
     "output_type": "execute_result"
    }
   ],
   "source": [
    "df.head()"
   ]
  },
  {
   "cell_type": "code",
   "execution_count": 14,
   "id": "8301ec04-d6e8-435a-b63c-6c43b6933b7f",
   "metadata": {},
   "outputs": [
    {
     "name": "stderr",
     "output_type": "stream",
     "text": [
      "100%|██████████| 101093/101093 [37:50<00:00, 44.52it/s]\n"
     ]
    },
    {
     "data": {
      "text/plain": [
       "(102.5659422654148, 97.23124851721596, 0.4097076534494958)"
      ]
     },
     "execution_count": 14,
     "metadata": {},
     "output_type": "execute_result"
    }
   ],
   "source": [
    "calc_stats('splade',df,60,topics)"
   ]
  },
  {
   "cell_type": "code",
   "execution_count": 15,
   "id": "403adbb8-b77b-4cb5-b644-c49ee5bc2b1d",
   "metadata": {},
   "outputs": [
    {
     "data": {
      "text/plain": [
       "{nDCG@10: 0.3473603967529894, RR: 0.31029837051269815}"
      ]
     },
     "execution_count": 15,
     "metadata": {},
     "output_type": "execute_result"
    }
   ],
   "source": [
    "df2 = pd.DataFrame()\n",
    "df2['query_id'] = df['qid'].astype(str)\n",
    "df2['doc_id'] = df['docno'].astype(str)\n",
    "df2['score'] = df['score']\n",
    "ir_measures.calc_aggregate([RR, nDCG@10], qrels, df2)"
   ]
  },
  {
   "cell_type": "code",
   "execution_count": null,
   "id": "0d48d492-441f-4c18-9d6b-3f7669263222",
   "metadata": {},
   "outputs": [],
   "source": []
  },
  {
   "cell_type": "code",
   "execution_count": null,
   "id": "d208f934-e65f-4738-80ee-19b0ceb0944e",
   "metadata": {},
   "outputs": [],
   "source": [
    "df = pd.read_csv('/nfs/datasets/cxj/retrievability-bias/results_contriever_100.csv').reset_index()"
   ]
  },
  {
   "cell_type": "code",
   "execution_count": null,
   "id": "0c47fa12-ef44-4c9d-a915-5372abe25140",
   "metadata": {},
   "outputs": [],
   "source": []
  },
  {
   "cell_type": "code",
   "execution_count": 45,
   "id": "70cc107c-4e68-46e4-ad60-52c1dd554aef",
   "metadata": {},
   "outputs": [
    {
     "data": {
      "text/plain": [
       "(10109300, 8)"
      ]
     },
     "execution_count": 45,
     "metadata": {},
     "output_type": "execute_result"
    }
   ],
   "source": [
    "df.shape"
   ]
  },
  {
   "cell_type": "code",
   "execution_count": null,
   "id": "4faeac37-b23f-42df-ae94-b7a615fa3ac3",
   "metadata": {},
   "outputs": [],
   "source": [
    "groupby = df.groupby('query_id')"
   ]
  },
  {
   "cell_type": "code",
   "execution_count": null,
   "id": "c8fe992a-1a3e-42ab-ba2b-79141134934c",
   "metadata": {},
   "outputs": [],
   "source": [
    "groupby.groups"
   ]
  },
  {
   "cell_type": "code",
   "execution_count": null,
   "id": "1ac11ee5-a382-4eae-a8cb-cc8b09ed6289",
   "metadata": {},
   "outputs": [],
   "source": [
    "calc_stats('contriever_my',df,100,topics)"
   ]
  },
  {
   "cell_type": "code",
   "execution_count": null,
   "id": "91a129d5-4881-438a-ba84-ae47998f0736",
   "metadata": {},
   "outputs": [],
   "source": [
    "df = transform_df(df)\n",
    "ir_measures.calc_aggregate([RR, nDCG@10], qrels, df)"
   ]
  },
  {
   "cell_type": "code",
   "execution_count": null,
   "id": "96f79ef6-cf95-44c2-b403-e9900f87e584",
   "metadata": {},
   "outputs": [],
   "source": [
    "\n",
    "def calc_rtr_score(df, docid_dict, savename):\n",
    "    for query_id in pt.tqdm(topics['query_id']):\n",
    "        D = df[df['qid'] == np.int64(query_id)]\n",
    "        for dno in D['docno']:\n",
    "            rank =  D[D['docno'] == dno]['rank'].values[0]\n",
    "            score = 100/np.log(rank + 2) # plus 2 because the ranks start from zero\n",
    "            docid_dict[str(dno)] += score\n",
    "    \n",
    "    save(docid_dict,savename)   \n"
   ]
  },
  {
   "cell_type": "code",
   "execution_count": null,
   "id": "f6cf01e2-6854-49f4-8361-720b8cf42b55",
   "metadata": {},
   "outputs": [],
   "source": [
    "def G(v):\n",
    "    v = np.array(v)\n",
    "    bins = np.linspace(0., 100., 11)\n",
    "    total = float(np.sum(v))\n",
    "    yvals = [0]\n",
    "    for b in bins[1:]:\n",
    "        bin_vals = v[v <= np.percentile(v, b)]\n",
    "        bin_fraction = (np.sum(bin_vals) / total) * 100.0\n",
    "        yvals.append(bin_fraction)\n",
    "    # perfect equality area\n",
    "    pe_area = np.trapz(bins, x=bins)\n",
    "    # lorenz area\n",
    "    lorenz_area = np.trapz(yvals, x=bins)\n",
    "    gini_val = (pe_area - lorenz_area) / float(pe_area)\n",
    "    # return bins, yvals, gini_val\n",
    "    print('gini:', gini_val)"
   ]
  },
  {
   "cell_type": "code",
   "execution_count": null,
   "id": "cfdc21d1-15ce-4a1c-afe2-c4ccd6926975",
   "metadata": {},
   "outputs": [],
   "source": [
    "import statistics\n",
    "\n",
    "def calc_stats(values):\n",
    "    # values = list(data.values())\n",
    "\n",
    "    mean = statistics.mean(values)\n",
    "    std_dev = statistics.stdev(values) \n",
    "    print(f\"Mean: {mean}\")\n",
    "    print(f\"Standard Deviation: {std_dev}\")\n"
   ]
  },
  {
   "cell_type": "code",
   "execution_count": null,
   "id": "876b20f5-f9da-4408-9efc-83e58d833989",
   "metadata": {},
   "outputs": [],
   "source": [
    "def calc_metrics(modelname):\n",
    "    scoredF = f'./results/{modelname}_docids_100.json'\n",
    "    if not os.path.exists(scoredF):\n",
    "        csv = f'/nfs/datasets/cxj/retrievability-bias/results_{modelname}_100.csv'\n",
    "        df = pd.read_csv(csv)\n",
    "        init_msmarco_dict = './results/ms_docids.json'\n",
    "        docids_score = load(init_msmarco_dict)\n",
    "        for query_id in pt.tqdm(topics['query_id']):\n",
    "            D = df[df['qid'] == np.int64(query_id)]\n",
    "            for dno in D['docno']:\n",
    "                rank =  D[D['docno'] == dno]['rank'].values[0]\n",
    "                score = 100/np.log(rank + 2) # plus 2 because the ranks start from zero\n",
    "                docids_score[str(dno)] += score\n",
    "        save(docids_score, scoredF)\n",
    "        \n",
    "    docids_score = load(scoredF)\n",
    "    scores_df = pd.DataFrame.from_dict(docids_score, orient=\"index\",columns=[\"score\"])\n",
    "    scores_df = scores_df[scores_df[\"score\"]>0]\n",
    "    scores = scores_df['score'].to_list()\n",
    "    calc_stats(scores)\n",
    "    gini_value = G(scores)\n"
   ]
  },
  {
   "cell_type": "code",
   "execution_count": null,
   "id": "e1cc3b9c-2e03-48b4-86b7-e11b5692b019",
   "metadata": {},
   "outputs": [],
   "source": [
    "calc_metrics('bm25')"
   ]
  },
  {
   "cell_type": "code",
   "execution_count": null,
   "id": "5b67887e-c863-4a01-b265-25547f9c9b21",
   "metadata": {},
   "outputs": [],
   "source": [
    "calc_metrics('splade')"
   ]
  },
  {
   "cell_type": "code",
   "execution_count": null,
   "id": "a2cb9661-5720-48f1-a9f8-959e5f5d7ecb",
   "metadata": {},
   "outputs": [],
   "source": [
    "calc_metrics('colbert')"
   ]
  },
  {
   "cell_type": "code",
   "execution_count": null,
   "id": "eab62e9b-50f0-4ba6-b8e1-48b72192bcfa",
   "metadata": {},
   "outputs": [],
   "source": [
    "contreiver = pd.read_csv('/nfs/datasets/cxj/retrievability-bias/results_contriever_raw.csv',index_col=1)\n",
    "contreiver.head(2)"
   ]
  },
  {
   "cell_type": "code",
   "execution_count": null,
   "id": "107959d0-8af8-473e-8e79-6918d411ddc9",
   "metadata": {},
   "outputs": [],
   "source": [
    "contreiver = contreiver.groupby('qid')\n",
    "# contreiver = contreiver.progress_apply(lambda x: x.sort_values('rank', ascending=True))\n",
    "contreiver = contreiver.progress_apply(lambda x: x.sort_values('score', ascending=False))\n",
    "contreiver = contreiver.groupby('qid').head(100)"
   ]
  },
  {
   "cell_type": "code",
   "execution_count": null,
   "id": "b29f1560-b0d0-4bb8-a845-52d06601eba9",
   "metadata": {},
   "outputs": [],
   "source": [
    "contreiver.head(200)"
   ]
  },
  {
   "cell_type": "code",
   "execution_count": null,
   "id": "9dd77593-1d48-4157-8573-2b8a6822c221",
   "metadata": {},
   "outputs": [],
   "source": [
    "contreiver.to_csv('/nfs/datasets/cxj/retrievability-bias/results_contriever_100.csv')"
   ]
  },
  {
   "cell_type": "code",
   "execution_count": null,
   "id": "df49eef8-07e9-44f1-ae6a-1e8e1172a878",
   "metadata": {},
   "outputs": [],
   "source": [
    "calc_metrics('contriever')"
   ]
  },
  {
   "cell_type": "code",
   "execution_count": null,
   "id": "fbd0001a-1770-401c-82fa-fd247b9103a3",
   "metadata": {},
   "outputs": [],
   "source": [
    "contreiver = transform_df(contreiver)\n",
    "ir_measures.calc_aggregate([RR, nDCG@10], qrels, contreiver)"
   ]
  },
  {
   "cell_type": "code",
   "execution_count": null,
   "id": "19e03e48-7a03-4423-bfb1-fab12ac2c5d4",
   "metadata": {},
   "outputs": [],
   "source": [
    "calc_metrics('bm25_colbert')"
   ]
  },
  {
   "cell_type": "code",
   "execution_count": null,
   "id": "840c5697-a471-489a-b85a-4cb821c76c01",
   "metadata": {},
   "outputs": [],
   "source": [
    "bm25 = pd.read_csv('/nfs/datasets/cxj/retrievability-bias/results_bm25_100.csv')\n",
    "bm25.head(2)"
   ]
  },
  {
   "cell_type": "code",
   "execution_count": null,
   "id": "13f8aea7-3e9e-4bd2-80c7-226cccef4bdd",
   "metadata": {},
   "outputs": [],
   "source": [
    "del bm25['score']\n",
    "bm25 = transform_df(bm25)\n",
    "metrics = ir_measures.calc_aggregate([RR, nDCG@10], qrels, bm25)"
   ]
  },
  {
   "cell_type": "code",
   "execution_count": null,
   "id": "fbca45ba-a4a9-4420-a87f-afc6f1226bed",
   "metadata": {},
   "outputs": [],
   "source": [
    "type(metrics)"
   ]
  },
  {
   "cell_type": "code",
   "execution_count": null,
   "id": "d01cfe4e-90e3-4f1a-b56a-9b90222e3821",
   "metadata": {},
   "outputs": [],
   "source": [
    "monot5 = pd.read_csv('/nfs/datasets/cxj/retrievability-bias/results_bm25_monot5_100.csv')"
   ]
  },
  {
   "cell_type": "code",
   "execution_count": null,
   "id": "ceee2104-76c4-4590-a749-b1d259f79855",
   "metadata": {},
   "outputs": [],
   "source": [
    "splade = pd.read_csv('/nfs/datasets/cxj/retrievability-bias/results_splade_100.csv')\n",
    "del splade['score']\n",
    "# splade['docid'] = splade['docno']\n",
    "splade = transform_df(splade)\n",
    "ir_measures.calc_aggregate([RR, nDCG@10], qrels, splade)"
   ]
  },
  {
   "cell_type": "code",
   "execution_count": null,
   "id": "a2bb81c9-f5a6-41ed-8a78-b9c7e0683398",
   "metadata": {},
   "outputs": [],
   "source": [
    "colbert = pd.read_csv('/nfs/datasets/cxj/retrievability-bias/results_colbert_100.csv')\n",
    "# del colbert['score']\n",
    "# colbert['docid'] = colbert['docno']\n",
    "colbert = transform_df(colbert)\n",
    "ir_measures.calc_aggregate([RR, nDCG@10], qrels, colbert)"
   ]
  },
  {
   "cell_type": "code",
   "execution_count": null,
   "id": "438d5744-54bb-4ec5-a5fd-d295cc2dd1c6",
   "metadata": {},
   "outputs": [],
   "source": []
  },
  {
   "cell_type": "code",
   "execution_count": null,
   "id": "b17a5075-07b1-4c94-9b70-c9de5a948425",
   "metadata": {},
   "outputs": [],
   "source": [
    "bm25_colbert = pd.read_csv('/nfs/datasets/cxj/retrievability-bias/results_bm25_colbert_100.csv')\n",
    "del bm25_colbert['score']\n",
    "bm25_colbert['docid'] = bm25_colbert['docno']\n",
    "bm25_colbert = transform_df(bm25_colbert)\n",
    "ir_measures.calc_aggregate([RR, nDCG@10], qrels, bm25_colbert)"
   ]
  },
  {
   "cell_type": "code",
   "execution_count": null,
   "id": "c01bd000-2556-4e72-9f59-d54acef7de1a",
   "metadata": {},
   "outputs": [],
   "source": [
    "csv = pd.read_csv('./results/r_result.csv').reset_index()"
   ]
  },
  {
   "cell_type": "code",
   "execution_count": null,
   "id": "9bf9fc7b-3ba9-43cf-8184-c1654a83a46d",
   "metadata": {},
   "outputs": [],
   "source": []
  }
 ],
 "metadata": {
  "kernelspec": {
   "display_name": "Python [conda env:splade]",
   "language": "python",
   "name": "conda-env-splade-py"
  },
  "language_info": {
   "codemirror_mode": {
    "name": "ipython",
    "version": 3
   },
   "file_extension": ".py",
   "mimetype": "text/x-python",
   "name": "python",
   "nbconvert_exporter": "python",
   "pygments_lexer": "ipython3",
   "version": "3.8.13"
  }
 },
 "nbformat": 4,
 "nbformat_minor": 5
}
