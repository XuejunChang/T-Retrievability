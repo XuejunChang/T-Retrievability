{
 "cells": [
  {
   "cell_type": "code",
   "execution_count": null,
   "id": "ebfc404f-f2d4-4dfe-8fe0-005cbf4c296c",
   "metadata": {},
   "outputs": [],
   "source": [
    "import warnings\n",
    "warnings.filterwarnings('ignore')\n",
    "import pyterrier as pt\n",
    "if not pt.started():\n",
    "    pt.init()\n",
    "\n",
    "import os\n",
    "import pandas as pd\n",
    "import numpy as np\n",
    "pd.set_option('display.max_columns', None)\n",
    "pd.set_option('display.max_rows', None)\n",
    "pd.set_option('display.max_colwidth', False)\n",
    "\n",
    "import ir_measures\n",
    "from ir_measures import * # imports all supported measures, e.g., AP, nDCG, RR, P\n"
   ]
  },
  {
   "cell_type": "code",
   "execution_count": null,
   "id": "a76b5eb0-8783-43ee-b477-e7d5a65c27a5",
   "metadata": {},
   "outputs": [],
   "source": [
    "# eval_dataset = pt.get_dataset(f'irds:msmarco-passage/dev')\n",
    "# topics = eval_dataset.get_topics()\n",
    "# qrels = eval_dataset.get_qrels()\n",
    "\n",
    "import ir_datasets\n",
    "eval = ir_datasets.load(\"msmarco-passage/dev\")\n",
    "topics = pd.DataFrame(eval.queries_iter())\n",
    "qrels = pd.DataFrame(eval.qrels_iter())"
   ]
  },
  {
   "cell_type": "code",
   "execution_count": null,
   "id": "1534ed58-ec20-419b-902e-8336e43c2d91",
   "metadata": {},
   "outputs": [],
   "source": [
    "qrels.shape"
   ]
  },
  {
   "cell_type": "code",
   "execution_count": null,
   "id": "4580f005-4f5c-4b71-a531-e3326de688d9",
   "metadata": {},
   "outputs": [],
   "source": [
    "topics.shape"
   ]
  },
  {
   "cell_type": "code",
   "execution_count": null,
   "id": "b1a81531-0754-4901-b980-ba768d3f6137",
   "metadata": {},
   "outputs": [],
   "source": [
    "def transform_df(df):\n",
    "    df_run = df.rename(columns={'qid':'query_id','docid':'doc_id'})\n",
    "    del df_run['score']\n",
    "    df_run['score'] = 10-df_run['rank']\n",
    "    df_run[['query_id','doc_id']] = df_run[['query_id','doc_id']].astype(str)\n",
    "\n",
    "    return df_run"
   ]
  },
  {
   "cell_type": "code",
   "execution_count": null,
   "id": "a8e1362e-0789-4ffa-81ea-91fb68d3b85d",
   "metadata": {},
   "outputs": [],
   "source": [
    "bm25 = pd.read_csv('/nfs/datasets/cxj/retrievability-bias/results_bm25_100.csv')\n",
    "bm25 = transform_df(bm25)\n",
    "ir_measures.calc_aggregate([nDCG@10, RR], qrels, bm25)"
   ]
  },
  {
   "cell_type": "code",
   "execution_count": null,
   "id": "bfbbfe38-e206-4c00-a80f-84492bca336b",
   "metadata": {},
   "outputs": [],
   "source": [
    "monot5 = pd.read_csv('/nfs/datasets/cxj/retrievability-bias/results_bm25_monot5_100.csv')"
   ]
  },
  {
   "cell_type": "code",
   "execution_count": null,
   "id": "358b1f95-8a49-4587-89fa-b7ceab09ad62",
   "metadata": {},
   "outputs": [],
   "source": [
    "splade = pd.read_csv('/nfs/datasets/cxj/retrievability-bias/results_splade_100.csv')"
   ]
  },
  {
   "cell_type": "code",
   "execution_count": null,
   "id": "0bba33bc-ffa1-4eb6-af14-0be494fec460",
   "metadata": {},
   "outputs": [],
   "source": [
    "colbert = pd.read_csv('/nfs/datasets/cxj/retrievability-bias/results_colbert_100.csv')"
   ]
  },
  {
   "cell_type": "code",
   "execution_count": 18,
   "id": "aaea2ab0-0601-42ca-ad77-5e4496a94dd5",
   "metadata": {},
   "outputs": [
    {
     "data": {
      "text/plain": [
       "{nDCG@10: 0.36726046155429426, RR: 0.3234703429492757}"
      ]
     },
     "execution_count": 18,
     "metadata": {},
     "output_type": "execute_result"
    }
   ],
   "source": [
    "bm25_colbert = pd.read_csv('/nfs/datasets/cxj/retrievability-bias/results_bm25_colbert_100.csv')\n",
    "bm25_colbert['docid'] = bm25_colbert['docno']\n",
    "bm25_colbert = transform_df(bm25_colbert)\n",
    "ir_measures.calc_aggregate([nDCG@10, RR], qrels, bm25_colbert)"
   ]
  }
 ],
 "metadata": {
  "kernelspec": {
   "display_name": "Python [conda env:splade]",
   "language": "python",
   "name": "conda-env-splade-py"
  },
  "language_info": {
   "codemirror_mode": {
    "name": "ipython",
    "version": 3
   },
   "file_extension": ".py",
   "mimetype": "text/x-python",
   "name": "python",
   "nbconvert_exporter": "python",
   "pygments_lexer": "ipython3",
   "version": "3.8.13"
  }
 },
 "nbformat": 4,
 "nbformat_minor": 5
}
