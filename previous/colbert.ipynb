{
 "cells": [
  {
   "cell_type": "code",
   "execution_count": null,
   "id": "ebfc404f-f2d4-4dfe-8fe0-005cbf4c296c",
   "metadata": {},
   "outputs": [],
   "source": [
    "import warnings\n",
    "warnings.filterwarnings('ignore')\n",
    "import pyterrier as pt\n",
    "if not pt.started():\n",
    "    pt.init()\n",
    "\n",
    "import os\n",
    "import pandas as pd\n",
    "pd.set_option('display.max_columns', None)\n",
    "pd.set_option('display.max_rows', None)\n",
    "pd.set_option('display.max_colwidth', False)\n",
    "\n",
    "# import pyt_splade\n",
    "# splade = pyt_splade.Splade()\n",
    "\n",
    "dataset_name = 'msmarco-passage'\n",
    "eval_ds_name = 'dev'\n",
    "dataset = pt.get_dataset(f'irds:{dataset_name}')\n",
    "eval_dataset = pt.get_dataset(f'irds:{dataset_name}/{eval_ds_name}')\n",
    "topics = eval_dataset.get_topics()\n",
    "qrels = eval_dataset.get_qrels()"
   ]
  },
  {
   "cell_type": "code",
   "execution_count": null,
   "id": "618fd19a-1058-412a-b4a5-1b79ab87cf9b",
   "metadata": {},
   "outputs": [],
   "source": [
    "topics.shape"
   ]
  },
  {
   "cell_type": "code",
   "execution_count": null,
   "id": "5cf8be5c-a924-4574-a20d-d19f194b04a5",
   "metadata": {},
   "outputs": [],
   "source": [
    "dataset_df = pd.DataFrame(dataset.get_corpus_iter(verbose=True))"
   ]
  },
  {
   "cell_type": "code",
   "execution_count": null,
   "id": "e1f6135d-559c-4d24-85ec-374da67fefa1",
   "metadata": {},
   "outputs": [],
   "source": [
    "#################### colbert ###########################"
   ]
  },
  {
   "cell_type": "code",
   "execution_count": null,
   "id": "345ecc3f-b89d-402a-a900-8761b1c7cd77",
   "metadata": {},
   "outputs": [],
   "source": [
    "# df = pd.read_csv('/nfs/datasets/cxj/retrievability-bias/categoried/rtrDf_79800_scored.csv')"
   ]
  },
  {
   "cell_type": "code",
   "execution_count": null,
   "id": "d52311d0-4988-410d-94e7-5484365c14b2",
   "metadata": {},
   "outputs": [],
   "source": [
    "# df.columns.to_list()"
   ]
  },
  {
   "cell_type": "code",
   "execution_count": null,
   "id": "0b5448c3-ca43-48b0-bc62-3ffb586ba6b4",
   "metadata": {},
   "outputs": [],
   "source": [
    "# df.head()"
   ]
  },
  {
   "cell_type": "code",
   "execution_count": null,
   "id": "baf0f3d4-0862-4351-96f1-0df41a30d9ea",
   "metadata": {},
   "outputs": [],
   "source": [
    "# print(df[df['rank'].isna()])"
   ]
  },
  {
   "cell_type": "code",
   "execution_count": null,
   "id": "6681758c-a994-44a0-93a8-f274eeaadae3",
   "metadata": {},
   "outputs": [],
   "source": [
    "# ddf['qid'] = ddf['qid'].map_partitions(\n",
    "#     pd.to_numeric, errors='coerce'\n",
    "# )\n",
    "# ddf = ddf.dropna(subset=['qid'])"
   ]
  },
  {
   "cell_type": "code",
   "execution_count": null,
   "id": "8d7f6734-dddc-4b4a-8cde-9374d1de8d01",
   "metadata": {},
   "outputs": [],
   "source": [
    "\n",
    "# ddf.index.name = \"new_index_name\""
   ]
  },
  {
   "cell_type": "code",
   "execution_count": null,
   "id": "caac4ac6-03fb-4016-919c-98592aab7eb1",
   "metadata": {},
   "outputs": [],
   "source": [
    "# print(ddf['index'].compute())"
   ]
  },
  {
   "cell_type": "code",
   "execution_count": null,
   "id": "37346a76-2e08-4825-bbd9-c563a27fd391",
   "metadata": {},
   "outputs": [],
   "source": [
    "# print(ddf.columns)"
   ]
  },
  {
   "cell_type": "code",
   "execution_count": null,
   "id": "f0ebc370-86ac-4bb5-a89e-3065eec21ac2",
   "metadata": {},
   "outputs": [],
   "source": [
    "# print(ddf.columns[1])"
   ]
  },
  {
   "cell_type": "code",
   "execution_count": 1,
   "id": "8e811cc6-5b4b-46e1-a975-25245b55aea4",
   "metadata": {},
   "outputs": [],
   "source": [
    "import dask.dataframe as dd\n",
    "\n",
    "#Load all CSV files\n",
    "ddf = dd.read_csv('/nfs/datasets/cxj/retrievability-bias/categoried/filtered/*.csv',usecols=['qid', 'docid','rank']).reset_index(drop=True)  # Load CSVs using a wildcard"
   ]
  },
  {
   "cell_type": "code",
   "execution_count": 2,
   "id": "620dde0c-b36d-48fa-8d50-3d262cebe978",
   "metadata": {},
   "outputs": [],
   "source": [
    "grouped = ddf.groupby('qid')"
   ]
  },
  {
   "cell_type": "code",
   "execution_count": 3,
   "id": "f80001d5-916a-4499-bc8d-79692c5a2d87",
   "metadata": {},
   "outputs": [],
   "source": [
    "def top_n_sorted_rows(df):\n",
    "    return df.sort_values(by='rank', ascending=True).head(10)"
   ]
  },
  {
   "cell_type": "code",
   "execution_count": 4,
   "id": "ab6a635d-a200-41bf-a915-988dc6fefbe2",
   "metadata": {},
   "outputs": [],
   "source": [
    "top_10_per_group = grouped.apply(top_n_sorted_rows, meta=ddf)"
   ]
  },
  {
   "cell_type": "code",
   "execution_count": 5,
   "id": "4638fe3e-439a-4c3c-b387-e449828540e7",
   "metadata": {},
   "outputs": [],
   "source": [
    "# group_counts = top_100_per_group.groupby('docid').size()"
   ]
  },
  {
   "cell_type": "code",
   "execution_count": 6,
   "id": "899397ec-c616-4efe-aea4-e78e487dc578",
   "metadata": {},
   "outputs": [],
   "source": [
    "final_result = top_10_per_group.compute()"
   ]
  },
  {
   "cell_type": "code",
   "execution_count": 8,
   "id": "38273822-aff2-40ad-bc9c-68d53d2f6e87",
   "metadata": {},
   "outputs": [],
   "source": [
    "final_result.to_csv('/nfs/datasets/cxj/retrievability-bias/result_colbert_10.csv',index=False)"
   ]
  },
  {
   "cell_type": "code",
   "execution_count": null,
   "id": "0f23e35b-482f-451d-9ae5-3d23d60c06f4",
   "metadata": {},
   "outputs": [],
   "source": [
    "# final_result[final_result['qid'] ==13021].head(101)\n"
   ]
  },
  {
   "cell_type": "code",
   "execution_count": null,
   "id": "22c10ac9-a992-4753-a259-7fc1f8612f4f",
   "metadata": {},
   "outputs": [],
   "source": []
  },
  {
   "cell_type": "code",
   "execution_count": null,
   "id": "23d05576-f49c-4dad-b9d6-4ba7bbf290f3",
   "metadata": {},
   "outputs": [],
   "source": []
  },
  {
   "cell_type": "code",
   "execution_count": null,
   "id": "d63ab6bf-834d-4129-b87d-ce8995e4036b",
   "metadata": {},
   "outputs": [],
   "source": []
  },
  {
   "cell_type": "code",
   "execution_count": null,
   "id": "065fa799-1a6f-4b80-87d0-5531be4c2409",
   "metadata": {},
   "outputs": [],
   "source": []
  },
  {
   "cell_type": "code",
   "execution_count": null,
   "id": "14dbcf69-d44b-46d9-9d9d-d9194003f77e",
   "metadata": {},
   "outputs": [],
   "source": []
  },
  {
   "cell_type": "code",
   "execution_count": null,
   "id": "82535c38-9773-408b-b70c-b1490ae0cfe6",
   "metadata": {},
   "outputs": [],
   "source": [
    "res2 = dd.from_pandas(pd.DataFrame(final_result), npartitions=1)"
   ]
  },
  {
   "cell_type": "code",
   "execution_count": null,
   "id": "328b8638-acdd-4052-9a2f-df880d7c7be0",
   "metadata": {},
   "outputs": [],
   "source": [
    "group_counts = final_result.groupby('docid').size()"
   ]
  },
  {
   "cell_type": "code",
   "execution_count": null,
   "id": "f801df91-07b3-4617-9fb0-1c056d6da7a8",
   "metadata": {},
   "outputs": [],
   "source": [
    "result = group_counts.compute()"
   ]
  },
  {
   "cell_type": "code",
   "execution_count": null,
   "id": "758f4c53-438b-4e80-a34c-6ecb36824863",
   "metadata": {},
   "outputs": [],
   "source": [
    "print()"
   ]
  },
  {
   "cell_type": "code",
   "execution_count": null,
   "id": "5693db9f-7bd1-45f4-9684-45132b679484",
   "metadata": {},
   "outputs": [],
   "source": [
    "# Step 2: Select the column of interest\n",
    "column = ddf['target_column']\n",
    "\n",
    "# Step 3: Compute the top 10 values\n",
    "top_10 = column.nlargest(10).compute()\n",
    "\n",
    "# Step 4: Display the results\n",
    "print(top_10)"
   ]
  },
  {
   "cell_type": "code",
   "execution_count": null,
   "id": "041f1dbe-f3bc-44ba-8937-8f992cc5447f",
   "metadata": {},
   "outputs": [],
   "source": [
    "df = pd.read_csv('/nfs/datasets/cxj/retrievability-bias/categoried/rtrDf_79800_scored.csv')\n",
    "\n",
    "import glob\n",
    "dir = '/nfs/datasets/cxj/retrievability-bias/categoried'\n",
    "for file in glob.glob('/nfs/datasets/cxj/retrievability-bias/categoried/rtrDf_79*.csv'):\n",
    "    name = file.split('/')[-1]\n",
    "    df = pd.read_csv(file)\n",
    "    df = df[['qid','docid','rank']]\n",
    "    df.to_csv(f'/nfs/datasets/cxj/retrievability-bias/categoried/filtered/{name}',index=False)\n",
    "    print(df.head(2))\n"
   ]
  },
  {
   "cell_type": "code",
   "execution_count": null,
   "id": "e5110469-a91d-4286-9979-472787eb621a",
   "metadata": {},
   "outputs": [],
   "source": []
  }
 ],
 "metadata": {
  "kernelspec": {
   "display_name": "Python [conda env:myenv]",
   "language": "python",
   "name": "conda-env-myenv-py"
  },
  "language_info": {
   "codemirror_mode": {
    "name": "ipython",
    "version": 3
   },
   "file_extension": ".py",
   "mimetype": "text/x-python",
   "name": "python",
   "nbconvert_exporter": "python",
   "pygments_lexer": "ipython3",
   "version": "3.7.16"
  }
 },
 "nbformat": 4,
 "nbformat_minor": 5
}
