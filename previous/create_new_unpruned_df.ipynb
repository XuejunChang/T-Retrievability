{
 "cells": [
  {
   "cell_type": "code",
   "execution_count": 3,
   "id": "d1adec62-8c18-4227-aafc-a1f7f9d64a20",
   "metadata": {},
   "outputs": [],
   "source": [
    "import warnings\n",
    "\n",
    "warnings.filterwarnings('ignore')\n",
    "\n",
    "import pyterrier as pt\n",
    "if not pt.started():\n",
    "    pt.init()\n",
    "\n",
    "from Lz4PickleCache import *\n",
    "import pandas as pd\n",
    "import os\n",
    "\n",
    "root_dir = f'/root/retrievability-bias/create_new_unpruned_df'\n",
    "nfs_dir = f'/nfs/resources/cxj/retrievability-bias'"
   ]
  },
  {
   "cell_type": "code",
   "execution_count": 4,
   "id": "35fb117c-a032-4411-8430-2a0a4bd20215",
   "metadata": {},
   "outputs": [
    {
     "name": "stdout",
     "output_type": "stream",
     "text": [
      "decompressing\n"
     ]
    },
    {
     "name": "stderr",
     "output_type": "stream",
     "text": [
      "8841823it [00:30, 291465.08it/s]\n"
     ]
    },
    {
     "name": "stdout",
     "output_type": "stream",
     "text": [
      "writing /nfs/resources/cxj/retrievability-bias/bm25/t5-base-msmarco-epoch-5_unprunned_df_new.csv\n",
      "done\n"
     ]
    }
   ],
   "source": [
    "modelname = 't5-base-msmarco-epoch-5'\n",
    "root_file_name = f'{root_dir}/{modelname}.lz4'\n",
    "if not os.path.exists(root_file_name):\n",
    "    os.system(f'cp /nfs/resources/cxj/retrievability-bias/supervisedT5/{modelname}.lz4 {root_dir}/')\n",
    "cache_file = Lz4PickleCache(f'{root_dir}/{modelname}.lz4')\n",
    "\n",
    "print('decompressing')\n",
    "res_df = pd.DataFrame(pt.tqdm(cache_file.get_corpus_iter()))\n",
    "csv =f'{nfs_dir}/bm25/{modelname}_unprunned_df_new.csv'\n",
    "print(f'writing {csv}')\n",
    "res_df.to_csv(csv,index=False)\n",
    "print('done')"
   ]
  },
  {
   "cell_type": "code",
   "execution_count": 5,
   "id": "4d39302e-d95b-4a6e-9e1f-430448b544a1",
   "metadata": {},
   "outputs": [],
   "source": [
    "old_csv =f'{nfs_dir}/bm25/{modelname}_unprunned_df.csv'\n",
    "old_df = pd.read_csv(old_csv, index_col=0).reset_index()"
   ]
  },
  {
   "cell_type": "code",
   "execution_count": 6,
   "id": "ad554ea1-5059-4249-ae63-f8b11175f771",
   "metadata": {},
   "outputs": [],
   "source": [
    "new_csv =f'{nfs_dir}/bm25/{modelname}_unprunned_df_new.csv'\n",
    "new_df = pd.read_csv(new_csv, index_col=0).reset_index()"
   ]
  },
  {
   "cell_type": "code",
   "execution_count": 7,
   "id": "8b163e8f-fa18-4cb6-80d8-8e80d145775c",
   "metadata": {},
   "outputs": [
    {
     "data": {
      "text/html": [
       "<div>\n",
       "<style scoped>\n",
       "    .dataframe tbody tr th:only-of-type {\n",
       "        vertical-align: middle;\n",
       "    }\n",
       "\n",
       "    .dataframe tbody tr th {\n",
       "        vertical-align: top;\n",
       "    }\n",
       "\n",
       "    .dataframe thead th {\n",
       "        text-align: right;\n",
       "    }\n",
       "</style>\n",
       "<table border=\"1\" class=\"dataframe\">\n",
       "  <thead>\n",
       "    <tr style=\"text-align: right;\">\n",
       "      <th></th>\n",
       "      <th>text</th>\n",
       "      <th>docno</th>\n",
       "      <th>prob</th>\n",
       "    </tr>\n",
       "  </thead>\n",
       "  <tbody>\n",
       "    <tr>\n",
       "      <th>0</th>\n",
       "      <td>The presence of communication amid scientific ...</td>\n",
       "      <td>0</td>\n",
       "      <td>-0.879402</td>\n",
       "    </tr>\n",
       "    <tr>\n",
       "      <th>1</th>\n",
       "      <td>The Manhattan Project and its atomic bomb help...</td>\n",
       "      <td>1</td>\n",
       "      <td>-0.876912</td>\n",
       "    </tr>\n",
       "    <tr>\n",
       "      <th>2</th>\n",
       "      <td>Essay on The Manhattan Project - The Manhattan...</td>\n",
       "      <td>2</td>\n",
       "      <td>-0.757892</td>\n",
       "    </tr>\n",
       "    <tr>\n",
       "      <th>3</th>\n",
       "      <td>The Manhattan Project was the name for a proje...</td>\n",
       "      <td>3</td>\n",
       "      <td>-0.271046</td>\n",
       "    </tr>\n",
       "    <tr>\n",
       "      <th>4</th>\n",
       "      <td>versions of each volume as well as complementa...</td>\n",
       "      <td>4</td>\n",
       "      <td>-0.941648</td>\n",
       "    </tr>\n",
       "  </tbody>\n",
       "</table>\n",
       "</div>"
      ],
      "text/plain": [
       "                                                text  docno      prob\n",
       "0  The presence of communication amid scientific ...      0 -0.879402\n",
       "1  The Manhattan Project and its atomic bomb help...      1 -0.876912\n",
       "2  Essay on The Manhattan Project - The Manhattan...      2 -0.757892\n",
       "3  The Manhattan Project was the name for a proje...      3 -0.271046\n",
       "4  versions of each volume as well as complementa...      4 -0.941648"
      ]
     },
     "execution_count": 7,
     "metadata": {},
     "output_type": "execute_result"
    }
   ],
   "source": [
    "old_df.head()"
   ]
  },
  {
   "cell_type": "code",
   "execution_count": 8,
   "id": "ca854922-4747-4bf7-971d-0920ea44539d",
   "metadata": {},
   "outputs": [
    {
     "data": {
      "text/html": [
       "<div>\n",
       "<style scoped>\n",
       "    .dataframe tbody tr th:only-of-type {\n",
       "        vertical-align: middle;\n",
       "    }\n",
       "\n",
       "    .dataframe tbody tr th {\n",
       "        vertical-align: top;\n",
       "    }\n",
       "\n",
       "    .dataframe thead th {\n",
       "        text-align: right;\n",
       "    }\n",
       "</style>\n",
       "<table border=\"1\" class=\"dataframe\">\n",
       "  <thead>\n",
       "    <tr style=\"text-align: right;\">\n",
       "      <th></th>\n",
       "      <th>text</th>\n",
       "      <th>docno</th>\n",
       "      <th>prob</th>\n",
       "    </tr>\n",
       "  </thead>\n",
       "  <tbody>\n",
       "    <tr>\n",
       "      <th>0</th>\n",
       "      <td>The presence of communication amid scientific ...</td>\n",
       "      <td>0</td>\n",
       "      <td>-0.879402</td>\n",
       "    </tr>\n",
       "    <tr>\n",
       "      <th>1</th>\n",
       "      <td>The Manhattan Project and its atomic bomb help...</td>\n",
       "      <td>1</td>\n",
       "      <td>-0.876913</td>\n",
       "    </tr>\n",
       "    <tr>\n",
       "      <th>2</th>\n",
       "      <td>Essay on The Manhattan Project - The Manhattan...</td>\n",
       "      <td>2</td>\n",
       "      <td>-0.757893</td>\n",
       "    </tr>\n",
       "    <tr>\n",
       "      <th>3</th>\n",
       "      <td>The Manhattan Project was the name for a proje...</td>\n",
       "      <td>3</td>\n",
       "      <td>-0.271046</td>\n",
       "    </tr>\n",
       "    <tr>\n",
       "      <th>4</th>\n",
       "      <td>versions of each volume as well as complementa...</td>\n",
       "      <td>4</td>\n",
       "      <td>-0.941648</td>\n",
       "    </tr>\n",
       "  </tbody>\n",
       "</table>\n",
       "</div>"
      ],
      "text/plain": [
       "                                                text  docno      prob\n",
       "0  The presence of communication amid scientific ...      0 -0.879402\n",
       "1  The Manhattan Project and its atomic bomb help...      1 -0.876913\n",
       "2  Essay on The Manhattan Project - The Manhattan...      2 -0.757893\n",
       "3  The Manhattan Project was the name for a proje...      3 -0.271046\n",
       "4  versions of each volume as well as complementa...      4 -0.941648"
      ]
     },
     "execution_count": 8,
     "metadata": {},
     "output_type": "execute_result"
    }
   ],
   "source": [
    "new_df.head()"
   ]
  },
  {
   "cell_type": "code",
   "execution_count": null,
   "id": "455e1bff-450d-4fda-9a32-6ce5d6bb310c",
   "metadata": {},
   "outputs": [],
   "source": []
  }
 ],
 "metadata": {
  "kernelspec": {
   "display_name": "Python [conda env:py3.9.12]",
   "language": "python",
   "name": "conda-env-py3.9.12-py"
  },
  "language_info": {
   "codemirror_mode": {
    "name": "ipython",
    "version": 3
   },
   "file_extension": ".py",
   "mimetype": "text/x-python",
   "name": "python",
   "nbconvert_exporter": "python",
   "pygments_lexer": "ipython3",
   "version": "3.9.21"
  }
 },
 "nbformat": 4,
 "nbformat_minor": 5
}
