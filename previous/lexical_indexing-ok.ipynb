{
 "cells": [
  {
   "cell_type": "code",
   "execution_count": 1,
   "id": "ebfc404f-f2d4-4dfe-8fe0-005cbf4c296c",
   "metadata": {},
   "outputs": [
    {
     "name": "stderr",
     "output_type": "stream",
     "text": [
      "Java started and loaded: pyterrier.java, pyterrier.terrier.java [version=5.10 (build: craigm 2024-08-22 17:33), helper_version=0.0.8]\n",
      "/tmp/ipykernel_66997/163800797.py:6: DeprecationWarning: Call to deprecated method pt.init(). Deprecated since version 0.11.0.\n",
      "java is now started automatically with default settings. To force initialisation early, run:\n",
      "pt.java.init() # optional, forces java initialisation\n",
      "  pt.init()\n"
     ]
    }
   ],
   "source": [
    "import warnings\n",
    "warnings.filterwarnings('ignore')\n",
    "import pyterrier as pt\n",
    "\n",
    "if not pt.started():\n",
    "    pt.init()\n",
    "\n",
    "import os\n",
    "import pandas as pd\n",
    "pd.set_option('display.max_columns', None)\n",
    "pd.set_option('display.max_rows', None)\n",
    "pd.set_option('display.max_colwidth', False)\n",
    "\n",
    "import pyt_splade\n",
    "splade = pyt_splade.Splade()\n",
    "\n",
    "dataset_name = 'msmarco-passage'\n",
    "eval_ds_name = 'dev'\n",
    "dataset = pt.get_dataset(f'irds:{dataset_name}')\n",
    "eval_dataset = pt.get_dataset(f'irds:{dataset_name}/{eval_ds_name}')\n",
    "topics = eval_dataset.get_topics()\n",
    "qrels = eval_dataset.get_qrels()"
   ]
  },
  {
   "cell_type": "code",
   "execution_count": 2,
   "id": "5cf8be5c-a924-4574-a20d-d19f194b04a5",
   "metadata": {},
   "outputs": [
    {
     "name": "stderr",
     "output_type": "stream",
     "text": [
      "msmarco-passage documents: 100%|██████████| 8841823/8841823 [01:32<00:00, 95101.59it/s] \n"
     ]
    }
   ],
   "source": [
    "dataset_df = pd.DataFrame(dataset.get_corpus_iter(verbose=True))"
   ]
  },
  {
   "cell_type": "code",
   "execution_count": 4,
   "id": "a17fdc21-54af-4420-9a11-0d74e913dccc",
   "metadata": {},
   "outputs": [],
   "source": [
    "import numpy as np\n",
    "dataset_df['rtr_score'] = np.zeros(dataset_df.shape[0])"
   ]
  },
  {
   "cell_type": "code",
   "execution_count": 5,
   "id": "f907a9d5-2879-4968-8b68-1dad8d89b14e",
   "metadata": {},
   "outputs": [],
   "source": [
    "dataset_df['docid'] = dataset_df['docno'].astype(int)"
   ]
  },
  {
   "cell_type": "code",
   "execution_count": 6,
   "id": "a3e1051b-cd24-443d-84f1-e5df132db29e",
   "metadata": {},
   "outputs": [
    {
     "data": {
      "text/plain": [
       "text         object \n",
       "docno        object \n",
       "rtr_score    float64\n",
       "docid        int64  \n",
       "dtype: object"
      ]
     },
     "execution_count": 6,
     "metadata": {},
     "output_type": "execute_result"
    }
   ],
   "source": [
    "dataset_df.dtypes"
   ]
  },
  {
   "cell_type": "code",
   "execution_count": 7,
   "id": "e1f6135d-559c-4d24-85ec-374da67fefa1",
   "metadata": {},
   "outputs": [],
   "source": [
    "#################### bm25 ###########################"
   ]
  },
  {
   "cell_type": "code",
   "execution_count": 8,
   "id": "8d2d5918-38e9-4953-b255-e88b11a28edd",
   "metadata": {},
   "outputs": [],
   "source": [
    "bm25 = pd.read_csv('/nfs/primary/retrievability-bias/results_bm25.csv')"
   ]
  },
  {
   "cell_type": "code",
   "execution_count": 9,
   "id": "534287bf-e7f8-468c-bc80-128fa1c85df6",
   "metadata": {},
   "outputs": [],
   "source": [
    "bm25 = bm25.groupby(['docid'])['docid'].count()\n",
    "bm25 = bm25.to_frame('rtr_cnt').reset_index()\n",
    "bm25 = bm25.sort_values(by='rtr_cnt')\n",
    "total = bm25['rtr_cnt'].sum()"
   ]
  },
  {
   "cell_type": "code",
   "execution_count": 10,
   "id": "81c3fe5f-3e19-490c-955f-c0dbe394cbd3",
   "metadata": {},
   "outputs": [
    {
     "data": {
      "text/plain": [
       "['docid', 'rtr_cnt']"
      ]
     },
     "execution_count": 10,
     "metadata": {},
     "output_type": "execute_result"
    }
   ],
   "source": [
    "bm25.columns.to_list()"
   ]
  },
  {
   "cell_type": "code",
   "execution_count": 11,
   "id": "ac62c4cd-5de9-45af-b4d9-cc597fd313a4",
   "metadata": {},
   "outputs": [
    {
     "data": {
      "text/html": [
       "<div>\n",
       "<style scoped>\n",
       "    .dataframe tbody tr th:only-of-type {\n",
       "        vertical-align: middle;\n",
       "    }\n",
       "\n",
       "    .dataframe tbody tr th {\n",
       "        vertical-align: top;\n",
       "    }\n",
       "\n",
       "    .dataframe thead th {\n",
       "        text-align: right;\n",
       "    }\n",
       "</style>\n",
       "<table border=\"1\" class=\"dataframe\">\n",
       "  <thead>\n",
       "    <tr style=\"text-align: right;\">\n",
       "      <th></th>\n",
       "      <th>docid</th>\n",
       "      <th>rtr_cnt</th>\n",
       "    </tr>\n",
       "  </thead>\n",
       "  <tbody>\n",
       "    <tr>\n",
       "      <th>401666</th>\n",
       "      <td>5427959</td>\n",
       "      <td>1</td>\n",
       "    </tr>\n",
       "    <tr>\n",
       "      <th>514424</th>\n",
       "      <td>6934980</td>\n",
       "      <td>1</td>\n",
       "    </tr>\n",
       "    <tr>\n",
       "      <th>514425</th>\n",
       "      <td>6934982</td>\n",
       "      <td>1</td>\n",
       "    </tr>\n",
       "    <tr>\n",
       "      <th>514426</th>\n",
       "      <td>6934984</td>\n",
       "      <td>1</td>\n",
       "    </tr>\n",
       "    <tr>\n",
       "      <th>514427</th>\n",
       "      <td>6934985</td>\n",
       "      <td>1</td>\n",
       "    </tr>\n",
       "    <tr>\n",
       "      <th>514428</th>\n",
       "      <td>6934987</td>\n",
       "      <td>1</td>\n",
       "    </tr>\n",
       "    <tr>\n",
       "      <th>514429</th>\n",
       "      <td>6934988</td>\n",
       "      <td>1</td>\n",
       "    </tr>\n",
       "    <tr>\n",
       "      <th>514430</th>\n",
       "      <td>6934991</td>\n",
       "      <td>1</td>\n",
       "    </tr>\n",
       "    <tr>\n",
       "      <th>514431</th>\n",
       "      <td>6935015</td>\n",
       "      <td>1</td>\n",
       "    </tr>\n",
       "    <tr>\n",
       "      <th>514423</th>\n",
       "      <td>6934978</td>\n",
       "      <td>1</td>\n",
       "    </tr>\n",
       "  </tbody>\n",
       "</table>\n",
       "</div>"
      ],
      "text/plain": [
       "          docid  rtr_cnt\n",
       "401666  5427959  1      \n",
       "514424  6934980  1      \n",
       "514425  6934982  1      \n",
       "514426  6934984  1      \n",
       "514427  6934985  1      \n",
       "514428  6934987  1      \n",
       "514429  6934988  1      \n",
       "514430  6934991  1      \n",
       "514431  6935015  1      \n",
       "514423  6934978  1      "
      ]
     },
     "execution_count": 11,
     "metadata": {},
     "output_type": "execute_result"
    }
   ],
   "source": [
    "bm25.head(10)"
   ]
  },
  {
   "cell_type": "code",
   "execution_count": 12,
   "id": "4826a992-cc64-4532-bdc8-b9237d4dac2e",
   "metadata": {},
   "outputs": [],
   "source": [
    "# bm25.index.name = 'no'\n",
    "# bm25 = bm25.rename(columns = {'docid':'count'})"
   ]
  },
  {
   "cell_type": "code",
   "execution_count": 13,
   "id": "ef63dee8-aea5-4dd4-a335-8b09a4b50675",
   "metadata": {},
   "outputs": [],
   "source": [
    "bm25['rtr_score'] = bm25['rtr_cnt']/total # normalisation"
   ]
  },
  {
   "cell_type": "code",
   "execution_count": 14,
   "id": "a1c1a900-b66c-44bc-8225-4f7bfef379d6",
   "metadata": {},
   "outputs": [
    {
     "data": {
      "text/html": [
       "<div>\n",
       "<style scoped>\n",
       "    .dataframe tbody tr th:only-of-type {\n",
       "        vertical-align: middle;\n",
       "    }\n",
       "\n",
       "    .dataframe tbody tr th {\n",
       "        vertical-align: top;\n",
       "    }\n",
       "\n",
       "    .dataframe thead th {\n",
       "        text-align: right;\n",
       "    }\n",
       "</style>\n",
       "<table border=\"1\" class=\"dataframe\">\n",
       "  <thead>\n",
       "    <tr style=\"text-align: right;\">\n",
       "      <th></th>\n",
       "      <th>docid</th>\n",
       "      <th>rtr_cnt</th>\n",
       "      <th>rtr_score</th>\n",
       "    </tr>\n",
       "  </thead>\n",
       "  <tbody>\n",
       "    <tr>\n",
       "      <th>543262</th>\n",
       "      <td>7137907</td>\n",
       "      <td>213</td>\n",
       "      <td>0.000211</td>\n",
       "    </tr>\n",
       "    <tr>\n",
       "      <th>230962</th>\n",
       "      <td>3058085</td>\n",
       "      <td>325</td>\n",
       "      <td>0.000321</td>\n",
       "    </tr>\n",
       "    <tr>\n",
       "      <th>88159</th>\n",
       "      <td>1149020</td>\n",
       "      <td>358</td>\n",
       "      <td>0.000354</td>\n",
       "    </tr>\n",
       "    <tr>\n",
       "      <th>515529</th>\n",
       "      <td>6949099</td>\n",
       "      <td>372</td>\n",
       "      <td>0.000368</td>\n",
       "    </tr>\n",
       "    <tr>\n",
       "      <th>543416</th>\n",
       "      <td>7138532</td>\n",
       "      <td>501</td>\n",
       "      <td>0.000496</td>\n",
       "    </tr>\n",
       "    <tr>\n",
       "      <th>35579</th>\n",
       "      <td>462225</td>\n",
       "      <td>613</td>\n",
       "      <td>0.000606</td>\n",
       "    </tr>\n",
       "    <tr>\n",
       "      <th>113041</th>\n",
       "      <td>1474877</td>\n",
       "      <td>820</td>\n",
       "      <td>0.000811</td>\n",
       "    </tr>\n",
       "    <tr>\n",
       "      <th>12804</th>\n",
       "      <td>169073</td>\n",
       "      <td>874</td>\n",
       "      <td>0.000865</td>\n",
       "    </tr>\n",
       "    <tr>\n",
       "      <th>151878</th>\n",
       "      <td>1985345</td>\n",
       "      <td>1119</td>\n",
       "      <td>0.001107</td>\n",
       "    </tr>\n",
       "    <tr>\n",
       "      <th>516221</th>\n",
       "      <td>6958226</td>\n",
       "      <td>1294</td>\n",
       "      <td>0.001280</td>\n",
       "    </tr>\n",
       "  </tbody>\n",
       "</table>\n",
       "</div>"
      ],
      "text/plain": [
       "          docid  rtr_cnt  rtr_score\n",
       "543262  7137907  213      0.000211 \n",
       "230962  3058085  325      0.000321 \n",
       "88159   1149020  358      0.000354 \n",
       "515529  6949099  372      0.000368 \n",
       "543416  7138532  501      0.000496 \n",
       "35579   462225   613      0.000606 \n",
       "113041  1474877  820      0.000811 \n",
       "12804   169073   874      0.000865 \n",
       "151878  1985345  1119     0.001107 \n",
       "516221  6958226  1294     0.001280 "
      ]
     },
     "execution_count": 14,
     "metadata": {},
     "output_type": "execute_result"
    }
   ],
   "source": [
    "bm25.tail(10)"
   ]
  },
  {
   "cell_type": "code",
   "execution_count": 15,
   "id": "2d7cf600-0b9a-42fb-9344-619662c7035d",
   "metadata": {},
   "outputs": [],
   "source": [
    "def set_score(df,row):\n",
    "    docid = row['docid'] # int.64 to str\n",
    "    rtr_score = row['rtr_score']\n",
    "    # print(row.name)\n",
    "    df.loc[docid,'rtr_score'] = rtr_score"
   ]
  },
  {
   "cell_type": "code",
   "execution_count": 16,
   "id": "2d75bb63-835b-4b70-b1f6-bd87e8dd5969",
   "metadata": {},
   "outputs": [],
   "source": [
    "dataset_bm25 = dataset_df.copy()\n",
    "for _, row in bm25.iterrows():\n",
    "    set_score(dataset_bm25, row)"
   ]
  },
  {
   "cell_type": "code",
   "execution_count": 17,
   "id": "3101c20f-ba88-4ded-87fb-7d1b743d962d",
   "metadata": {},
   "outputs": [
    {
     "data": {
      "text/html": [
       "<div>\n",
       "<style scoped>\n",
       "    .dataframe tbody tr th:only-of-type {\n",
       "        vertical-align: middle;\n",
       "    }\n",
       "\n",
       "    .dataframe tbody tr th {\n",
       "        vertical-align: top;\n",
       "    }\n",
       "\n",
       "    .dataframe thead th {\n",
       "        text-align: right;\n",
       "    }\n",
       "</style>\n",
       "<table border=\"1\" class=\"dataframe\">\n",
       "  <thead>\n",
       "    <tr style=\"text-align: right;\">\n",
       "      <th></th>\n",
       "      <th>text</th>\n",
       "      <th>docno</th>\n",
       "      <th>rtr_score</th>\n",
       "      <th>docid</th>\n",
       "    </tr>\n",
       "  </thead>\n",
       "  <tbody>\n",
       "    <tr>\n",
       "      <th>2</th>\n",
       "      <td>Essay on The Manhattan Project - The Manhattan Project The Manhattan Project was to see if making an atomic bomb possible. The success of this project would forever change the world forever making it known that something this powerful can be manmade.</td>\n",
       "      <td>2</td>\n",
       "      <td>1.978402e-06</td>\n",
       "      <td>2</td>\n",
       "    </tr>\n",
       "    <tr>\n",
       "      <th>4</th>\n",
       "      <td>versions of each volume as well as complementary websites. The first website–The Manhattan Project: An Interactive History–is available on the Office of History and Heritage Resources website, http://www.cfo. doe.gov/me70/history. The Office of History and Heritage Resources and the National Nuclear Security</td>\n",
       "      <td>4</td>\n",
       "      <td>9.892009e-07</td>\n",
       "      <td>4</td>\n",
       "    </tr>\n",
       "    <tr>\n",
       "      <th>63</th>\n",
       "      <td>Hepatitis B and C, alcoholism, hemochromatosis, and primary biliary cirrhosis -- all causes of cirrhosis -- are some of the major risk factors for liver cancer. Cirrhosis due to hepatitis C is the leading cause of hepatocellular carcinoma in the United States.rimary Biliary Cirrhosis. Up to 95% of primary biliary cirrhosis (PBC) cases occur in women, usually around age 50. In people with PBC, the immune system attacks and destroys cells in the liver’s bile ducts. Like many autoimmune disorders, the causes of PBC are unknown.</td>\n",
       "      <td>63</td>\n",
       "      <td>9.892009e-07</td>\n",
       "      <td>63</td>\n",
       "    </tr>\n",
       "    <tr>\n",
       "      <th>68</th>\n",
       "      <td>Primary Biliary Cirrhosis. Up to 95% of primary biliary cirrhosis (PBC) cases occur in women, usually around age 50. In people with PBC, the immune system attacks and destroys cells in the liver’s bile ducts. Like many autoimmune disorders, the causes of PBC are unknown.rimary Biliary Cirrhosis. Up to 95% of primary biliary cirrhosis (PBC) cases occur in women, usually around age 50. In people with PBC, the immune system attacks and destroys cells in the liver’s bile ducts. Like many autoimmune disorders, the causes of PBC are unknown.</td>\n",
       "      <td>68</td>\n",
       "      <td>1.978402e-06</td>\n",
       "      <td>68</td>\n",
       "    </tr>\n",
       "    <tr>\n",
       "      <th>73</th>\n",
       "      <td>The grape harvest was usually completed before Tabernacles, but most of the olive harvest came after the autumn festivals. In ancient Israel the primary harvest season extended from April to November. This harvest period might be subdivided into three seasons and three major crops: the spring grain harvest, the summer grape harvest and the autumn olive harvest.</td>\n",
       "      <td>73</td>\n",
       "      <td>9.892009e-07</td>\n",
       "      <td>73</td>\n",
       "    </tr>\n",
       "    <tr>\n",
       "      <th>78</th>\n",
       "      <td>Pentecost, near the end of the grain harvest, included grain and loaf offerings (verses 16-17). Pentecost was also called “the Feast of Harvest” (Exodus 23:16). Barley and wheat were planted in the autumn and ripened in spring. Barley matured faster and would be harvested sooner. The firstfruits of grain offered during the Festival of Unleavened Bread would have been barley.</td>\n",
       "      <td>78</td>\n",
       "      <td>9.892009e-07</td>\n",
       "      <td>78</td>\n",
       "    </tr>\n",
       "    <tr>\n",
       "      <th>81</th>\n",
       "      <td>What organs are on your left side of body. Causes of Pain under Left Rib Cage. Here are just some of the possible reasons why you may be feeling pain under your left rib cage: Gas Stuck in the Colon – There is a chance that you have gas stuck in your colon. The amount of gas that is stuck may be excessive.</td>\n",
       "      <td>81</td>\n",
       "      <td>9.892009e-07</td>\n",
       "      <td>81</td>\n",
       "    </tr>\n",
       "    <tr>\n",
       "      <th>89</th>\n",
       "      <td>1 COMMERCIAL CONCRETE. Since 1981, Wheeler Services, Inc has handled commercial concrete projects such as Medical offices, Auto plants, Commercial buildings, Retail buildings, Colleges, Manufacturing Plants, Restaurants, Churches, Our areas of service include Georgia, Alabama, North Carolina and South Carolina.</td>\n",
       "      <td>89</td>\n",
       "      <td>9.892009e-07</td>\n",
       "      <td>89</td>\n",
       "    </tr>\n",
       "    <tr>\n",
       "      <th>90</th>\n",
       "      <td>Lendmark Financial Services, LLC Steve was named Chief Credit Officer of Lendmark Financial Services, LLC in January 2016. In his current role, Steve oversees the credit philosophy and manages both the short and long-term credit strategy for Lendmark.</td>\n",
       "      <td>90</td>\n",
       "      <td>9.892009e-07</td>\n",
       "      <td>90</td>\n",
       "    </tr>\n",
       "    <tr>\n",
       "      <th>121</th>\n",
       "      <td>Condo Old Montreal - Compare all new condominiums for sale in Old Montreal, Island of Montreal. Vieux-Montral, Montral, QC, Canada.</td>\n",
       "      <td>121</td>\n",
       "      <td>9.892009e-07</td>\n",
       "      <td>121</td>\n",
       "    </tr>\n",
       "  </tbody>\n",
       "</table>\n",
       "</div>"
      ],
      "text/plain": [
       "                                                                                                                                                                                                                                                                                                                                                                                                                                                                                                                                                              text  \\\n",
       "2    Essay on The Manhattan Project - The Manhattan Project The Manhattan Project was to see if making an atomic bomb possible. The success of this project would forever change the world forever making it known that something this powerful can be manmade.                                                                                                                                                                                                                                                                                                      \n",
       "4    versions of each volume as well as complementary websites. The first website–The Manhattan Project: An Interactive History–is available on the Office of History and Heritage Resources website, http://www.cfo. doe.gov/me70/history. The Office of History and Heritage Resources and the National Nuclear Security                                                                                                                                                                                                                                           \n",
       "63   Hepatitis B and C, alcoholism, hemochromatosis, and primary biliary cirrhosis -- all causes of cirrhosis -- are some of the major risk factors for liver cancer. Cirrhosis due to hepatitis C is the leading cause of hepatocellular carcinoma in the United States.rimary Biliary Cirrhosis. Up to 95% of primary biliary cirrhosis (PBC) cases occur in women, usually around age 50. In people with PBC, the immune system attacks and destroys cells in the liver’s bile ducts. Like many autoimmune disorders, the causes of PBC are unknown.              \n",
       "68   Primary Biliary Cirrhosis. Up to 95% of primary biliary cirrhosis (PBC) cases occur in women, usually around age 50. In people with PBC, the immune system attacks and destroys cells in the liver’s bile ducts. Like many autoimmune disorders, the causes of PBC are unknown.rimary Biliary Cirrhosis. Up to 95% of primary biliary cirrhosis (PBC) cases occur in women, usually around age 50. In people with PBC, the immune system attacks and destroys cells in the liver’s bile ducts. Like many autoimmune disorders, the causes of PBC are unknown.   \n",
       "73   The grape harvest was usually completed before Tabernacles, but most of the olive harvest came after the autumn festivals. In ancient Israel the primary harvest season extended from April to November. This harvest period might be subdivided into three seasons and three major crops: the spring grain harvest, the summer grape harvest and the autumn olive harvest.                                                                                                                                                                                     \n",
       "78   Pentecost, near the end of the grain harvest, included grain and loaf offerings (verses 16-17). Pentecost was also called “the Feast of Harvest” (Exodus 23:16). Barley and wheat were planted in the autumn and ripened in spring. Barley matured faster and would be harvested sooner. The firstfruits of grain offered during the Festival of Unleavened Bread would have been barley.                                                                                                                                                                       \n",
       "81   What organs are on your left side of body. Causes of Pain under Left Rib Cage. Here are just some of the possible reasons why you may be feeling pain under your left rib cage: Gas Stuck in the Colon – There is a chance that you have gas stuck in your colon. The amount of gas that is stuck may be excessive.                                                                                                                                                                                                                                             \n",
       "89   1 COMMERCIAL CONCRETE. Since 1981, Wheeler Services, Inc has handled commercial concrete projects such as Medical offices, Auto plants, Commercial buildings, Retail buildings, Colleges, Manufacturing Plants, Restaurants, Churches, Our areas of service include Georgia, Alabama, North Carolina and South Carolina.                                                                                                                                                                                                                                        \n",
       "90   Lendmark Financial Services, LLC Steve was named Chief Credit Officer of Lendmark Financial Services, LLC in January 2016. In his current role, Steve oversees the credit philosophy and manages both the short and long-term credit strategy for Lendmark.                                                                                                                                                                                                                                                                                                     \n",
       "121  Condo Old Montreal - Compare all new condominiums for sale in Old Montreal, Island of Montreal. Vieux-Montral, Montral, QC, Canada.                                                                                                                                                                                                                                                                                                                                                                                                                             \n",
       "\n",
       "    docno     rtr_score  docid  \n",
       "2    2     1.978402e-06  2      \n",
       "4    4     9.892009e-07  4      \n",
       "63   63    9.892009e-07  63     \n",
       "68   68    1.978402e-06  68     \n",
       "73   73    9.892009e-07  73     \n",
       "78   78    9.892009e-07  78     \n",
       "81   81    9.892009e-07  81     \n",
       "89   89    9.892009e-07  89     \n",
       "90   90    9.892009e-07  90     \n",
       "121  121   9.892009e-07  121    "
      ]
     },
     "execution_count": 17,
     "metadata": {},
     "output_type": "execute_result"
    }
   ],
   "source": [
    "dataset_bm25[dataset_bm25['rtr_score'] > 0].head(10)"
   ]
  },
  {
   "cell_type": "code",
   "execution_count": 18,
   "id": "2db77820-863b-47a7-ba0b-f2ac36d2dc47",
   "metadata": {},
   "outputs": [],
   "source": [
    "####################### bm25 >> monot5 ###############################"
   ]
  },
  {
   "cell_type": "code",
   "execution_count": 19,
   "id": "5c82d9fc-6413-409b-85cb-04de9f2bab14",
   "metadata": {},
   "outputs": [],
   "source": [
    "monot5 = pd.read_csv('/nfs/primary/retrievability-bias/results_bm25_monot5_r100.csv',) # 100 docs retrieved for each query."
   ]
  },
  {
   "cell_type": "code",
   "execution_count": 75,
   "id": "96d695e8-a36d-4b41-ad05-69ef99405d34",
   "metadata": {},
   "outputs": [
    {
     "data": {
      "text/plain": [
       "(4351500, 3)"
      ]
     },
     "execution_count": 75,
     "metadata": {},
     "output_type": "execute_result"
    }
   ],
   "source": [
    "monot5.shape"
   ]
  },
  {
   "cell_type": "code",
   "execution_count": 21,
   "id": "4837a9a5-08bf-40de-82ec-47c977ae7cec",
   "metadata": {
    "scrolled": true
   },
   "outputs": [],
   "source": [
    "monot5 = monot5.sort_values(by=['docid','rank'], ascending=[True, True])"
   ]
  },
  {
   "cell_type": "code",
   "execution_count": 22,
   "id": "078bbb7f-150e-47e2-9cdf-c54b01e7f46d",
   "metadata": {},
   "outputs": [],
   "source": [
    "monot5 = monot5.groupby(['docid']).head(10)"
   ]
  },
  {
   "cell_type": "code",
   "execution_count": 23,
   "id": "12f82164-765b-4c18-a73f-1b182eff136f",
   "metadata": {},
   "outputs": [
    {
     "data": {
      "text/plain": [
       "(9216924, 8)"
      ]
     },
     "execution_count": 23,
     "metadata": {},
     "output_type": "execute_result"
    }
   ],
   "source": [
    "monot5.shape"
   ]
  },
  {
   "cell_type": "code",
   "execution_count": 24,
   "id": "f36fd193-5d30-41e2-8821-68e70e1d27cb",
   "metadata": {},
   "outputs": [],
   "source": [
    "monot5 = monot5.groupby(['docid'])['docid'].count()\n",
    "monot5 = monot5.to_frame('rtr_cnt').reset_index()\n",
    "monot5 = monot5.sort_values(by='rtr_cnt')\n",
    "total = monot5['rtr_cnt'].sum()\n",
    "monot5['rtr_score'] = monot5['rtr_cnt']/total # normalisation\n"
   ]
  },
  {
   "cell_type": "code",
   "execution_count": 25,
   "id": "0e56751b-514b-47a2-8c1b-930c4edaacd1",
   "metadata": {},
   "outputs": [],
   "source": [
    "dataset_monot5 = dataset_df.copy()\n",
    "for _, row in monot5.iterrows():\n",
    "    set_score(dataset_monot5, row)"
   ]
  },
  {
   "cell_type": "code",
   "execution_count": 26,
   "id": "ff89bbc6-b5cb-4f31-871c-9a23703f60b6",
   "metadata": {},
   "outputs": [
    {
     "data": {
      "text/plain": [
       "(4351500, 4)"
      ]
     },
     "execution_count": 26,
     "metadata": {},
     "output_type": "execute_result"
    }
   ],
   "source": [
    "dataset_monot5[dataset_monot5['rtr_score'] > 0].shape"
   ]
  },
  {
   "cell_type": "code",
   "execution_count": 27,
   "id": "920f3376-4759-4962-ac08-689ac629ebd2",
   "metadata": {},
   "outputs": [],
   "source": [
    "################ splade  ##################################"
   ]
  },
  {
   "cell_type": "code",
   "execution_count": 28,
   "id": "2c060776-2461-407f-a40d-9536b35c16db",
   "metadata": {},
   "outputs": [],
   "source": [
    "splade = pd.read_csv('/nfs/primary/retrievability-bias/results_splade.csv',) # 100 docs retrieved for each query."
   ]
  },
  {
   "cell_type": "code",
   "execution_count": 29,
   "id": "90aa3f2c-6039-486a-8bf1-43bb0e9666fe",
   "metadata": {},
   "outputs": [
    {
     "data": {
      "text/plain": [
       "['Unnamed: 0',\n",
       " 'qid',\n",
       " 'docid',\n",
       " 'docno',\n",
       " 'rank',\n",
       " 'score',\n",
       " 'query',\n",
       " 'query_toks',\n",
       " 'text']"
      ]
     },
     "execution_count": 29,
     "metadata": {},
     "output_type": "execute_result"
    }
   ],
   "source": [
    "splade.columns.to_list()"
   ]
  },
  {
   "cell_type": "code",
   "execution_count": 30,
   "id": "b79b8885-9d3a-4684-9512-1556232d9ccf",
   "metadata": {},
   "outputs": [],
   "source": [
    "splade = splade.groupby(['docid'])['docid'].count()\n",
    "splade = splade.to_frame('rtr_cnt').reset_index()\n",
    "splade = splade.sort_values(by='rtr_cnt')\n",
    "total = splade['rtr_cnt'].sum()\n",
    "splade['rtr_score'] = splade['rtr_cnt']/total # normalisation"
   ]
  },
  {
   "cell_type": "code",
   "execution_count": 31,
   "id": "cc6f050e-4ec7-421f-87d4-679419bc540c",
   "metadata": {},
   "outputs": [
    {
     "data": {
      "text/plain": [
       "(617193, 3)"
      ]
     },
     "execution_count": 31,
     "metadata": {},
     "output_type": "execute_result"
    }
   ],
   "source": [
    "splade.shape"
   ]
  },
  {
   "cell_type": "code",
   "execution_count": 33,
   "id": "753a80d0-0213-48c2-8c03-85a4776b8670",
   "metadata": {},
   "outputs": [],
   "source": [
    "dataset_splade = dataset_df.copy()\n",
    "for _, row in splade.iterrows():\n",
    "    set_score(dataset_splade, row)"
   ]
  },
  {
   "cell_type": "code",
   "execution_count": 34,
   "id": "d040f2ba-952c-4d68-80b7-7fe3529c492c",
   "metadata": {},
   "outputs": [
    {
     "data": {
      "text/plain": [
       "(617193, 4)"
      ]
     },
     "execution_count": 34,
     "metadata": {},
     "output_type": "execute_result"
    }
   ],
   "source": [
    "dataset_splade[dataset_splade['rtr_score'] > 0].shape"
   ]
  },
  {
   "cell_type": "code",
   "execution_count": 35,
   "id": "1cb39a34-5861-4b45-b961-cbfbc48ec91c",
   "metadata": {},
   "outputs": [],
   "source": [
    "dataset_bm25 = dataset_bm25.sort_values(by='rtr_score',ascending=False)\n",
    "dataset_bm25.to_csv('/nfs/datasets/cxj/retrievability-bias/dataset_bm25.csv')"
   ]
  },
  {
   "cell_type": "code",
   "execution_count": 36,
   "id": "e1e344f9-f292-48ea-a913-a7d27d51621b",
   "metadata": {},
   "outputs": [],
   "source": [
    "dataset_monot5 = dataset_monot5.sort_values(by='rtr_score',ascending=False)\n",
    "dataset_monot5.to_csv('/nfs/datasets/cxj/retrievability-bias/dataset_monot5.csv')"
   ]
  },
  {
   "cell_type": "code",
   "execution_count": 37,
   "id": "c925409e-c47f-4a42-9fc9-0879a33b37c8",
   "metadata": {},
   "outputs": [],
   "source": [
    "dataset_splade = dataset_splade.sort_values(by='rtr_score',ascending=False)\n",
    "dataset_splade.to_csv('/nfs/datasets/cxj/retrievability-bias/dataset_splade.csv')"
   ]
  },
  {
   "cell_type": "code",
   "execution_count": 158,
   "id": "c63dd354-3a72-401c-9f56-8321587c17a9",
   "metadata": {},
   "outputs": [],
   "source": [
    "num_docs = max(bm25.shape[0],monot5.shape[0],splade.shape[0])\n",
    "split = 15\n",
    "intv = int(num_docs/split)"
   ]
  },
  {
   "cell_type": "code",
   "execution_count": 159,
   "id": "2570971c-9a57-46a2-af10-928811b2c434",
   "metadata": {},
   "outputs": [
    {
     "data": {
      "text/plain": [
       "290100"
      ]
     },
     "execution_count": 159,
     "metadata": {},
     "output_type": "execute_result"
    }
   ],
   "source": [
    "intv"
   ]
  },
  {
   "cell_type": "code",
   "execution_count": 160,
   "id": "38214c76-7ef1-49ac-a80c-9e98feca5a2d",
   "metadata": {},
   "outputs": [],
   "source": [
    "bm25_scores = []\n",
    "for i in range(0,num_docs,intv):\n",
    "    bm25_scores.append(dataset_bm25[i:i+intv]['rtr_score'].sum())\n",
    "\n",
    "bm25_scores.append(0.0) # the retrievability scores of the reset of corpus docs are 0"
   ]
  },
  {
   "cell_type": "code",
   "execution_count": 161,
   "id": "47c58d32-912d-496b-a315-b578ecfa6019",
   "metadata": {},
   "outputs": [
    {
     "data": {
      "text/plain": [
       "[0.4923094576508257,\n",
       " 0.2869671793035431,\n",
       " 0.22072336304563078,\n",
       " 0.0,\n",
       " 0.0,\n",
       " 0.0,\n",
       " 0.0,\n",
       " 0.0,\n",
       " 0.0,\n",
       " 0.0,\n",
       " 0.0,\n",
       " 0.0,\n",
       " 0.0,\n",
       " 0.0,\n",
       " 0.0,\n",
       " 0.0]"
      ]
     },
     "execution_count": 161,
     "metadata": {},
     "output_type": "execute_result"
    }
   ],
   "source": [
    "bm25_scores"
   ]
  },
  {
   "cell_type": "code",
   "execution_count": 162,
   "id": "a28a42ab-5938-4ac0-9c40-5c8a7780af96",
   "metadata": {},
   "outputs": [],
   "source": [
    "monot5_scores = []\n",
    "for i in range(0,num_docs,intv):\n",
    "    monot5_scores.append(dataset_monot5[i:i+intv]['rtr_score'].sum())\n",
    "\n",
    "monot5_scores.append(0.0) # the retrievability scores of the reset of corpus docs are 0"
   ]
  },
  {
   "cell_type": "code",
   "execution_count": 163,
   "id": "a3da7f8a-f649-4873-ab74-da7d11d71aa1",
   "metadata": {},
   "outputs": [
    {
     "data": {
      "text/plain": [
       "16"
      ]
     },
     "execution_count": 163,
     "metadata": {},
     "output_type": "execute_result"
    }
   ],
   "source": [
    "len(monot5_scores)"
   ]
  },
  {
   "cell_type": "code",
   "execution_count": 164,
   "id": "45261c2d-80bd-451d-889a-0bac41dc4249",
   "metadata": {},
   "outputs": [],
   "source": [
    "splade_scores = []\n",
    "for i in range(0,num_docs,intv):\n",
    "    splade_scores.append(dataset_splade[i:i+intv]['rtr_score'].sum())\n",
    "\n",
    "splade_scores.append(0.0) # the retrievability scores of the reset of corpus docs are 0"
   ]
  },
  {
   "cell_type": "code",
   "execution_count": 165,
   "id": "0e04ec37-ade9-43b0-ad8f-fa3fb5c7fcb4",
   "metadata": {},
   "outputs": [
    {
     "data": {
      "text/plain": [
       "16"
      ]
     },
     "execution_count": 165,
     "metadata": {},
     "output_type": "execute_result"
    }
   ],
   "source": [
    "len(splade_scores)"
   ]
  },
  {
   "cell_type": "code",
   "execution_count": 166,
   "id": "11b354c3-31de-4f70-83c6-9bfc24478318",
   "metadata": {},
   "outputs": [
    {
     "data": {
      "text/plain": [
       "16"
      ]
     },
     "execution_count": 166,
     "metadata": {},
     "output_type": "execute_result"
    }
   ],
   "source": [
    "scale_num = max(len(bm25_scores),len(monot5_scores),len(splade_scores))\n",
    "scale_num"
   ]
  },
  {
   "cell_type": "code",
   "execution_count": 167,
   "id": "dae2a745-ea51-44c2-a1c9-3eec97827a98",
   "metadata": {},
   "outputs": [
    {
     "data": {
      "text/plain": [
       "array([ 1,  2,  3,  4,  5,  6,  7,  8,  9, 10, 11, 12, 13, 14, 15, 16])"
      ]
     },
     "execution_count": 167,
     "metadata": {},
     "output_type": "execute_result"
    }
   ],
   "source": [
    "import numpy as np\n",
    "import matplotlib.pyplot as plt\n",
    "\n",
    "x_ticks = np.arange(1,scale_num +1)\n",
    "x_ticks"
   ]
  },
  {
   "cell_type": "code",
   "execution_count": 168,
   "id": "ac9fb064-4659-4067-8583-875b14eba3d1",
   "metadata": {},
   "outputs": [
    {
     "data": {
      "image/png": "[encoded data removed]",
      "text/plain": [
       "<Figure size 640x480 with 1 Axes>"
      ]
     },
     "metadata": {},
     "output_type": "display_data"
    }
   ],
   "source": [
    "\n",
    "# a = np.random.random(intv)\n",
    "# b = np.random.random(intv)\n",
    "# c = np.random.random(intv)\n",
    "\n",
    "total_width, n = 0.7, 3\n",
    "width = total_width / n\n",
    "x = x_ticks\n",
    "x = x - (total_width - width) / 2\n",
    "\n",
    "plt.bar(x, bm25_scores,  width=width, label='BM25')\n",
    "plt.bar(x + width, monot5_scores, width=width, label='Monot5')\n",
    "plt.bar(x + 2 * width, splade_scores, width=width, label='Splade')\n",
    "\n",
    "plt.tick_params(axis='x',length=0)\n",
    "plt.xticks(ticks=x_ticks, labels=None)\n",
    "plt.legend()\n",
    "plt.show()"
   ]
  },
  {
   "cell_type": "code",
   "execution_count": 125,
   "id": "ca211514-f533-45c2-b9f7-7fd97b2857ed",
   "metadata": {},
   "outputs": [
    {
     "data": {
      "text/plain": [
       "array([ 0.9,  1.9,  2.9,  3.9,  4.9,  5.9,  6.9,  7.9,  8.9,  9.9, 10.9])"
      ]
     },
     "execution_count": 125,
     "metadata": {},
     "output_type": "execute_result"
    }
   ],
   "source": [
    "x"
   ]
  },
  {
   "cell_type": "code",
   "execution_count": null,
   "id": "94237d08-fd63-470e-9694-32bebe907514",
   "metadata": {},
   "outputs": [],
   "source": []
  },
  {
   "cell_type": "code",
   "execution_count": null,
   "id": "9021f72a-892e-432c-ad33-db045408a8fc",
   "metadata": {},
   "outputs": [],
   "source": []
  },
  {
   "cell_type": "code",
   "execution_count": null,
   "id": "c0577e20-053a-4574-8b93-ddc62e486873",
   "metadata": {},
   "outputs": [],
   "source": []
  }
 ],
 "metadata": {
  "kernelspec": {
   "display_name": "Python [conda env:splade]",
   "language": "python",
   "name": "conda-env-splade-py"
  },
  "language_info": {
   "codemirror_mode": {
    "name": "ipython",
    "version": 3
   },
   "file_extension": ".py",
   "mimetype": "text/x-python",
   "name": "python",
   "nbconvert_exporter": "python",
   "pygments_lexer": "ipython3",
   "version": "3.8.13"
  }
 },
 "nbformat": 4,
 "nbformat_minor": 5
}
