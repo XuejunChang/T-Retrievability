{
 "cells": [
  {
   "cell_type": "code",
   "execution_count": 1,
   "id": "ebfc404f-f2d4-4dfe-8fe0-005cbf4c296c",
   "metadata": {},
   "outputs": [
    {
     "name": "stderr",
     "output_type": "stream",
     "text": [
      "Java started and loaded: pyterrier.java, pyterrier.terrier.java [version=5.11 (build: craig.macdonald 2025-01-13 21:29), helper_version=0.0.8]\n",
      "/tmp/ipykernel_85197/4087205142.py:5: DeprecationWarning: Call to deprecated method pt.init(). Deprecated since version 0.11.0.\n",
      "java is now started automatically with default settings. To force initialisation early, run:\n",
      "pt.java.init() # optional, forces java initialisation\n",
      "  pt.init()\n"
     ]
    }
   ],
   "source": [
    "import warnings\n",
    "warnings.filterwarnings('ignore')\n",
    "import pyterrier as pt\n",
    "if not pt.started():\n",
    "    pt.init()\n",
    "\n",
    "import os\n",
    "import pandas as pd\n",
    "import numpy as np\n",
    "pd.set_option('display.max_columns', None)\n",
    "pd.set_option('display.max_rows', None)\n",
    "pd.set_option('display.max_colwidth', 100)\n",
    "import glob\n",
    "import ir_measures\n",
    "from ir_measures import * # imports all supported measures, e.g., AP, nDCG, RR, P"
   ]
  },
  {
   "cell_type": "code",
   "execution_count": 2,
   "id": "ad0ece66-f982-4675-a9ba-e32723bbcd56",
   "metadata": {},
   "outputs": [],
   "source": [
    "# dataset_name = 'msmarco-passage'\n",
    "# dataset = pt.get_dataset(f'irds:{dataset_name}')\n",
    "\n",
    "dataset = pt.get_dataset(f'irds:msmarco-passage')\n",
    "eval_dataset = pt.get_dataset(f'irds:msmarco-passage/dev')\n",
    "topics = eval_dataset.get_topics()\n",
    "# qrels = eval_dataset.get_qrels()\n",
    "\n",
    "import ir_datasets\n",
    "eval = ir_datasets.load(\"msmarco-passage/dev\")\n",
    "# topics = pd.DataFrame(eval.queries_iter())\n",
    "qrels = pd.DataFrame(eval.qrels_iter())\n"
   ]
  },
  {
   "cell_type": "code",
   "execution_count": 3,
   "id": "1e8183a8-8ad4-406a-9e7e-124f9f47e929",
   "metadata": {},
   "outputs": [
    {
     "data": {
      "text/plain": [
       "(59273, 4)"
      ]
     },
     "execution_count": 3,
     "metadata": {},
     "output_type": "execute_result"
    }
   ],
   "source": [
    "qrels.shape"
   ]
  },
  {
   "cell_type": "code",
   "execution_count": 4,
   "id": "c52b0920-ad48-41c8-8ead-d683a3db05e1",
   "metadata": {},
   "outputs": [],
   "source": [
    "import json\n",
    "\n",
    "def save(dict, file):\n",
    "    with open(file,'w') as f:\n",
    "        json.dump(dict, f)\n",
    "\n",
    "def load(file):\n",
    "    with open(file,'r') as f:\n",
    "        ms_docids = json.load(f)\n",
    "    return ms_docids\n",
    "\n",
    "def Gini(v):\n",
    "    v = np.array(v)\n",
    "    bins = np.linspace(0., 100., 11)\n",
    "    total = float(np.sum(v))\n",
    "    yvals = [0]\n",
    "    for b in bins[1:]:\n",
    "        bin_vals = v[v <= np.percentile(v, b)]\n",
    "        bin_fraction = (np.sum(bin_vals) / total) * 100.0\n",
    "        yvals.append(bin_fraction)\n",
    "    # perfect equality area\n",
    "    pe_area = np.trapz(bins, x=bins)\n",
    "    # lorenz area\n",
    "    lorenz_area = np.trapz(yvals, x=bins)\n",
    "    gini_val = (pe_area - lorenz_area) / float(pe_area)\n",
    "    return gini_val\n",
    "\n",
    "import statistics\n",
    "def calc_stats(modelname,df,scoredF, topics):\n",
    "    if not os.path.exists(scoredF):\n",
    "        init_msmarco_dict = './results/ms_docids.json'\n",
    "        docids_score = load(init_msmarco_dict)\n",
    "        for qid in pt.tqdm(topics['qid']):\n",
    "            D = df[df['qid'] == np.int64(qid)]\n",
    "            for dno in D['docno']:\n",
    "                rank = D[D['docno'] == dno]['rank'].values[0]\n",
    "                score = 100 / np.log(rank + 2)  # plus 2 because the ranks start from zero\n",
    "                docids_score[str(dno)] += score\n",
    "        save(docids_score, scoredF)\n",
    "\n",
    "    docids_score = load(scoredF)\n",
    "    scores_df = pd.DataFrame.from_dict(docids_score, orient=\"index\", columns=[\"score\"])\n",
    "    scores_df = scores_df[scores_df[\"score\"] > 0]\n",
    "    scores = scores_df['score'].to_list()\n",
    "\n",
    "    mean = statistics.mean(scores)\n",
    "    std_dev = statistics.stdev(scores)\n",
    "    gini_value = Gini(scores)\n",
    "    return mean, std_dev, gini_value\n",
    "\n"
   ]
  },
  {
   "cell_type": "code",
   "execution_count": null,
   "id": "aa8b82e2-80fc-4f21-bdd6-269262738b2c",
   "metadata": {},
   "outputs": [],
   "source": [
    "# modelname=\"bm25\"\n",
    "# nfs_dir = '/nfs/resources/cxj/retrievability-bias'\n",
    "# threshold = 0\n",
    "\n",
    "# csv = f'./df_bm25_0.csv'\n",
    "# df = pd.read_csv(csv, index_col=0).reset_index()\n",
    "\n",
    "# res = []\n",
    "# for group_key in range(0, 700):\n",
    "#     scoredF = f'{nfs_dir}/{modelname}/groups/{modelname}_T{threshold}_G{group_key}.json'\n",
    "#     mean, std, gini = calc_stats(modelname, df, scoredF, None)\n",
    "#     group_res = [modelname, threshold, group_key, mean, std, gini]\n",
    "#     print(group_res)\n",
    "#     res.append(group_res)\n",
    "\n",
    "# print(f'start creating df per threshold')\n",
    "# df_threshold = pd.DataFrame(res, columns=['modelname', 'threshold', 'group_key', 'mean', 'std', 'gini'])\n",
    "# print('saving df per threshold')\n",
    "# df_threshold.to_csv(f'./result_T{threshold}_group700.csv', ignore_index=True)"
   ]
  },
  {
   "cell_type": "code",
   "execution_count": 55,
   "id": "09e4ec63-5dd6-4252-91b3-21ce50680c5e",
   "metadata": {},
   "outputs": [],
   "source": [
    "# def transform_df(df):\n",
    "#     df_run = df.rename(columns={'qid':'query_id','docid':'doc_id'})\n",
    "#     df_run[['query_id','doc_id']] = df_run[['query_id','doc_id']].astype(str)\n",
    "\n",
    "#     return df_run\n"
   ]
  },
  {
   "cell_type": "code",
   "execution_count": null,
   "id": "3405c4ee-7bf8-4293-b28c-4dfa12cb83d5",
   "metadata": {},
   "outputs": [],
   "source": [
    "docids_score = load('./bm25_docids_100_threshold_60.json')"
   ]
  },
  {
   "cell_type": "code",
   "execution_count": null,
   "id": "f6aa8272-9b03-4ce0-a20d-3d305c0b4585",
   "metadata": {},
   "outputs": [],
   "source": [
    "scores_df = pd.DataFrame.from_dict(docids_score, orient=\"index\", columns=[\"score\"])\n",
    "# scores_df.tail()"
   ]
  },
  {
   "cell_type": "code",
   "execution_count": null,
   "id": "24fdaf16-dc9b-47e9-a854-a0279908678a",
   "metadata": {},
   "outputs": [],
   "source": [
    "scores_df = scores_df[scores_df[\"score\"] > 0]\n",
    "scores = scores_df['score'].to_list()\n",
    "len(scores)"
   ]
  },
  {
   "cell_type": "code",
   "execution_count": null,
   "id": "79e01216-6e5a-48de-b60f-0e62fd7002af",
   "metadata": {},
   "outputs": [],
   "source": []
  },
  {
   "cell_type": "code",
   "execution_count": null,
   "id": "a4b6ba1f-bae4-4710-91ca-704bddcebc2b",
   "metadata": {},
   "outputs": [],
   "source": []
  },
  {
   "cell_type": "code",
   "execution_count": null,
   "id": "e7b37b35-c48d-445d-a850-cc6bd4ff87dc",
   "metadata": {},
   "outputs": [],
   "source": []
  },
  {
   "cell_type": "code",
   "execution_count": null,
   "id": "ef0627b2-59ea-49be-8ad8-84162b110bc4",
   "metadata": {},
   "outputs": [],
   "source": []
  },
  {
   "cell_type": "code",
   "execution_count": null,
   "id": "ad044041-2f11-4d96-b595-a6436b5b2aea",
   "metadata": {},
   "outputs": [],
   "source": []
  },
  {
   "cell_type": "code",
   "execution_count": 101,
   "id": "1ec37072-cd91-44d3-8c47-3204bde5c530",
   "metadata": {},
   "outputs": [
    {
     "name": "stdout",
     "output_type": "stream",
     "text": [
      "/nfs/resources/cxj/retrievability-bias/colbert/df_colbert_90_90000.csv\n",
      "/nfs/resources/cxj/retrievability-bias/colbert/df_colbert_90_40000.csv\n",
      "/nfs/resources/cxj/retrievability-bias/colbert/df_colbert_90_0.csv\n",
      "/nfs/resources/cxj/retrievability-bias/colbert/df_colbert_90_80000.csv\n"
     ]
    }
   ],
   "source": [
    "import glob\n",
    "res = pd.DataFrame()\n",
    "for file in glob.glob('/nfs/resources/cxj/retrievability-bias/colbert/df_colbert_90*.csv'):\n",
    "    print(file)\n",
    "    df = pd.concat([res,pd.read_csv(file,index_col=0).reset_index()],ignore_index=True)\n",
    "\n",
    "df.to_csv('/nfs/resources/cxj/retrievability-bias/colbert/df_colbert_90.csv',index=False)"
   ]
  },
  {
   "cell_type": "code",
   "execution_count": 9,
   "id": "7a876ee8-e834-46c5-9b81-db77de38b5e7",
   "metadata": {},
   "outputs": [
    {
     "data": {
      "text/plain": [
       "(2109300, 5)"
      ]
     },
     "execution_count": 9,
     "metadata": {},
     "output_type": "execute_result"
    }
   ],
   "source": [
    "df.shape"
   ]
  },
  {
   "cell_type": "code",
   "execution_count": 10,
   "id": "5fc24dfd-0e5e-42b7-b90e-83d9d8e1e2ae",
   "metadata": {},
   "outputs": [
    {
     "data": {
      "text/plain": [
       "21093"
      ]
     },
     "execution_count": 10,
     "metadata": {},
     "output_type": "execute_result"
    }
   ],
   "source": [
    "grouped = df.groupby('qid')\n",
    "len(grouped.groups.keys())"
   ]
  },
  {
   "cell_type": "code",
   "execution_count": 11,
   "id": "e2190460-2ecd-4108-baf8-b57ca2f7ad26",
   "metadata": {},
   "outputs": [
    {
     "name": "stderr",
     "output_type": "stream",
     "text": [
      "100%|██████████| 101093/101093 [07:37<00:00, 221.01it/s]\n"
     ]
    },
    {
     "data": {
      "text/plain": [
       "(40.33003088412648, 28.226881905694416, 0.29293872545964966)"
      ]
     },
     "execution_count": 11,
     "metadata": {},
     "output_type": "execute_result"
    }
   ],
   "source": [
    "calc_stats('colbert',df,30,topics)"
   ]
  },
  {
   "cell_type": "code",
   "execution_count": 12,
   "id": "43b88911-690a-474d-bdc5-1ee0e2956fa8",
   "metadata": {},
   "outputs": [
    {
     "data": {
      "text/plain": [
       "(101093, 2)"
      ]
     },
     "execution_count": 12,
     "metadata": {},
     "output_type": "execute_result"
    }
   ],
   "source": [
    "topics.shape"
   ]
  },
  {
   "cell_type": "code",
   "execution_count": 13,
   "id": "fbbec448-c6ac-4700-a805-66017a645ba5",
   "metadata": {},
   "outputs": [],
   "source": [
    "df2 = pd.DataFrame()\n",
    "df2['query_id'] = df['qid'].astype(str)\n",
    "df2['doc_id'] = df['docno'].astype(str)\n",
    "df2['score'] = df['score']"
   ]
  },
  {
   "cell_type": "code",
   "execution_count": 14,
   "id": "bc275a32-c0cf-4c6b-a73f-ecfc5c43a205",
   "metadata": {},
   "outputs": [
    {
     "data": {
      "text/plain": [
       "{RR: 0.0737706373877901, nDCG@10: 0.08367249993447931}"
      ]
     },
     "execution_count": 14,
     "metadata": {},
     "output_type": "execute_result"
    }
   ],
   "source": [
    "ir_measures.calc_aggregate([RR, nDCG@10], qrels, df2)"
   ]
  },
  {
   "cell_type": "code",
   "execution_count": null,
   "id": "f3a21816-66f2-44b7-8b14-0bb4ea1b79d7",
   "metadata": {},
   "outputs": [],
   "source": []
  },
  {
   "cell_type": "code",
   "execution_count": null,
   "id": "e1b4bdac-9627-44ab-a0d1-2a08a16427dd",
   "metadata": {},
   "outputs": [],
   "source": []
  },
  {
   "cell_type": "code",
   "execution_count": 22,
   "id": "76b98df2-2ee3-484c-832b-1a0ced24974e",
   "metadata": {},
   "outputs": [
    {
     "name": "stdout",
     "output_type": "stream",
     "text": [
      "/nfs/resources/cxj/retrievability-bias/colbert/df_colbert_90_90000.csv\n",
      "/nfs/resources/cxj/retrievability-bias/colbert/df_colbert_90_40000.csv\n",
      "/nfs/resources/cxj/retrievability-bias/colbert/df_colbert_90_0.csv\n",
      "/nfs/resources/cxj/retrievability-bias/colbert/df_colbert_90_80000.csv\n"
     ]
    }
   ],
   "source": [
    "import glob\n",
    "res = pd.DataFrame()\n",
    "for file in glob.glob('/nfs/resources/cxj/retrievability-bias/colbert/df_colbert_90*.csv'):\n",
    "    print(file)\n",
    "    df = pd.concat([res,pd.read_csv(file,index_col=0).reset_index()],ignore_index=True)"
   ]
  },
  {
   "cell_type": "code",
   "execution_count": 23,
   "id": "d3dcc7a6-1908-48e1-b80c-e324ca7eeb00",
   "metadata": {},
   "outputs": [
    {
     "data": {
      "text/plain": [
       "(2109300, 5)"
      ]
     },
     "execution_count": 23,
     "metadata": {},
     "output_type": "execute_result"
    }
   ],
   "source": [
    "df.shape"
   ]
  },
  {
   "cell_type": "code",
   "execution_count": 24,
   "id": "1b587c33-a503-4c64-a9a6-5923700de7a4",
   "metadata": {},
   "outputs": [
    {
     "data": {
      "text/plain": [
       "21093"
      ]
     },
     "execution_count": 24,
     "metadata": {},
     "output_type": "execute_result"
    }
   ],
   "source": [
    "grouped = df.groupby('qid')\n",
    "len(grouped.groups.keys())"
   ]
  },
  {
   "cell_type": "code",
   "execution_count": 25,
   "id": "c9c31fe9-c2cd-425d-822f-81c0d3719510",
   "metadata": {},
   "outputs": [
    {
     "name": "stderr",
     "output_type": "stream",
     "text": [
      "100%|██████████| 101093/101093 [08:18<00:00, 202.94it/s]\n"
     ]
    },
    {
     "data": {
      "text/plain": [
       "(93.73061804189739, 86.13780265597373, 0.4223636245098966)"
      ]
     },
     "execution_count": 25,
     "metadata": {},
     "output_type": "execute_result"
    }
   ],
   "source": [
    "calc_stats('colbert',df,90,topics)"
   ]
  },
  {
   "cell_type": "code",
   "execution_count": 26,
   "id": "64634186-daac-4dfa-bac7-baa266b39891",
   "metadata": {},
   "outputs": [],
   "source": [
    "df2 = pd.DataFrame()\n",
    "df2['query_id'] = df['qid'].astype(str)\n",
    "df2['doc_id'] = df['docno'].astype(str)\n",
    "df2['score'] = df['score']"
   ]
  },
  {
   "cell_type": "code",
   "execution_count": 27,
   "id": "fab2a846-40f2-445c-a1f0-2ecd65fc12bd",
   "metadata": {},
   "outputs": [
    {
     "data": {
      "text/plain": [
       "{RR: 0.03239045863847885, nDCG@10: 0.035517682062096864}"
      ]
     },
     "execution_count": 27,
     "metadata": {},
     "output_type": "execute_result"
    }
   ],
   "source": [
    "ir_measures.calc_aggregate([RR, nDCG@10], qrels, df2)"
   ]
  },
  {
   "cell_type": "code",
   "execution_count": null,
   "id": "5f87b14f-4a77-4d18-82c1-241a7c8e2fb2",
   "metadata": {},
   "outputs": [],
   "source": []
  },
  {
   "cell_type": "code",
   "execution_count": null,
   "id": "b91cd06b-7887-4302-b218-e5877a754d66",
   "metadata": {},
   "outputs": [],
   "source": []
  },
  {
   "cell_type": "code",
   "execution_count": 15,
   "id": "91fed7b9-e29a-4631-943b-7c218b964b32",
   "metadata": {},
   "outputs": [
    {
     "name": "stdout",
     "output_type": "stream",
     "text": [
      "/nfs/resources/cxj/retrievability-bias/colbert/df_bm25_colbert_30_0.csv\n",
      "/nfs/resources/cxj/retrievability-bias/colbert/df_bm25_colbert_30_40000.csv\n"
     ]
    }
   ],
   "source": [
    "res = pd.DataFrame()\n",
    "for file in glob.glob('/nfs/resources/cxj/retrievability-bias/colbert/df_bm25_colbert_30_*.csv'):\n",
    "    print(file)\n",
    "    df = pd.concat([res,pd.read_csv(file,index_col=0).reset_index()],ignore_index=True)"
   ]
  },
  {
   "cell_type": "code",
   "execution_count": 16,
   "id": "3d21e26f-4eef-4486-be74-a22c44814530",
   "metadata": {},
   "outputs": [
    {
     "data": {
      "text/plain": [
       "(6108287, 5)"
      ]
     },
     "execution_count": 16,
     "metadata": {},
     "output_type": "execute_result"
    }
   ],
   "source": [
    "df.shape"
   ]
  },
  {
   "cell_type": "code",
   "execution_count": null,
   "id": "07a3b25b-f13c-4f3f-9f93-b89d18ef735f",
   "metadata": {},
   "outputs": [],
   "source": [
    "grouped = df.groupby('qid')\n",
    "len(grouped.groups.keys())"
   ]
  },
  {
   "cell_type": "code",
   "execution_count": null,
   "id": "a1be63cb-c20a-4c30-a605-884e85a0ca26",
   "metadata": {},
   "outputs": [],
   "source": [
    "calc_stats('bm25_colbert',df,30,topics)"
   ]
  },
  {
   "cell_type": "code",
   "execution_count": null,
   "id": "ee144286-311e-4039-b95a-ed2d2671251f",
   "metadata": {},
   "outputs": [],
   "source": [
    "df2 = pd.DataFrame()\n",
    "df2['query_id'] = df['qid'].astype(str)\n",
    "df2['doc_id'] = df['docno'].astype(str)\n",
    "df2['score'] = df['score']"
   ]
  },
  {
   "cell_type": "code",
   "execution_count": null,
   "id": "8d5ac2cb-20a2-48e5-9d37-659e8726d21b",
   "metadata": {},
   "outputs": [],
   "source": [
    "ir_measures.calc_aggregate([RR, nDCG@10], qrels, df2)"
   ]
  },
  {
   "cell_type": "code",
   "execution_count": null,
   "id": "813fca66-da79-48ba-9ecc-7459b56cbd59",
   "metadata": {},
   "outputs": [],
   "source": []
  },
  {
   "cell_type": "code",
   "execution_count": null,
   "id": "c4a71b1f-fd61-4a71-b6ef-5895932895a8",
   "metadata": {},
   "outputs": [],
   "source": []
  },
  {
   "cell_type": "code",
   "execution_count": 17,
   "id": "0199d0a2-fb23-47a9-b4e9-2843c4f79f04",
   "metadata": {},
   "outputs": [],
   "source": [
    "# df = pd.read_csv('/nfs/resources/cxj/retrievability-bias/bm25/df_bm25_monot5_30_.csv', index_col=0).reset_index()\n",
    "df = pd.read_csv('/nfs/resources/cxj/retrievability-bias/bm25/df_bm25_monot5_60_.csv', index_col=0).reset_index()"
   ]
  },
  {
   "cell_type": "code",
   "execution_count": 18,
   "id": "39122b05-251c-44e5-8557-d3f13ea82861",
   "metadata": {},
   "outputs": [
    {
     "data": {
      "text/plain": [
       "(10108016, 5)"
      ]
     },
     "execution_count": 18,
     "metadata": {},
     "output_type": "execute_result"
    }
   ],
   "source": [
    "df.shape"
   ]
  },
  {
   "cell_type": "code",
   "execution_count": 45,
   "id": "b382f6ac-92b6-4e08-80d5-3e9e9383a8b9",
   "metadata": {},
   "outputs": [
    {
     "name": "stderr",
     "output_type": "stream",
     "text": [
      "100%|██████████| 101093/101093 [44:12<00:00, 38.11it/s]\n"
     ]
    },
    {
     "data": {
      "text/plain": [
       "(115.48748108808213, 298.36146566735516, 0.47400568279596994)"
      ]
     },
     "execution_count": 45,
     "metadata": {},
     "output_type": "execute_result"
    }
   ],
   "source": [
    "calc_stats('bm25_monot5',df,60,topics)"
   ]
  },
  {
   "cell_type": "code",
   "execution_count": 46,
   "id": "b2aae9ba-ebf8-4b37-a656-8ebfcb371ae4",
   "metadata": {},
   "outputs": [],
   "source": [
    "df2 = pd.DataFrame()\n",
    "df2['query_id'] = df['qid'].astype(str)\n",
    "df2['doc_id'] = df['docno'].astype(str)\n",
    "df2['score'] = df['score']"
   ]
  },
  {
   "cell_type": "code",
   "execution_count": 47,
   "id": "c2f62d05-f5a6-47ea-9a72-bfcdf90f7d13",
   "metadata": {},
   "outputs": [
    {
     "data": {
      "text/plain": [
       "{RR: 0.2884650470819681, nDCG@10: 0.3190031825107953}"
      ]
     },
     "execution_count": 47,
     "metadata": {},
     "output_type": "execute_result"
    }
   ],
   "source": [
    "ir_measures.calc_aggregate([RR, nDCG@10], qrels, df2)"
   ]
  },
  {
   "cell_type": "code",
   "execution_count": 19,
   "id": "ce78bdcc-b831-497d-b8eb-11e04f79fd64",
   "metadata": {},
   "outputs": [],
   "source": [
    "# df = pd.read_csv('/nfs/resources/cxj/retrievability-bias/bm25/df_bm25_monot5_30_.csv', index_col=0).reset_index()\n",
    "# df = pd.read_csv('/nfs/resources/cxj/retrievability-bias/bm25/df_bm25_monot5_60_.csv', index_col=0).reset_index()\n",
    "df = pd.read_csv('/nfs/resources/cxj/retrievability-bias/bm25/df_bm25_monot5_90_.csv', index_col=0).reset_index()"
   ]
  },
  {
   "cell_type": "code",
   "execution_count": 20,
   "id": "56e26ea8-3cdf-4d66-ad9a-1c01ed643fa0",
   "metadata": {},
   "outputs": [
    {
     "data": {
      "text/plain": [
       "(10105728, 5)"
      ]
     },
     "execution_count": 20,
     "metadata": {},
     "output_type": "execute_result"
    }
   ],
   "source": [
    "df.shape"
   ]
  },
  {
   "cell_type": "code",
   "execution_count": 49,
   "id": "649d5ee6-a1c4-497d-85a4-8b9f79a4bfca",
   "metadata": {},
   "outputs": [
    {
     "name": "stderr",
     "output_type": "stream",
     "text": [
      "100%|██████████| 101093/101093 [44:03<00:00, 38.24it/s]\n"
     ]
    },
    {
     "data": {
      "text/plain": [
       "(361.2086960062334, 855.9334992041702, 0.5108020525703535)"
      ]
     },
     "execution_count": 49,
     "metadata": {},
     "output_type": "execute_result"
    }
   ],
   "source": [
    "calc_stats('bm25_monot5',df,90,topics)"
   ]
  },
  {
   "cell_type": "code",
   "execution_count": 50,
   "id": "04238aad-8f02-4158-8a19-52ef969490c4",
   "metadata": {},
   "outputs": [],
   "source": [
    "df2 = pd.DataFrame()\n",
    "df2['query_id'] = df['qid'].astype(str)\n",
    "df2['doc_id'] = df['docno'].astype(str)\n",
    "df2['score'] = df['score']"
   ]
  },
  {
   "cell_type": "code",
   "execution_count": 51,
   "id": "c890a83e-efd6-4435-8444-90eb927cab4e",
   "metadata": {},
   "outputs": [
    {
     "data": {
      "text/plain": [
       "{RR: 0.1435522270533582, nDCG@10: 0.15535085729929}"
      ]
     },
     "execution_count": 51,
     "metadata": {},
     "output_type": "execute_result"
    }
   ],
   "source": [
    "ir_measures.calc_aggregate([RR, nDCG@10], qrels, df2)"
   ]
  },
  {
   "cell_type": "code",
   "execution_count": null,
   "id": "75e6976b-f09b-4331-ad1e-2bb756111de3",
   "metadata": {},
   "outputs": [],
   "source": []
  },
  {
   "cell_type": "code",
   "execution_count": null,
   "id": "0b11329a-52aa-443e-8ef5-4763e9cbe9b8",
   "metadata": {},
   "outputs": [],
   "source": [
    "\n",
    "results_monot5_100.csv\n",
    "results_splade_100.csv\n",
    "results_colbert_100.csv\n",
    "results_bm25_colbert_100.csv\n",
    "\n"
   ]
  },
  {
   "cell_type": "code",
   "execution_count": null,
   "id": "1a1a0810-054c-4ced-b23c-c875aad4d840",
   "metadata": {},
   "outputs": [],
   "source": []
  },
  {
   "cell_type": "code",
   "execution_count": null,
   "id": "31fee931-1496-4bab-99fa-9641e11abbf6",
   "metadata": {},
   "outputs": [],
   "source": []
  },
  {
   "cell_type": "code",
   "execution_count": 43,
   "id": "b9a1eb16-ec44-46a8-ac61-7f9a002aa684",
   "metadata": {},
   "outputs": [],
   "source": [
    "import tqdm"
   ]
  },
  {
   "cell_type": "code",
   "execution_count": 56,
   "id": "52192200-b5b6-4bc1-ad04-88c98ffee207",
   "metadata": {},
   "outputs": [],
   "source": [
    "df = pd.read_csv('/nfs/resources/cxj/retrievability-bias/splade/df_splade_30.csv', index_col=0).reset_index()"
   ]
  },
  {
   "cell_type": "code",
   "execution_count": 57,
   "id": "1725d8fc-20dc-40b3-9ca7-5ecb6feb70d4",
   "metadata": {},
   "outputs": [
    {
     "data": {
      "text/plain": [
       "(10109300, 5)"
      ]
     },
     "execution_count": 57,
     "metadata": {},
     "output_type": "execute_result"
    }
   ],
   "source": [
    "df.shape"
   ]
  },
  {
   "cell_type": "code",
   "execution_count": 58,
   "id": "38d36903-53fd-4138-9990-3d826d1cf6b2",
   "metadata": {},
   "outputs": [
    {
     "name": "stderr",
     "output_type": "stream",
     "text": [
      "100%|██████████| 101093/101093 [38:29<00:00, 43.76it/s]\n"
     ]
    },
    {
     "data": {
      "text/plain": [
       "(72.07897727079515, 67.02232864644255, 0.39601066004471325)"
      ]
     },
     "execution_count": 58,
     "metadata": {},
     "output_type": "execute_result"
    }
   ],
   "source": [
    "calc_stats('splade',df,30,topics)"
   ]
  },
  {
   "cell_type": "code",
   "execution_count": null,
   "id": "8332be00-e66e-4c6a-bc86-5ccfec0754ed",
   "metadata": {},
   "outputs": [],
   "source": []
  },
  {
   "cell_type": "code",
   "execution_count": 16,
   "id": "9e61c061-9d8f-477f-ab1c-ccfb99429339",
   "metadata": {},
   "outputs": [],
   "source": [
    "df = pd.read_csv('/nfs/datasets/cxj/retrievability-bias/results_bm25_100.csv', index_col=0).reset_index()\n",
    "# calc_stats('bm25',df,0,topics)"
   ]
  },
  {
   "cell_type": "code",
   "execution_count": 17,
   "id": "0b51e299-d25c-4f0a-9b13-802aa9449299",
   "metadata": {},
   "outputs": [],
   "source": [
    "df5 =df.head()"
   ]
  },
  {
   "cell_type": "code",
   "execution_count": 24,
   "id": "28f79192-912f-4fb2-95e6-00cc76b9cd84",
   "metadata": {},
   "outputs": [],
   "source": [
    "df5['r_score'] = df5['rank'].apply(lambda x: 100 / np.log(x + 2))\n",
    "# df5['rank'].apply(lambda x: print(x))"
   ]
  },
  {
   "cell_type": "code",
   "execution_count": 25,
   "id": "f38e6fdc-f2bc-4637-a7a0-a680a29c9370",
   "metadata": {},
   "outputs": [
    {
     "data": {
      "text/html": [
       "<div>\n",
       "<style scoped>\n",
       "    .dataframe tbody tr th:only-of-type {\n",
       "        vertical-align: middle;\n",
       "    }\n",
       "\n",
       "    .dataframe tbody tr th {\n",
       "        vertical-align: top;\n",
       "    }\n",
       "\n",
       "    .dataframe thead th {\n",
       "        text-align: right;\n",
       "    }\n",
       "</style>\n",
       "<table border=\"1\" class=\"dataframe\">\n",
       "  <thead>\n",
       "    <tr style=\"text-align: right;\">\n",
       "      <th></th>\n",
       "      <th>qid</th>\n",
       "      <th>docid</th>\n",
       "      <th>docno</th>\n",
       "      <th>rank</th>\n",
       "      <th>score</th>\n",
       "      <th>query</th>\n",
       "      <th>text</th>\n",
       "      <th>r_score</th>\n",
       "    </tr>\n",
       "  </thead>\n",
       "  <tbody>\n",
       "    <tr>\n",
       "      <th>0</th>\n",
       "      <td>1048578</td>\n",
       "      <td>7187236</td>\n",
       "      <td>7187236</td>\n",
       "      <td>0</td>\n",
       "      <td>67.528593</td>\n",
       "      <td>cost of endless pools swim spa</td>\n",
       "      <td>The Endless Pool 15' endless pools swim spa Endless Pool Nightmare Buy A Big Spa Instead Great t...</td>\n",
       "      <td>144.269504</td>\n",
       "    </tr>\n",
       "    <tr>\n",
       "      <th>1</th>\n",
       "      <td>1048578</td>\n",
       "      <td>7471198</td>\n",
       "      <td>7471198</td>\n",
       "      <td>1</td>\n",
       "      <td>62.121928</td>\n",
       "      <td>cost of endless pools swim spa</td>\n",
       "      <td>Cal Spas is the leading maker of home resort products. Cal Spas makes a great jetted swim spa wi...</td>\n",
       "      <td>91.023923</td>\n",
       "    </tr>\n",
       "    <tr>\n",
       "      <th>2</th>\n",
       "      <td>1048578</td>\n",
       "      <td>5365326</td>\n",
       "      <td>5365326</td>\n",
       "      <td>2</td>\n",
       "      <td>51.958492</td>\n",
       "      <td>cost of endless pools swim spa</td>\n",
       "      <td>How much does a swim spa cost. 1  A top of the line, branded swim spa 9 feet by 16 feet with the...</td>\n",
       "      <td>72.134752</td>\n",
       "    </tr>\n",
       "    <tr>\n",
       "      <th>3</th>\n",
       "      <td>1048578</td>\n",
       "      <td>7187241</td>\n",
       "      <td>7187241</td>\n",
       "      <td>3</td>\n",
       "      <td>51.947947</td>\n",
       "      <td>cost of endless pools swim spa</td>\n",
       "      <td>Disclaimer: Endless Pools (and all other swim spa manufacturers) are intentionally secretive abo...</td>\n",
       "      <td>62.133493</td>\n",
       "    </tr>\n",
       "    <tr>\n",
       "      <th>4</th>\n",
       "      <td>1048578</td>\n",
       "      <td>6802210</td>\n",
       "      <td>6802210</td>\n",
       "      <td>4</td>\n",
       "      <td>47.925985</td>\n",
       "      <td>cost of endless pools swim spa</td>\n",
       "      <td>Endless Pools is one of the first companies to develop this Swim Spa, or “endless” swimming pool...</td>\n",
       "      <td>55.811063</td>\n",
       "    </tr>\n",
       "  </tbody>\n",
       "</table>\n",
       "</div>"
      ],
      "text/plain": [
       "       qid    docid    docno  rank      score                           query  \\\n",
       "0  1048578  7187236  7187236     0  67.528593  cost of endless pools swim spa   \n",
       "1  1048578  7471198  7471198     1  62.121928  cost of endless pools swim spa   \n",
       "2  1048578  5365326  5365326     2  51.958492  cost of endless pools swim spa   \n",
       "3  1048578  7187241  7187241     3  51.947947  cost of endless pools swim spa   \n",
       "4  1048578  6802210  6802210     4  47.925985  cost of endless pools swim spa   \n",
       "\n",
       "                                                                                                  text  \\\n",
       "0  The Endless Pool 15' endless pools swim spa Endless Pool Nightmare Buy A Big Spa Instead Great t...   \n",
       "1  Cal Spas is the leading maker of home resort products. Cal Spas makes a great jetted swim spa wi...   \n",
       "2  How much does a swim spa cost. 1  A top of the line, branded swim spa 9 feet by 16 feet with the...   \n",
       "3  Disclaimer: Endless Pools (and all other swim spa manufacturers) are intentionally secretive abo...   \n",
       "4  Endless Pools is one of the first companies to develop this Swim Spa, or “endless” swimming pool...   \n",
       "\n",
       "      r_score  \n",
       "0  144.269504  \n",
       "1   91.023923  \n",
       "2   72.134752  \n",
       "3   62.133493  \n",
       "4   55.811063  "
      ]
     },
     "execution_count": 25,
     "metadata": {},
     "output_type": "execute_result"
    }
   ],
   "source": [
    "df5"
   ]
  },
  {
   "cell_type": "code",
   "execution_count": null,
   "id": "41a0f0e4-eab5-4925-bf8b-9611d0ea8b81",
   "metadata": {},
   "outputs": [],
   "source": []
  },
  {
   "cell_type": "code",
   "execution_count": null,
   "id": "6b8042c2-424e-49b4-833b-563ba4101e23",
   "metadata": {},
   "outputs": [],
   "source": []
  },
  {
   "cell_type": "code",
   "execution_count": null,
   "id": "664d8f99-b545-4aec-8ec1-9aa882af5ada",
   "metadata": {},
   "outputs": [],
   "source": []
  },
  {
   "cell_type": "code",
   "execution_count": null,
   "id": "b8ff8ecc-b25d-4617-9388-2d22f3dd64be",
   "metadata": {},
   "outputs": [],
   "source": []
  },
  {
   "cell_type": "code",
   "execution_count": 7,
   "id": "334f5e26-0021-49eb-8fa8-1642be871af2",
   "metadata": {},
   "outputs": [],
   "source": [
    "df.head(100).to_csv('./bm25_top100.csv', index=False)"
   ]
  },
  {
   "cell_type": "code",
   "execution_count": 8,
   "id": "cc2be7bd-1510-498a-89bc-6f638bd1631b",
   "metadata": {},
   "outputs": [],
   "source": [
    "df = pd.read_csv('/nfs/datasets/cxj/retrievability-bias/results_monot5_100.csv', index_col=0).reset_index()\n",
    "df.head(100).to_csv('./bm25_monot5_top100.csv', index=False)"
   ]
  },
  {
   "cell_type": "code",
   "execution_count": 9,
   "id": "7a306b96-7789-4b0e-8cd7-202a31952a96",
   "metadata": {},
   "outputs": [],
   "source": [
    "df = pd.read_csv('/nfs/datasets/cxj/retrievability-bias/results_splade_100.csv', index_col=0).reset_index()\n",
    "df.head(100).to_csv('./splade_top100.csv', index=False)"
   ]
  },
  {
   "cell_type": "code",
   "execution_count": 10,
   "id": "dc8fcc07-6bc6-47dd-99f3-4fb835692105",
   "metadata": {},
   "outputs": [],
   "source": [
    "df = pd.read_csv('/nfs/datasets/cxj/retrievability-bias/results_colbert_100.csv', index_col=0).reset_index()\n",
    "df.head(100).to_csv('./colbert_top100.csv', index=False)"
   ]
  },
  {
   "cell_type": "code",
   "execution_count": 11,
   "id": "1fd18d8b-3690-46d1-a502-ac7c03e6baa8",
   "metadata": {},
   "outputs": [],
   "source": [
    "df = pd.read_csv('/nfs/datasets/cxj/retrievability-bias/results_bm25_colbert_100.csv', index_col=0).reset_index()\n",
    "df.head(100).to_csv('./bm25_colbert_top100.csv', index=False)"
   ]
  },
  {
   "cell_type": "code",
   "execution_count": null,
   "id": "b18c3cfa-8a3a-4add-b2d3-cf836fc44f8c",
   "metadata": {},
   "outputs": [],
   "source": []
  },
  {
   "cell_type": "code",
   "execution_count": null,
   "id": "3fa78ac5-4c0d-483e-bf16-8ef5da68f455",
   "metadata": {},
   "outputs": [],
   "source": [
    "# df = pd.read_csv('/nfs/datasets/cxj/retrievability-bias/results_monot5_100.csv', index_col=0).reset_index()\n",
    "# calc_stats('bm25_monot5',df,0,topics)"
   ]
  },
  {
   "cell_type": "code",
   "execution_count": null,
   "id": "6536da6b-4ad9-4a68-910d-aa289734150e",
   "metadata": {},
   "outputs": [],
   "source": [
    "# df = pd.read_csv('/nfs/datasets/cxj/retrievability-bias/results_splade_100.csv', index_col=0).reset_index()\n",
    "# calc_stats('splade',df,0,topics)"
   ]
  },
  {
   "cell_type": "code",
   "execution_count": null,
   "id": "4b50dcef-c7ea-4d49-874e-86165f7a1128",
   "metadata": {},
   "outputs": [],
   "source": [
    "# df = pd.read_csv('/nfs/datasets/cxj/retrievability-bias/results_colbert_100.csv', index_col=0).reset_index()\n",
    "# calc_stats('colbert',df,0,topics)"
   ]
  },
  {
   "cell_type": "code",
   "execution_count": null,
   "id": "bacfab05-4f11-4f01-a4f3-97f74ed0ab52",
   "metadata": {},
   "outputs": [],
   "source": [
    "# df = pd.read_csv('/nfs/datasets/cxj/retrievability-bias/results_bm25_colbert_100.csv', index_col=0).reset_index()\n",
    "# calc_stats('bm25_colbert',df,0,topics)"
   ]
  },
  {
   "cell_type": "code",
   "execution_count": null,
   "id": "2d4ba81b-bde4-47c8-9372-472127983743",
   "metadata": {},
   "outputs": [],
   "source": []
  },
  {
   "cell_type": "code",
   "execution_count": 54,
   "id": "50a3887c-9003-4d87-a6ad-0a20f621cfd3",
   "metadata": {},
   "outputs": [],
   "source": [
    "df2 = pd.DataFrame()\n",
    "df2['query_id'] = df['qid'].astype(str)\n",
    "df2['doc_id'] = df['docno'].astype(str)\n",
    "df2['score'] = df['score']"
   ]
  },
  {
   "cell_type": "code",
   "execution_count": 55,
   "id": "100c8a04-380c-4827-a4fd-8e0dad7238e6",
   "metadata": {},
   "outputs": [
    {
     "data": {
      "text/plain": [
       "{RR: 0.1521238468200753, nDCG@10: 0.16641022307449113}"
      ]
     },
     "execution_count": 55,
     "metadata": {},
     "output_type": "execute_result"
    }
   ],
   "source": [
    "ir_measures.calc_aggregate([RR, nDCG@10], qrels, df2)"
   ]
  },
  {
   "cell_type": "code",
   "execution_count": null,
   "id": "79028822-29a8-489b-997e-20e429287023",
   "metadata": {},
   "outputs": [],
   "source": []
  },
  {
   "cell_type": "code",
   "execution_count": null,
   "id": "c7bef42f-5f5f-4a74-a7ee-14ecc28fae19",
   "metadata": {},
   "outputs": [],
   "source": []
  },
  {
   "cell_type": "code",
   "execution_count": 23,
   "id": "f773ed6b-f661-4966-8882-dd02c55c5b69",
   "metadata": {},
   "outputs": [],
   "source": [
    "# df = pd.read_csv('/nfs/resources/cxj/retrievability-bias/bm25/df_bm25_30.csv', index_col=0).reset_index()\n",
    "df = pd.read_csv('/nfs/resources/cxj/retrievability-bias/bm25/df_bm25_60.csv', index_col=0).reset_index()\n"
   ]
  },
  {
   "cell_type": "code",
   "execution_count": 24,
   "id": "d2ce42b3-ed25-491c-bd88-00350d7b4149",
   "metadata": {},
   "outputs": [
    {
     "data": {
      "text/plain": [
       "(10108016, 6)"
      ]
     },
     "execution_count": 24,
     "metadata": {},
     "output_type": "execute_result"
    }
   ],
   "source": [
    "df.shape"
   ]
  },
  {
   "cell_type": "code",
   "execution_count": 57,
   "id": "ac12cf91-fa69-4c73-a9e4-f5f64f220400",
   "metadata": {},
   "outputs": [],
   "source": [
    "df2 = pd.DataFrame()\n",
    "df2['query_id'] = df['qid'].astype(str)\n",
    "df2['doc_id'] = df['docno'].astype(str)\n",
    "df2['score'] = df['score']"
   ]
  },
  {
   "cell_type": "code",
   "execution_count": 58,
   "id": "219a87b0-b882-4662-af07-2ca3891c7cb5",
   "metadata": {},
   "outputs": [
    {
     "name": "stderr",
     "output_type": "stream",
     "text": [
      "100%|██████████| 101093/101093 [45:42<00:00, 36.86it/s]\n"
     ]
    },
    {
     "data": {
      "text/plain": [
       "(115.48748108808213, 334.4713511792268, 0.5019218174868961)"
      ]
     },
     "execution_count": 58,
     "metadata": {},
     "output_type": "execute_result"
    }
   ],
   "source": [
    "calc_stats('bm25',df,60,topics)"
   ]
  },
  {
   "cell_type": "code",
   "execution_count": 59,
   "id": "92c431f8-6305-4ab4-85a2-7ddc49901e7b",
   "metadata": {},
   "outputs": [
    {
     "data": {
      "text/plain": [
       "{RR: 0.1770989985056333, nDCG@10: 0.20204167208954082}"
      ]
     },
     "execution_count": 59,
     "metadata": {},
     "output_type": "execute_result"
    }
   ],
   "source": [
    "ir_measures.calc_aggregate([RR, nDCG@10], qrels, df2)"
   ]
  },
  {
   "cell_type": "code",
   "execution_count": null,
   "id": "4f635c60-0dc1-4585-9cb0-b8adba22d91b",
   "metadata": {},
   "outputs": [],
   "source": []
  },
  {
   "cell_type": "code",
   "execution_count": 25,
   "id": "f725e953-07f3-44b9-aa3f-caff64c128a2",
   "metadata": {},
   "outputs": [],
   "source": [
    "df = pd.read_csv('/nfs/resources/cxj/retrievability-bias/bm25/df_bm25_90.csv', index_col=0).reset_index()"
   ]
  },
  {
   "cell_type": "code",
   "execution_count": 26,
   "id": "16d7f47c-3280-4c7a-8e18-ddc027d0ebd9",
   "metadata": {},
   "outputs": [
    {
     "data": {
      "text/plain": [
       "(10105728, 6)"
      ]
     },
     "execution_count": 26,
     "metadata": {},
     "output_type": "execute_result"
    }
   ],
   "source": [
    "df.shape"
   ]
  },
  {
   "cell_type": "code",
   "execution_count": 61,
   "id": "c1de4682-8d7b-4ee3-a913-e34b440055d7",
   "metadata": {},
   "outputs": [],
   "source": [
    "df2 = pd.DataFrame()\n",
    "df2['query_id'] = df['qid'].astype(str)\n",
    "df2['doc_id'] = df['docno'].astype(str)\n",
    "df2['score'] = df['score']"
   ]
  },
  {
   "cell_type": "code",
   "execution_count": 62,
   "id": "62158993-8a75-480f-847c-aab4ffc933a3",
   "metadata": {},
   "outputs": [
    {
     "name": "stderr",
     "output_type": "stream",
     "text": [
      "100%|██████████| 101093/101093 [45:46<00:00, 36.81it/s] \n"
     ]
    },
    {
     "data": {
      "text/plain": [
       "(361.2086960062334, 953.8151508961946, 0.5383489669402687)"
      ]
     },
     "execution_count": 62,
     "metadata": {},
     "output_type": "execute_result"
    }
   ],
   "source": [
    "calc_stats('bm25',df,90,topics)"
   ]
  },
  {
   "cell_type": "code",
   "execution_count": 63,
   "id": "e79f2288-540b-4f23-8027-945366a4127a",
   "metadata": {},
   "outputs": [
    {
     "data": {
      "text/plain": [
       "{RR: 0.09919385080888407, nDCG@10: 0.11094770042458738}"
      ]
     },
     "execution_count": 63,
     "metadata": {},
     "output_type": "execute_result"
    }
   ],
   "source": [
    "ir_measures.calc_aggregate([RR, nDCG@10], qrels, df2)"
   ]
  },
  {
   "cell_type": "code",
   "execution_count": null,
   "id": "42ba97af-1c1a-4da6-bd02-303ea3307de8",
   "metadata": {},
   "outputs": [],
   "source": []
  },
  {
   "cell_type": "code",
   "execution_count": null,
   "id": "2c17eadb-c4b0-4d02-a4b5-5d55e2708478",
   "metadata": {},
   "outputs": [],
   "source": []
  },
  {
   "cell_type": "code",
   "execution_count": 27,
   "id": "b7fbe0f9-0df1-47c1-80b3-01dec624281a",
   "metadata": {},
   "outputs": [],
   "source": [
    "df = pd.read_csv('/nfs/resources/cxj/retrievability-bias/colbert/df_bm25_colbert_60_0.csv', index_col=0).reset_index()"
   ]
  },
  {
   "cell_type": "code",
   "execution_count": 28,
   "id": "fe835371-e51a-4bb1-831b-d146f7e24507",
   "metadata": {},
   "outputs": [
    {
     "data": {
      "text/plain": [
       "(10108016, 5)"
      ]
     },
     "execution_count": 28,
     "metadata": {},
     "output_type": "execute_result"
    }
   ],
   "source": [
    "df.shape"
   ]
  },
  {
   "cell_type": "code",
   "execution_count": 65,
   "id": "131e40b6-8d5c-4f7a-a30d-229f810aded3",
   "metadata": {},
   "outputs": [],
   "source": [
    "df2 = pd.DataFrame()\n",
    "df2['query_id'] = df['qid'].astype(str)\n",
    "df2['doc_id'] = df['docno'].astype(str)\n",
    "df2['score'] = df['score']"
   ]
  },
  {
   "cell_type": "code",
   "execution_count": 66,
   "id": "5e053491-0209-45a6-a6d3-f615e9669c61",
   "metadata": {},
   "outputs": [
    {
     "name": "stderr",
     "output_type": "stream",
     "text": [
      "100%|██████████| 101093/101093 [43:15<00:00, 38.95it/s]\n"
     ]
    },
    {
     "data": {
      "text/plain": [
       "(115.48748108808213, 299.2952445404816, 0.4757839359945219)"
      ]
     },
     "execution_count": 66,
     "metadata": {},
     "output_type": "execute_result"
    }
   ],
   "source": [
    "calc_stats('bm25_colbert',df,60,topics)"
   ]
  },
  {
   "cell_type": "code",
   "execution_count": 67,
   "id": "263aff25-598c-4da7-a98f-cbbdf42022a1",
   "metadata": {},
   "outputs": [
    {
     "data": {
      "text/plain": [
       "{RR: 0.2701930413241178, nDCG@10: 0.3012232637784799}"
      ]
     },
     "execution_count": 67,
     "metadata": {},
     "output_type": "execute_result"
    }
   ],
   "source": [
    "ir_measures.calc_aggregate([nDCG@10, RR], qrels, df2)"
   ]
  },
  {
   "cell_type": "code",
   "execution_count": null,
   "id": "4d46607a-6546-47ee-9c63-7f40394adc05",
   "metadata": {},
   "outputs": [],
   "source": []
  },
  {
   "cell_type": "code",
   "execution_count": null,
   "id": "61de753b-0d56-4e24-ae49-f9e6a02875e5",
   "metadata": {},
   "outputs": [],
   "source": []
  },
  {
   "cell_type": "code",
   "execution_count": null,
   "id": "ad6b6d70-bbb3-468c-9986-53c8c8a1a910",
   "metadata": {},
   "outputs": [],
   "source": []
  },
  {
   "cell_type": "code",
   "execution_count": 29,
   "id": "9bb9fea4-2525-473e-984c-d19fa8a92737",
   "metadata": {},
   "outputs": [],
   "source": [
    "df = pd.read_csv('/nfs/resources/cxj/retrievability-bias/colbert/df_bm25_colbert_90_0.csv', index_col=0).reset_index()"
   ]
  },
  {
   "cell_type": "code",
   "execution_count": 30,
   "id": "454a0939-2c24-40d2-9f37-982ab855cf4a",
   "metadata": {},
   "outputs": [
    {
     "data": {
      "text/plain": [
       "(10105728, 5)"
      ]
     },
     "execution_count": 30,
     "metadata": {},
     "output_type": "execute_result"
    }
   ],
   "source": [
    "df.shape"
   ]
  },
  {
   "cell_type": "code",
   "execution_count": 69,
   "id": "9ca375d8-b3cc-4f1f-a29c-d7bf099bfdde",
   "metadata": {},
   "outputs": [],
   "source": [
    "df2 = pd.DataFrame()\n",
    "df2['query_id'] = df['qid'].astype(str)\n",
    "df2['doc_id'] = df['docno'].astype(str)\n",
    "df2['score'] = df['score']"
   ]
  },
  {
   "cell_type": "code",
   "execution_count": 70,
   "id": "a898a0e6-3611-4372-9b3b-912a1a094333",
   "metadata": {},
   "outputs": [
    {
     "name": "stderr",
     "output_type": "stream",
     "text": [
      "100%|██████████| 101093/101093 [43:26<00:00, 38.79it/s]\n"
     ]
    },
    {
     "data": {
      "text/plain": [
       "(361.2086960062334, 868.2565808556265, 0.5122973596238822)"
      ]
     },
     "execution_count": 70,
     "metadata": {},
     "output_type": "execute_result"
    }
   ],
   "source": [
    "calc_stats('bm25_colbert',df,90,topics)"
   ]
  },
  {
   "cell_type": "code",
   "execution_count": 71,
   "id": "417da1ca-4655-4648-8fe6-308e852f300e",
   "metadata": {},
   "outputs": [
    {
     "data": {
      "text/plain": [
       "{RR: 0.13745628852665914, nDCG@10: 0.1497218020163707}"
      ]
     },
     "execution_count": 71,
     "metadata": {},
     "output_type": "execute_result"
    }
   ],
   "source": [
    "ir_measures.calc_aggregate([nDCG@10, RR], qrels, df2)"
   ]
  },
  {
   "cell_type": "code",
   "execution_count": null,
   "id": "c6865727-3f52-4c28-b42a-491f85c41296",
   "metadata": {},
   "outputs": [],
   "source": []
  },
  {
   "cell_type": "code",
   "execution_count": 31,
   "id": "8015d5c2-8348-41dc-a634-1f1d4612c06d",
   "metadata": {},
   "outputs": [],
   "source": [
    "df = pd.read_csv('/nfs/resources/cxj/retrievability-bias/splade/df_splade_30.csv', index_col=0).reset_index()"
   ]
  },
  {
   "cell_type": "code",
   "execution_count": 32,
   "id": "5531f16c-b876-444f-b5e0-91069a877327",
   "metadata": {},
   "outputs": [
    {
     "data": {
      "text/plain": [
       "(10109300, 5)"
      ]
     },
     "execution_count": 32,
     "metadata": {},
     "output_type": "execute_result"
    }
   ],
   "source": [
    "df.shape"
   ]
  },
  {
   "cell_type": "code",
   "execution_count": null,
   "id": "0cde65bd-ec14-4ea5-8887-77b85a7e0a63",
   "metadata": {},
   "outputs": [],
   "source": [
    "\n",
    "df2 = pd.DataFrame()\n",
    "df2['query_id'] = df['qid'].astype(str)\n",
    "df2['doc_id'] = df['docno'].astype(str)\n",
    "df2['score'] = df['score']"
   ]
  },
  {
   "cell_type": "code",
   "execution_count": null,
   "id": "3f984645-96f4-46e0-a350-7cbf9d0f1888",
   "metadata": {},
   "outputs": [],
   "source": [
    "df.head()"
   ]
  },
  {
   "cell_type": "code",
   "execution_count": null,
   "id": "a98f5e68-ac74-4189-82cb-194197cfbeb9",
   "metadata": {},
   "outputs": [],
   "source": [
    "calc_stats('splade',df,30,topics)"
   ]
  },
  {
   "cell_type": "code",
   "execution_count": null,
   "id": "7dfe908d-f37a-461c-a5d7-ed3b567438d2",
   "metadata": {},
   "outputs": [],
   "source": [
    "ir_measures.calc_aggregate([RR, nDCG@10], qrels, df2)"
   ]
  },
  {
   "cell_type": "code",
   "execution_count": null,
   "id": "91ebd093-0cc2-4b6c-91b2-163ac1df59e8",
   "metadata": {},
   "outputs": [],
   "source": []
  },
  {
   "cell_type": "code",
   "execution_count": 33,
   "id": "8445fc3f-3a70-4c6e-b17a-e16292e87afa",
   "metadata": {},
   "outputs": [],
   "source": [
    "df = pd.read_csv('/nfs/resources/cxj/retrievability-bias/splade/df_splade_60.csv', index_col=0).reset_index()\n"
   ]
  },
  {
   "cell_type": "code",
   "execution_count": 34,
   "id": "99973989-e778-4edc-83ce-b909b52d47b3",
   "metadata": {},
   "outputs": [
    {
     "data": {
      "text/plain": [
       "(10109300, 5)"
      ]
     },
     "execution_count": 34,
     "metadata": {},
     "output_type": "execute_result"
    }
   ],
   "source": [
    "df.shape"
   ]
  },
  {
   "cell_type": "code",
   "execution_count": null,
   "id": "e539f94f-79fd-4ef6-ad98-1ed07ae3f41a",
   "metadata": {},
   "outputs": [],
   "source": [
    "df.head()"
   ]
  },
  {
   "cell_type": "code",
   "execution_count": null,
   "id": "8301ec04-d6e8-435a-b63c-6c43b6933b7f",
   "metadata": {},
   "outputs": [],
   "source": [
    "calc_stats('splade',df,60,topics)"
   ]
  },
  {
   "cell_type": "code",
   "execution_count": null,
   "id": "403adbb8-b77b-4cb5-b644-c49ee5bc2b1d",
   "metadata": {},
   "outputs": [],
   "source": [
    "df2 = pd.DataFrame()\n",
    "df2['query_id'] = df['qid'].astype(str)\n",
    "df2['doc_id'] = df['docno'].astype(str)\n",
    "df2['score'] = df['score']\n",
    "ir_measures.calc_aggregate([RR, nDCG@10], qrels, df2)"
   ]
  },
  {
   "cell_type": "code",
   "execution_count": null,
   "id": "4bac1eb9-565c-43d7-a675-6c4d10f73171",
   "metadata": {},
   "outputs": [],
   "source": []
  },
  {
   "cell_type": "code",
   "execution_count": 42,
   "id": "abd32cca-6fe7-4fe7-bfbd-b0fd8360fa58",
   "metadata": {},
   "outputs": [
    {
     "name": "stdout",
     "output_type": "stream",
     "text": [
      "           Model  Gini  nDCG@10  Gini.1  nDCG@10.1  Gini.2  nDCG@10.2  Gini.3  \\\n",
      "0  BM25           0.48  0.21     0.47    0.22       0.50    0.20       0.54     \n",
      "1  BM25>>Mono-T5  0.43  0.40     0.45    0.38       0.47    0.32       0.51     \n",
      "2  Splade         0.39  0.45     0.40    0.42       0.41    0.35       0.41     \n",
      "3  ColBERT        0.39  0.41     0.29    0.08       0.33    0.07       0.42     \n",
      "4  BM25>>ColBERT  0.43  0.37     0.41    0.20       0.48    0.30       0.51     \n",
      "\n",
      "   nDCG@10.3  \n",
      "0  0.11       \n",
      "1  0.16       \n",
      "2  0.17       \n",
      "3  0.04       \n",
      "4  0.15       \n"
     ]
    }
   ],
   "source": [
    "df = pd.read_csv('./results/expt_results.csv')\n",
    "df = df.round(2)\n",
    "print(df)"
   ]
  },
  {
   "cell_type": "code",
   "execution_count": 43,
   "id": "c2a9dff1-87d8-4c76-9ed7-2dd4e5346442",
   "metadata": {},
   "outputs": [],
   "source": [
    "x = [0, 30, 60, 90]"
   ]
  },
  {
   "cell_type": "code",
   "execution_count": 44,
   "id": "6970b047-f17e-46b0-a354-40b966141ec3",
   "metadata": {},
   "outputs": [],
   "source": [
    "import matplotlib.pyplot as plt"
   ]
  },
  {
   "cell_type": "code",
   "execution_count": 45,
   "id": "cc0e37c8-5137-4819-92b1-51db2b8a3b8c",
   "metadata": {},
   "outputs": [],
   "source": [
    "gini_bm25 = df.loc[df['Model'] == 'BM25',['Gini','Gini.1','Gini.2','Gini.3']]\n",
    "gini_monot5 = df.loc[df['Model'] == 'BM25>>Mono-T5',['Gini','Gini.1','Gini.2','Gini.3']]\n",
    "gini_Splade = df.loc[df['Model'] == 'Splade',['Gini','Gini.1','Gini.2','Gini.3']]\n",
    "gini_ColBERT = df.loc[df['Model'] == 'ColBERT',['Gini','Gini.1','Gini.2','Gini.3']]\n",
    "gini_bm25_ColBERT = df.loc[df['Model'] == 'BM25>>ColBERT',['Gini','Gini.1','Gini.2','Gini.3']]"
   ]
  },
  {
   "cell_type": "code",
   "execution_count": 46,
   "id": "85cfd4f4-db1a-4e6d-bcc9-9774ed586505",
   "metadata": {},
   "outputs": [],
   "source": [
    "dfg_bm25 = df.loc[df['Model'] == 'BM25',['nDCG@10','nDCG@10.1','nDCG@10.2','nDCG@10.3']]\n",
    "dfg_monot5 = df.loc[df['Model'] == 'BM25>>Mono-T5',['nDCG@10','nDCG@10.1','nDCG@10.2','nDCG@10.3']]\n",
    "dfg_Splade = df.loc[df['Model'] == 'Splade',['nDCG@10','nDCG@10.1','nDCG@10.2','nDCG@10.3']]\n",
    "dfg_ColBERT = df.loc[df['Model'] == 'ColBERT',['nDCG@10','nDCG@10.1','nDCG@10.2','nDCG@10.3']]\n",
    "dfg_bm25_ColBERT = df.loc[df['Model'] == 'BM25>>ColBERT',['nDCG@10','nDCG@10.1','nDCG@10.2','nDCG@10.3']]"
   ]
  },
  {
   "cell_type": "code",
   "execution_count": 51,
   "id": "0dd9d970-e980-4075-84cb-f49cda15b808",
   "metadata": {},
   "outputs": [
    {
     "data": {
      "image/png": "[encoded data removed]",
      "text/plain": [
       "<Figure size 1200x400 with 2 Axes>"
      ]
     },
     "metadata": {},
     "output_type": "display_data"
    }
   ],
   "source": [
    "fig, (ax1,ax2) = plt.subplots(nrows=1, ncols=2, figsize=(12, 4))\n",
    "plt.subplots_adjust(hspace=1, wspace=0.5, left=0.1)\n",
    "\n",
    "y = gini_bm25.values[0]\n",
    "ax1.plot(x,y,label='BM25', marker='o')\n",
    "y = gini_monot5.values[0]\n",
    "ax1.plot(x,y,label='BM25>>Mono-T5', marker='o')\n",
    "y = gini_Splade.values[0]\n",
    "ax1.plot(x,y,label='Splade', marker='o')\n",
    "# y = gini_ColBERT.values[0]\n",
    "# ax1.plot(x,y,label='ColBERT', marker='o')\n",
    "y = gini_bm25_ColBERT.values[0]\n",
    "ax1.plot(x,y,label='BM25>>ColBERT', marker='o')\n",
    "\n",
    "ax1.set_title('Fairness')\n",
    "ax1.set_xlabel('% pruned')\n",
    "ax1.set_ylabel('Gini Coefficient')\n",
    "ax1.set_xticks(ticks = [i for i in range(0,100,10)])\n",
    "ax1.legend(fontsize=8)\n",
    "\n",
    "y = dfg_bm25.values[0]\n",
    "ax2.plot(x,y,label='BM25', marker='o')\n",
    "y = dfg_monot5.values[0]\n",
    "ax2.plot(x,y,label='BM25>>Mono-T5', marker='o')\n",
    "y = dfg_Splade.values[0]\n",
    "ax2.plot(x,y,label='Splade', marker='o')\n",
    "# y = dfg_ColBERT.values[0]\n",
    "# ax2.plot(x,y,label='ColBERT', marker='o')\n",
    "y = dfg_bm25_ColBERT.values[0]\n",
    "ax2.plot(x,y,label='BM25>>ColBERT', marker='o')\n",
    "\n",
    "ax2.set_title('Effectiveness')\n",
    "ax2.set_xlabel('% pruned')\n",
    "ax2.set_ylabel('nDCG@10')\n",
    "ax2.set_xticks(ticks = [i for i in range(0,100,10)])\n",
    "ax2.legend(fontsize=8)\n",
    "\n",
    "plt.savefig('./results/all_results.pdf', format=\"pdf\", bbox_inches=\"tight\", pad_inches=0.3)\n",
    "plt.show()"
   ]
  },
  {
   "cell_type": "code",
   "execution_count": 50,
   "id": "5d15b4b5-385f-48e0-ad90-c9b170dd46f4",
   "metadata": {},
   "outputs": [
    {
     "data": {
      "text/plain": [
       "<function matplotlib.pyplot.show(close=None, block=None)>"
      ]
     },
     "execution_count": 50,
     "metadata": {},
     "output_type": "execute_result"
    },
    {
     "data": {
      "image/png": "[encoded data removed]",
      "text/plain": [
       "<Figure size 700x500 with 1 Axes>"
      ]
     },
     "metadata": {},
     "output_type": "display_data"
    }
   ],
   "source": [
    "plt.figure(figsize=(7,5))\n",
    "y = dfg_bm25.values[0]\n",
    "plt.plot(x,y,label='BM25')\n",
    "y = dfg_monot5.values[0]\n",
    "plt.plot(x,y,label='BM25>>Mono-T5')\n",
    "y = dfg_Splade.values[0]\n",
    "plt.plot(x,y,label='Splade')\n",
    "# y = dfg_ColBERT.values[0]\n",
    "# plt.plot(x,y,label='ColBERT')\n",
    "y = dfg_bm25_ColBERT.values[0]\n",
    "plt.plot(x,y,label='BM25>>ColBERT')\n",
    "\n",
    "plt.title('Effectiveness When the Corpus Pruned')\n",
    "plt.xlabel('% pruned')\n",
    "plt.ylabel('nDCG@10')\n",
    "plt.xticks(ticks = [i for i in range(0,100,10)])\n",
    "plt.legend(fontsize=7)\n",
    "plt.show"
   ]
  },
  {
   "cell_type": "code",
   "execution_count": null,
   "id": "abb30c2e-21ee-4f75-bee5-444b8ffdf94a",
   "metadata": {},
   "outputs": [],
   "source": []
  },
  {
   "cell_type": "code",
   "execution_count": null,
   "id": "cfd28d7a-b363-432d-b62c-da729ebecd65",
   "metadata": {},
   "outputs": [],
   "source": [
    "# df.plot(x='Gini', y='nDCG@10', kind='line', title='Sales Over Years',xlabel)\n",
    "\n",
    "# import seaborn as sns\n",
    "# import matplotlib.pyplot as plt\n",
    "\n",
    "# sns.lineplot(data=df, x='Gini', y='nDCG@10')\n",
    "# plt.title('Sales Over Years')\n",
    "# plt.ylabel('Sales (in Units)')\n",
    "# plt.show()"
   ]
  },
  {
   "cell_type": "code",
   "execution_count": null,
   "id": "882e48c9-8112-458b-86a2-fb9b10f67609",
   "metadata": {},
   "outputs": [],
   "source": []
  },
  {
   "cell_type": "code",
   "execution_count": 103,
   "id": "7b8ace81-a5e0-4dc5-967c-8503a6f2be0b",
   "metadata": {},
   "outputs": [],
   "source": [
    "sampled_queries = pd.read_csv('./results/smapled_dev_queries_50.csv', index_col=0).reset_index()"
   ]
  },
  {
   "cell_type": "code",
   "execution_count": null,
   "id": "0fe2fd7b-440e-49c0-a662-bd32b4157184",
   "metadata": {},
   "outputs": [],
   "source": [
    "sampled_queries.head(100)"
   ]
  },
  {
   "cell_type": "code",
   "execution_count": 104,
   "id": "efb813a9-5914-4548-bda7-4dd12108c96a",
   "metadata": {},
   "outputs": [
    {
     "name": "stdout",
     "output_type": "stream",
     "text": [
      "2000\n"
     ]
    }
   ],
   "source": [
    "grouped = sampled_queries.groupby('cluster')\n",
    "print(len(grouped.groups.keys()))"
   ]
  },
  {
   "cell_type": "code",
   "execution_count": null,
   "id": "984824a9-ad5c-4e33-a73f-d39fe779d9d6",
   "metadata": {},
   "outputs": [],
   "source": [
    "from itertools import islice\n",
    "# for group_key, queries_df in islice(grouped,2):\n",
    "\n",
    "# nfs_dir = f'/nfs/resources/cxj/retrievability-bias'\n",
    "\n",
    "# res = []\n",
    "# for modelname in ['bm25', 'bm25_monot5', 'splade', 'colbert', 'bm25_colbert']:\n",
    "#     for threshold in [0, 30, 60, 90]:\n",
    "#         csv = f'/nfs/resources/cxj/retrievability-bias/{modelname}/df_{modelname}_{threshold}.csv'\n",
    "#         print(f'reading {csv}')\n",
    "#         df = pd.read_csv(csv, index_col=0).reset_index()\n",
    "#         print(f'start {modelname} ----> {threshold}')\n",
    "#         for group_key, queries_df in grouped:\n",
    "#             print(f'start {modelname} ----> threshold {threshold} --> group_key = {group_key}')\n",
    "#             scoredF = f'{nfs_dir}/{modelname}/groups/{modelname}_T{threshold}_G{group_key}.json'\n",
    "#             mean, std, gini = calc_stats(modelname, df, scoredF, queries_df)\n",
    "#             group_res = [modelname, threshold, group_key, mean, std, gini]\n",
    "#             print(group_res)\n",
    "#             res.append(group_res)\n",
    "\n",
    "# print(f'start creating dataframe of len(res) {len(res)}')\n",
    "# res_df = pd.DataFrame(res, colums=['modelname', 'threshold', 'group_key', 'mean', 'std', 'gini'])\n",
    "# print('saving dataframe')\n",
    "# res_df.to_csv(f'{nfs_dir}/{modelname}/result_groups.csv', ignore_index=True)\n",
    "# print('done')\n"
   ]
  },
  {
   "cell_type": "code",
   "execution_count": 31,
   "id": "6a31ff1f-b3b2-414d-a7d3-3392b032915c",
   "metadata": {},
   "outputs": [
    {
     "name": "stdout",
     "output_type": "stream",
     "text": [
      "start bm25_colbert ----> threshold 0\n"
     ]
    },
    {
     "name": "stderr",
     "output_type": "stream",
     "text": [
      "100%|██████████| 10108435/10108435 [00:19<00:00, 513173.53it/s]\n"
     ]
    },
    {
     "name": "stdout",
     "output_type": "stream",
     "text": [
      "saving /nfs/resources/cxj/retrievability-bias/bm25_colbert/df_bm25_colbert_rscore_0.csv\n",
      "done\n",
      "start bm25_colbert ----> threshold 30\n"
     ]
    },
    {
     "name": "stderr",
     "output_type": "stream",
     "text": [
      "100%|██████████| 6108287/6108287 [00:12<00:00, 505954.64it/s]\n"
     ]
    },
    {
     "name": "stdout",
     "output_type": "stream",
     "text": [
      "saving /nfs/resources/cxj/retrievability-bias/bm25_colbert/df_bm25_colbert_rscore_30.csv\n",
      "done\n",
      "start bm25_colbert ----> threshold 60\n"
     ]
    },
    {
     "name": "stderr",
     "output_type": "stream",
     "text": [
      "100%|██████████| 10108016/10108016 [00:19<00:00, 517992.95it/s]\n"
     ]
    },
    {
     "name": "stdout",
     "output_type": "stream",
     "text": [
      "saving /nfs/resources/cxj/retrievability-bias/bm25_colbert/df_bm25_colbert_rscore_60.csv\n",
      "done\n",
      "start bm25_colbert ----> threshold 90\n"
     ]
    },
    {
     "name": "stderr",
     "output_type": "stream",
     "text": [
      "100%|██████████| 10105728/10105728 [00:19<00:00, 515528.85it/s]\n"
     ]
    },
    {
     "name": "stdout",
     "output_type": "stream",
     "text": [
      "saving /nfs/resources/cxj/retrievability-bias/bm25_colbert/df_bm25_colbert_rscore_90.csv\n",
      "done\n"
     ]
    }
   ],
   "source": [
    "nfs_dir = f'/nfs/resources/cxj/retrievability-bias'\n",
    "pt.tqdm.pandas()\n",
    "res = []\n",
    "# for modelname in ['bm25', 'bm25_monot5', 'splade', 'colbert', 'bm25_colbert']:\n",
    "for modelname in ['bm25_colbert']:\n",
    "    for threshold in [0, 30, 60, 90]:\n",
    "        print(f'start {modelname} ----> threshold {threshold}')\n",
    "        csv = f'/nfs/resources/cxj/retrievability-bias/{modelname}/df_{modelname}_{threshold}.csv'\n",
    "        df = pd.read_csv(csv, index_col=0).reset_index()\n",
    "        df['r_score'] = df['rank'].progress_apply(lambda x: 100 / np.log(x + 2))\n",
    "        csv2 = f'/nfs/resources/cxj/retrievability-bias/{modelname}/df_{modelname}_rscore_{threshold}.csv'\n",
    "        print(f'saving {csv2}')\n",
    "        df.to_csv(csv2, index=False)\n",
    "        print(f'done')\n",
    "        \n",
    "        # print(f'start {modelname} ----> {threshold}')\n",
    "        # for group_key, queries_df in grouped:\n",
    "        #     print(f'start {modelname} ----> threshold {threshold} --> group_key = {group_key}')\n",
    "        #     scoredF = f'{nfs_dir}/{modelname}/groups/{modelname}_T{threshold}_G{group_key}.json'\n",
    "        #     mean, std, gini = calc_stats(modelname, df, scoredF, queries_df)\n",
    "        #     group_res = [modelname, threshold, group_key, mean, std, gini]\n",
    "        #     print(group_res)\n",
    "        #     res.append(group_res)\n",
    "\n",
    "# print(f'start creating dataframe of len(res) {len(res)}')\n",
    "# res_df = pd.DataFrame(res, colums=['modelname', 'threshold', 'group_key', 'mean', 'std', 'gini'])\n",
    "# print('saving dataframe')\n",
    "# res_df.to_csv(f'{nfs_dir}/{modelname}/result_groups.csv', ignore_index=True)\n",
    "# print('done')"
   ]
  },
  {
   "cell_type": "code",
   "execution_count": null,
   "id": "0335ce35-e45d-4527-96ee-aa1c3b58d73d",
   "metadata": {},
   "outputs": [],
   "source": []
  },
  {
   "cell_type": "code",
   "execution_count": null,
   "id": "db9693ce-77de-44dd-bfdf-d1241acb0604",
   "metadata": {},
   "outputs": [],
   "source": []
  },
  {
   "cell_type": "code",
   "execution_count": null,
   "id": "0ff89ed5-18fb-41f6-be7a-fdc9d4c40b77",
   "metadata": {},
   "outputs": [],
   "source": [
    "def calc_stats_v2(modelname,df,scoredF, topics):\n",
    "    if not os.path.exists(scoredF):\n",
    "        qids_to_keep = topics['qid'].to_list()\n",
    "        mask = np.logical_or.reduce([df[\"qid\"] == val for val in qids_to_keep])\n",
    "        df_filtered = df[mask]\n",
    "        grouped = df_filtered.groupby(\"docno\")[['r_score']].sum().reset_index()\n",
    "        grouped.to_csv(scoredF,index=False)\n",
    "\n",
    "    scores = grouped['r_score'].to_list()\n",
    "\n",
    "    mean = statistics.mean(scores)\n",
    "    std_dev = statistics.stdev(scores)\n",
    "    gini_value = Gini(scores)\n",
    "    return mean, std_dev, gini_value"
   ]
  },
  {
   "cell_type": "code",
   "execution_count": null,
   "id": "ab3753f0-e1e2-44c3-b39b-5e811e8f8cdf",
   "metadata": {},
   "outputs": [],
   "source": [
    "nfs_dir = f'/nfs/resources/cxj/retrievability-bias'\n",
    "pt.tqdm.pandas()\n",
    "\n",
    "\n",
    "modelname = sys.argv[1]\n",
    "\n",
    "# for modelname in ['bm25', 'bm25_monot5', 'splade', 'colbert', 'bm25_colbert']:\n",
    "for threshold in [0, 30, 60, 90]:\n",
    "\n",
    "    csv2 = f'/nfs/resources/cxj/retrievability-bias/{modelname}/df_{modelname}_rscore_{threshold}.csv'\n",
    "    print(f'reading {csv2}')\n",
    "    df = pd.read_csv(csv2, index_col=0).reset_index()\n",
    "    \n",
    "    res = []\n",
    "    for cluster_id, queries_df in grouped:\n",
    "        print(f'start {modelname} ----> threshold {threshold} --> cluster_id = {cluster_id}')\n",
    "        scoredF = f'{nfs_dir}/{modelname}/groups/{modelname}_T{threshold}_G{cluster_id}.csv'\n",
    "        mean, std, gini = calc_stats_v2(modelname, df, scoredF, queries_df)\n",
    "        group_res = [modelname, threshold, cluster_id, mean, std, gini]\n",
    "        print(group_res)\n",
    "        res.append(group_res)\n",
    "\n",
    "    print(f'start creating df per threshold')\n",
    "    df_threshold = pd.DataFrame(res, columns=['modelname', 'threshold', 'cluster_id', 'mean', 'std', 'gini'])\n",
    "    res_csv = f'{nfs_dir}/{modelname}/groups/result_T{threshold}_allgroups.csv'\n",
    "    print(f'saving {res_csv}')\n",
    "    df_threshold.to_csv(res_csv, index=False)\n",
    "    print('done')"
   ]
  },
  {
   "cell_type": "code",
   "execution_count": 33,
   "id": "30282977-a198-4a3c-8d4e-667e45710c08",
   "metadata": {},
   "outputs": [
    {
     "name": "stdout",
     "output_type": "stream",
     "text": [
      "saving /nfs/resources/cxj/retrievability-bias/result_bm25_stats.csv\n",
      "saving /nfs/resources/cxj/retrievability-bias/result_bm25_monot5_stats.csv\n",
      "saving /nfs/resources/cxj/retrievability-bias/result_splade_stats.csv\n",
      "saving /nfs/resources/cxj/retrievability-bias/result_colbert_stats.csv\n",
      "saving /nfs/resources/cxj/retrievability-bias/result_bm25_colbert_stats.csv\n"
     ]
    }
   ],
   "source": [
    "nfs_dir = f'/nfs/resources/cxj/retrievability-bias'\n",
    "root_dir = f'/nfs/primary/retrievability-bias'\n",
    "for modelname in ['bm25', 'bm25_monot5', 'splade', 'colbert', 'bm25_colbert']:\n",
    "    res = []\n",
    "    for threshold in [0, 30, 60, 90]:\n",
    "        res_csv = f'{nfs_dir}/{modelname}/groups/result_T{threshold}_allgroups.csv'\n",
    "        df_threshold = pd.read_csv(res_csv, index_col=0).reset_index()\n",
    "        ginis = df_threshold['gini']\n",
    "        min_gini, mean_gini, max_gini = ginis.min(), ginis.mean(), ginis.max()\n",
    "        res.append([modelname, threshold, min_gini, mean_gini, max_gini])\n",
    "        \n",
    "    res_df = pd.DataFrame(res, columns=['modelname', 'threshold', 'min_gini', 'mean_gini', 'max_gini'])\n",
    "    res_csv = f'{nfs_dir}/result_{modelname}_stats.csv'\n",
    "    print(f'saving {res_csv}')\n",
    "    res_df.to_csv(res_csv, index=False)\n",
    "    os.system(f'cp -r {res_csv} {root_dir}/results/')"
   ]
  },
  {
   "cell_type": "code",
   "execution_count": null,
   "id": "749d98df-b24a-4286-a5ba-dbe99bffc698",
   "metadata": {},
   "outputs": [],
   "source": []
  },
  {
   "cell_type": "code",
   "execution_count": null,
   "id": "114ea849-c634-4b00-9574-fea79babc6e9",
   "metadata": {},
   "outputs": [],
   "source": []
  },
  {
   "cell_type": "code",
   "execution_count": null,
   "id": "53a6d969-adbf-433d-9b1d-6e45daec6975",
   "metadata": {},
   "outputs": [],
   "source": []
  },
  {
   "cell_type": "code",
   "execution_count": null,
   "id": "6d1d2cff-2c2d-49c9-9f4d-727d249ff19f",
   "metadata": {},
   "outputs": [],
   "source": []
  },
  {
   "cell_type": "code",
   "execution_count": 2,
   "id": "8066bb70-f525-43ef-b434-8d9011e27f56",
   "metadata": {},
   "outputs": [],
   "source": [
    "import pandas as pd\n",
    "root_dir = f'/root/retrievability-bias'\n",
    "nfs_dir = f'/nfs/resources/cxj/retrievability-bias'\n",
    "modelname = 't5-base-msmarco-epoch-5'\n",
    "ranker='tctcolbert'\n",
    "threshold = 3\n",
    "\n",
    "import pyterrier_dr\n",
    "import shutil\n",
    "import os\n",
    "import tqdm\n",
    "model = pyterrier_dr.TctColBert('castorini/tct_colbert-v2-hnp-msmarco')"
   ]
  },
  {
   "cell_type": "code",
   "execution_count": 3,
   "id": "a174998a-642c-474b-9001-236c8507e2dc",
   "metadata": {},
   "outputs": [],
   "source": [
    "# csv = f'{nfs_dir}/bm25/{modelname}_unprunned_df.csv'\n",
    "\n",
    "csv = f'{nfs_dir}/{modelname}_prunned_{30 * threshold}_df.csv'\n",
    "df = pd.read_csv(csv, index_col=0).reset_index()"
   ]
  },
  {
   "cell_type": "code",
   "execution_count": 4,
   "id": "6ea701c6-6b0e-42af-acf5-9ab2f6d09717",
   "metadata": {},
   "outputs": [],
   "source": [
    "del df['prob']"
   ]
  },
  {
   "cell_type": "code",
   "execution_count": 5,
   "id": "1ffad741-517a-4672-bb57-a4df5148411b",
   "metadata": {},
   "outputs": [],
   "source": [
    "df[['docno','text']] = df[['docno','text']].astype(str)"
   ]
  },
  {
   "cell_type": "code",
   "execution_count": 6,
   "id": "d57c8f36-3af3-45e5-b268-a3ed887f1a1e",
   "metadata": {},
   "outputs": [
    {
     "data": {
      "text/plain": [
       "(884183, 2)"
      ]
     },
     "execution_count": 6,
     "metadata": {},
     "output_type": "execute_result"
    }
   ],
   "source": [
    "df.shape"
   ]
  },
  {
   "cell_type": "code",
   "execution_count": 38,
   "id": "5a8ad681-2126-4c58-a90f-be6b61432e1a",
   "metadata": {},
   "outputs": [],
   "source": [
    "df3 = pd.DataFrame([\n",
    "   {'docno': '0', 'text': 'The Five Find-Outers and Dog, also known as The Five Find-Outers, is a series of children\\'s mystery books written by Enid Blyton.'},\n",
    "   {'docno': '1', 'text': 'City is a 1952 science fiction fix-up novel by American writer Clifford D. Simak.'},\n",
    " ])"
   ]
  },
  {
   "cell_type": "code",
   "execution_count": 39,
   "id": "720d9a9b-73b7-4249-b85e-695c81c54fab",
   "metadata": {},
   "outputs": [
    {
     "name": "stdout",
     "output_type": "stream",
     "text": [
      "   index docno  \\\n",
      "0      0     0   \n",
      "1      1     1   \n",
      "\n",
      "                                                                                                  text  \n",
      "0  The Five Find-Outers and Dog, also known as The Five Find-Outers, is a series of children's myst...  \n",
      "1                    City is a 1952 science fiction fix-up novel by American writer Clifford D. Simak.  \n"
     ]
    }
   ],
   "source": [
    "print(df3.head())"
   ]
  },
  {
   "cell_type": "code",
   "execution_count": 35,
   "id": "6c7f3257-1f8f-4b7b-ac90-1ae3260d8635",
   "metadata": {},
   "outputs": [
    {
     "data": {
      "text/html": [
       "<div>\n",
       "<style scoped>\n",
       "    .dataframe tbody tr th:only-of-type {\n",
       "        vertical-align: middle;\n",
       "    }\n",
       "\n",
       "    .dataframe tbody tr th {\n",
       "        vertical-align: top;\n",
       "    }\n",
       "\n",
       "    .dataframe thead th {\n",
       "        text-align: right;\n",
       "    }\n",
       "</style>\n",
       "<table border=\"1\" class=\"dataframe\">\n",
       "  <thead>\n",
       "    <tr style=\"text-align: right;\">\n",
       "      <th></th>\n",
       "      <th>text</th>\n",
       "      <th>docno</th>\n",
       "    </tr>\n",
       "  </thead>\n",
       "  <tbody>\n",
       "    <tr>\n",
       "      <th>0</th>\n",
       "      <td>Manhattan Project. The Manhattan Project was a research and development undertaking during World...</td>\n",
       "      <td>7</td>\n",
       "    </tr>\n",
       "    <tr>\n",
       "      <th>1</th>\n",
       "      <td>Tutorial: Introduction to Restorative Justice. Restorative justice is a theory of justice that e...</td>\n",
       "      <td>12</td>\n",
       "    </tr>\n",
       "    <tr>\n",
       "      <th>2</th>\n",
       "      <td>Phloem is a conductive (or vascular) tissue found in plants. Phloem carries the products of phot...</td>\n",
       "      <td>20</td>\n",
       "    </tr>\n",
       "    <tr>\n",
       "      <th>3</th>\n",
       "      <td>Industrial Workers of the World. In 1905 representatives of 43 groups who opposed the policies o...</td>\n",
       "      <td>36</td>\n",
       "    </tr>\n",
       "    <tr>\n",
       "      <th>4</th>\n",
       "      <td>The World Bank ranked Costa Rica as having the highest life expectancy, at 78.7 years. This figu...</td>\n",
       "      <td>47</td>\n",
       "    </tr>\n",
       "  </tbody>\n",
       "</table>\n",
       "</div>"
      ],
      "text/plain": [
       "                                                                                                  text  \\\n",
       "0  Manhattan Project. The Manhattan Project was a research and development undertaking during World...   \n",
       "1  Tutorial: Introduction to Restorative Justice. Restorative justice is a theory of justice that e...   \n",
       "2  Phloem is a conductive (or vascular) tissue found in plants. Phloem carries the products of phot...   \n",
       "3  Industrial Workers of the World. In 1905 representatives of 43 groups who opposed the policies o...   \n",
       "4  The World Bank ranked Costa Rica as having the highest life expectancy, at 78.7 years. This figu...   \n",
       "\n",
       "  docno  \n",
       "0     7  \n",
       "1    12  \n",
       "2    20  \n",
       "3    36  \n",
       "4    47  "
      ]
     },
     "execution_count": 35,
     "metadata": {},
     "output_type": "execute_result"
    }
   ],
   "source": [
    "df.head()"
   ]
  },
  {
   "cell_type": "code",
   "execution_count": 15,
   "id": "fdfb9b55-4312-4980-9af7-4b74fa30e17b",
   "metadata": {},
   "outputs": [],
   "source": []
  },
  {
   "cell_type": "code",
   "execution_count": 9,
   "id": "1252f2ce-f746-44c8-b7f0-7c233ddf501f",
   "metadata": {},
   "outputs": [],
   "source": [
    "# rng = [str(docno) for docno in range(8840985,8841820)]\n",
    "rng = [str(docno) for docno in range(8840800, 8840985)]\n",
    "iterable_dict = df[df['docno'].isin(rng)].to_dict(orient=\"records\")"
   ]
  },
  {
   "cell_type": "code",
   "execution_count": 10,
   "id": "aeb45eb3-38f8-4459-808c-4a77b9237775",
   "metadata": {},
   "outputs": [],
   "source": [
    "# for record in iterable_dict:\n",
    "#     print(record)"
   ]
  },
  {
   "cell_type": "code",
   "execution_count": 11,
   "id": "3d0b2cad-8f7d-4296-b13a-d895856cbcdd",
   "metadata": {},
   "outputs": [
    {
     "name": "stdout",
     "output_type": "stream",
     "text": [
      "existing index file at /root/retrievability-bias/t5-base-msmarco-epoch-5-tctcolbert-index-threshold-3_test.flex removed\n",
      "indexing into /root/retrievability-bias/t5-base-msmarco-epoch-5-tctcolbert-index-threshold-3_test.flex\n"
     ]
    },
    {
     "name": "stderr",
     "output_type": "stream",
     "text": [
      "indexing: 25dvec [00:00, 162.40dvec/s]"
     ]
    },
    {
     "name": "stdout",
     "output_type": "stream",
     "text": [
      "8840801 -----> 8840981\n",
      "indexing /root/retrievability-bias/t5-base-msmarco-epoch-5-tctcolbert-index-threshold-3_test.flex done\n"
     ]
    },
    {
     "name": "stderr",
     "output_type": "stream",
     "text": [
      "\n"
     ]
    }
   ],
   "source": [
    "index_path = f\"{root_dir}/{modelname}-{ranker}-index-threshold-{threshold}_test.flex\"\n",
    "if os.path.exists(index_path):\n",
    "    shutil.rmtree(index_path)\n",
    "    print(f'existing index file at {index_path} removed')\n",
    "\n",
    "print(f'indexing into {index_path}')\n",
    "index = pyterrier_dr.FlexIndex(f'{index_path}')\n",
    "\n",
    "# idx_pipeline = DocumentFilter(qual_signal=qual_signal, threshold=threshold) >> model >> index\n",
    "idx_pipeline =  model >> index\n",
    "\n",
    "# idx_pipeline.index(df3)\n",
    "idx_pipeline.index(iterable_dict)\n",
    "\n",
    "print(f'indexing {index_path} done')"
   ]
  },
  {
   "cell_type": "code",
   "execution_count": null,
   "id": "8ecd289e-0e8b-448d-8de9-037d9bed10f7",
   "metadata": {},
   "outputs": [],
   "source": []
  },
  {
   "cell_type": "code",
   "execution_count": 1,
   "id": "e42140b7-de74-421d-8417-960601d65e66",
   "metadata": {},
   "outputs": [
    {
     "data": {
      "image/png": "[encoded data removed]",
      "text/plain": [
       "<Figure size 640x480 with 2 Axes>"
      ]
     },
     "metadata": {},
     "output_type": "display_data"
    }
   ],
   "source": [
    "import matplotlib.pyplot as plt\n",
    "import numpy as np\n",
    "\n",
    "# Sample data\n",
    "x = np.linspace(0, 10, 100)\n",
    "y1 = np.sin(x)\n",
    "y2 = np.cos(x)\n",
    "\n",
    "fig, axs = plt.subplots(2, 1, sharex=True)\n",
    "\n",
    "# Plotting on the first subplot\n",
    "line1, = axs[0].plot(x, y1, label='Sine')\n",
    "line2, = axs[0].plot(x, y2, label='Cosine')\n",
    "axs[0].set_title('First Subplot')\n",
    "\n",
    "# Plotting on the second subplot\n",
    "line3, = axs[1].plot(x, -y1, label='Negative Sine')\n",
    "line4, = axs[1].plot(x, -y2, label='Negative Cosine')\n",
    "axs[1].set_title('Second Subplot')\n",
    "\n",
    "# Creating a common legend\n",
    "fig.legend(handles=[line1, line2, line3, line4], loc='upper center', ncol=2)\n",
    "\n",
    "plt.show()\n"
   ]
  },
  {
   "cell_type": "code",
   "execution_count": null,
   "id": "b37d2c08-36ab-4656-aa72-d151c2c6e698",
   "metadata": {},
   "outputs": [],
   "source": []
  }
 ],
 "metadata": {
  "kernelspec": {
   "display_name": "Python [conda env:py3.10.15]",
   "language": "python",
   "name": "conda-env-py3.10.15-py"
  },
  "language_info": {
   "codemirror_mode": {
    "name": "ipython",
    "version": 3
   },
   "file_extension": ".py",
   "mimetype": "text/x-python",
   "name": "python",
   "nbconvert_exporter": "python",
   "pygments_lexer": "ipython3",
   "version": "3.10.15"
  }
 },
 "nbformat": 4,
 "nbformat_minor": 5
}
