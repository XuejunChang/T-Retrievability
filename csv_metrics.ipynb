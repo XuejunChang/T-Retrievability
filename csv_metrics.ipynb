{
 "cells": [
  {
   "cell_type": "code",
   "id": "ebfc404f-f2d4-4dfe-8fe0-005cbf4c296c",
   "metadata": {
    "scrolled": true,
    "ExecuteTime": {
     "end_time": "2025-05-12T19:34:20.705306Z",
     "start_time": "2025-05-12T19:34:13.640492Z"
    }
   },
   "source": [
    "import warnings\n",
    "warnings.filterwarnings('ignore')\n",
    "import pyterrier as pt\n",
    "if not pt.java.started():\n",
    "    pt.java.init()\n",
    "\n",
    "import os\n",
    "\n",
    "# sys.path.append('/nfs/primary/exposure-fairness')\n",
    "os.chdir('/nfs/primary/exposure-fairness')\n",
    "import pandas as pd\n",
    "import numpy as np\n",
    "pd.set_option('display.max_columns', None)\n",
    "pd.set_option('display.max_rows', None)\n",
    "pd.set_option('display.max_colwidth', 100)\n",
    "import matplotlib.pyplot as plt"
   ],
   "outputs": [
    {
     "name": "stderr",
     "output_type": "stream",
     "text": [
      "Java started and loaded: pyterrier.java, pyterrier.terrier.java [version=5.11 (build: craig.macdonald 2025-01-13 21:29), helper_version=0.0.8]\n"
     ]
    }
   ],
   "execution_count": 2
  },
  {
   "cell_type": "code",
   "id": "12bf8a34-0cfc-484c-8474-d7a95bc562ce",
   "metadata": {
    "ExecuteTime": {
     "end_time": "2025-05-12T19:34:50.794776Z",
     "start_time": "2025-05-12T19:34:50.790141Z"
    }
   },
   "source": "os.getcwd()",
   "outputs": [
    {
     "data": {
      "text/plain": [
       "'/nfs/primary/exposure-fairness'"
      ]
     },
     "execution_count": 3,
     "metadata": {},
     "output_type": "execute_result"
    }
   ],
   "execution_count": 3
  },
  {
   "cell_type": "code",
   "id": "fd85692f-9aa0-4551-bcb1-5c97213304de",
   "metadata": {
    "ExecuteTime": {
     "end_time": "2025-05-12T19:35:59.072401Z",
     "start_time": "2025-05-12T19:35:58.956877Z"
    }
   },
   "source": [
    "# data_dir = '/nfs/datasets/cxj/retrievability-bias/data/bm25'\n",
    "# df = pd.read_csv(f'{data_dir}/df_bm25_dev_0.csv', index_col=0).reset_index()\n",
    "\n",
    "# data_dir = '/nfs/datasets/cxj/retrievability-bias/data/bm25_monot5'\n",
    "# df = pd.read_csv(f'{data_dir}/df_bm25_monot5_dev_0.csv', index_col=0).reset_index()\n",
    "\n",
    "# data_dir = '/nfs/datasets/cxj/retrievability-bias/data/rtr_splade'\n",
    "# df = pd.read_csv(f'{data_dir}/df_rtr_splade_dev_topics_0.csv', index_col=0).reset_index()\n",
    "\n",
    "# data_dir = '/nfs/datasets/cxj/retrievability-bias/data/tctcolbert'\n",
    "# df = pd.read_csv(f'{data_dir}/df_tctcolbert_dev_0.csv', index_col=0).reset_index()\n",
    "\n",
    "# data_dir = '/nfs/datasets/cxj/retrievability-bias/data/bm25_tctcolbert'\n",
    "# df = pd.read_csv(f'{data_dir}/df_bm25_tctcolbert_dev_0.csv', index_col=0).reset_index()\n",
    "\n",
    "# csv = '/mnt/datasets/cxj/exposure-fairness/bm25/results.pkl'\n",
    "# df = pd.read_pickle(csv).reset_index()\n",
    "\n",
    "# csv = '/mnt/datasets/cxj/exposure-fairness/bm25/df_bm25_dev_0.csv'\n",
    "# df = pd.read_csv(csv, index_col=0).reset_index()\n",
    "\n",
    "# csv = '/mnt/datasets/cxj/exposure-fairness/bm25_monot5/df_bm25_monot5_dev_0.csv'\n",
    "# df = pd.read_csv(csv, index_col=0).reset_index()\n",
    "\n",
    "# csv = '/mnt/datasets/cxj/exposure-fairness/splade/df_splade_dev_0.csv'\n",
    "# df = pd.read_csv(csv, index_col=0).reset_index()\n",
    "\n",
    "# csv = '/mnt/datasets/cxj/exposure-fairness/tctcolbert/df_tctcolbert_dev_0.csv'\n",
    "# df = pd.read_csv(csv, index_col=0).reset_index()\n",
    "\n",
    "# csv = '/mnt/datasets/cxj/exposure-fairness/bm25_tctcolbert/df_bm25_tctcolbert_dev_0.csv'\n",
    "# df = pd.read_csv(csv, index_col=0).reset_index()\n",
    "\n",
    "pkl = '/nfs/datasets/cxj/exposure-fairness/v1/results.pkl'\n",
    "df = pd.read_pickle(pkl).reset_index(drop=True)"
   ],
   "outputs": [],
   "execution_count": 4
  },
  {
   "cell_type": "code",
   "id": "02d04d38-a0f7-424f-a510-817a247e6a4f",
   "metadata": {},
   "source": "df[(df.modelname == 'bm25') & (df.num_groups == 2000)]",
   "outputs": [],
   "execution_count": null
  },
  {
   "metadata": {
    "ExecuteTime": {
     "end_time": "2025-05-12T19:49:37.359562Z",
     "start_time": "2025-05-12T19:48:15.819116Z"
    }
   },
   "cell_type": "code",
   "source": [
    "result = '/nfs/datasets/cxj/exposure-fairness/v1/df_bm25_dev_0.csv'\n",
    "df = pd.read_csv(result,index_col=0).reset_index(drop=True)\n",
    "df.head()"
   ],
   "id": "fad92192c8866081",
   "outputs": [
    {
     "data": {
      "text/plain": [
       "     docid    docno  rank      score                           query  \\\n",
       "0  7187236  7187236     0  67.528593  cost of endless pools swim spa   \n",
       "1  7471198  7471198     1  62.121928  cost of endless pools swim spa   \n",
       "2  5365326  5365326     2  51.958492  cost of endless pools swim spa   \n",
       "3  7187241  7187241     3  51.947947  cost of endless pools swim spa   \n",
       "4  6802210  6802210     4  47.925985  cost of endless pools swim spa   \n",
       "\n",
       "                                                                                                  text  \n",
       "0  The Endless Pool 15' endless pools swim spa Endless Pool Nightmare Buy A Big Spa Instead Great t...  \n",
       "1  Cal Spas is the leading maker of home resort products. Cal Spas makes a great jetted swim spa wi...  \n",
       "2  How much does a swim spa cost. 1  A top of the line, branded swim spa 9 feet by 16 feet with the...  \n",
       "3  Disclaimer: Endless Pools (and all other swim spa manufacturers) are intentionally secretive abo...  \n",
       "4  Endless Pools is one of the first companies to develop this Swim Spa, or “endless” swimming pool...  "
      ],
      "text/html": [
       "<div>\n",
       "<style scoped>\n",
       "    .dataframe tbody tr th:only-of-type {\n",
       "        vertical-align: middle;\n",
       "    }\n",
       "\n",
       "    .dataframe tbody tr th {\n",
       "        vertical-align: top;\n",
       "    }\n",
       "\n",
       "    .dataframe thead th {\n",
       "        text-align: right;\n",
       "    }\n",
       "</style>\n",
       "<table border=\"1\" class=\"dataframe\">\n",
       "  <thead>\n",
       "    <tr style=\"text-align: right;\">\n",
       "      <th></th>\n",
       "      <th>docid</th>\n",
       "      <th>docno</th>\n",
       "      <th>rank</th>\n",
       "      <th>score</th>\n",
       "      <th>query</th>\n",
       "      <th>text</th>\n",
       "    </tr>\n",
       "  </thead>\n",
       "  <tbody>\n",
       "    <tr>\n",
       "      <th>0</th>\n",
       "      <td>7187236</td>\n",
       "      <td>7187236</td>\n",
       "      <td>0</td>\n",
       "      <td>67.528593</td>\n",
       "      <td>cost of endless pools swim spa</td>\n",
       "      <td>The Endless Pool 15' endless pools swim spa Endless Pool Nightmare Buy A Big Spa Instead Great t...</td>\n",
       "    </tr>\n",
       "    <tr>\n",
       "      <th>1</th>\n",
       "      <td>7471198</td>\n",
       "      <td>7471198</td>\n",
       "      <td>1</td>\n",
       "      <td>62.121928</td>\n",
       "      <td>cost of endless pools swim spa</td>\n",
       "      <td>Cal Spas is the leading maker of home resort products. Cal Spas makes a great jetted swim spa wi...</td>\n",
       "    </tr>\n",
       "    <tr>\n",
       "      <th>2</th>\n",
       "      <td>5365326</td>\n",
       "      <td>5365326</td>\n",
       "      <td>2</td>\n",
       "      <td>51.958492</td>\n",
       "      <td>cost of endless pools swim spa</td>\n",
       "      <td>How much does a swim spa cost. 1  A top of the line, branded swim spa 9 feet by 16 feet with the...</td>\n",
       "    </tr>\n",
       "    <tr>\n",
       "      <th>3</th>\n",
       "      <td>7187241</td>\n",
       "      <td>7187241</td>\n",
       "      <td>3</td>\n",
       "      <td>51.947947</td>\n",
       "      <td>cost of endless pools swim spa</td>\n",
       "      <td>Disclaimer: Endless Pools (and all other swim spa manufacturers) are intentionally secretive abo...</td>\n",
       "    </tr>\n",
       "    <tr>\n",
       "      <th>4</th>\n",
       "      <td>6802210</td>\n",
       "      <td>6802210</td>\n",
       "      <td>4</td>\n",
       "      <td>47.925985</td>\n",
       "      <td>cost of endless pools swim spa</td>\n",
       "      <td>Endless Pools is one of the first companies to develop this Swim Spa, or “endless” swimming pool...</td>\n",
       "    </tr>\n",
       "  </tbody>\n",
       "</table>\n",
       "</div>"
      ]
     },
     "execution_count": 16,
     "metadata": {},
     "output_type": "execute_result"
    }
   ],
   "execution_count": 16
  },
  {
   "metadata": {},
   "cell_type": "code",
   "outputs": [],
   "execution_count": null,
   "source": [
    "# df2 = pd.DataFrame()\n",
    "# df2['query_id'] = df['qid'].astype(str)\n",
    "# df2['doc_id'] = df['docno'].astype(str)\n",
    "# df2['score'] = df['score']\n",
    "# ir_measures.calc_aggregate([RR, nDCG@10], qrels, df2)"
   ],
   "id": "fbbec448-c6ac-4700-a805-66017a645ba5"
  },
  {
   "metadata": {
    "ExecuteTime": {
     "end_time": "2025-05-12T21:09:17.322758Z",
     "start_time": "2025-05-12T21:09:17.316865Z"
    }
   },
   "cell_type": "code",
   "source": [
    "df = pd.read_csv('./results/result_all_models_all_groups.csv')\n",
    "df = df.round(2)"
   ],
   "id": "abd32cca-6fe7-4fe7-bfbd-b0fd8360fa58",
   "outputs": [],
   "execution_count": 20
  },
  {
   "metadata": {
    "ExecuteTime": {
     "end_time": "2025-05-12T21:09:19.299327Z",
     "start_time": "2025-05-12T21:09:19.290994Z"
    }
   },
   "cell_type": "code",
   "source": "df.head()",
   "id": "86bc144b4349f798",
   "outputs": [
    {
     "data": {
      "text/plain": [
       "  modelname  threshold  grps  min_gini  mean_gini  max_gini  nDCG@10  RR\n",
       "0      bm25          0   500      0.19       0.29      0.56      NaN NaN\n",
       "1      bm25         30   500      0.19       0.30      0.58      NaN NaN\n",
       "2      bm25         60   500      0.20       0.33      0.58      NaN NaN\n",
       "3      bm25         90   500      0.24       0.40      0.67      NaN NaN\n",
       "4      bm25          0  1000      0.18       0.28      0.61      NaN NaN"
      ],
      "text/html": [
       "<div>\n",
       "<style scoped>\n",
       "    .dataframe tbody tr th:only-of-type {\n",
       "        vertical-align: middle;\n",
       "    }\n",
       "\n",
       "    .dataframe tbody tr th {\n",
       "        vertical-align: top;\n",
       "    }\n",
       "\n",
       "    .dataframe thead th {\n",
       "        text-align: right;\n",
       "    }\n",
       "</style>\n",
       "<table border=\"1\" class=\"dataframe\">\n",
       "  <thead>\n",
       "    <tr style=\"text-align: right;\">\n",
       "      <th></th>\n",
       "      <th>modelname</th>\n",
       "      <th>threshold</th>\n",
       "      <th>grps</th>\n",
       "      <th>min_gini</th>\n",
       "      <th>mean_gini</th>\n",
       "      <th>max_gini</th>\n",
       "      <th>nDCG@10</th>\n",
       "      <th>RR</th>\n",
       "    </tr>\n",
       "  </thead>\n",
       "  <tbody>\n",
       "    <tr>\n",
       "      <th>0</th>\n",
       "      <td>bm25</td>\n",
       "      <td>0</td>\n",
       "      <td>500</td>\n",
       "      <td>0.19</td>\n",
       "      <td>0.29</td>\n",
       "      <td>0.56</td>\n",
       "      <td>NaN</td>\n",
       "      <td>NaN</td>\n",
       "    </tr>\n",
       "    <tr>\n",
       "      <th>1</th>\n",
       "      <td>bm25</td>\n",
       "      <td>30</td>\n",
       "      <td>500</td>\n",
       "      <td>0.19</td>\n",
       "      <td>0.30</td>\n",
       "      <td>0.58</td>\n",
       "      <td>NaN</td>\n",
       "      <td>NaN</td>\n",
       "    </tr>\n",
       "    <tr>\n",
       "      <th>2</th>\n",
       "      <td>bm25</td>\n",
       "      <td>60</td>\n",
       "      <td>500</td>\n",
       "      <td>0.20</td>\n",
       "      <td>0.33</td>\n",
       "      <td>0.58</td>\n",
       "      <td>NaN</td>\n",
       "      <td>NaN</td>\n",
       "    </tr>\n",
       "    <tr>\n",
       "      <th>3</th>\n",
       "      <td>bm25</td>\n",
       "      <td>90</td>\n",
       "      <td>500</td>\n",
       "      <td>0.24</td>\n",
       "      <td>0.40</td>\n",
       "      <td>0.67</td>\n",
       "      <td>NaN</td>\n",
       "      <td>NaN</td>\n",
       "    </tr>\n",
       "    <tr>\n",
       "      <th>4</th>\n",
       "      <td>bm25</td>\n",
       "      <td>0</td>\n",
       "      <td>1000</td>\n",
       "      <td>0.18</td>\n",
       "      <td>0.28</td>\n",
       "      <td>0.61</td>\n",
       "      <td>NaN</td>\n",
       "      <td>NaN</td>\n",
       "    </tr>\n",
       "  </tbody>\n",
       "</table>\n",
       "</div>"
      ]
     },
     "execution_count": 21,
     "metadata": {},
     "output_type": "execute_result"
    }
   ],
   "execution_count": 21
  },
  {
   "cell_type": "code",
   "execution_count": null,
   "id": "882e48c9-8112-458b-86a2-fb9b10f67609",
   "metadata": {},
   "outputs": [],
   "source": [
    "import json\n",
    "\n",
    "def save(dict, file):\n",
    "    with open(file,'w') as f:\n",
    "        json.dump(dict, f)\n",
    "\n",
    "def load(file):\n",
    "    with open(file,'r') as f:\n",
    "        ms_docids = json.load(f)\n",
    "    return ms_docids\n",
    "\n",
    "import statistics\n",
    "def calc_stats(modelname,df,scoredF, topics):\n",
    "    if not os.path.exists(scoredF):\n",
    "        init_msmarco_dict = './results/ms_docids.json'\n",
    "        docids_score = load(init_msmarco_dict)\n",
    "        for qid in pt.tqdm(topics['qid']):\n",
    "            D = df[df['qid'] == np.int64(qid)]\n",
    "            for dno in D['docno']:\n",
    "                rank = D[D['docno'] == dno]['rank'].values[0]\n",
    "                score = 100 / np.log(rank + 2)  # plus 2 because the ranks start from zero\n",
    "                docids_score[str(dno)] += score\n",
    "        save(docids_score, scoredF)\n",
    "\n",
    "    docids_score = load(scoredF)\n",
    "    scores_df = pd.DataFrame.from_dict(docids_score, orient=\"index\", columns=[\"score\"])\n",
    "    scores_df = scores_df[scores_df[\"score\"] > 0]\n",
    "    scores = scores_df['score'].to_list()\n",
    "\n",
    "    mean = statistics.mean(scores)\n",
    "    std_dev = statistics.stdev(scores)\n",
    "    gini_value = Gini(scores)\n",
    "    return mean, std_dev, gini_value"
   ]
  }
 ],
 "metadata": {
  "kernelspec": {
   "display_name": "Python [conda env:exposure-fairness3.10.15]",
   "language": "python",
   "name": "conda-env-exposure-fairness3.10.15-py"
  },
  "language_info": {
   "codemirror_mode": {
    "name": "ipython",
    "version": 3
   },
   "file_extension": ".py",
   "mimetype": "text/x-python",
   "name": "python",
   "nbconvert_exporter": "python",
   "pygments_lexer": "ipython3",
   "version": "3.10.15"
  }
 },
 "nbformat": 4,
 "nbformat_minor": 5
}
