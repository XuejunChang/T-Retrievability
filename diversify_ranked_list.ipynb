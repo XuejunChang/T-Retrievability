{
 "cells": [
  {
   "cell_type": "code",
   "execution_count": 22,
   "id": "d24fc40a-686f-401a-a645-0974b4df1280",
   "metadata": {},
   "outputs": [],
   "source": [
    "import pandas as pd\n",
    "import pyterrier as pt\n",
    "if not pt.java.started():\n",
    "    pt.java.init()\n",
    "from tqdm import tqdm\n"
   ]
  },
  {
   "cell_type": "code",
   "execution_count": 3,
   "id": "b6bc5673-5ca5-40a5-a0cc-97455a87efbb",
   "metadata": {},
   "outputs": [
    {
     "name": "stderr",
     "output_type": "stream",
     "text": [
      "msmarco-passage/dev documents: 100%|██████████| 8841823/8841823 [00:25<00:00, 346539.25it/s]\n"
     ]
    }
   ],
   "source": [
    "eval_dataset = pt.get_dataset(f'irds:msmarco-passage/dev')\n",
    "corpus_df  = pd.DataFrame(eval_dataset.get_corpus_iter(verbose=True))\n",
    "\n",
    "trec_file = \"/mnt/datasets/cxj/exposure-fairness-extend/tctcolbert_msmarco-passage_dev_200.res\"\n",
    "trec_df = pd.read_csv(trec_file,sep=r\"\\s+\", names=[\"qid\", \"Q0\", \"docno\", \"rank\", \"score\", \"run\"], dtype={\"qid\": str, \"docno\": str})"
   ]
  },
  {
   "cell_type": "code",
   "execution_count": 6,
   "id": "4f2e9968-7f45-440c-b312-f7e8d9cfb377",
   "metadata": {},
   "outputs": [
    {
     "data": {
      "text/html": [
       "<div>\n",
       "<style scoped>\n",
       "    .dataframe tbody tr th:only-of-type {\n",
       "        vertical-align: middle;\n",
       "    }\n",
       "\n",
       "    .dataframe tbody tr th {\n",
       "        vertical-align: top;\n",
       "    }\n",
       "\n",
       "    .dataframe thead th {\n",
       "        text-align: right;\n",
       "    }\n",
       "</style>\n",
       "<table border=\"1\" class=\"dataframe\">\n",
       "  <thead>\n",
       "    <tr style=\"text-align: right;\">\n",
       "      <th></th>\n",
       "      <th>qid</th>\n",
       "      <th>Q0</th>\n",
       "      <th>docno</th>\n",
       "      <th>rank</th>\n",
       "      <th>score</th>\n",
       "      <th>run</th>\n",
       "    </tr>\n",
       "  </thead>\n",
       "  <tbody>\n",
       "    <tr>\n",
       "      <th>0</th>\n",
       "      <td>1048578</td>\n",
       "      <td>Q0</td>\n",
       "      <td>7187234</td>\n",
       "      <td>0</td>\n",
       "      <td>81.498650</td>\n",
       "      <td>tctcolbert_msmarco-passage_dev_200</td>\n",
       "    </tr>\n",
       "    <tr>\n",
       "      <th>1</th>\n",
       "      <td>1048578</td>\n",
       "      <td>Q0</td>\n",
       "      <td>4567130</td>\n",
       "      <td>1</td>\n",
       "      <td>81.423740</td>\n",
       "      <td>tctcolbert_msmarco-passage_dev_200</td>\n",
       "    </tr>\n",
       "    <tr>\n",
       "      <th>2</th>\n",
       "      <td>1048578</td>\n",
       "      <td>Q0</td>\n",
       "      <td>7187239</td>\n",
       "      <td>2</td>\n",
       "      <td>80.703580</td>\n",
       "      <td>tctcolbert_msmarco-passage_dev_200</td>\n",
       "    </tr>\n",
       "    <tr>\n",
       "      <th>3</th>\n",
       "      <td>1048578</td>\n",
       "      <td>Q0</td>\n",
       "      <td>2078221</td>\n",
       "      <td>3</td>\n",
       "      <td>80.142410</td>\n",
       "      <td>tctcolbert_msmarco-passage_dev_200</td>\n",
       "    </tr>\n",
       "    <tr>\n",
       "      <th>4</th>\n",
       "      <td>1048578</td>\n",
       "      <td>Q0</td>\n",
       "      <td>5365328</td>\n",
       "      <td>4</td>\n",
       "      <td>79.947495</td>\n",
       "      <td>tctcolbert_msmarco-passage_dev_200</td>\n",
       "    </tr>\n",
       "  </tbody>\n",
       "</table>\n",
       "</div>"
      ],
      "text/plain": [
       "       qid  Q0    docno  rank      score                                 run\n",
       "0  1048578  Q0  7187234     0  81.498650  tctcolbert_msmarco-passage_dev_200\n",
       "1  1048578  Q0  4567130     1  81.423740  tctcolbert_msmarco-passage_dev_200\n",
       "2  1048578  Q0  7187239     2  80.703580  tctcolbert_msmarco-passage_dev_200\n",
       "3  1048578  Q0  2078221     3  80.142410  tctcolbert_msmarco-passage_dev_200\n",
       "4  1048578  Q0  5365328     4  79.947495  tctcolbert_msmarco-passage_dev_200"
      ]
     },
     "execution_count": 6,
     "metadata": {},
     "output_type": "execute_result"
    }
   ],
   "source": [
    "trec_df.head()"
   ]
  },
  {
   "cell_type": "code",
   "execution_count": 32,
   "id": "30975d23-bd6a-46b9-813e-3a5da9fd60e3",
   "metadata": {},
   "outputs": [],
   "source": [
    "result_df = trec_df.merge(corpus_df, how=\"left\", on=\"docno\")"
   ]
  },
  {
   "cell_type": "code",
   "execution_count": 33,
   "id": "a2c605aa-6ff7-4c23-a4ab-9d3502d1a9c1",
   "metadata": {},
   "outputs": [
    {
     "data": {
      "text/html": [
       "<div>\n",
       "<style scoped>\n",
       "    .dataframe tbody tr th:only-of-type {\n",
       "        vertical-align: middle;\n",
       "    }\n",
       "\n",
       "    .dataframe tbody tr th {\n",
       "        vertical-align: top;\n",
       "    }\n",
       "\n",
       "    .dataframe thead th {\n",
       "        text-align: right;\n",
       "    }\n",
       "</style>\n",
       "<table border=\"1\" class=\"dataframe\">\n",
       "  <thead>\n",
       "    <tr style=\"text-align: right;\">\n",
       "      <th></th>\n",
       "      <th>qid</th>\n",
       "      <th>Q0</th>\n",
       "      <th>docno</th>\n",
       "      <th>rank</th>\n",
       "      <th>score</th>\n",
       "      <th>run</th>\n",
       "      <th>text</th>\n",
       "    </tr>\n",
       "  </thead>\n",
       "  <tbody>\n",
       "    <tr>\n",
       "      <th>0</th>\n",
       "      <td>1048578</td>\n",
       "      <td>Q0</td>\n",
       "      <td>7187234</td>\n",
       "      <td>0</td>\n",
       "      <td>81.498650</td>\n",
       "      <td>tctcolbert_msmarco-passage_dev_200</td>\n",
       "      <td>Endless pools and swim spas are available in a...</td>\n",
       "    </tr>\n",
       "    <tr>\n",
       "      <th>1</th>\n",
       "      <td>1048578</td>\n",
       "      <td>Q0</td>\n",
       "      <td>4567130</td>\n",
       "      <td>1</td>\n",
       "      <td>81.423740</td>\n",
       "      <td>tctcolbert_msmarco-passage_dev_200</td>\n",
       "      <td>$23,900. The 17' Endless Pool Spa features a l...</td>\n",
       "    </tr>\n",
       "    <tr>\n",
       "      <th>2</th>\n",
       "      <td>1048578</td>\n",
       "      <td>Q0</td>\n",
       "      <td>7187239</td>\n",
       "      <td>2</td>\n",
       "      <td>80.703580</td>\n",
       "      <td>tctcolbert_msmarco-passage_dev_200</td>\n",
       "      <td>Endless Pools offers a family of swimming mach...</td>\n",
       "    </tr>\n",
       "    <tr>\n",
       "      <th>3</th>\n",
       "      <td>1048578</td>\n",
       "      <td>Q0</td>\n",
       "      <td>2078221</td>\n",
       "      <td>3</td>\n",
       "      <td>80.142410</td>\n",
       "      <td>tctcolbert_msmarco-passage_dev_200</td>\n",
       "      <td>1 A number of value brands will sell swim spas...</td>\n",
       "    </tr>\n",
       "    <tr>\n",
       "      <th>4</th>\n",
       "      <td>1048578</td>\n",
       "      <td>Q0</td>\n",
       "      <td>5365328</td>\n",
       "      <td>4</td>\n",
       "      <td>79.947495</td>\n",
       "      <td>tctcolbert_msmarco-passage_dev_200</td>\n",
       "      <td>1 A top of the line, branded swim spa 9 feet b...</td>\n",
       "    </tr>\n",
       "  </tbody>\n",
       "</table>\n",
       "</div>"
      ],
      "text/plain": [
       "       qid  Q0    docno  rank      score                                 run  \\\n",
       "0  1048578  Q0  7187234     0  81.498650  tctcolbert_msmarco-passage_dev_200   \n",
       "1  1048578  Q0  4567130     1  81.423740  tctcolbert_msmarco-passage_dev_200   \n",
       "2  1048578  Q0  7187239     2  80.703580  tctcolbert_msmarco-passage_dev_200   \n",
       "3  1048578  Q0  2078221     3  80.142410  tctcolbert_msmarco-passage_dev_200   \n",
       "4  1048578  Q0  5365328     4  79.947495  tctcolbert_msmarco-passage_dev_200   \n",
       "\n",
       "                                                text  \n",
       "0  Endless pools and swim spas are available in a...  \n",
       "1  $23,900. The 17' Endless Pool Spa features a l...  \n",
       "2  Endless Pools offers a family of swimming mach...  \n",
       "3  1 A number of value brands will sell swim spas...  \n",
       "4  1 A top of the line, branded swim spa 9 feet b...  "
      ]
     },
     "execution_count": 33,
     "metadata": {},
     "output_type": "execute_result"
    }
   ],
   "source": [
    "result_df.head()"
   ]
  },
  {
   "cell_type": "code",
   "execution_count": null,
   "id": "143af12c-b485-4877-a418-46cc5b892f66",
   "metadata": {},
   "outputs": [],
   "source": [
    "# model = pyterrier_dr.TctColBert('castorini/tct_colbert-v2-hnp-msmarco', batch_size=16, verbose=True)\n",
    "# doc_vectors = model.encode_docs(tqdm(merged_src_df['text'].to_list()))\n",
    "# merged_src_df['doc_vec'] = [vec for vec in doc_vectors]"
   ]
  },
  {
   "cell_type": "code",
   "execution_count": 14,
   "id": "5129b408-799a-4259-b46b-53a4e93b18c4",
   "metadata": {},
   "outputs": [],
   "source": [
    "from sentence_transformers import SentenceTransformer\n",
    "import pandas as pd\n",
    "\n",
    "model = SentenceTransformer(\"BAAI/bge-base-en-v1.5\")"
   ]
  },
  {
   "cell_type": "code",
   "execution_count": 30,
   "id": "79863fb1-49a8-4078-9eb9-30498993cff5",
   "metadata": {},
   "outputs": [
    {
     "name": "stderr",
     "output_type": "stream",
     "text": [
      "100%|██████████| 1000/1000 [00:00<00:00, 3026193.36it/s]\n"
     ]
    }
   ],
   "source": [
    "# result_df['doc_vec'] = model.encode(tqdm(result_df[\"text\"].tolist())).tolist()\n",
    "\n",
    "# vectors = []\n",
    "# for text in tqdm(result_df[\"text\"]):\n",
    "#     vec = model.encode(text)\n",
    "#     vectors.append(vec)\n",
    "    \n",
    "# result_df['doc_vec'] = vectors\n",
    "# testdf = result_df[:1000].copy()\n",
    "# testdf['doc_vec0'] = list(tqdm(model.encode(testdf[\"text\"].tolist()),total=len(testdf)))\n"
   ]
  },
  {
   "cell_type": "code",
   "execution_count": null,
   "id": "bdf762f6-e893-4cc6-87a2-849decafd536",
   "metadata": {},
   "outputs": [
    {
     "name": "stderr",
     "output_type": "stream",
     "text": [
      "Batch encoding:  10%|▉         | 62516/631832 [2:14:23<19:00:41,  8.32it/s]IOPub message rate exceeded.\n",
      "The Jupyter server will temporarily stop sending output\n",
      "to the client in order to avoid crashing it.\n",
      "To change this limit, set the config variable\n",
      "`--ServerApp.iopub_msg_rate_limit`.\n",
      "\n",
      "Current values:\n",
      "ServerApp.iopub_msg_rate_limit=1000.0 (msgs/sec)\n",
      "ServerApp.rate_limit_window=3.0 (secs)\n",
      "\n",
      "Batch encoding:  24%|██▍       | 154399/631832 [5:29:57<15:03:52,  8.80it/s]IOPub message rate exceeded.\n",
      "The Jupyter server will temporarily stop sending output\n",
      "to the client in order to avoid crashing it.\n",
      "To change this limit, set the config variable\n",
      "`--ServerApp.iopub_msg_rate_limit`.\n",
      "\n",
      "Current values:\n",
      "ServerApp.iopub_msg_rate_limit=1000.0 (msgs/sec)\n",
      "ServerApp.rate_limit_window=3.0 (secs)\n",
      "\n",
      "Batch encoding:  25%|██▌       | 160148/631832 [5:42:40<16:52:43,  7.76it/s]IOPub message rate exceeded.\n",
      "The Jupyter server will temporarily stop sending output\n",
      "to the client in order to avoid crashing it.\n",
      "To change this limit, set the config variable\n",
      "`--ServerApp.iopub_msg_rate_limit`.\n",
      "\n",
      "Current values:\n",
      "ServerApp.iopub_msg_rate_limit=1000.0 (msgs/sec)\n",
      "ServerApp.rate_limit_window=3.0 (secs)\n",
      "\n",
      "Batch encoding:  40%|███▉      | 250703/631832 [8:59:51<13:51:50,  7.64it/s]IOPub message rate exceeded.\n",
      "The Jupyter server will temporarily stop sending output\n",
      "to the client in order to avoid crashing it.\n",
      "To change this limit, set the config variable\n",
      "`--ServerApp.iopub_msg_rate_limit`.\n",
      "\n",
      "Current values:\n",
      "ServerApp.iopub_msg_rate_limit=1000.0 (msgs/sec)\n",
      "ServerApp.rate_limit_window=3.0 (secs)\n",
      "\n",
      "Batch encoding:  41%|████      | 256245/631832 [9:11:54<15:55:42,  6.55it/s]IOPub message rate exceeded.\n",
      "The Jupyter server will temporarily stop sending output\n",
      "to the client in order to avoid crashing it.\n",
      "To change this limit, set the config variable\n",
      "`--ServerApp.iopub_msg_rate_limit`.\n",
      "\n",
      "Current values:\n",
      "ServerApp.iopub_msg_rate_limit=1000.0 (msgs/sec)\n",
      "ServerApp.rate_limit_window=3.0 (secs)\n",
      "\n",
      "Batch encoding:  92%|█████████▏| 578333/631832 [20:43:36<2:08:25,  6.94it/s] "
     ]
    }
   ],
   "source": [
    "from more_itertools import chunked\n",
    "\n",
    "batch_size = 32\n",
    "texts = result_df[\"text\"].tolist()\n",
    "vectors = []\n",
    "\n",
    "# Total number of batches\n",
    "num_batches = (len(texts) + batch_size - 1) // batch_size\n",
    "\n",
    "for batch in tqdm(chunked(texts, batch_size), total=num_batches, desc=\"Batch encoding\"):\n",
    "    vecs = model.encode(batch)\n",
    "    vectors.extend(vecs)\n",
    "    \n",
    "result_df['doc_vec'] = vectors"
   ]
  },
  {
   "cell_type": "code",
   "execution_count": null,
   "id": "8f02df08-032c-48cf-a327-81c112d6e21d",
   "metadata": {},
   "outputs": [],
   "source": [
    "result_df.head()"
   ]
  },
  {
   "cell_type": "code",
   "execution_count": null,
   "id": "70e35baf-f1ce-4159-bdb4-10b5b3f421a8",
   "metadata": {},
   "outputs": [],
   "source": [
    "mmr = pyterrier_dr.MmrScorer(verbose=True)\n",
    "diver_df = mmr.transform(result_df)\n",
    "diver_df.to_csv('/mnt/datasets/cxj/exposure-fairness-extend/tctcolbert_msmarco-passage_dev_200_diver_df.csv', index=False)"
   ]
  },
  {
   "cell_type": "code",
   "execution_count": null,
   "id": "2c18add4-8350-4f9c-afde-8ee8f5c83a17",
   "metadata": {},
   "outputs": [],
   "source": []
  }
 ],
 "metadata": {
  "kernelspec": {
   "display_name": "Python [conda env:base] *",
   "language": "python",
   "name": "conda-base-py"
  },
  "language_info": {
   "codemirror_mode": {
    "name": "ipython",
    "version": 3
   },
   "file_extension": ".py",
   "mimetype": "text/x-python",
   "name": "python",
   "nbconvert_exporter": "python",
   "pygments_lexer": "ipython3",
   "version": "3.10.13"
  }
 },
 "nbformat": 4,
 "nbformat_minor": 5
}
